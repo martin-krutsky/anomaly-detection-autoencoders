{
 "cells": [
  {
   "cell_type": "markdown",
   "metadata": {},
   "source": [
    "# Outlier Detection with Autoencoders"
   ]
  },
  {
   "cell_type": "code",
   "execution_count": 1,
   "metadata": {},
   "outputs": [
    {
     "name": "stderr",
     "output_type": "stream",
     "text": [
      "C:\\Users\\marti\\Anaconda3\\envs\\bakalarka\\lib\\site-packages\\numpy\\_distributor_init.py:30: UserWarning: loaded more than 1 DLL from .libs:\n",
      "C:\\Users\\marti\\Anaconda3\\envs\\bakalarka\\lib\\site-packages\\numpy\\.libs\\libopenblas.EL2C6PLE4ZYW3ECEVIV3OXXGRN2NRFM2.gfortran-win_amd64.dll\n",
      "C:\\Users\\marti\\Anaconda3\\envs\\bakalarka\\lib\\site-packages\\numpy\\.libs\\libopenblas.NOIJJG62EMASZI6NYURL6JBKM4EVBGM7.gfortran-win_amd64.dll\n",
      "  warnings.warn(\"loaded more than 1 DLL from .libs:\"\n"
     ]
    }
   ],
   "source": [
    "import os\n",
    "from datetime import datetime\n",
    "from typing import Dict, List, Tuple\n",
    "import warnings\n",
    "\n",
    "import numpy as np\n",
    "import pandas as pd\n",
    "import scipy.io\n",
    "from sklearn.model_selection import train_test_split\n",
    "from sklearn.metrics import classification_report, confusion_matrix, accuracy_score, f1_score\n",
    "import matplotlib.pyplot as plt\n",
    "import seaborn as sns\n",
    "\n",
    "from IPython.display import display, Markdown\n",
    "\n",
    "import torch\n",
    "from torch.utils.data import Dataset, DataLoader\n",
    "import torch.nn as nn\n",
    "import torch.nn.functional as F\n",
    "from torchvision.transforms import transforms"
   ]
  },
  {
   "cell_type": "markdown",
   "metadata": {},
   "source": [
    "## Creating and Preprocessing the Data"
   ]
  },
  {
   "cell_type": "markdown",
   "metadata": {},
   "source": [
    "### Loading the data"
   ]
  },
  {
   "cell_type": "code",
   "execution_count": 2,
   "metadata": {},
   "outputs": [],
   "source": [
    "cardio_dict = scipy.io.loadmat('cardio.mat')"
   ]
  },
  {
   "cell_type": "code",
   "execution_count": 3,
   "metadata": {},
   "outputs": [
    {
     "data": {
      "text/plain": [
       "{'__header__': b'MATLAB 5.0 MAT-file, written by Octave 3.8.0, 2014-12-18 10:48:09 UTC',\n",
       " '__version__': '1.0',\n",
       " '__globals__': [],\n",
       " 'X': array([[ 0.00491231,  0.69319077, -0.20364049, ...,  0.23149795,\n",
       "         -0.28978574, -0.49329397],\n",
       "        [ 0.11072935, -0.07990259, -0.20364049, ...,  0.09356344,\n",
       "         -0.25638541, -0.49329397],\n",
       "        [ 0.21654639, -0.27244466, -0.20364049, ...,  0.02459619,\n",
       "         -0.25638541,  1.14001753],\n",
       "        ...,\n",
       "        [-0.41835583, -0.91998844, -0.16463485, ..., -1.49268341,\n",
       "          0.24461959, -0.49329397],\n",
       "        [-0.41835583, -0.91998844, -0.15093411, ..., -1.42371616,\n",
       "          0.14441859, -0.49329397],\n",
       "        [-0.41835583, -0.91998844, -0.20364049, ..., -1.28578165,\n",
       "          3.58465295, -0.49329397]]),\n",
       " 'y': array([[0.],\n",
       "        [0.],\n",
       "        [0.],\n",
       "        ...,\n",
       "        [1.],\n",
       "        [1.],\n",
       "        [1.]])}"
      ]
     },
     "execution_count": 3,
     "metadata": {},
     "output_type": "execute_result"
    }
   ],
   "source": [
    "cardio_dict"
   ]
  },
  {
   "cell_type": "code",
   "execution_count": 4,
   "metadata": {},
   "outputs": [],
   "source": [
    "X = cardio_dict['X']\n",
    "y = cardio_dict['y'].flatten()"
   ]
  },
  {
   "cell_type": "markdown",
   "metadata": {},
   "source": [
    "### Data splitting"
   ]
  },
  {
   "cell_type": "markdown",
   "metadata": {},
   "source": [
    "Divide the dataset into inliers and outliers:\n",
    "- only inliers are used for trainig the autoencoders\n",
    "- outliers are then mixed with the test set"
   ]
  },
  {
   "cell_type": "code",
   "execution_count": 5,
   "metadata": {},
   "outputs": [
    {
     "name": "stdout",
     "output_type": "stream",
     "text": [
      "Number of inliers: 1655, Number of outliers: 176\n"
     ]
    }
   ],
   "source": [
    "X_inliers = X[y==0]\n",
    "y_inliers = np.zeros(len(X_inliers), dtype=int)\n",
    "X_outliers = X[y==1]\n",
    "y_outliers = np.ones(len(X_outliers), dtype=int)\n",
    "print(f'Number of inliers: {len(y_inliers)}, Number of outliers: {len(y_outliers)}')"
   ]
  },
  {
   "cell_type": "markdown",
   "metadata": {},
   "source": [
    "Split the inliers into training, validation, and testing set:"
   ]
  },
  {
   "cell_type": "code",
   "execution_count": 6,
   "metadata": {},
   "outputs": [],
   "source": [
    "X_train, X_test, y_train, y_test = train_test_split(X_inliers, y_inliers, test_size=0.20, random_state=1)\n",
    "X_train, X_val, y_train, y_val = train_test_split(X_train, y_train, test_size=0.20, random_state=1) # 0.25 x 0.8 = 0.2"
   ]
  },
  {
   "cell_type": "markdown",
   "metadata": {},
   "source": [
    "Add outliers only to the test set"
   ]
  },
  {
   "cell_type": "code",
   "execution_count": 7,
   "metadata": {},
   "outputs": [],
   "source": [
    "X_test = np.concatenate((X_test, X_outliers), axis=0)\n",
    "y_test = np.concatenate((y_test, y_outliers), axis=0)"
   ]
  },
  {
   "cell_type": "code",
   "execution_count": 8,
   "metadata": {},
   "outputs": [
    {
     "name": "stdout",
     "output_type": "stream",
     "text": [
      "Training set: 1059 examples\n",
      "Validation set: 265 examples\n",
      "Testing set: 507 examples; inliers: 331, outliers: 176\n"
     ]
    }
   ],
   "source": [
    "print(f'Training set: {len(y_train)} examples')\n",
    "print(f'Validation set: {len(y_val)} examples')\n",
    "print(f'Testing set: {len(y_test)} examples; inliers: {np.sum(y_test==0)}, outliers: {np.sum(y_test==1)}')"
   ]
  },
  {
   "cell_type": "code",
   "execution_count": 9,
   "metadata": {},
   "outputs": [
    {
     "data": {
      "text/plain": [
       "(1059, 21)"
      ]
     },
     "metadata": {},
     "output_type": "display_data"
    }
   ],
   "source": [
    "display(X_train.shape)"
   ]
  },
  {
   "cell_type": "markdown",
   "metadata": {},
   "source": [
    "### Creating Dataset and DataLoader instances"
   ]
  },
  {
   "cell_type": "code",
   "execution_count": 10,
   "metadata": {},
   "outputs": [],
   "source": [
    "class CardioDataset(Dataset):\n",
    "    def __init__(self, data: np.ndarray, labels: np.ndarray):\n",
    "        self.data = data\n",
    "        self.labels = labels\n",
    "\n",
    "    def __len__(self):\n",
    "        return len(self.labels)\n",
    "\n",
    "    def __getitem__(self, idx: int) -> Tuple[np.ndarray, np.int32]:\n",
    "        return self.data[idx], self.labels[idx]"
   ]
  },
  {
   "cell_type": "code",
   "execution_count": 11,
   "metadata": {},
   "outputs": [],
   "source": [
    "train_data = CardioDataset(X_train, y_train)\n",
    "val_data = CardioDataset(X_val, y_val)"
   ]
  },
  {
   "cell_type": "code",
   "execution_count": 12,
   "metadata": {},
   "outputs": [],
   "source": [
    "train_dataloader = DataLoader(train_data, batch_size=64, shuffle=False)\n",
    "val_dataloader = DataLoader(val_data, batch_size=64, shuffle=False)"
   ]
  },
  {
   "cell_type": "markdown",
   "metadata": {},
   "source": [
    "## The Models"
   ]
  },
  {
   "cell_type": "markdown",
   "metadata": {},
   "source": [
    "### 1. Undercomplete AutoEncoder"
   ]
  },
  {
   "cell_type": "code",
   "execution_count": 13,
   "metadata": {},
   "outputs": [],
   "source": [
    "class UndercompleteAutoEncoder(nn.Module):\n",
    "    def __init__(self):\n",
    "        super(UndercompleteAutoEncoder, self).__init__()\n",
    "        self.encode = nn.Sequential(\n",
    "            nn.Linear(21, 16),\n",
    "            nn.ReLU(),\n",
    "            nn.Linear(16, 14),\n",
    "            # nn.ReLU(),\n",
    "            # nn.Linear(12, 10),\n",
    "        )\n",
    "        self.decode = nn.Sequential(\n",
    "            # nn.Linear(10, 12),\n",
    "            # nn.ReLU(),\n",
    "            nn.Linear(14, 16),\n",
    "            nn.ReLU(),\n",
    "            nn.Linear(16, 21),\n",
    "        )\n",
    "    \n",
    "    def forward(self, x: torch.Tensor) -> torch.Tensor:\n",
    "        x = self.encode(x)\n",
    "        x = self.decode(x)\n",
    "        return x"
   ]
  },
  {
   "cell_type": "code",
   "execution_count": 14,
   "metadata": {},
   "outputs": [],
   "source": [
    "undercomplete_ae = UndercompleteAutoEncoder()\n",
    "\n",
    "learning_rate = 1e-2\n",
    "optimizer = torch.optim.Adam(undercomplete_ae.parameters(), lr=learning_rate)\n",
    "criterion = nn.MSELoss()"
   ]
  },
  {
   "cell_type": "code",
   "execution_count": 15,
   "metadata": {},
   "outputs": [],
   "source": [
    "def train_one_epoch(model: nn.Module):\n",
    "    '''\n",
    "    Train one epoch of the model on training dataset batched by the train_dataloader.\n",
    "    \n",
    "    :param nn.Module model: model on which we perform one training epoch\n",
    "    :returns: an average loss on the training dataset\n",
    "    '''\n",
    "    running_loss = 0.0\n",
    "    for i, data in enumerate(train_dataloader):\n",
    "        inputs, _ = data\n",
    "        optimizer.zero_grad()\n",
    "\n",
    "        outputs = model(inputs.float())\n",
    "        loss = criterion(outputs.float(), inputs.float())\n",
    "        loss.backward()\n",
    "        optimizer.step()\n",
    "        running_loss += loss.item()\n",
    "    return running_loss / len(train_dataloader)"
   ]
  },
  {
   "cell_type": "code",
   "execution_count": 16,
   "metadata": {},
   "outputs": [],
   "source": [
    "def train_model(model: nn.Module, model_name: str, nr_of_epochs: int = 100):\n",
    "    '''\n",
    "    Train the specified model, and evaluate on validation data.\n",
    "        \n",
    "    :param nn.Module model: model being trained\n",
    "    :param str model_name: model name, e.g. denoising_autoencoder\n",
    "    :param int nr_of_epochs: number of training epochs\n",
    "    '''\n",
    "    best_loss = 10**12\n",
    "    best_model, model_path, best_epoch = None, None, None\n",
    "\n",
    "    for epoch in range(nr_of_epochs):\n",
    "        model.train()\n",
    "        train_loss = train_one_epoch(model)\n",
    "        model.eval()\n",
    "\n",
    "        # performance on validation set\n",
    "        valid_loss = 0.0\n",
    "        for i, data in enumerate(val_dataloader):\n",
    "            inputs, _ = data\n",
    "            outputs = model(inputs.float())\n",
    "            loss = criterion(outputs.float(), inputs.float())\n",
    "            valid_loss += loss.item()\n",
    "        valid_loss = valid_loss / len(val_dataloader)\n",
    "\n",
    "        # logging at each Nth epoch\n",
    "        if (epoch + 1) % 10 == 0:\n",
    "            print(f'epoch {epoch + 1}; train loss: {train_loss}; valid loss: {valid_loss}')\n",
    "        \n",
    "        # remember model with the best validation loss\n",
    "        if valid_loss < best_loss:\n",
    "            best_loss = valid_loss\n",
    "            best_model = model.state_dict()\n",
    "            best_epoch = epoch + 1\n",
    "\n",
    "    # save the overall best model\n",
    "    timestamp = datetime.now().strftime('%Y%m%d_%H%M%S')\n",
    "    os.makedirs('models/', exist_ok=True)\n",
    "    model_path = f'models/model_{model_name}_{timestamp}_epoch{best_epoch}'\n",
    "    torch.save(best_model, model_path)"
   ]
  },
  {
   "cell_type": "code",
   "execution_count": 17,
   "metadata": {},
   "outputs": [
    {
     "name": "stdout",
     "output_type": "stream",
     "text": [
      "epoch 10; train loss: 0.11702963622177348; valid loss: 0.09707910194993019\n",
      "epoch 20; train loss: 0.057813625782728195; valid loss: 0.04525128789246082\n",
      "epoch 30; train loss: 0.040440684403566754; valid loss: 0.032058209739625455\n",
      "epoch 40; train loss: 0.03180816944907693; valid loss: 0.024513636343181135\n",
      "epoch 50; train loss: 0.02720780309070559; valid loss: 0.02167628053575754\n",
      "epoch 60; train loss: 0.022827810169581103; valid loss: 0.017836234346032143\n",
      "epoch 70; train loss: 0.020301130545489928; valid loss: 0.015880633518099783\n",
      "epoch 80; train loss: 0.019658516270711142; valid loss: 0.015986318327486516\n",
      "epoch 90; train loss: 0.017976164982161102; valid loss: 0.01589931473135948\n",
      "epoch 100; train loss: 0.01506194576401921; valid loss: 0.014339814987033605\n",
      "epoch 110; train loss: 0.014545081731151132; valid loss: 0.014738329406827688\n",
      "epoch 120; train loss: 0.014310614041545811; valid loss: 0.014837839454412461\n",
      "epoch 130; train loss: 0.014040038482669522; valid loss: 0.014558351319283246\n",
      "epoch 140; train loss: 0.01461897571297253; valid loss: 0.015164409019052982\n",
      "epoch 150; train loss: 0.01372979860752821; valid loss: 0.014317156746983528\n",
      "epoch 160; train loss: 0.014320953256067108; valid loss: 0.01460560541599989\n",
      "epoch 170; train loss: 0.014068933806436904; valid loss: 0.014657739643007517\n",
      "epoch 180; train loss: 0.01378521986086579; valid loss: 0.01442480469122529\n",
      "epoch 190; train loss: 0.014660155784119578; valid loss: 0.015233333129435778\n",
      "epoch 200; train loss: 0.0145205302602228; valid loss: 0.014739441685378551\n"
     ]
    }
   ],
   "source": [
    "train_model(model=undercomplete_ae, model_name='undercomplete_autoencoder', nr_of_epochs=200)"
   ]
  },
  {
   "cell_type": "code",
   "execution_count": 18,
   "metadata": {},
   "outputs": [],
   "source": [
    "def eval_on_testset(model: nn.Module, testset: np.ndarray, test_labels: np.ndarray) -> Tuple[pd.DataFrame, np.ndarray]:\n",
    "    '''\n",
    "    Evaluate testing data on the model, calculate reconstruction error, print statistics on inliers and outliers\n",
    "        \n",
    "    :param nn.Module model: model being evaluated\n",
    "    :param np.ndarray testset: testing inputs\n",
    "    :param np.ndarray test_labels: ground-truth labels\n",
    "    :returns: dataframe with reconstruction errors and classes, reconstrution errors\n",
    "    '''\n",
    "    testset_tensor = torch.tensor(testset).float()\n",
    "    reconstructed_test = model(testset_tensor)\n",
    "    mse_test = torch.sum((reconstructed_test.detach() - testset_tensor) ** 2, axis=1)\n",
    "    error_df = pd.DataFrame({'Reconstruction Error': mse_test, 'class': y_test})\n",
    "    \n",
    "    display(error_df[error_df['class'] == 0].describe())\n",
    "    display(error_df[error_df['class'] == 1].describe())\n",
    "    return error_df, mse_test"
   ]
  },
  {
   "cell_type": "code",
   "execution_count": 19,
   "metadata": {},
   "outputs": [
    {
     "data": {
      "text/html": [
       "<div>\n",
       "<style scoped>\n",
       "    .dataframe tbody tr th:only-of-type {\n",
       "        vertical-align: middle;\n",
       "    }\n",
       "\n",
       "    .dataframe tbody tr th {\n",
       "        vertical-align: top;\n",
       "    }\n",
       "\n",
       "    .dataframe thead th {\n",
       "        text-align: right;\n",
       "    }\n",
       "</style>\n",
       "<table border=\"1\" class=\"dataframe\">\n",
       "  <thead>\n",
       "    <tr style=\"text-align: right;\">\n",
       "      <th></th>\n",
       "      <th>Reconstruction Error</th>\n",
       "      <th>class</th>\n",
       "    </tr>\n",
       "  </thead>\n",
       "  <tbody>\n",
       "    <tr>\n",
       "      <th>count</th>\n",
       "      <td>331.000000</td>\n",
       "      <td>331.0</td>\n",
       "    </tr>\n",
       "    <tr>\n",
       "      <th>mean</th>\n",
       "      <td>0.981376</td>\n",
       "      <td>0.0</td>\n",
       "    </tr>\n",
       "    <tr>\n",
       "      <th>std</th>\n",
       "      <td>10.945366</td>\n",
       "      <td>0.0</td>\n",
       "    </tr>\n",
       "    <tr>\n",
       "      <th>min</th>\n",
       "      <td>0.016502</td>\n",
       "      <td>0.0</td>\n",
       "    </tr>\n",
       "    <tr>\n",
       "      <th>25%</th>\n",
       "      <td>0.099972</td>\n",
       "      <td>0.0</td>\n",
       "    </tr>\n",
       "    <tr>\n",
       "      <th>50%</th>\n",
       "      <td>0.175698</td>\n",
       "      <td>0.0</td>\n",
       "    </tr>\n",
       "    <tr>\n",
       "      <th>75%</th>\n",
       "      <td>0.321621</td>\n",
       "      <td>0.0</td>\n",
       "    </tr>\n",
       "    <tr>\n",
       "      <th>max</th>\n",
       "      <td>198.851440</td>\n",
       "      <td>0.0</td>\n",
       "    </tr>\n",
       "  </tbody>\n",
       "</table>\n",
       "</div>"
      ],
      "text/plain": [
       "       Reconstruction Error  class\n",
       "count            331.000000  331.0\n",
       "mean               0.981376    0.0\n",
       "std               10.945366    0.0\n",
       "min                0.016502    0.0\n",
       "25%                0.099972    0.0\n",
       "50%                0.175698    0.0\n",
       "75%                0.321621    0.0\n",
       "max              198.851440    0.0"
      ]
     },
     "metadata": {},
     "output_type": "display_data"
    },
    {
     "data": {
      "text/html": [
       "<div>\n",
       "<style scoped>\n",
       "    .dataframe tbody tr th:only-of-type {\n",
       "        vertical-align: middle;\n",
       "    }\n",
       "\n",
       "    .dataframe tbody tr th {\n",
       "        vertical-align: top;\n",
       "    }\n",
       "\n",
       "    .dataframe thead th {\n",
       "        text-align: right;\n",
       "    }\n",
       "</style>\n",
       "<table border=\"1\" class=\"dataframe\">\n",
       "  <thead>\n",
       "    <tr style=\"text-align: right;\">\n",
       "      <th></th>\n",
       "      <th>Reconstruction Error</th>\n",
       "      <th>class</th>\n",
       "    </tr>\n",
       "  </thead>\n",
       "  <tbody>\n",
       "    <tr>\n",
       "      <th>count</th>\n",
       "      <td>176.000000</td>\n",
       "      <td>176.0</td>\n",
       "    </tr>\n",
       "    <tr>\n",
       "      <th>mean</th>\n",
       "      <td>15.967948</td>\n",
       "      <td>1.0</td>\n",
       "    </tr>\n",
       "    <tr>\n",
       "      <th>std</th>\n",
       "      <td>59.908783</td>\n",
       "      <td>0.0</td>\n",
       "    </tr>\n",
       "    <tr>\n",
       "      <th>min</th>\n",
       "      <td>0.097872</td>\n",
       "      <td>1.0</td>\n",
       "    </tr>\n",
       "    <tr>\n",
       "      <th>25%</th>\n",
       "      <td>0.784876</td>\n",
       "      <td>1.0</td>\n",
       "    </tr>\n",
       "    <tr>\n",
       "      <th>50%</th>\n",
       "      <td>2.704035</td>\n",
       "      <td>1.0</td>\n",
       "    </tr>\n",
       "    <tr>\n",
       "      <th>75%</th>\n",
       "      <td>6.637720</td>\n",
       "      <td>1.0</td>\n",
       "    </tr>\n",
       "    <tr>\n",
       "      <th>max</th>\n",
       "      <td>448.984863</td>\n",
       "      <td>1.0</td>\n",
       "    </tr>\n",
       "  </tbody>\n",
       "</table>\n",
       "</div>"
      ],
      "text/plain": [
       "       Reconstruction Error  class\n",
       "count            176.000000  176.0\n",
       "mean              15.967948    1.0\n",
       "std               59.908783    0.0\n",
       "min                0.097872    1.0\n",
       "25%                0.784876    1.0\n",
       "50%                2.704035    1.0\n",
       "75%                6.637720    1.0\n",
       "max              448.984863    1.0"
      ]
     },
     "metadata": {},
     "output_type": "display_data"
    }
   ],
   "source": [
    "test_df, test_MSEs = eval_on_testset(undercomplete_ae, X_test, y_test)"
   ]
  },
  {
   "cell_type": "code",
   "execution_count": 20,
   "metadata": {},
   "outputs": [],
   "source": [
    "def classify_by_error(MSEs: np.ndarray, thres: float) -> np.ndarray:\n",
    "    '''\n",
    "    Classify an array of reconstruction errors w.r.t. a threshold\n",
    "    \n",
    "    :param np.ndarray MSEs: mean squared reconstruction errors\n",
    "    :param float thres: threshold of reconstruction error between inliers and outliers\n",
    "    :returns: binary array of class ids; 0 = inlier, 1 = outlier\n",
    "    '''\n",
    "    return np.array(MSEs > thres, dtype=int)"
   ]
  },
  {
   "cell_type": "code",
   "execution_count": 21,
   "metadata": {},
   "outputs": [],
   "source": [
    "def plot_confusion_matrix(confusion_mat: np.ndarray):\n",
    "    '''\n",
    "    Plot a confusion matrix of true vs predicted labels.\n",
    "    \n",
    "    :param np.ndarray confusion_mat: confusion matrix between true and predicted labels\n",
    "    '''\n",
    "    class_labels = ['Inlier', 'Outlier']\n",
    "    plt.figure(figsize=(6, 6))\n",
    "    sns.heatmap(confusion_mat, xticklabels=class_labels, yticklabels=class_labels, annot=True, fmt=\"d\", annot_kws={\"size\": 14});\n",
    "    plt.title(\"Confusion matrix\")\n",
    "    plt.ylabel('True class')\n",
    "    plt.xlabel('Predicted class')\n",
    "    plt.show()"
   ]
  },
  {
   "cell_type": "code",
   "execution_count": 22,
   "metadata": {},
   "outputs": [],
   "source": [
    "def try_threshold_grid(MSEs: np.ndarray, true_labels: np.ndarray, model_name: str, start: float = 0.0, stop: float = 5.0, num_thresholds: int = 10) -> float:\n",
    "    '''\n",
    "    Plot a confusion matrix of true vs predicted labels.\n",
    "    \n",
    "    :param np.ndarray MSEs: mean squared reconstruction errors on testing set\n",
    "    :param np.ndarray true_labels: ground-truth labels\n",
    "    :param str model_name: model name, e.g. denoising_autoencoder\n",
    "    :param float start: start of threshold interval\n",
    "    :param float stop: end of threshold interval\n",
    "    :param int num_thresholds: number of thresholds tested in the interval\n",
    "    :returns: threshold with the highest anomaly f1-score\n",
    "    '''\n",
    "    best_threshold = None\n",
    "    best_f1 = 0.0\n",
    "    display(Markdown(f'## Model: {model_name}'))\n",
    "    for threshold in np.linspace(start, stop, num=num_thresholds):\n",
    "        predictions = classify_by_error(MSEs, threshold)\n",
    "        matrix = confusion_matrix(true_labels, predictions)\n",
    "        class_accuracies = matrix.diagonal()/matrix.sum(axis=1)\n",
    "        acc_df = pd.DataFrame({\n",
    "            'Inliers Accuracy': [class_accuracies[0]], \n",
    "            'Outliers Accuracy': [class_accuracies[1]], \n",
    "            'Overall Accuracy': [accuracy_score(true_labels, predictions)]\n",
    "        })\n",
    "        \n",
    "        outlier_f1 = f1_score(true_labels, predictions)\n",
    "        if outlier_f1 > best_f1:\n",
    "            best_f1 = outlier_f1\n",
    "            best_threshold = threshold\n",
    "        \n",
    "        display(Markdown(f'### Threshold {threshold}'))\n",
    "        display(acc_df.style.hide_index())\n",
    "        display(Markdown(f'##### Classification Report'))\n",
    "        print(classification_report(true_labels, predictions))\n",
    "        # plot_confusion_matrix(matrix)\n",
    "        display(Markdown('---'))\n",
    "    \n",
    "    return best_threshold"
   ]
  },
  {
   "cell_type": "code",
   "execution_count": 23,
   "metadata": {
    "scrolled": true
   },
   "outputs": [
    {
     "data": {
      "text/markdown": [
       "## Model: undercomplete_autoencoder"
      ],
      "text/plain": [
       "<IPython.core.display.Markdown object>"
      ]
     },
     "metadata": {},
     "output_type": "display_data"
    },
    {
     "data": {
      "text/markdown": [
       "### Threshold 0.1"
      ],
      "text/plain": [
       "<IPython.core.display.Markdown object>"
      ]
     },
     "metadata": {},
     "output_type": "display_data"
    },
    {
     "data": {
      "text/html": [
       "<style  type=\"text/css\" >\n",
       "</style><table id=\"T_78041de1_d4a6_11ec_a2f6_2016b948faac\" ><thead>    <tr>        <th class=\"col_heading level0 col0\" >Inliers Accuracy</th>        <th class=\"col_heading level0 col1\" >Outliers Accuracy</th>        <th class=\"col_heading level0 col2\" >Overall Accuracy</th>    </tr></thead><tbody>\n",
       "                <tr>\n",
       "                                <td id=\"T_78041de1_d4a6_11ec_a2f6_2016b948faacrow0_col0\" class=\"data row0 col0\" >0.250755</td>\n",
       "                        <td id=\"T_78041de1_d4a6_11ec_a2f6_2016b948faacrow0_col1\" class=\"data row0 col1\" >0.994318</td>\n",
       "                        <td id=\"T_78041de1_d4a6_11ec_a2f6_2016b948faacrow0_col2\" class=\"data row0 col2\" >0.508876</td>\n",
       "            </tr>\n",
       "    </tbody></table>"
      ],
      "text/plain": [
       "<pandas.io.formats.style.Styler at 0x23bf920bb50>"
      ]
     },
     "metadata": {},
     "output_type": "display_data"
    },
    {
     "data": {
      "text/markdown": [
       "##### Classification Report"
      ],
      "text/plain": [
       "<IPython.core.display.Markdown object>"
      ]
     },
     "metadata": {},
     "output_type": "display_data"
    },
    {
     "name": "stdout",
     "output_type": "stream",
     "text": [
      "              precision    recall  f1-score   support\n",
      "\n",
      "           0       0.99      0.25      0.40       331\n",
      "           1       0.41      0.99      0.58       176\n",
      "\n",
      "    accuracy                           0.51       507\n",
      "   macro avg       0.70      0.62      0.49       507\n",
      "weighted avg       0.79      0.51      0.46       507\n",
      "\n"
     ]
    },
    {
     "data": {
      "text/markdown": [
       "---"
      ],
      "text/plain": [
       "<IPython.core.display.Markdown object>"
      ]
     },
     "metadata": {},
     "output_type": "display_data"
    },
    {
     "data": {
      "text/markdown": [
       "### Threshold 0.14871794871794872"
      ],
      "text/plain": [
       "<IPython.core.display.Markdown object>"
      ]
     },
     "metadata": {},
     "output_type": "display_data"
    },
    {
     "data": {
      "text/html": [
       "<style  type=\"text/css\" >\n",
       "</style><table id=\"T_780667d3_d4a6_11ec_b65e_2016b948faac\" ><thead>    <tr>        <th class=\"col_heading level0 col0\" >Inliers Accuracy</th>        <th class=\"col_heading level0 col1\" >Outliers Accuracy</th>        <th class=\"col_heading level0 col2\" >Overall Accuracy</th>    </tr></thead><tbody>\n",
       "                <tr>\n",
       "                                <td id=\"T_780667d3_d4a6_11ec_b65e_2016b948faacrow0_col0\" class=\"data row0 col0\" >0.416918</td>\n",
       "                        <td id=\"T_780667d3_d4a6_11ec_b65e_2016b948faacrow0_col1\" class=\"data row0 col1\" >0.982955</td>\n",
       "                        <td id=\"T_780667d3_d4a6_11ec_b65e_2016b948faacrow0_col2\" class=\"data row0 col2\" >0.613412</td>\n",
       "            </tr>\n",
       "    </tbody></table>"
      ],
      "text/plain": [
       "<pandas.io.formats.style.Styler at 0x23bf9309d30>"
      ]
     },
     "metadata": {},
     "output_type": "display_data"
    },
    {
     "data": {
      "text/markdown": [
       "##### Classification Report"
      ],
      "text/plain": [
       "<IPython.core.display.Markdown object>"
      ]
     },
     "metadata": {},
     "output_type": "display_data"
    },
    {
     "name": "stdout",
     "output_type": "stream",
     "text": [
      "              precision    recall  f1-score   support\n",
      "\n",
      "           0       0.98      0.42      0.58       331\n",
      "           1       0.47      0.98      0.64       176\n",
      "\n",
      "    accuracy                           0.61       507\n",
      "   macro avg       0.73      0.70      0.61       507\n",
      "weighted avg       0.80      0.61      0.60       507\n",
      "\n"
     ]
    },
    {
     "data": {
      "text/markdown": [
       "---"
      ],
      "text/plain": [
       "<IPython.core.display.Markdown object>"
      ]
     },
     "metadata": {},
     "output_type": "display_data"
    },
    {
     "data": {
      "text/markdown": [
       "### Threshold 0.19743589743589746"
      ],
      "text/plain": [
       "<IPython.core.display.Markdown object>"
      ]
     },
     "metadata": {},
     "output_type": "display_data"
    },
    {
     "data": {
      "text/html": [
       "<style  type=\"text/css\" >\n",
       "</style><table id=\"T_78088ab7_d4a6_11ec_a05f_2016b948faac\" ><thead>    <tr>        <th class=\"col_heading level0 col0\" >Inliers Accuracy</th>        <th class=\"col_heading level0 col1\" >Outliers Accuracy</th>        <th class=\"col_heading level0 col2\" >Overall Accuracy</th>    </tr></thead><tbody>\n",
       "                <tr>\n",
       "                                <td id=\"T_78088ab7_d4a6_11ec_a05f_2016b948faacrow0_col0\" class=\"data row0 col0\" >0.558912</td>\n",
       "                        <td id=\"T_78088ab7_d4a6_11ec_a05f_2016b948faacrow0_col1\" class=\"data row0 col1\" >0.971591</td>\n",
       "                        <td id=\"T_78088ab7_d4a6_11ec_a05f_2016b948faacrow0_col2\" class=\"data row0 col2\" >0.702170</td>\n",
       "            </tr>\n",
       "    </tbody></table>"
      ],
      "text/plain": [
       "<pandas.io.formats.style.Styler at 0x23bf9309d90>"
      ]
     },
     "metadata": {},
     "output_type": "display_data"
    },
    {
     "data": {
      "text/markdown": [
       "##### Classification Report"
      ],
      "text/plain": [
       "<IPython.core.display.Markdown object>"
      ]
     },
     "metadata": {},
     "output_type": "display_data"
    },
    {
     "name": "stdout",
     "output_type": "stream",
     "text": [
      "              precision    recall  f1-score   support\n",
      "\n",
      "           0       0.97      0.56      0.71       331\n",
      "           1       0.54      0.97      0.69       176\n",
      "\n",
      "    accuracy                           0.70       507\n",
      "   macro avg       0.76      0.77      0.70       507\n",
      "weighted avg       0.82      0.70      0.70       507\n",
      "\n"
     ]
    },
    {
     "data": {
      "text/markdown": [
       "---"
      ],
      "text/plain": [
       "<IPython.core.display.Markdown object>"
      ]
     },
     "metadata": {},
     "output_type": "display_data"
    },
    {
     "data": {
      "text/markdown": [
       "### Threshold 0.24615384615384617"
      ],
      "text/plain": [
       "<IPython.core.display.Markdown object>"
      ]
     },
     "metadata": {},
     "output_type": "display_data"
    },
    {
     "data": {
      "text/html": [
       "<style  type=\"text/css\" >\n",
       "</style><table id=\"T_780aadaa_d4a6_11ec_9d47_2016b948faac\" ><thead>    <tr>        <th class=\"col_heading level0 col0\" >Inliers Accuracy</th>        <th class=\"col_heading level0 col1\" >Outliers Accuracy</th>        <th class=\"col_heading level0 col2\" >Overall Accuracy</th>    </tr></thead><tbody>\n",
       "                <tr>\n",
       "                                <td id=\"T_780aadaa_d4a6_11ec_9d47_2016b948faacrow0_col0\" class=\"data row0 col0\" >0.637462</td>\n",
       "                        <td id=\"T_780aadaa_d4a6_11ec_9d47_2016b948faacrow0_col1\" class=\"data row0 col1\" >0.943182</td>\n",
       "                        <td id=\"T_780aadaa_d4a6_11ec_9d47_2016b948faacrow0_col2\" class=\"data row0 col2\" >0.743590</td>\n",
       "            </tr>\n",
       "    </tbody></table>"
      ],
      "text/plain": [
       "<pandas.io.formats.style.Styler at 0x23bf9309970>"
      ]
     },
     "metadata": {},
     "output_type": "display_data"
    },
    {
     "data": {
      "text/markdown": [
       "##### Classification Report"
      ],
      "text/plain": [
       "<IPython.core.display.Markdown object>"
      ]
     },
     "metadata": {},
     "output_type": "display_data"
    },
    {
     "name": "stdout",
     "output_type": "stream",
     "text": [
      "              precision    recall  f1-score   support\n",
      "\n",
      "           0       0.95      0.64      0.76       331\n",
      "           1       0.58      0.94      0.72       176\n",
      "\n",
      "    accuracy                           0.74       507\n",
      "   macro avg       0.77      0.79      0.74       507\n",
      "weighted avg       0.82      0.74      0.75       507\n",
      "\n"
     ]
    },
    {
     "data": {
      "text/markdown": [
       "---"
      ],
      "text/plain": [
       "<IPython.core.display.Markdown object>"
      ]
     },
     "metadata": {},
     "output_type": "display_data"
    },
    {
     "data": {
      "text/markdown": [
       "### Threshold 0.2948717948717949"
      ],
      "text/plain": [
       "<IPython.core.display.Markdown object>"
      ]
     },
     "metadata": {},
     "output_type": "display_data"
    },
    {
     "data": {
      "text/html": [
       "<style  type=\"text/css\" >\n",
       "</style><table id=\"T_780d1eb9_d4a6_11ec_b5dd_2016b948faac\" ><thead>    <tr>        <th class=\"col_heading level0 col0\" >Inliers Accuracy</th>        <th class=\"col_heading level0 col1\" >Outliers Accuracy</th>        <th class=\"col_heading level0 col2\" >Overall Accuracy</th>    </tr></thead><tbody>\n",
       "                <tr>\n",
       "                                <td id=\"T_780d1eb9_d4a6_11ec_b5dd_2016b948faacrow0_col0\" class=\"data row0 col0\" >0.712991</td>\n",
       "                        <td id=\"T_780d1eb9_d4a6_11ec_b5dd_2016b948faacrow0_col1\" class=\"data row0 col1\" >0.931818</td>\n",
       "                        <td id=\"T_780d1eb9_d4a6_11ec_b5dd_2016b948faacrow0_col2\" class=\"data row0 col2\" >0.788955</td>\n",
       "            </tr>\n",
       "    </tbody></table>"
      ],
      "text/plain": [
       "<pandas.io.formats.style.Styler at 0x23bf9321550>"
      ]
     },
     "metadata": {},
     "output_type": "display_data"
    },
    {
     "data": {
      "text/markdown": [
       "##### Classification Report"
      ],
      "text/plain": [
       "<IPython.core.display.Markdown object>"
      ]
     },
     "metadata": {},
     "output_type": "display_data"
    },
    {
     "name": "stdout",
     "output_type": "stream",
     "text": [
      "              precision    recall  f1-score   support\n",
      "\n",
      "           0       0.95      0.71      0.82       331\n",
      "           1       0.63      0.93      0.75       176\n",
      "\n",
      "    accuracy                           0.79       507\n",
      "   macro avg       0.79      0.82      0.78       507\n",
      "weighted avg       0.84      0.79      0.79       507\n",
      "\n"
     ]
    },
    {
     "data": {
      "text/markdown": [
       "---"
      ],
      "text/plain": [
       "<IPython.core.display.Markdown object>"
      ]
     },
     "metadata": {},
     "output_type": "display_data"
    },
    {
     "data": {
      "text/markdown": [
       "### Threshold 0.3435897435897436"
      ],
      "text/plain": [
       "<IPython.core.display.Markdown object>"
      ]
     },
     "metadata": {},
     "output_type": "display_data"
    },
    {
     "data": {
      "text/html": [
       "<style  type=\"text/css\" >\n",
       "</style><table id=\"T_780f417f_d4a6_11ec_9863_2016b948faac\" ><thead>    <tr>        <th class=\"col_heading level0 col0\" >Inliers Accuracy</th>        <th class=\"col_heading level0 col1\" >Outliers Accuracy</th>        <th class=\"col_heading level0 col2\" >Overall Accuracy</th>    </tr></thead><tbody>\n",
       "                <tr>\n",
       "                                <td id=\"T_780f417f_d4a6_11ec_9863_2016b948faacrow0_col0\" class=\"data row0 col0\" >0.761329</td>\n",
       "                        <td id=\"T_780f417f_d4a6_11ec_9863_2016b948faacrow0_col1\" class=\"data row0 col1\" >0.920455</td>\n",
       "                        <td id=\"T_780f417f_d4a6_11ec_9863_2016b948faacrow0_col2\" class=\"data row0 col2\" >0.816568</td>\n",
       "            </tr>\n",
       "    </tbody></table>"
      ],
      "text/plain": [
       "<pandas.io.formats.style.Styler at 0x23bf9321520>"
      ]
     },
     "metadata": {},
     "output_type": "display_data"
    },
    {
     "data": {
      "text/markdown": [
       "##### Classification Report"
      ],
      "text/plain": [
       "<IPython.core.display.Markdown object>"
      ]
     },
     "metadata": {},
     "output_type": "display_data"
    },
    {
     "name": "stdout",
     "output_type": "stream",
     "text": [
      "              precision    recall  f1-score   support\n",
      "\n",
      "           0       0.95      0.76      0.84       331\n",
      "           1       0.67      0.92      0.78       176\n",
      "\n",
      "    accuracy                           0.82       507\n",
      "   macro avg       0.81      0.84      0.81       507\n",
      "weighted avg       0.85      0.82      0.82       507\n",
      "\n"
     ]
    },
    {
     "data": {
      "text/markdown": [
       "---"
      ],
      "text/plain": [
       "<IPython.core.display.Markdown object>"
      ]
     },
     "metadata": {},
     "output_type": "display_data"
    },
    {
     "data": {
      "text/markdown": [
       "### Threshold 0.39230769230769236"
      ],
      "text/plain": [
       "<IPython.core.display.Markdown object>"
      ]
     },
     "metadata": {},
     "output_type": "display_data"
    },
    {
     "data": {
      "text/html": [
       "<style  type=\"text/css\" >\n",
       "</style><table id=\"T_78124f38_d4a6_11ec_906a_2016b948faac\" ><thead>    <tr>        <th class=\"col_heading level0 col0\" >Inliers Accuracy</th>        <th class=\"col_heading level0 col1\" >Outliers Accuracy</th>        <th class=\"col_heading level0 col2\" >Overall Accuracy</th>    </tr></thead><tbody>\n",
       "                <tr>\n",
       "                                <td id=\"T_78124f38_d4a6_11ec_906a_2016b948faacrow0_col0\" class=\"data row0 col0\" >0.791541</td>\n",
       "                        <td id=\"T_78124f38_d4a6_11ec_906a_2016b948faacrow0_col1\" class=\"data row0 col1\" >0.903409</td>\n",
       "                        <td id=\"T_78124f38_d4a6_11ec_906a_2016b948faacrow0_col2\" class=\"data row0 col2\" >0.830375</td>\n",
       "            </tr>\n",
       "    </tbody></table>"
      ],
      "text/plain": [
       "<pandas.io.formats.style.Styler at 0x23bf93211f0>"
      ]
     },
     "metadata": {},
     "output_type": "display_data"
    },
    {
     "data": {
      "text/markdown": [
       "##### Classification Report"
      ],
      "text/plain": [
       "<IPython.core.display.Markdown object>"
      ]
     },
     "metadata": {},
     "output_type": "display_data"
    },
    {
     "name": "stdout",
     "output_type": "stream",
     "text": [
      "              precision    recall  f1-score   support\n",
      "\n",
      "           0       0.94      0.79      0.86       331\n",
      "           1       0.70      0.90      0.79       176\n",
      "\n",
      "    accuracy                           0.83       507\n",
      "   macro avg       0.82      0.85      0.82       507\n",
      "weighted avg       0.86      0.83      0.83       507\n",
      "\n"
     ]
    },
    {
     "data": {
      "text/markdown": [
       "---"
      ],
      "text/plain": [
       "<IPython.core.display.Markdown object>"
      ]
     },
     "metadata": {},
     "output_type": "display_data"
    },
    {
     "data": {
      "text/markdown": [
       "### Threshold 0.441025641025641"
      ],
      "text/plain": [
       "<IPython.core.display.Markdown object>"
      ]
     },
     "metadata": {},
     "output_type": "display_data"
    },
    {
     "data": {
      "text/html": [
       "<style  type=\"text/css\" >\n",
       "</style><table id=\"T_781498b0_d4a6_11ec_b0e5_2016b948faac\" ><thead>    <tr>        <th class=\"col_heading level0 col0\" >Inliers Accuracy</th>        <th class=\"col_heading level0 col1\" >Outliers Accuracy</th>        <th class=\"col_heading level0 col2\" >Overall Accuracy</th>    </tr></thead><tbody>\n",
       "                <tr>\n",
       "                                <td id=\"T_781498b0_d4a6_11ec_b0e5_2016b948faacrow0_col0\" class=\"data row0 col0\" >0.809668</td>\n",
       "                        <td id=\"T_781498b0_d4a6_11ec_b0e5_2016b948faacrow0_col1\" class=\"data row0 col1\" >0.892045</td>\n",
       "                        <td id=\"T_781498b0_d4a6_11ec_b0e5_2016b948faacrow0_col2\" class=\"data row0 col2\" >0.838264</td>\n",
       "            </tr>\n",
       "    </tbody></table>"
      ],
      "text/plain": [
       "<pandas.io.formats.style.Styler at 0x23bf9321340>"
      ]
     },
     "metadata": {},
     "output_type": "display_data"
    },
    {
     "data": {
      "text/markdown": [
       "##### Classification Report"
      ],
      "text/plain": [
       "<IPython.core.display.Markdown object>"
      ]
     },
     "metadata": {},
     "output_type": "display_data"
    },
    {
     "name": "stdout",
     "output_type": "stream",
     "text": [
      "              precision    recall  f1-score   support\n",
      "\n",
      "           0       0.93      0.81      0.87       331\n",
      "           1       0.71      0.89      0.79       176\n",
      "\n",
      "    accuracy                           0.84       507\n",
      "   macro avg       0.82      0.85      0.83       507\n",
      "weighted avg       0.86      0.84      0.84       507\n",
      "\n"
     ]
    },
    {
     "data": {
      "text/markdown": [
       "---"
      ],
      "text/plain": [
       "<IPython.core.display.Markdown object>"
      ]
     },
     "metadata": {},
     "output_type": "display_data"
    },
    {
     "data": {
      "text/markdown": [
       "### Threshold 0.4897435897435898"
      ],
      "text/plain": [
       "<IPython.core.display.Markdown object>"
      ]
     },
     "metadata": {},
     "output_type": "display_data"
    },
    {
     "data": {
      "text/html": [
       "<style  type=\"text/css\" >\n",
       "</style><table id=\"T_7816e2ae_d4a6_11ec_9399_2016b948faac\" ><thead>    <tr>        <th class=\"col_heading level0 col0\" >Inliers Accuracy</th>        <th class=\"col_heading level0 col1\" >Outliers Accuracy</th>        <th class=\"col_heading level0 col2\" >Overall Accuracy</th>    </tr></thead><tbody>\n",
       "                <tr>\n",
       "                                <td id=\"T_7816e2ae_d4a6_11ec_9399_2016b948faacrow0_col0\" class=\"data row0 col0\" >0.818731</td>\n",
       "                        <td id=\"T_7816e2ae_d4a6_11ec_9399_2016b948faacrow0_col1\" class=\"data row0 col1\" >0.892045</td>\n",
       "                        <td id=\"T_7816e2ae_d4a6_11ec_9399_2016b948faacrow0_col2\" class=\"data row0 col2\" >0.844181</td>\n",
       "            </tr>\n",
       "    </tbody></table>"
      ],
      "text/plain": [
       "<pandas.io.formats.style.Styler at 0x23bf9321970>"
      ]
     },
     "metadata": {},
     "output_type": "display_data"
    },
    {
     "data": {
      "text/markdown": [
       "##### Classification Report"
      ],
      "text/plain": [
       "<IPython.core.display.Markdown object>"
      ]
     },
     "metadata": {},
     "output_type": "display_data"
    },
    {
     "name": "stdout",
     "output_type": "stream",
     "text": [
      "              precision    recall  f1-score   support\n",
      "\n",
      "           0       0.93      0.82      0.87       331\n",
      "           1       0.72      0.89      0.80       176\n",
      "\n",
      "    accuracy                           0.84       507\n",
      "   macro avg       0.83      0.86      0.84       507\n",
      "weighted avg       0.86      0.84      0.85       507\n",
      "\n"
     ]
    },
    {
     "data": {
      "text/markdown": [
       "---"
      ],
      "text/plain": [
       "<IPython.core.display.Markdown object>"
      ]
     },
     "metadata": {},
     "output_type": "display_data"
    },
    {
     "data": {
      "text/markdown": [
       "### Threshold 0.5384615384615384"
      ],
      "text/plain": [
       "<IPython.core.display.Markdown object>"
      ]
     },
     "metadata": {},
     "output_type": "display_data"
    },
    {
     "data": {
      "text/html": [
       "<style  type=\"text/css\" >\n",
       "</style><table id=\"T_78190575_d4a6_11ec_a172_2016b948faac\" ><thead>    <tr>        <th class=\"col_heading level0 col0\" >Inliers Accuracy</th>        <th class=\"col_heading level0 col1\" >Outliers Accuracy</th>        <th class=\"col_heading level0 col2\" >Overall Accuracy</th>    </tr></thead><tbody>\n",
       "                <tr>\n",
       "                                <td id=\"T_78190575_d4a6_11ec_a172_2016b948faacrow0_col0\" class=\"data row0 col0\" >0.839879</td>\n",
       "                        <td id=\"T_78190575_d4a6_11ec_a172_2016b948faacrow0_col1\" class=\"data row0 col1\" >0.863636</td>\n",
       "                        <td id=\"T_78190575_d4a6_11ec_a172_2016b948faacrow0_col2\" class=\"data row0 col2\" >0.848126</td>\n",
       "            </tr>\n",
       "    </tbody></table>"
      ],
      "text/plain": [
       "<pandas.io.formats.style.Styler at 0x23bf9321c40>"
      ]
     },
     "metadata": {},
     "output_type": "display_data"
    },
    {
     "data": {
      "text/markdown": [
       "##### Classification Report"
      ],
      "text/plain": [
       "<IPython.core.display.Markdown object>"
      ]
     },
     "metadata": {},
     "output_type": "display_data"
    },
    {
     "name": "stdout",
     "output_type": "stream",
     "text": [
      "              precision    recall  f1-score   support\n",
      "\n",
      "           0       0.92      0.84      0.88       331\n",
      "           1       0.74      0.86      0.80       176\n",
      "\n",
      "    accuracy                           0.85       507\n",
      "   macro avg       0.83      0.85      0.84       507\n",
      "weighted avg       0.86      0.85      0.85       507\n",
      "\n"
     ]
    },
    {
     "data": {
      "text/markdown": [
       "---"
      ],
      "text/plain": [
       "<IPython.core.display.Markdown object>"
      ]
     },
     "metadata": {},
     "output_type": "display_data"
    },
    {
     "data": {
      "text/markdown": [
       "### Threshold 0.5871794871794872"
      ],
      "text/plain": [
       "<IPython.core.display.Markdown object>"
      ]
     },
     "metadata": {},
     "output_type": "display_data"
    },
    {
     "data": {
      "text/html": [
       "<style  type=\"text/css\" >\n",
       "</style><table id=\"T_781b0147_d4a6_11ec_82b2_2016b948faac\" ><thead>    <tr>        <th class=\"col_heading level0 col0\" >Inliers Accuracy</th>        <th class=\"col_heading level0 col1\" >Outliers Accuracy</th>        <th class=\"col_heading level0 col2\" >Overall Accuracy</th>    </tr></thead><tbody>\n",
       "                <tr>\n",
       "                                <td id=\"T_781b0147_d4a6_11ec_82b2_2016b948faacrow0_col0\" class=\"data row0 col0\" >0.864048</td>\n",
       "                        <td id=\"T_781b0147_d4a6_11ec_82b2_2016b948faacrow0_col1\" class=\"data row0 col1\" >0.829545</td>\n",
       "                        <td id=\"T_781b0147_d4a6_11ec_82b2_2016b948faacrow0_col2\" class=\"data row0 col2\" >0.852071</td>\n",
       "            </tr>\n",
       "    </tbody></table>"
      ],
      "text/plain": [
       "<pandas.io.formats.style.Styler at 0x23bf9321e80>"
      ]
     },
     "metadata": {},
     "output_type": "display_data"
    },
    {
     "data": {
      "text/markdown": [
       "##### Classification Report"
      ],
      "text/plain": [
       "<IPython.core.display.Markdown object>"
      ]
     },
     "metadata": {},
     "output_type": "display_data"
    },
    {
     "name": "stdout",
     "output_type": "stream",
     "text": [
      "              precision    recall  f1-score   support\n",
      "\n",
      "           0       0.91      0.86      0.88       331\n",
      "           1       0.76      0.83      0.80       176\n",
      "\n",
      "    accuracy                           0.85       507\n",
      "   macro avg       0.83      0.85      0.84       507\n",
      "weighted avg       0.86      0.85      0.85       507\n",
      "\n"
     ]
    },
    {
     "data": {
      "text/markdown": [
       "---"
      ],
      "text/plain": [
       "<IPython.core.display.Markdown object>"
      ]
     },
     "metadata": {},
     "output_type": "display_data"
    },
    {
     "data": {
      "text/markdown": [
       "### Threshold 0.6358974358974359"
      ],
      "text/plain": [
       "<IPython.core.display.Markdown object>"
      ]
     },
     "metadata": {},
     "output_type": "display_data"
    },
    {
     "data": {
      "text/html": [
       "<style  type=\"text/css\" >\n",
       "</style><table id=\"T_781d4b3e_d4a6_11ec_8205_2016b948faac\" ><thead>    <tr>        <th class=\"col_heading level0 col0\" >Inliers Accuracy</th>        <th class=\"col_heading level0 col1\" >Outliers Accuracy</th>        <th class=\"col_heading level0 col2\" >Overall Accuracy</th>    </tr></thead><tbody>\n",
       "                <tr>\n",
       "                                <td id=\"T_781d4b3e_d4a6_11ec_8205_2016b948faacrow0_col0\" class=\"data row0 col0\" >0.873112</td>\n",
       "                        <td id=\"T_781d4b3e_d4a6_11ec_8205_2016b948faacrow0_col1\" class=\"data row0 col1\" >0.806818</td>\n",
       "                        <td id=\"T_781d4b3e_d4a6_11ec_8205_2016b948faacrow0_col2\" class=\"data row0 col2\" >0.850099</td>\n",
       "            </tr>\n",
       "    </tbody></table>"
      ],
      "text/plain": [
       "<pandas.io.formats.style.Styler at 0x23bf9321ca0>"
      ]
     },
     "metadata": {},
     "output_type": "display_data"
    },
    {
     "data": {
      "text/markdown": [
       "##### Classification Report"
      ],
      "text/plain": [
       "<IPython.core.display.Markdown object>"
      ]
     },
     "metadata": {},
     "output_type": "display_data"
    },
    {
     "name": "stdout",
     "output_type": "stream",
     "text": [
      "              precision    recall  f1-score   support\n",
      "\n",
      "           0       0.89      0.87      0.88       331\n",
      "           1       0.77      0.81      0.79       176\n",
      "\n",
      "    accuracy                           0.85       507\n",
      "   macro avg       0.83      0.84      0.84       507\n",
      "weighted avg       0.85      0.85      0.85       507\n",
      "\n"
     ]
    },
    {
     "data": {
      "text/markdown": [
       "---"
      ],
      "text/plain": [
       "<IPython.core.display.Markdown object>"
      ]
     },
     "metadata": {},
     "output_type": "display_data"
    },
    {
     "data": {
      "text/markdown": [
       "### Threshold 0.6846153846153846"
      ],
      "text/plain": [
       "<IPython.core.display.Markdown object>"
      ]
     },
     "metadata": {},
     "output_type": "display_data"
    },
    {
     "data": {
      "text/html": [
       "<style  type=\"text/css\" >\n",
       "</style><table id=\"T_781f952a_d4a6_11ec_8552_2016b948faac\" ><thead>    <tr>        <th class=\"col_heading level0 col0\" >Inliers Accuracy</th>        <th class=\"col_heading level0 col1\" >Outliers Accuracy</th>        <th class=\"col_heading level0 col2\" >Overall Accuracy</th>    </tr></thead><tbody>\n",
       "                <tr>\n",
       "                                <td id=\"T_781f952a_d4a6_11ec_8552_2016b948faacrow0_col0\" class=\"data row0 col0\" >0.873112</td>\n",
       "                        <td id=\"T_781f952a_d4a6_11ec_8552_2016b948faacrow0_col1\" class=\"data row0 col1\" >0.795455</td>\n",
       "                        <td id=\"T_781f952a_d4a6_11ec_8552_2016b948faacrow0_col2\" class=\"data row0 col2\" >0.846154</td>\n",
       "            </tr>\n",
       "    </tbody></table>"
      ],
      "text/plain": [
       "<pandas.io.formats.style.Styler at 0x23bf93217f0>"
      ]
     },
     "metadata": {},
     "output_type": "display_data"
    },
    {
     "data": {
      "text/markdown": [
       "##### Classification Report"
      ],
      "text/plain": [
       "<IPython.core.display.Markdown object>"
      ]
     },
     "metadata": {},
     "output_type": "display_data"
    },
    {
     "name": "stdout",
     "output_type": "stream",
     "text": [
      "              precision    recall  f1-score   support\n",
      "\n",
      "           0       0.89      0.87      0.88       331\n",
      "           1       0.77      0.80      0.78       176\n",
      "\n",
      "    accuracy                           0.85       507\n",
      "   macro avg       0.83      0.83      0.83       507\n",
      "weighted avg       0.85      0.85      0.85       507\n",
      "\n"
     ]
    },
    {
     "data": {
      "text/markdown": [
       "---"
      ],
      "text/plain": [
       "<IPython.core.display.Markdown object>"
      ]
     },
     "metadata": {},
     "output_type": "display_data"
    },
    {
     "data": {
      "text/markdown": [
       "### Threshold 0.7333333333333333"
      ],
      "text/plain": [
       "<IPython.core.display.Markdown object>"
      ]
     },
     "metadata": {},
     "output_type": "display_data"
    },
    {
     "data": {
      "text/html": [
       "<style  type=\"text/css\" >\n",
       "</style><table id=\"T_7821df53_d4a6_11ec_a82e_2016b948faac\" ><thead>    <tr>        <th class=\"col_heading level0 col0\" >Inliers Accuracy</th>        <th class=\"col_heading level0 col1\" >Outliers Accuracy</th>        <th class=\"col_heading level0 col2\" >Overall Accuracy</th>    </tr></thead><tbody>\n",
       "                <tr>\n",
       "                                <td id=\"T_7821df53_d4a6_11ec_a82e_2016b948faacrow0_col0\" class=\"data row0 col0\" >0.891239</td>\n",
       "                        <td id=\"T_7821df53_d4a6_11ec_a82e_2016b948faacrow0_col1\" class=\"data row0 col1\" >0.772727</td>\n",
       "                        <td id=\"T_7821df53_d4a6_11ec_a82e_2016b948faacrow0_col2\" class=\"data row0 col2\" >0.850099</td>\n",
       "            </tr>\n",
       "    </tbody></table>"
      ],
      "text/plain": [
       "<pandas.io.formats.style.Styler at 0x23bf9321850>"
      ]
     },
     "metadata": {},
     "output_type": "display_data"
    },
    {
     "data": {
      "text/markdown": [
       "##### Classification Report"
      ],
      "text/plain": [
       "<IPython.core.display.Markdown object>"
      ]
     },
     "metadata": {},
     "output_type": "display_data"
    },
    {
     "name": "stdout",
     "output_type": "stream",
     "text": [
      "              precision    recall  f1-score   support\n",
      "\n",
      "           0       0.88      0.89      0.89       331\n",
      "           1       0.79      0.77      0.78       176\n",
      "\n",
      "    accuracy                           0.85       507\n",
      "   macro avg       0.84      0.83      0.83       507\n",
      "weighted avg       0.85      0.85      0.85       507\n",
      "\n"
     ]
    },
    {
     "data": {
      "text/markdown": [
       "---"
      ],
      "text/plain": [
       "<IPython.core.display.Markdown object>"
      ]
     },
     "metadata": {},
     "output_type": "display_data"
    },
    {
     "data": {
      "text/markdown": [
       "### Threshold 0.782051282051282"
      ],
      "text/plain": [
       "<IPython.core.display.Markdown object>"
      ]
     },
     "metadata": {},
     "output_type": "display_data"
    },
    {
     "data": {
      "text/html": [
       "<style  type=\"text/css\" >\n",
       "</style><table id=\"T_78242932_d4a6_11ec_b512_2016b948faac\" ><thead>    <tr>        <th class=\"col_heading level0 col0\" >Inliers Accuracy</th>        <th class=\"col_heading level0 col1\" >Outliers Accuracy</th>        <th class=\"col_heading level0 col2\" >Overall Accuracy</th>    </tr></thead><tbody>\n",
       "                <tr>\n",
       "                                <td id=\"T_78242932_d4a6_11ec_b512_2016b948faacrow0_col0\" class=\"data row0 col0\" >0.900302</td>\n",
       "                        <td id=\"T_78242932_d4a6_11ec_b512_2016b948faacrow0_col1\" class=\"data row0 col1\" >0.755682</td>\n",
       "                        <td id=\"T_78242932_d4a6_11ec_b512_2016b948faacrow0_col2\" class=\"data row0 col2\" >0.850099</td>\n",
       "            </tr>\n",
       "    </tbody></table>"
      ],
      "text/plain": [
       "<pandas.io.formats.style.Styler at 0x23bf9321640>"
      ]
     },
     "metadata": {},
     "output_type": "display_data"
    },
    {
     "data": {
      "text/markdown": [
       "##### Classification Report"
      ],
      "text/plain": [
       "<IPython.core.display.Markdown object>"
      ]
     },
     "metadata": {},
     "output_type": "display_data"
    },
    {
     "name": "stdout",
     "output_type": "stream",
     "text": [
      "              precision    recall  f1-score   support\n",
      "\n",
      "           0       0.87      0.90      0.89       331\n",
      "           1       0.80      0.76      0.78       176\n",
      "\n",
      "    accuracy                           0.85       507\n",
      "   macro avg       0.84      0.83      0.83       507\n",
      "weighted avg       0.85      0.85      0.85       507\n",
      "\n"
     ]
    },
    {
     "data": {
      "text/markdown": [
       "---"
      ],
      "text/plain": [
       "<IPython.core.display.Markdown object>"
      ]
     },
     "metadata": {},
     "output_type": "display_data"
    },
    {
     "data": {
      "text/markdown": [
       "### Threshold 0.8307692307692307"
      ],
      "text/plain": [
       "<IPython.core.display.Markdown object>"
      ]
     },
     "metadata": {},
     "output_type": "display_data"
    },
    {
     "data": {
      "text/html": [
       "<style  type=\"text/css\" >\n",
       "</style><table id=\"T_78269a1f_d4a6_11ec_9845_2016b948faac\" ><thead>    <tr>        <th class=\"col_heading level0 col0\" >Inliers Accuracy</th>        <th class=\"col_heading level0 col1\" >Outliers Accuracy</th>        <th class=\"col_heading level0 col2\" >Overall Accuracy</th>    </tr></thead><tbody>\n",
       "                <tr>\n",
       "                                <td id=\"T_78269a1f_d4a6_11ec_9845_2016b948faacrow0_col0\" class=\"data row0 col0\" >0.906344</td>\n",
       "                        <td id=\"T_78269a1f_d4a6_11ec_9845_2016b948faacrow0_col1\" class=\"data row0 col1\" >0.721591</td>\n",
       "                        <td id=\"T_78269a1f_d4a6_11ec_9845_2016b948faacrow0_col2\" class=\"data row0 col2\" >0.842209</td>\n",
       "            </tr>\n",
       "    </tbody></table>"
      ],
      "text/plain": [
       "<pandas.io.formats.style.Styler at 0x23bf9321550>"
      ]
     },
     "metadata": {},
     "output_type": "display_data"
    },
    {
     "data": {
      "text/markdown": [
       "##### Classification Report"
      ],
      "text/plain": [
       "<IPython.core.display.Markdown object>"
      ]
     },
     "metadata": {},
     "output_type": "display_data"
    },
    {
     "name": "stdout",
     "output_type": "stream",
     "text": [
      "              precision    recall  f1-score   support\n",
      "\n",
      "           0       0.86      0.91      0.88       331\n",
      "           1       0.80      0.72      0.76       176\n",
      "\n",
      "    accuracy                           0.84       507\n",
      "   macro avg       0.83      0.81      0.82       507\n",
      "weighted avg       0.84      0.84      0.84       507\n",
      "\n"
     ]
    },
    {
     "data": {
      "text/markdown": [
       "---"
      ],
      "text/plain": [
       "<IPython.core.display.Markdown object>"
      ]
     },
     "metadata": {},
     "output_type": "display_data"
    },
    {
     "data": {
      "text/markdown": [
       "### Threshold 0.8794871794871795"
      ],
      "text/plain": [
       "<IPython.core.display.Markdown object>"
      ]
     },
     "metadata": {},
     "output_type": "display_data"
    },
    {
     "data": {
      "text/html": [
       "<style  type=\"text/css\" >\n",
       "</style><table id=\"T_782895e6_d4a6_11ec_8917_2016b948faac\" ><thead>    <tr>        <th class=\"col_heading level0 col0\" >Inliers Accuracy</th>        <th class=\"col_heading level0 col1\" >Outliers Accuracy</th>        <th class=\"col_heading level0 col2\" >Overall Accuracy</th>    </tr></thead><tbody>\n",
       "                <tr>\n",
       "                                <td id=\"T_782895e6_d4a6_11ec_8917_2016b948faacrow0_col0\" class=\"data row0 col0\" >0.912387</td>\n",
       "                        <td id=\"T_782895e6_d4a6_11ec_8917_2016b948faacrow0_col1\" class=\"data row0 col1\" >0.710227</td>\n",
       "                        <td id=\"T_782895e6_d4a6_11ec_8917_2016b948faacrow0_col2\" class=\"data row0 col2\" >0.842209</td>\n",
       "            </tr>\n",
       "    </tbody></table>"
      ],
      "text/plain": [
       "<pandas.io.formats.style.Styler at 0x23bf9321580>"
      ]
     },
     "metadata": {},
     "output_type": "display_data"
    },
    {
     "data": {
      "text/markdown": [
       "##### Classification Report"
      ],
      "text/plain": [
       "<IPython.core.display.Markdown object>"
      ]
     },
     "metadata": {},
     "output_type": "display_data"
    },
    {
     "name": "stdout",
     "output_type": "stream",
     "text": [
      "              precision    recall  f1-score   support\n",
      "\n",
      "           0       0.86      0.91      0.88       331\n",
      "           1       0.81      0.71      0.76       176\n",
      "\n",
      "    accuracy                           0.84       507\n",
      "   macro avg       0.83      0.81      0.82       507\n",
      "weighted avg       0.84      0.84      0.84       507\n",
      "\n"
     ]
    },
    {
     "data": {
      "text/markdown": [
       "---"
      ],
      "text/plain": [
       "<IPython.core.display.Markdown object>"
      ]
     },
     "metadata": {},
     "output_type": "display_data"
    },
    {
     "data": {
      "text/markdown": [
       "### Threshold 0.9282051282051282"
      ],
      "text/plain": [
       "<IPython.core.display.Markdown object>"
      ]
     },
     "metadata": {},
     "output_type": "display_data"
    },
    {
     "data": {
      "text/html": [
       "<style  type=\"text/css\" >\n",
       "</style><table id=\"T_782adfc6_d4a6_11ec_8671_2016b948faac\" ><thead>    <tr>        <th class=\"col_heading level0 col0\" >Inliers Accuracy</th>        <th class=\"col_heading level0 col1\" >Outliers Accuracy</th>        <th class=\"col_heading level0 col2\" >Overall Accuracy</th>    </tr></thead><tbody>\n",
       "                <tr>\n",
       "                                <td id=\"T_782adfc6_d4a6_11ec_8671_2016b948faacrow0_col0\" class=\"data row0 col0\" >0.915408</td>\n",
       "                        <td id=\"T_782adfc6_d4a6_11ec_8671_2016b948faacrow0_col1\" class=\"data row0 col1\" >0.664773</td>\n",
       "                        <td id=\"T_782adfc6_d4a6_11ec_8671_2016b948faacrow0_col2\" class=\"data row0 col2\" >0.828402</td>\n",
       "            </tr>\n",
       "    </tbody></table>"
      ],
      "text/plain": [
       "<pandas.io.formats.style.Styler at 0x23bf9321460>"
      ]
     },
     "metadata": {},
     "output_type": "display_data"
    },
    {
     "data": {
      "text/markdown": [
       "##### Classification Report"
      ],
      "text/plain": [
       "<IPython.core.display.Markdown object>"
      ]
     },
     "metadata": {},
     "output_type": "display_data"
    },
    {
     "name": "stdout",
     "output_type": "stream",
     "text": [
      "              precision    recall  f1-score   support\n",
      "\n",
      "           0       0.84      0.92      0.87       331\n",
      "           1       0.81      0.66      0.73       176\n",
      "\n",
      "    accuracy                           0.83       507\n",
      "   macro avg       0.82      0.79      0.80       507\n",
      "weighted avg       0.83      0.83      0.82       507\n",
      "\n"
     ]
    },
    {
     "data": {
      "text/markdown": [
       "---"
      ],
      "text/plain": [
       "<IPython.core.display.Markdown object>"
      ]
     },
     "metadata": {},
     "output_type": "display_data"
    },
    {
     "data": {
      "text/markdown": [
       "### Threshold 0.9769230769230769"
      ],
      "text/plain": [
       "<IPython.core.display.Markdown object>"
      ]
     },
     "metadata": {},
     "output_type": "display_data"
    },
    {
     "data": {
      "text/html": [
       "<style  type=\"text/css\" >\n",
       "</style><table id=\"T_782d29d3_d4a6_11ec_b384_2016b948faac\" ><thead>    <tr>        <th class=\"col_heading level0 col0\" >Inliers Accuracy</th>        <th class=\"col_heading level0 col1\" >Outliers Accuracy</th>        <th class=\"col_heading level0 col2\" >Overall Accuracy</th>    </tr></thead><tbody>\n",
       "                <tr>\n",
       "                                <td id=\"T_782d29d3_d4a6_11ec_b384_2016b948faacrow0_col0\" class=\"data row0 col0\" >0.921450</td>\n",
       "                        <td id=\"T_782d29d3_d4a6_11ec_b384_2016b948faacrow0_col1\" class=\"data row0 col1\" >0.659091</td>\n",
       "                        <td id=\"T_782d29d3_d4a6_11ec_b384_2016b948faacrow0_col2\" class=\"data row0 col2\" >0.830375</td>\n",
       "            </tr>\n",
       "    </tbody></table>"
      ],
      "text/plain": [
       "<pandas.io.formats.style.Styler at 0x23bf9309f40>"
      ]
     },
     "metadata": {},
     "output_type": "display_data"
    },
    {
     "data": {
      "text/markdown": [
       "##### Classification Report"
      ],
      "text/plain": [
       "<IPython.core.display.Markdown object>"
      ]
     },
     "metadata": {},
     "output_type": "display_data"
    },
    {
     "name": "stdout",
     "output_type": "stream",
     "text": [
      "              precision    recall  f1-score   support\n",
      "\n",
      "           0       0.84      0.92      0.88       331\n",
      "           1       0.82      0.66      0.73       176\n",
      "\n",
      "    accuracy                           0.83       507\n",
      "   macro avg       0.83      0.79      0.80       507\n",
      "weighted avg       0.83      0.83      0.83       507\n",
      "\n"
     ]
    },
    {
     "data": {
      "text/markdown": [
       "---"
      ],
      "text/plain": [
       "<IPython.core.display.Markdown object>"
      ]
     },
     "metadata": {},
     "output_type": "display_data"
    },
    {
     "data": {
      "text/markdown": [
       "### Threshold 1.0256410256410258"
      ],
      "text/plain": [
       "<IPython.core.display.Markdown object>"
      ]
     },
     "metadata": {},
     "output_type": "display_data"
    },
    {
     "data": {
      "text/html": [
       "<style  type=\"text/css\" >\n",
       "</style><table id=\"T_782f4c97_d4a6_11ec_af8e_2016b948faac\" ><thead>    <tr>        <th class=\"col_heading level0 col0\" >Inliers Accuracy</th>        <th class=\"col_heading level0 col1\" >Outliers Accuracy</th>        <th class=\"col_heading level0 col2\" >Overall Accuracy</th>    </tr></thead><tbody>\n",
       "                <tr>\n",
       "                                <td id=\"T_782f4c97_d4a6_11ec_af8e_2016b948faacrow0_col0\" class=\"data row0 col0\" >0.933535</td>\n",
       "                        <td id=\"T_782f4c97_d4a6_11ec_af8e_2016b948faacrow0_col1\" class=\"data row0 col1\" >0.653409</td>\n",
       "                        <td id=\"T_782f4c97_d4a6_11ec_af8e_2016b948faacrow0_col2\" class=\"data row0 col2\" >0.836292</td>\n",
       "            </tr>\n",
       "    </tbody></table>"
      ],
      "text/plain": [
       "<pandas.io.formats.style.Styler at 0x23bf9309f70>"
      ]
     },
     "metadata": {},
     "output_type": "display_data"
    },
    {
     "data": {
      "text/markdown": [
       "##### Classification Report"
      ],
      "text/plain": [
       "<IPython.core.display.Markdown object>"
      ]
     },
     "metadata": {},
     "output_type": "display_data"
    },
    {
     "name": "stdout",
     "output_type": "stream",
     "text": [
      "              precision    recall  f1-score   support\n",
      "\n",
      "           0       0.84      0.93      0.88       331\n",
      "           1       0.84      0.65      0.73       176\n",
      "\n",
      "    accuracy                           0.84       507\n",
      "   macro avg       0.84      0.79      0.81       507\n",
      "weighted avg       0.84      0.84      0.83       507\n",
      "\n"
     ]
    },
    {
     "data": {
      "text/markdown": [
       "---"
      ],
      "text/plain": [
       "<IPython.core.display.Markdown object>"
      ]
     },
     "metadata": {},
     "output_type": "display_data"
    },
    {
     "data": {
      "text/markdown": [
       "### Threshold 1.0743589743589743"
      ],
      "text/plain": [
       "<IPython.core.display.Markdown object>"
      ]
     },
     "metadata": {},
     "output_type": "display_data"
    },
    {
     "data": {
      "text/html": [
       "<style  type=\"text/css\" >\n",
       "</style><table id=\"T_7831bd97_d4a6_11ec_95bf_2016b948faac\" ><thead>    <tr>        <th class=\"col_heading level0 col0\" >Inliers Accuracy</th>        <th class=\"col_heading level0 col1\" >Outliers Accuracy</th>        <th class=\"col_heading level0 col2\" >Overall Accuracy</th>    </tr></thead><tbody>\n",
       "                <tr>\n",
       "                                <td id=\"T_7831bd97_d4a6_11ec_95bf_2016b948faacrow0_col0\" class=\"data row0 col0\" >0.939577</td>\n",
       "                        <td id=\"T_7831bd97_d4a6_11ec_95bf_2016b948faacrow0_col1\" class=\"data row0 col1\" >0.647727</td>\n",
       "                        <td id=\"T_7831bd97_d4a6_11ec_95bf_2016b948faacrow0_col2\" class=\"data row0 col2\" >0.838264</td>\n",
       "            </tr>\n",
       "    </tbody></table>"
      ],
      "text/plain": [
       "<pandas.io.formats.style.Styler at 0x23bf920b8b0>"
      ]
     },
     "metadata": {},
     "output_type": "display_data"
    },
    {
     "data": {
      "text/markdown": [
       "##### Classification Report"
      ],
      "text/plain": [
       "<IPython.core.display.Markdown object>"
      ]
     },
     "metadata": {},
     "output_type": "display_data"
    },
    {
     "name": "stdout",
     "output_type": "stream",
     "text": [
      "              precision    recall  f1-score   support\n",
      "\n",
      "           0       0.83      0.94      0.88       331\n",
      "           1       0.85      0.65      0.74       176\n",
      "\n",
      "    accuracy                           0.84       507\n",
      "   macro avg       0.84      0.79      0.81       507\n",
      "weighted avg       0.84      0.84      0.83       507\n",
      "\n"
     ]
    },
    {
     "data": {
      "text/markdown": [
       "---"
      ],
      "text/plain": [
       "<IPython.core.display.Markdown object>"
      ]
     },
     "metadata": {},
     "output_type": "display_data"
    },
    {
     "data": {
      "text/markdown": [
       "### Threshold 1.123076923076923"
      ],
      "text/plain": [
       "<IPython.core.display.Markdown object>"
      ]
     },
     "metadata": {},
     "output_type": "display_data"
    },
    {
     "data": {
      "text/html": [
       "<style  type=\"text/css\" >\n",
       "</style><table id=\"T_7834078e_d4a6_11ec_87a1_2016b948faac\" ><thead>    <tr>        <th class=\"col_heading level0 col0\" >Inliers Accuracy</th>        <th class=\"col_heading level0 col1\" >Outliers Accuracy</th>        <th class=\"col_heading level0 col2\" >Overall Accuracy</th>    </tr></thead><tbody>\n",
       "                <tr>\n",
       "                                <td id=\"T_7834078e_d4a6_11ec_87a1_2016b948faacrow0_col0\" class=\"data row0 col0\" >0.945619</td>\n",
       "                        <td id=\"T_7834078e_d4a6_11ec_87a1_2016b948faacrow0_col1\" class=\"data row0 col1\" >0.642045</td>\n",
       "                        <td id=\"T_7834078e_d4a6_11ec_87a1_2016b948faacrow0_col2\" class=\"data row0 col2\" >0.840237</td>\n",
       "            </tr>\n",
       "    </tbody></table>"
      ],
      "text/plain": [
       "<pandas.io.formats.style.Styler at 0x23bf931d8e0>"
      ]
     },
     "metadata": {},
     "output_type": "display_data"
    },
    {
     "data": {
      "text/markdown": [
       "##### Classification Report"
      ],
      "text/plain": [
       "<IPython.core.display.Markdown object>"
      ]
     },
     "metadata": {},
     "output_type": "display_data"
    },
    {
     "name": "stdout",
     "output_type": "stream",
     "text": [
      "              precision    recall  f1-score   support\n",
      "\n",
      "           0       0.83      0.95      0.89       331\n",
      "           1       0.86      0.64      0.74       176\n",
      "\n",
      "    accuracy                           0.84       507\n",
      "   macro avg       0.85      0.79      0.81       507\n",
      "weighted avg       0.84      0.84      0.83       507\n",
      "\n"
     ]
    },
    {
     "data": {
      "text/markdown": [
       "---"
      ],
      "text/plain": [
       "<IPython.core.display.Markdown object>"
      ]
     },
     "metadata": {},
     "output_type": "display_data"
    },
    {
     "data": {
      "text/markdown": [
       "### Threshold 1.1717948717948719"
      ],
      "text/plain": [
       "<IPython.core.display.Markdown object>"
      ]
     },
     "metadata": {},
     "output_type": "display_data"
    },
    {
     "data": {
      "text/html": [
       "<style  type=\"text/css\" >\n",
       "</style><table id=\"T_7836518e_d4a6_11ec_8026_2016b948faac\" ><thead>    <tr>        <th class=\"col_heading level0 col0\" >Inliers Accuracy</th>        <th class=\"col_heading level0 col1\" >Outliers Accuracy</th>        <th class=\"col_heading level0 col2\" >Overall Accuracy</th>    </tr></thead><tbody>\n",
       "                <tr>\n",
       "                                <td id=\"T_7836518e_d4a6_11ec_8026_2016b948faacrow0_col0\" class=\"data row0 col0\" >0.948640</td>\n",
       "                        <td id=\"T_7836518e_d4a6_11ec_8026_2016b948faacrow0_col1\" class=\"data row0 col1\" >0.642045</td>\n",
       "                        <td id=\"T_7836518e_d4a6_11ec_8026_2016b948faacrow0_col2\" class=\"data row0 col2\" >0.842209</td>\n",
       "            </tr>\n",
       "    </tbody></table>"
      ],
      "text/plain": [
       "<pandas.io.formats.style.Styler at 0x23bf931dd90>"
      ]
     },
     "metadata": {},
     "output_type": "display_data"
    },
    {
     "data": {
      "text/markdown": [
       "##### Classification Report"
      ],
      "text/plain": [
       "<IPython.core.display.Markdown object>"
      ]
     },
     "metadata": {},
     "output_type": "display_data"
    },
    {
     "name": "stdout",
     "output_type": "stream",
     "text": [
      "              precision    recall  f1-score   support\n",
      "\n",
      "           0       0.83      0.95      0.89       331\n",
      "           1       0.87      0.64      0.74       176\n",
      "\n",
      "    accuracy                           0.84       507\n",
      "   macro avg       0.85      0.80      0.81       507\n",
      "weighted avg       0.85      0.84      0.84       507\n",
      "\n"
     ]
    },
    {
     "data": {
      "text/markdown": [
       "---"
      ],
      "text/plain": [
       "<IPython.core.display.Markdown object>"
      ]
     },
     "metadata": {},
     "output_type": "display_data"
    },
    {
     "data": {
      "text/markdown": [
       "### Threshold 1.2205128205128206"
      ],
      "text/plain": [
       "<IPython.core.display.Markdown object>"
      ]
     },
     "metadata": {},
     "output_type": "display_data"
    },
    {
     "data": {
      "text/html": [
       "<style  type=\"text/css\" >\n",
       "</style><table id=\"T_78389b60_d4a6_11ec_9f1e_2016b948faac\" ><thead>    <tr>        <th class=\"col_heading level0 col0\" >Inliers Accuracy</th>        <th class=\"col_heading level0 col1\" >Outliers Accuracy</th>        <th class=\"col_heading level0 col2\" >Overall Accuracy</th>    </tr></thead><tbody>\n",
       "                <tr>\n",
       "                                <td id=\"T_78389b60_d4a6_11ec_9f1e_2016b948faacrow0_col0\" class=\"data row0 col0\" >0.951662</td>\n",
       "                        <td id=\"T_78389b60_d4a6_11ec_9f1e_2016b948faacrow0_col1\" class=\"data row0 col1\" >0.613636</td>\n",
       "                        <td id=\"T_78389b60_d4a6_11ec_9f1e_2016b948faacrow0_col2\" class=\"data row0 col2\" >0.834320</td>\n",
       "            </tr>\n",
       "    </tbody></table>"
      ],
      "text/plain": [
       "<pandas.io.formats.style.Styler at 0x23bf931dd30>"
      ]
     },
     "metadata": {},
     "output_type": "display_data"
    },
    {
     "data": {
      "text/markdown": [
       "##### Classification Report"
      ],
      "text/plain": [
       "<IPython.core.display.Markdown object>"
      ]
     },
     "metadata": {},
     "output_type": "display_data"
    },
    {
     "name": "stdout",
     "output_type": "stream",
     "text": [
      "              precision    recall  f1-score   support\n",
      "\n",
      "           0       0.82      0.95      0.88       331\n",
      "           1       0.87      0.61      0.72       176\n",
      "\n",
      "    accuracy                           0.83       507\n",
      "   macro avg       0.85      0.78      0.80       507\n",
      "weighted avg       0.84      0.83      0.83       507\n",
      "\n"
     ]
    },
    {
     "data": {
      "text/markdown": [
       "---"
      ],
      "text/plain": [
       "<IPython.core.display.Markdown object>"
      ]
     },
     "metadata": {},
     "output_type": "display_data"
    },
    {
     "data": {
      "text/markdown": [
       "### Threshold 1.2692307692307694"
      ],
      "text/plain": [
       "<IPython.core.display.Markdown object>"
      ]
     },
     "metadata": {},
     "output_type": "display_data"
    },
    {
     "data": {
      "text/html": [
       "<style  type=\"text/css\" >\n",
       "</style><table id=\"T_783b3385_d4a6_11ec_a9c9_2016b948faac\" ><thead>    <tr>        <th class=\"col_heading level0 col0\" >Inliers Accuracy</th>        <th class=\"col_heading level0 col1\" >Outliers Accuracy</th>        <th class=\"col_heading level0 col2\" >Overall Accuracy</th>    </tr></thead><tbody>\n",
       "                <tr>\n",
       "                                <td id=\"T_783b3385_d4a6_11ec_a9c9_2016b948faacrow0_col0\" class=\"data row0 col0\" >0.954683</td>\n",
       "                        <td id=\"T_783b3385_d4a6_11ec_a9c9_2016b948faacrow0_col1\" class=\"data row0 col1\" >0.613636</td>\n",
       "                        <td id=\"T_783b3385_d4a6_11ec_a9c9_2016b948faacrow0_col2\" class=\"data row0 col2\" >0.836292</td>\n",
       "            </tr>\n",
       "    </tbody></table>"
      ],
      "text/plain": [
       "<pandas.io.formats.style.Styler at 0x23bf931db20>"
      ]
     },
     "metadata": {},
     "output_type": "display_data"
    },
    {
     "data": {
      "text/markdown": [
       "##### Classification Report"
      ],
      "text/plain": [
       "<IPython.core.display.Markdown object>"
      ]
     },
     "metadata": {},
     "output_type": "display_data"
    },
    {
     "name": "stdout",
     "output_type": "stream",
     "text": [
      "              precision    recall  f1-score   support\n",
      "\n",
      "           0       0.82      0.95      0.88       331\n",
      "           1       0.88      0.61      0.72       176\n",
      "\n",
      "    accuracy                           0.84       507\n",
      "   macro avg       0.85      0.78      0.80       507\n",
      "weighted avg       0.84      0.84      0.83       507\n",
      "\n"
     ]
    },
    {
     "data": {
      "text/markdown": [
       "---"
      ],
      "text/plain": [
       "<IPython.core.display.Markdown object>"
      ]
     },
     "metadata": {},
     "output_type": "display_data"
    },
    {
     "data": {
      "text/markdown": [
       "### Threshold 1.3179487179487182"
      ],
      "text/plain": [
       "<IPython.core.display.Markdown object>"
      ]
     },
     "metadata": {},
     "output_type": "display_data"
    },
    {
     "data": {
      "text/html": [
       "<style  type=\"text/css\" >\n",
       "</style><table id=\"T_783d2f4c_d4a6_11ec_be69_2016b948faac\" ><thead>    <tr>        <th class=\"col_heading level0 col0\" >Inliers Accuracy</th>        <th class=\"col_heading level0 col1\" >Outliers Accuracy</th>        <th class=\"col_heading level0 col2\" >Overall Accuracy</th>    </tr></thead><tbody>\n",
       "                <tr>\n",
       "                                <td id=\"T_783d2f4c_d4a6_11ec_be69_2016b948faacrow0_col0\" class=\"data row0 col0\" >0.957704</td>\n",
       "                        <td id=\"T_783d2f4c_d4a6_11ec_be69_2016b948faacrow0_col1\" class=\"data row0 col1\" >0.613636</td>\n",
       "                        <td id=\"T_783d2f4c_d4a6_11ec_be69_2016b948faacrow0_col2\" class=\"data row0 col2\" >0.838264</td>\n",
       "            </tr>\n",
       "    </tbody></table>"
      ],
      "text/plain": [
       "<pandas.io.formats.style.Styler at 0x23bf931d910>"
      ]
     },
     "metadata": {},
     "output_type": "display_data"
    },
    {
     "data": {
      "text/markdown": [
       "##### Classification Report"
      ],
      "text/plain": [
       "<IPython.core.display.Markdown object>"
      ]
     },
     "metadata": {},
     "output_type": "display_data"
    },
    {
     "name": "stdout",
     "output_type": "stream",
     "text": [
      "              precision    recall  f1-score   support\n",
      "\n",
      "           0       0.82      0.96      0.89       331\n",
      "           1       0.89      0.61      0.72       176\n",
      "\n",
      "    accuracy                           0.84       507\n",
      "   macro avg       0.85      0.79      0.81       507\n",
      "weighted avg       0.84      0.84      0.83       507\n",
      "\n"
     ]
    },
    {
     "data": {
      "text/markdown": [
       "---"
      ],
      "text/plain": [
       "<IPython.core.display.Markdown object>"
      ]
     },
     "metadata": {},
     "output_type": "display_data"
    },
    {
     "data": {
      "text/markdown": [
       "### Threshold 1.3666666666666667"
      ],
      "text/plain": [
       "<IPython.core.display.Markdown object>"
      ]
     },
     "metadata": {},
     "output_type": "display_data"
    },
    {
     "data": {
      "text/html": [
       "<style  type=\"text/css\" >\n",
       "</style><table id=\"T_783f7934_d4a6_11ec_8937_2016b948faac\" ><thead>    <tr>        <th class=\"col_heading level0 col0\" >Inliers Accuracy</th>        <th class=\"col_heading level0 col1\" >Outliers Accuracy</th>        <th class=\"col_heading level0 col2\" >Overall Accuracy</th>    </tr></thead><tbody>\n",
       "                <tr>\n",
       "                                <td id=\"T_783f7934_d4a6_11ec_8937_2016b948faacrow0_col0\" class=\"data row0 col0\" >0.957704</td>\n",
       "                        <td id=\"T_783f7934_d4a6_11ec_8937_2016b948faacrow0_col1\" class=\"data row0 col1\" >0.607955</td>\n",
       "                        <td id=\"T_783f7934_d4a6_11ec_8937_2016b948faacrow0_col2\" class=\"data row0 col2\" >0.836292</td>\n",
       "            </tr>\n",
       "    </tbody></table>"
      ],
      "text/plain": [
       "<pandas.io.formats.style.Styler at 0x23bf932c130>"
      ]
     },
     "metadata": {},
     "output_type": "display_data"
    },
    {
     "data": {
      "text/markdown": [
       "##### Classification Report"
      ],
      "text/plain": [
       "<IPython.core.display.Markdown object>"
      ]
     },
     "metadata": {},
     "output_type": "display_data"
    },
    {
     "name": "stdout",
     "output_type": "stream",
     "text": [
      "              precision    recall  f1-score   support\n",
      "\n",
      "           0       0.82      0.96      0.88       331\n",
      "           1       0.88      0.61      0.72       176\n",
      "\n",
      "    accuracy                           0.84       507\n",
      "   macro avg       0.85      0.78      0.80       507\n",
      "weighted avg       0.84      0.84      0.83       507\n",
      "\n"
     ]
    },
    {
     "data": {
      "text/markdown": [
       "---"
      ],
      "text/plain": [
       "<IPython.core.display.Markdown object>"
      ]
     },
     "metadata": {},
     "output_type": "display_data"
    },
    {
     "data": {
      "text/markdown": [
       "### Threshold 1.4153846153846155"
      ],
      "text/plain": [
       "<IPython.core.display.Markdown object>"
      ]
     },
     "metadata": {},
     "output_type": "display_data"
    },
    {
     "data": {
      "text/html": [
       "<style  type=\"text/css\" >\n",
       "</style><table id=\"T_7841ea3f_d4a6_11ec_b37b_2016b948faac\" ><thead>    <tr>        <th class=\"col_heading level0 col0\" >Inliers Accuracy</th>        <th class=\"col_heading level0 col1\" >Outliers Accuracy</th>        <th class=\"col_heading level0 col2\" >Overall Accuracy</th>    </tr></thead><tbody>\n",
       "                <tr>\n",
       "                                <td id=\"T_7841ea3f_d4a6_11ec_b37b_2016b948faacrow0_col0\" class=\"data row0 col0\" >0.960725</td>\n",
       "                        <td id=\"T_7841ea3f_d4a6_11ec_b37b_2016b948faacrow0_col1\" class=\"data row0 col1\" >0.607955</td>\n",
       "                        <td id=\"T_7841ea3f_d4a6_11ec_b37b_2016b948faacrow0_col2\" class=\"data row0 col2\" >0.838264</td>\n",
       "            </tr>\n",
       "    </tbody></table>"
      ],
      "text/plain": [
       "<pandas.io.formats.style.Styler at 0x23bf931ddf0>"
      ]
     },
     "metadata": {},
     "output_type": "display_data"
    },
    {
     "data": {
      "text/markdown": [
       "##### Classification Report"
      ],
      "text/plain": [
       "<IPython.core.display.Markdown object>"
      ]
     },
     "metadata": {},
     "output_type": "display_data"
    },
    {
     "name": "stdout",
     "output_type": "stream",
     "text": [
      "              precision    recall  f1-score   support\n",
      "\n",
      "           0       0.82      0.96      0.89       331\n",
      "           1       0.89      0.61      0.72       176\n",
      "\n",
      "    accuracy                           0.84       507\n",
      "   macro avg       0.86      0.78      0.80       507\n",
      "weighted avg       0.85      0.84      0.83       507\n",
      "\n"
     ]
    },
    {
     "data": {
      "text/markdown": [
       "---"
      ],
      "text/plain": [
       "<IPython.core.display.Markdown object>"
      ]
     },
     "metadata": {},
     "output_type": "display_data"
    },
    {
     "data": {
      "text/markdown": [
       "### Threshold 1.4641025641025642"
      ],
      "text/plain": [
       "<IPython.core.display.Markdown object>"
      ]
     },
     "metadata": {},
     "output_type": "display_data"
    },
    {
     "data": {
      "text/html": [
       "<style  type=\"text/css\" >\n",
       "</style><table id=\"T_78443426_d4a6_11ec_b657_2016b948faac\" ><thead>    <tr>        <th class=\"col_heading level0 col0\" >Inliers Accuracy</th>        <th class=\"col_heading level0 col1\" >Outliers Accuracy</th>        <th class=\"col_heading level0 col2\" >Overall Accuracy</th>    </tr></thead><tbody>\n",
       "                <tr>\n",
       "                                <td id=\"T_78443426_d4a6_11ec_b657_2016b948faacrow0_col0\" class=\"data row0 col0\" >0.960725</td>\n",
       "                        <td id=\"T_78443426_d4a6_11ec_b657_2016b948faacrow0_col1\" class=\"data row0 col1\" >0.602273</td>\n",
       "                        <td id=\"T_78443426_d4a6_11ec_b657_2016b948faacrow0_col2\" class=\"data row0 col2\" >0.836292</td>\n",
       "            </tr>\n",
       "    </tbody></table>"
      ],
      "text/plain": [
       "<pandas.io.formats.style.Styler at 0x23bf931d250>"
      ]
     },
     "metadata": {},
     "output_type": "display_data"
    },
    {
     "data": {
      "text/markdown": [
       "##### Classification Report"
      ],
      "text/plain": [
       "<IPython.core.display.Markdown object>"
      ]
     },
     "metadata": {},
     "output_type": "display_data"
    },
    {
     "name": "stdout",
     "output_type": "stream",
     "text": [
      "              precision    recall  f1-score   support\n",
      "\n",
      "           0       0.82      0.96      0.88       331\n",
      "           1       0.89      0.60      0.72       176\n",
      "\n",
      "    accuracy                           0.84       507\n",
      "   macro avg       0.86      0.78      0.80       507\n",
      "weighted avg       0.84      0.84      0.83       507\n",
      "\n"
     ]
    },
    {
     "data": {
      "text/markdown": [
       "---"
      ],
      "text/plain": [
       "<IPython.core.display.Markdown object>"
      ]
     },
     "metadata": {},
     "output_type": "display_data"
    },
    {
     "data": {
      "text/markdown": [
       "### Threshold 1.512820512820513"
      ],
      "text/plain": [
       "<IPython.core.display.Markdown object>"
      ]
     },
     "metadata": {},
     "output_type": "display_data"
    },
    {
     "data": {
      "text/html": [
       "<style  type=\"text/css\" >\n",
       "</style><table id=\"T_7846447d_d4a6_11ec_bdbd_2016b948faac\" ><thead>    <tr>        <th class=\"col_heading level0 col0\" >Inliers Accuracy</th>        <th class=\"col_heading level0 col1\" >Outliers Accuracy</th>        <th class=\"col_heading level0 col2\" >Overall Accuracy</th>    </tr></thead><tbody>\n",
       "                <tr>\n",
       "                                <td id=\"T_7846447d_d4a6_11ec_bdbd_2016b948faacrow0_col0\" class=\"data row0 col0\" >0.960725</td>\n",
       "                        <td id=\"T_7846447d_d4a6_11ec_bdbd_2016b948faacrow0_col1\" class=\"data row0 col1\" >0.602273</td>\n",
       "                        <td id=\"T_7846447d_d4a6_11ec_bdbd_2016b948faacrow0_col2\" class=\"data row0 col2\" >0.836292</td>\n",
       "            </tr>\n",
       "    </tbody></table>"
      ],
      "text/plain": [
       "<pandas.io.formats.style.Styler at 0x23bf931d460>"
      ]
     },
     "metadata": {},
     "output_type": "display_data"
    },
    {
     "data": {
      "text/markdown": [
       "##### Classification Report"
      ],
      "text/plain": [
       "<IPython.core.display.Markdown object>"
      ]
     },
     "metadata": {},
     "output_type": "display_data"
    },
    {
     "name": "stdout",
     "output_type": "stream",
     "text": [
      "              precision    recall  f1-score   support\n",
      "\n",
      "           0       0.82      0.96      0.88       331\n",
      "           1       0.89      0.60      0.72       176\n",
      "\n",
      "    accuracy                           0.84       507\n",
      "   macro avg       0.86      0.78      0.80       507\n",
      "weighted avg       0.84      0.84      0.83       507\n",
      "\n"
     ]
    },
    {
     "data": {
      "text/markdown": [
       "---"
      ],
      "text/plain": [
       "<IPython.core.display.Markdown object>"
      ]
     },
     "metadata": {},
     "output_type": "display_data"
    },
    {
     "data": {
      "text/markdown": [
       "### Threshold 1.5615384615384615"
      ],
      "text/plain": [
       "<IPython.core.display.Markdown object>"
      ]
     },
     "metadata": {},
     "output_type": "display_data"
    },
    {
     "data": {
      "text/html": [
       "<style  type=\"text/css\" >\n",
       "</style><table id=\"T_78488e90_d4a6_11ec_81e7_2016b948faac\" ><thead>    <tr>        <th class=\"col_heading level0 col0\" >Inliers Accuracy</th>        <th class=\"col_heading level0 col1\" >Outliers Accuracy</th>        <th class=\"col_heading level0 col2\" >Overall Accuracy</th>    </tr></thead><tbody>\n",
       "                <tr>\n",
       "                                <td id=\"T_78488e90_d4a6_11ec_81e7_2016b948faacrow0_col0\" class=\"data row0 col0\" >0.960725</td>\n",
       "                        <td id=\"T_78488e90_d4a6_11ec_81e7_2016b948faacrow0_col1\" class=\"data row0 col1\" >0.596591</td>\n",
       "                        <td id=\"T_78488e90_d4a6_11ec_81e7_2016b948faacrow0_col2\" class=\"data row0 col2\" >0.834320</td>\n",
       "            </tr>\n",
       "    </tbody></table>"
      ],
      "text/plain": [
       "<pandas.io.formats.style.Styler at 0x23bf931dcd0>"
      ]
     },
     "metadata": {},
     "output_type": "display_data"
    },
    {
     "data": {
      "text/markdown": [
       "##### Classification Report"
      ],
      "text/plain": [
       "<IPython.core.display.Markdown object>"
      ]
     },
     "metadata": {},
     "output_type": "display_data"
    },
    {
     "name": "stdout",
     "output_type": "stream",
     "text": [
      "              precision    recall  f1-score   support\n",
      "\n",
      "           0       0.82      0.96      0.88       331\n",
      "           1       0.89      0.60      0.71       176\n",
      "\n",
      "    accuracy                           0.83       507\n",
      "   macro avg       0.85      0.78      0.80       507\n",
      "weighted avg       0.84      0.83      0.82       507\n",
      "\n"
     ]
    },
    {
     "data": {
      "text/markdown": [
       "---"
      ],
      "text/plain": [
       "<IPython.core.display.Markdown object>"
      ]
     },
     "metadata": {},
     "output_type": "display_data"
    },
    {
     "data": {
      "text/markdown": [
       "### Threshold 1.6102564102564103"
      ],
      "text/plain": [
       "<IPython.core.display.Markdown object>"
      ]
     },
     "metadata": {},
     "output_type": "display_data"
    },
    {
     "data": {
      "text/html": [
       "<style  type=\"text/css\" >\n",
       "</style><table id=\"T_784aff94_d4a6_11ec_9da9_2016b948faac\" ><thead>    <tr>        <th class=\"col_heading level0 col0\" >Inliers Accuracy</th>        <th class=\"col_heading level0 col1\" >Outliers Accuracy</th>        <th class=\"col_heading level0 col2\" >Overall Accuracy</th>    </tr></thead><tbody>\n",
       "                <tr>\n",
       "                                <td id=\"T_784aff94_d4a6_11ec_9da9_2016b948faacrow0_col0\" class=\"data row0 col0\" >0.963746</td>\n",
       "                        <td id=\"T_784aff94_d4a6_11ec_9da9_2016b948faacrow0_col1\" class=\"data row0 col1\" >0.573864</td>\n",
       "                        <td id=\"T_784aff94_d4a6_11ec_9da9_2016b948faacrow0_col2\" class=\"data row0 col2\" >0.828402</td>\n",
       "            </tr>\n",
       "    </tbody></table>"
      ],
      "text/plain": [
       "<pandas.io.formats.style.Styler at 0x23bf931d7f0>"
      ]
     },
     "metadata": {},
     "output_type": "display_data"
    },
    {
     "data": {
      "text/markdown": [
       "##### Classification Report"
      ],
      "text/plain": [
       "<IPython.core.display.Markdown object>"
      ]
     },
     "metadata": {},
     "output_type": "display_data"
    },
    {
     "name": "stdout",
     "output_type": "stream",
     "text": [
      "              precision    recall  f1-score   support\n",
      "\n",
      "           0       0.81      0.96      0.88       331\n",
      "           1       0.89      0.57      0.70       176\n",
      "\n",
      "    accuracy                           0.83       507\n",
      "   macro avg       0.85      0.77      0.79       507\n",
      "weighted avg       0.84      0.83      0.82       507\n",
      "\n"
     ]
    },
    {
     "data": {
      "text/markdown": [
       "---"
      ],
      "text/plain": [
       "<IPython.core.display.Markdown object>"
      ]
     },
     "metadata": {},
     "output_type": "display_data"
    },
    {
     "data": {
      "text/markdown": [
       "### Threshold 1.658974358974359"
      ],
      "text/plain": [
       "<IPython.core.display.Markdown object>"
      ]
     },
     "metadata": {},
     "output_type": "display_data"
    },
    {
     "data": {
      "text/html": [
       "<style  type=\"text/css\" >\n",
       "</style><table id=\"T_784d225a_d4a6_11ec_8de5_2016b948faac\" ><thead>    <tr>        <th class=\"col_heading level0 col0\" >Inliers Accuracy</th>        <th class=\"col_heading level0 col1\" >Outliers Accuracy</th>        <th class=\"col_heading level0 col2\" >Overall Accuracy</th>    </tr></thead><tbody>\n",
       "                <tr>\n",
       "                                <td id=\"T_784d225a_d4a6_11ec_8de5_2016b948faacrow0_col0\" class=\"data row0 col0\" >0.963746</td>\n",
       "                        <td id=\"T_784d225a_d4a6_11ec_8de5_2016b948faacrow0_col1\" class=\"data row0 col1\" >0.556818</td>\n",
       "                        <td id=\"T_784d225a_d4a6_11ec_8de5_2016b948faacrow0_col2\" class=\"data row0 col2\" >0.822485</td>\n",
       "            </tr>\n",
       "    </tbody></table>"
      ],
      "text/plain": [
       "<pandas.io.formats.style.Styler at 0x23bf920bb50>"
      ]
     },
     "metadata": {},
     "output_type": "display_data"
    },
    {
     "data": {
      "text/markdown": [
       "##### Classification Report"
      ],
      "text/plain": [
       "<IPython.core.display.Markdown object>"
      ]
     },
     "metadata": {},
     "output_type": "display_data"
    },
    {
     "name": "stdout",
     "output_type": "stream",
     "text": [
      "              precision    recall  f1-score   support\n",
      "\n",
      "           0       0.80      0.96      0.88       331\n",
      "           1       0.89      0.56      0.69       176\n",
      "\n",
      "    accuracy                           0.82       507\n",
      "   macro avg       0.85      0.76      0.78       507\n",
      "weighted avg       0.83      0.82      0.81       507\n",
      "\n"
     ]
    },
    {
     "data": {
      "text/markdown": [
       "---"
      ],
      "text/plain": [
       "<IPython.core.display.Markdown object>"
      ]
     },
     "metadata": {},
     "output_type": "display_data"
    },
    {
     "data": {
      "text/markdown": [
       "### Threshold 1.7076923076923078"
      ],
      "text/plain": [
       "<IPython.core.display.Markdown object>"
      ]
     },
     "metadata": {},
     "output_type": "display_data"
    },
    {
     "data": {
      "text/html": [
       "<style  type=\"text/css\" >\n",
       "</style><table id=\"T_784f4537_d4a6_11ec_b0a4_2016b948faac\" ><thead>    <tr>        <th class=\"col_heading level0 col0\" >Inliers Accuracy</th>        <th class=\"col_heading level0 col1\" >Outliers Accuracy</th>        <th class=\"col_heading level0 col2\" >Overall Accuracy</th>    </tr></thead><tbody>\n",
       "                <tr>\n",
       "                                <td id=\"T_784f4537_d4a6_11ec_b0a4_2016b948faacrow0_col0\" class=\"data row0 col0\" >0.966767</td>\n",
       "                        <td id=\"T_784f4537_d4a6_11ec_b0a4_2016b948faacrow0_col1\" class=\"data row0 col1\" >0.556818</td>\n",
       "                        <td id=\"T_784f4537_d4a6_11ec_b0a4_2016b948faacrow0_col2\" class=\"data row0 col2\" >0.824458</td>\n",
       "            </tr>\n",
       "    </tbody></table>"
      ],
      "text/plain": [
       "<pandas.io.formats.style.Styler at 0x23bf93097c0>"
      ]
     },
     "metadata": {},
     "output_type": "display_data"
    },
    {
     "data": {
      "text/markdown": [
       "##### Classification Report"
      ],
      "text/plain": [
       "<IPython.core.display.Markdown object>"
      ]
     },
     "metadata": {},
     "output_type": "display_data"
    },
    {
     "name": "stdout",
     "output_type": "stream",
     "text": [
      "              precision    recall  f1-score   support\n",
      "\n",
      "           0       0.80      0.97      0.88       331\n",
      "           1       0.90      0.56      0.69       176\n",
      "\n",
      "    accuracy                           0.82       507\n",
      "   macro avg       0.85      0.76      0.78       507\n",
      "weighted avg       0.84      0.82      0.81       507\n",
      "\n"
     ]
    },
    {
     "data": {
      "text/markdown": [
       "---"
      ],
      "text/plain": [
       "<IPython.core.display.Markdown object>"
      ]
     },
     "metadata": {},
     "output_type": "display_data"
    },
    {
     "data": {
      "text/markdown": [
       "### Threshold 1.7564102564102566"
      ],
      "text/plain": [
       "<IPython.core.display.Markdown object>"
      ]
     },
     "metadata": {},
     "output_type": "display_data"
    },
    {
     "data": {
      "text/html": [
       "<style  type=\"text/css\" >\n",
       "</style><table id=\"T_785119fd_d4a6_11ec_8172_2016b948faac\" ><thead>    <tr>        <th class=\"col_heading level0 col0\" >Inliers Accuracy</th>        <th class=\"col_heading level0 col1\" >Outliers Accuracy</th>        <th class=\"col_heading level0 col2\" >Overall Accuracy</th>    </tr></thead><tbody>\n",
       "                <tr>\n",
       "                                <td id=\"T_785119fd_d4a6_11ec_8172_2016b948faacrow0_col0\" class=\"data row0 col0\" >0.966767</td>\n",
       "                        <td id=\"T_785119fd_d4a6_11ec_8172_2016b948faacrow0_col1\" class=\"data row0 col1\" >0.551136</td>\n",
       "                        <td id=\"T_785119fd_d4a6_11ec_8172_2016b948faacrow0_col2\" class=\"data row0 col2\" >0.822485</td>\n",
       "            </tr>\n",
       "    </tbody></table>"
      ],
      "text/plain": [
       "<pandas.io.formats.style.Styler at 0x23bf9309b80>"
      ]
     },
     "metadata": {},
     "output_type": "display_data"
    },
    {
     "data": {
      "text/markdown": [
       "##### Classification Report"
      ],
      "text/plain": [
       "<IPython.core.display.Markdown object>"
      ]
     },
     "metadata": {},
     "output_type": "display_data"
    },
    {
     "name": "stdout",
     "output_type": "stream",
     "text": [
      "              precision    recall  f1-score   support\n",
      "\n",
      "           0       0.80      0.97      0.88       331\n",
      "           1       0.90      0.55      0.68       176\n",
      "\n",
      "    accuracy                           0.82       507\n",
      "   macro avg       0.85      0.76      0.78       507\n",
      "weighted avg       0.84      0.82      0.81       507\n",
      "\n"
     ]
    },
    {
     "data": {
      "text/markdown": [
       "---"
      ],
      "text/plain": [
       "<IPython.core.display.Markdown object>"
      ]
     },
     "metadata": {},
     "output_type": "display_data"
    },
    {
     "data": {
      "text/markdown": [
       "### Threshold 1.8051282051282052"
      ],
      "text/plain": [
       "<IPython.core.display.Markdown object>"
      ]
     },
     "metadata": {},
     "output_type": "display_data"
    },
    {
     "data": {
      "text/html": [
       "<style  type=\"text/css\" >\n",
       "</style><table id=\"T_785363e5_d4a6_11ec_a01d_2016b948faac\" ><thead>    <tr>        <th class=\"col_heading level0 col0\" >Inliers Accuracy</th>        <th class=\"col_heading level0 col1\" >Outliers Accuracy</th>        <th class=\"col_heading level0 col2\" >Overall Accuracy</th>    </tr></thead><tbody>\n",
       "                <tr>\n",
       "                                <td id=\"T_785363e5_d4a6_11ec_a01d_2016b948faacrow0_col0\" class=\"data row0 col0\" >0.969789</td>\n",
       "                        <td id=\"T_785363e5_d4a6_11ec_a01d_2016b948faacrow0_col1\" class=\"data row0 col1\" >0.551136</td>\n",
       "                        <td id=\"T_785363e5_d4a6_11ec_a01d_2016b948faacrow0_col2\" class=\"data row0 col2\" >0.824458</td>\n",
       "            </tr>\n",
       "    </tbody></table>"
      ],
      "text/plain": [
       "<pandas.io.formats.style.Styler at 0x23bf9321070>"
      ]
     },
     "metadata": {},
     "output_type": "display_data"
    },
    {
     "data": {
      "text/markdown": [
       "##### Classification Report"
      ],
      "text/plain": [
       "<IPython.core.display.Markdown object>"
      ]
     },
     "metadata": {},
     "output_type": "display_data"
    },
    {
     "name": "stdout",
     "output_type": "stream",
     "text": [
      "              precision    recall  f1-score   support\n",
      "\n",
      "           0       0.80      0.97      0.88       331\n",
      "           1       0.91      0.55      0.69       176\n",
      "\n",
      "    accuracy                           0.82       507\n",
      "   macro avg       0.85      0.76      0.78       507\n",
      "weighted avg       0.84      0.82      0.81       507\n",
      "\n"
     ]
    },
    {
     "data": {
      "text/markdown": [
       "---"
      ],
      "text/plain": [
       "<IPython.core.display.Markdown object>"
      ]
     },
     "metadata": {},
     "output_type": "display_data"
    },
    {
     "data": {
      "text/markdown": [
       "### Threshold 1.853846153846154"
      ],
      "text/plain": [
       "<IPython.core.display.Markdown object>"
      ]
     },
     "metadata": {},
     "output_type": "display_data"
    },
    {
     "data": {
      "text/html": [
       "<style  type=\"text/css\" >\n",
       "</style><table id=\"T_7855c2bd_d4a6_11ec_9231_2016b948faac\" ><thead>    <tr>        <th class=\"col_heading level0 col0\" >Inliers Accuracy</th>        <th class=\"col_heading level0 col1\" >Outliers Accuracy</th>        <th class=\"col_heading level0 col2\" >Overall Accuracy</th>    </tr></thead><tbody>\n",
       "                <tr>\n",
       "                                <td id=\"T_7855c2bd_d4a6_11ec_9231_2016b948faacrow0_col0\" class=\"data row0 col0\" >0.969789</td>\n",
       "                        <td id=\"T_7855c2bd_d4a6_11ec_9231_2016b948faacrow0_col1\" class=\"data row0 col1\" >0.551136</td>\n",
       "                        <td id=\"T_7855c2bd_d4a6_11ec_9231_2016b948faacrow0_col2\" class=\"data row0 col2\" >0.824458</td>\n",
       "            </tr>\n",
       "    </tbody></table>"
      ],
      "text/plain": [
       "<pandas.io.formats.style.Styler at 0x23bf9321100>"
      ]
     },
     "metadata": {},
     "output_type": "display_data"
    },
    {
     "data": {
      "text/markdown": [
       "##### Classification Report"
      ],
      "text/plain": [
       "<IPython.core.display.Markdown object>"
      ]
     },
     "metadata": {},
     "output_type": "display_data"
    },
    {
     "name": "stdout",
     "output_type": "stream",
     "text": [
      "              precision    recall  f1-score   support\n",
      "\n",
      "           0       0.80      0.97      0.88       331\n",
      "           1       0.91      0.55      0.69       176\n",
      "\n",
      "    accuracy                           0.82       507\n",
      "   macro avg       0.85      0.76      0.78       507\n",
      "weighted avg       0.84      0.82      0.81       507\n",
      "\n"
     ]
    },
    {
     "data": {
      "text/markdown": [
       "---"
      ],
      "text/plain": [
       "<IPython.core.display.Markdown object>"
      ]
     },
     "metadata": {},
     "output_type": "display_data"
    },
    {
     "data": {
      "text/markdown": [
       "### Threshold 1.9025641025641027"
      ],
      "text/plain": [
       "<IPython.core.display.Markdown object>"
      ]
     },
     "metadata": {},
     "output_type": "display_data"
    },
    {
     "data": {
      "text/html": [
       "<style  type=\"text/css\" >\n",
       "</style><table id=\"T_78580cb2_d4a6_11ec_9b89_2016b948faac\" ><thead>    <tr>        <th class=\"col_heading level0 col0\" >Inliers Accuracy</th>        <th class=\"col_heading level0 col1\" >Outliers Accuracy</th>        <th class=\"col_heading level0 col2\" >Overall Accuracy</th>    </tr></thead><tbody>\n",
       "                <tr>\n",
       "                                <td id=\"T_78580cb2_d4a6_11ec_9b89_2016b948faacrow0_col0\" class=\"data row0 col0\" >0.969789</td>\n",
       "                        <td id=\"T_78580cb2_d4a6_11ec_9b89_2016b948faacrow0_col1\" class=\"data row0 col1\" >0.551136</td>\n",
       "                        <td id=\"T_78580cb2_d4a6_11ec_9b89_2016b948faacrow0_col2\" class=\"data row0 col2\" >0.824458</td>\n",
       "            </tr>\n",
       "    </tbody></table>"
      ],
      "text/plain": [
       "<pandas.io.formats.style.Styler at 0x23bf93216a0>"
      ]
     },
     "metadata": {},
     "output_type": "display_data"
    },
    {
     "data": {
      "text/markdown": [
       "##### Classification Report"
      ],
      "text/plain": [
       "<IPython.core.display.Markdown object>"
      ]
     },
     "metadata": {},
     "output_type": "display_data"
    },
    {
     "name": "stdout",
     "output_type": "stream",
     "text": [
      "              precision    recall  f1-score   support\n",
      "\n",
      "           0       0.80      0.97      0.88       331\n",
      "           1       0.91      0.55      0.69       176\n",
      "\n",
      "    accuracy                           0.82       507\n",
      "   macro avg       0.85      0.76      0.78       507\n",
      "weighted avg       0.84      0.82      0.81       507\n",
      "\n"
     ]
    },
    {
     "data": {
      "text/markdown": [
       "---"
      ],
      "text/plain": [
       "<IPython.core.display.Markdown object>"
      ]
     },
     "metadata": {},
     "output_type": "display_data"
    },
    {
     "data": {
      "text/markdown": [
       "### Threshold 1.9512820512820515"
      ],
      "text/plain": [
       "<IPython.core.display.Markdown object>"
      ]
     },
     "metadata": {},
     "output_type": "display_data"
    },
    {
     "data": {
      "text/html": [
       "<style  type=\"text/css\" >\n",
       "</style><table id=\"T_785aa4b5_d4a6_11ec_a64a_2016b948faac\" ><thead>    <tr>        <th class=\"col_heading level0 col0\" >Inliers Accuracy</th>        <th class=\"col_heading level0 col1\" >Outliers Accuracy</th>        <th class=\"col_heading level0 col2\" >Overall Accuracy</th>    </tr></thead><tbody>\n",
       "                <tr>\n",
       "                                <td id=\"T_785aa4b5_d4a6_11ec_a64a_2016b948faacrow0_col0\" class=\"data row0 col0\" >0.969789</td>\n",
       "                        <td id=\"T_785aa4b5_d4a6_11ec_a64a_2016b948faacrow0_col1\" class=\"data row0 col1\" >0.551136</td>\n",
       "                        <td id=\"T_785aa4b5_d4a6_11ec_a64a_2016b948faacrow0_col2\" class=\"data row0 col2\" >0.824458</td>\n",
       "            </tr>\n",
       "    </tbody></table>"
      ],
      "text/plain": [
       "<pandas.io.formats.style.Styler at 0x23bf9321310>"
      ]
     },
     "metadata": {},
     "output_type": "display_data"
    },
    {
     "data": {
      "text/markdown": [
       "##### Classification Report"
      ],
      "text/plain": [
       "<IPython.core.display.Markdown object>"
      ]
     },
     "metadata": {},
     "output_type": "display_data"
    },
    {
     "name": "stdout",
     "output_type": "stream",
     "text": [
      "              precision    recall  f1-score   support\n",
      "\n",
      "           0       0.80      0.97      0.88       331\n",
      "           1       0.91      0.55      0.69       176\n",
      "\n",
      "    accuracy                           0.82       507\n",
      "   macro avg       0.85      0.76      0.78       507\n",
      "weighted avg       0.84      0.82      0.81       507\n",
      "\n"
     ]
    },
    {
     "data": {
      "text/markdown": [
       "---"
      ],
      "text/plain": [
       "<IPython.core.display.Markdown object>"
      ]
     },
     "metadata": {},
     "output_type": "display_data"
    },
    {
     "data": {
      "text/markdown": [
       "### Threshold 2.0"
      ],
      "text/plain": [
       "<IPython.core.display.Markdown object>"
      ]
     },
     "metadata": {},
     "output_type": "display_data"
    },
    {
     "data": {
      "text/html": [
       "<style  type=\"text/css\" >\n",
       "</style><table id=\"T_785d3cd9_d4a6_11ec_a705_2016b948faac\" ><thead>    <tr>        <th class=\"col_heading level0 col0\" >Inliers Accuracy</th>        <th class=\"col_heading level0 col1\" >Outliers Accuracy</th>        <th class=\"col_heading level0 col2\" >Overall Accuracy</th>    </tr></thead><tbody>\n",
       "                <tr>\n",
       "                                <td id=\"T_785d3cd9_d4a6_11ec_a705_2016b948faacrow0_col0\" class=\"data row0 col0\" >0.969789</td>\n",
       "                        <td id=\"T_785d3cd9_d4a6_11ec_a705_2016b948faacrow0_col1\" class=\"data row0 col1\" >0.551136</td>\n",
       "                        <td id=\"T_785d3cd9_d4a6_11ec_a705_2016b948faacrow0_col2\" class=\"data row0 col2\" >0.824458</td>\n",
       "            </tr>\n",
       "    </tbody></table>"
      ],
      "text/plain": [
       "<pandas.io.formats.style.Styler at 0x23bf9321940>"
      ]
     },
     "metadata": {},
     "output_type": "display_data"
    },
    {
     "data": {
      "text/markdown": [
       "##### Classification Report"
      ],
      "text/plain": [
       "<IPython.core.display.Markdown object>"
      ]
     },
     "metadata": {},
     "output_type": "display_data"
    },
    {
     "name": "stdout",
     "output_type": "stream",
     "text": [
      "              precision    recall  f1-score   support\n",
      "\n",
      "           0       0.80      0.97      0.88       331\n",
      "           1       0.91      0.55      0.69       176\n",
      "\n",
      "    accuracy                           0.82       507\n",
      "   macro avg       0.85      0.76      0.78       507\n",
      "weighted avg       0.84      0.82      0.81       507\n",
      "\n"
     ]
    },
    {
     "data": {
      "text/markdown": [
       "---"
      ],
      "text/plain": [
       "<IPython.core.display.Markdown object>"
      ]
     },
     "metadata": {},
     "output_type": "display_data"
    }
   ],
   "source": [
    "optimal_threshold = try_threshold_grid(test_MSEs, y_test, 'undercomplete_autoencoder', start=0.1, stop=2.0, num_thresholds=40)"
   ]
  },
  {
   "cell_type": "code",
   "execution_count": 24,
   "metadata": {},
   "outputs": [
    {
     "data": {
      "text/markdown": [
       "### Threshold 0.4897435897435898"
      ],
      "text/plain": [
       "<IPython.core.display.Markdown object>"
      ]
     },
     "metadata": {},
     "output_type": "display_data"
    },
    {
     "data": {
      "text/html": [
       "<style  type=\"text/css\" >\n",
       "</style><table id=\"T_7a895caa_d4a6_11ec_abc9_2016b948faac\" ><thead>    <tr>        <th class=\"col_heading level0 col0\" >Inliers Accuracy</th>        <th class=\"col_heading level0 col1\" >Outliers Accuracy</th>        <th class=\"col_heading level0 col2\" >Overall Accuracy</th>    </tr></thead><tbody>\n",
       "                <tr>\n",
       "                                <td id=\"T_7a895caa_d4a6_11ec_abc9_2016b948faacrow0_col0\" class=\"data row0 col0\" >0.818731</td>\n",
       "                        <td id=\"T_7a895caa_d4a6_11ec_abc9_2016b948faacrow0_col1\" class=\"data row0 col1\" >0.892045</td>\n",
       "                        <td id=\"T_7a895caa_d4a6_11ec_abc9_2016b948faacrow0_col2\" class=\"data row0 col2\" >0.844181</td>\n",
       "            </tr>\n",
       "    </tbody></table>"
      ],
      "text/plain": [
       "<pandas.io.formats.style.Styler at 0x23bf932cf40>"
      ]
     },
     "metadata": {},
     "output_type": "display_data"
    },
    {
     "data": {
      "text/markdown": [
       "##### Classification Report"
      ],
      "text/plain": [
       "<IPython.core.display.Markdown object>"
      ]
     },
     "metadata": {},
     "output_type": "display_data"
    },
    {
     "name": "stdout",
     "output_type": "stream",
     "text": [
      "              precision    recall  f1-score   support\n",
      "\n",
      "           0       0.93      0.82      0.87       331\n",
      "           1       0.72      0.89      0.80       176\n",
      "\n",
      "    accuracy                           0.84       507\n",
      "   macro avg       0.83      0.86      0.84       507\n",
      "weighted avg       0.86      0.84      0.85       507\n",
      "\n"
     ]
    },
    {
     "data": {
      "image/png": "[encoded data removed]",
      "text/plain": [
       "<Figure size 432x432 with 2 Axes>"
      ]
     },
     "metadata": {
      "needs_background": "light"
     },
     "output_type": "display_data"
    }
   ],
   "source": [
    "predictions = classify_by_error(test_MSEs, optimal_threshold)\n",
    "matrix = confusion_matrix(y_test, predictions)\n",
    "class_accuracies = matrix.diagonal()/matrix.sum(axis=1)\n",
    "acc_df = pd.DataFrame({\n",
    "    'Inliers Accuracy': [class_accuracies[0]], \n",
    "    'Outliers Accuracy': [class_accuracies[1]], \n",
    "    'Overall Accuracy': [accuracy_score(y_test, predictions)]\n",
    "})\n",
    "\n",
    "display(Markdown(f'### Threshold {optimal_threshold}'))\n",
    "display(acc_df.style.hide_index())\n",
    "display(Markdown(f'##### Classification Report'))\n",
    "print(classification_report(y_test, predictions))\n",
    "plot_confusion_matrix(matrix)"
   ]
  },
  {
   "cell_type": "markdown",
   "metadata": {},
   "source": [
    "---\n",
    "---"
   ]
  },
  {
   "cell_type": "markdown",
   "metadata": {},
   "source": [
    "### 2. Denoising AutoEncoder"
   ]
  },
  {
   "cell_type": "code",
   "execution_count": 25,
   "metadata": {},
   "outputs": [],
   "source": [
    "class DenoisingAutoEncoder(nn.Module):\n",
    "    def __init__(self, noise_rate):\n",
    "        super(DenoisingAutoEncoder, self).__init__()\n",
    "        self.noise_rate = noise_rate\n",
    "        self.encode = nn.Sequential(\n",
    "            nn.Linear(21, 16),\n",
    "            nn.ReLU(),\n",
    "            nn.Linear(16, 14),\n",
    "        )\n",
    "        self.decode = nn.Sequential(\n",
    "            nn.Linear(14, 16),\n",
    "            nn.ReLU(),\n",
    "            nn.Linear(16, 21),\n",
    "        )\n",
    "    \n",
    "    def forward(self, x: torch.Tensor) -> torch.Tensor:\n",
    "        if self.training:\n",
    "            # randn_like returns tensor the same shape as x with random numbers\n",
    "            # from a normal distribution with mean 0 and variance 1\n",
    "            x = x + torch.randn_like(x) * self.noise_rate\n",
    "        x = self.encode(x)\n",
    "        x = self.decode(x)\n",
    "        return x"
   ]
  },
  {
   "cell_type": "code",
   "execution_count": 26,
   "metadata": {},
   "outputs": [],
   "source": [
    "denoising_ae = DenoisingAutoEncoder(noise_rate=0.1)\n",
    "\n",
    "learning_rate = 1e-2\n",
    "optimizer = torch.optim.Adam(denoising_ae.parameters(), lr=learning_rate)\n",
    "criterion = nn.MSELoss()"
   ]
  },
  {
   "cell_type": "code",
   "execution_count": 27,
   "metadata": {},
   "outputs": [
    {
     "name": "stdout",
     "output_type": "stream",
     "text": [
      "epoch 10; train loss: 0.1353264652630862; valid loss: 0.1307838410139084\n",
      "epoch 20; train loss: 0.07029625357073896; valid loss: 0.05437110066413879\n",
      "epoch 30; train loss: 0.05438533754033201; valid loss: 0.04268956109881401\n",
      "epoch 40; train loss: 0.03967317171833094; valid loss: 0.025260810181498526\n",
      "epoch 50; train loss: 0.03371260337093297; valid loss: 0.02108109127730131\n",
      "epoch 60; train loss: 0.03218280173399869; valid loss: 0.022485269233584404\n",
      "epoch 70; train loss: 0.03098915977513089; valid loss: 0.02141017112880945\n",
      "epoch 80; train loss: 0.03024241854162777; valid loss: 0.020220891386270524\n",
      "epoch 90; train loss: 0.03044742510160979; valid loss: 0.020546996593475343\n",
      "epoch 100; train loss: 0.029818718595539823; valid loss: 0.020289123244583606\n",
      "epoch 110; train loss: 0.029267144115532145; valid loss: 0.020047189854085445\n",
      "epoch 120; train loss: 0.02943222049404593; valid loss: 0.01980901714414358\n",
      "epoch 130; train loss: 0.029384995208067054; valid loss: 0.019294626824557782\n",
      "epoch 140; train loss: 0.029113144668586114; valid loss: 0.02099906336516142\n",
      "epoch 150; train loss: 0.027863748262033743; valid loss: 0.020637392066419125\n",
      "epoch 160; train loss: 0.026149495450012824; valid loss: 0.01922861561179161\n",
      "epoch 170; train loss: 0.023229941068326727; valid loss: 0.01615767851471901\n",
      "epoch 180; train loss: 0.021302899126620853; valid loss: 0.01740249991416931\n",
      "epoch 190; train loss: 0.021549472585320473; valid loss: 0.0166892908513546\n",
      "epoch 200; train loss: 0.021479367990704143; valid loss: 0.01754394583404064\n"
     ]
    }
   ],
   "source": [
    "train_model(model=denoising_ae, model_name='denoising_autoencoder', nr_of_epochs=200)"
   ]
  },
  {
   "cell_type": "code",
   "execution_count": 28,
   "metadata": {},
   "outputs": [
    {
     "data": {
      "text/html": [
       "<div>\n",
       "<style scoped>\n",
       "    .dataframe tbody tr th:only-of-type {\n",
       "        vertical-align: middle;\n",
       "    }\n",
       "\n",
       "    .dataframe tbody tr th {\n",
       "        vertical-align: top;\n",
       "    }\n",
       "\n",
       "    .dataframe thead th {\n",
       "        text-align: right;\n",
       "    }\n",
       "</style>\n",
       "<table border=\"1\" class=\"dataframe\">\n",
       "  <thead>\n",
       "    <tr style=\"text-align: right;\">\n",
       "      <th></th>\n",
       "      <th>Reconstruction Error</th>\n",
       "      <th>class</th>\n",
       "    </tr>\n",
       "  </thead>\n",
       "  <tbody>\n",
       "    <tr>\n",
       "      <th>count</th>\n",
       "      <td>331.000000</td>\n",
       "      <td>331.0</td>\n",
       "    </tr>\n",
       "    <tr>\n",
       "      <th>mean</th>\n",
       "      <td>0.965081</td>\n",
       "      <td>0.0</td>\n",
       "    </tr>\n",
       "    <tr>\n",
       "      <th>std</th>\n",
       "      <td>10.012934</td>\n",
       "      <td>0.0</td>\n",
       "    </tr>\n",
       "    <tr>\n",
       "      <th>min</th>\n",
       "      <td>0.044527</td>\n",
       "      <td>0.0</td>\n",
       "    </tr>\n",
       "    <tr>\n",
       "      <th>25%</th>\n",
       "      <td>0.145322</td>\n",
       "      <td>0.0</td>\n",
       "    </tr>\n",
       "    <tr>\n",
       "      <th>50%</th>\n",
       "      <td>0.242782</td>\n",
       "      <td>0.0</td>\n",
       "    </tr>\n",
       "    <tr>\n",
       "      <th>75%</th>\n",
       "      <td>0.423975</td>\n",
       "      <td>0.0</td>\n",
       "    </tr>\n",
       "    <tr>\n",
       "      <th>max</th>\n",
       "      <td>182.243759</td>\n",
       "      <td>0.0</td>\n",
       "    </tr>\n",
       "  </tbody>\n",
       "</table>\n",
       "</div>"
      ],
      "text/plain": [
       "       Reconstruction Error  class\n",
       "count            331.000000  331.0\n",
       "mean               0.965081    0.0\n",
       "std               10.012934    0.0\n",
       "min                0.044527    0.0\n",
       "25%                0.145322    0.0\n",
       "50%                0.242782    0.0\n",
       "75%                0.423975    0.0\n",
       "max              182.243759    0.0"
      ]
     },
     "metadata": {},
     "output_type": "display_data"
    },
    {
     "data": {
      "text/html": [
       "<div>\n",
       "<style scoped>\n",
       "    .dataframe tbody tr th:only-of-type {\n",
       "        vertical-align: middle;\n",
       "    }\n",
       "\n",
       "    .dataframe tbody tr th {\n",
       "        vertical-align: top;\n",
       "    }\n",
       "\n",
       "    .dataframe thead th {\n",
       "        text-align: right;\n",
       "    }\n",
       "</style>\n",
       "<table border=\"1\" class=\"dataframe\">\n",
       "  <thead>\n",
       "    <tr style=\"text-align: right;\">\n",
       "      <th></th>\n",
       "      <th>Reconstruction Error</th>\n",
       "      <th>class</th>\n",
       "    </tr>\n",
       "  </thead>\n",
       "  <tbody>\n",
       "    <tr>\n",
       "      <th>count</th>\n",
       "      <td>176.000000</td>\n",
       "      <td>176.0</td>\n",
       "    </tr>\n",
       "    <tr>\n",
       "      <th>mean</th>\n",
       "      <td>13.739071</td>\n",
       "      <td>1.0</td>\n",
       "    </tr>\n",
       "    <tr>\n",
       "      <th>std</th>\n",
       "      <td>53.441933</td>\n",
       "      <td>0.0</td>\n",
       "    </tr>\n",
       "    <tr>\n",
       "      <th>min</th>\n",
       "      <td>0.092848</td>\n",
       "      <td>1.0</td>\n",
       "    </tr>\n",
       "    <tr>\n",
       "      <th>25%</th>\n",
       "      <td>1.126669</td>\n",
       "      <td>1.0</td>\n",
       "    </tr>\n",
       "    <tr>\n",
       "      <th>50%</th>\n",
       "      <td>1.748759</td>\n",
       "      <td>1.0</td>\n",
       "    </tr>\n",
       "    <tr>\n",
       "      <th>75%</th>\n",
       "      <td>4.193795</td>\n",
       "      <td>1.0</td>\n",
       "    </tr>\n",
       "    <tr>\n",
       "      <th>max</th>\n",
       "      <td>411.661224</td>\n",
       "      <td>1.0</td>\n",
       "    </tr>\n",
       "  </tbody>\n",
       "</table>\n",
       "</div>"
      ],
      "text/plain": [
       "       Reconstruction Error  class\n",
       "count            176.000000  176.0\n",
       "mean              13.739071    1.0\n",
       "std               53.441933    0.0\n",
       "min                0.092848    1.0\n",
       "25%                1.126669    1.0\n",
       "50%                1.748759    1.0\n",
       "75%                4.193795    1.0\n",
       "max              411.661224    1.0"
      ]
     },
     "metadata": {},
     "output_type": "display_data"
    }
   ],
   "source": [
    "test_df, test_MSEs = eval_on_testset(denoising_ae, X_test, y_test)"
   ]
  },
  {
   "cell_type": "code",
   "execution_count": 29,
   "metadata": {
    "scrolled": true
   },
   "outputs": [
    {
     "data": {
      "text/markdown": [
       "## Model: denoising_autoencoder"
      ],
      "text/plain": [
       "<IPython.core.display.Markdown object>"
      ]
     },
     "metadata": {},
     "output_type": "display_data"
    },
    {
     "data": {
      "text/markdown": [
       "### Threshold 0.1"
      ],
      "text/plain": [
       "<IPython.core.display.Markdown object>"
      ]
     },
     "metadata": {},
     "output_type": "display_data"
    },
    {
     "data": {
      "text/html": [
       "<style  type=\"text/css\" >\n",
       "</style><table id=\"T_914292d9_d4a6_11ec_9045_2016b948faac\" ><thead>    <tr>        <th class=\"col_heading level0 col0\" >Inliers Accuracy</th>        <th class=\"col_heading level0 col1\" >Outliers Accuracy</th>        <th class=\"col_heading level0 col2\" >Overall Accuracy</th>    </tr></thead><tbody>\n",
       "                <tr>\n",
       "                                <td id=\"T_914292d9_d4a6_11ec_9045_2016b948faacrow0_col0\" class=\"data row0 col0\" >0.111782</td>\n",
       "                        <td id=\"T_914292d9_d4a6_11ec_9045_2016b948faacrow0_col1\" class=\"data row0 col1\" >0.994318</td>\n",
       "                        <td id=\"T_914292d9_d4a6_11ec_9045_2016b948faacrow0_col2\" class=\"data row0 col2\" >0.418146</td>\n",
       "            </tr>\n",
       "    </tbody></table>"
      ],
      "text/plain": [
       "<pandas.io.formats.style.Styler at 0x23bf93b4b50>"
      ]
     },
     "metadata": {},
     "output_type": "display_data"
    },
    {
     "data": {
      "text/markdown": [
       "##### Classification Report"
      ],
      "text/plain": [
       "<IPython.core.display.Markdown object>"
      ]
     },
     "metadata": {},
     "output_type": "display_data"
    },
    {
     "name": "stdout",
     "output_type": "stream",
     "text": [
      "              precision    recall  f1-score   support\n",
      "\n",
      "           0       0.97      0.11      0.20       331\n",
      "           1       0.37      0.99      0.54       176\n",
      "\n",
      "    accuracy                           0.42       507\n",
      "   macro avg       0.67      0.55      0.37       507\n",
      "weighted avg       0.77      0.42      0.32       507\n",
      "\n"
     ]
    },
    {
     "data": {
      "text/markdown": [
       "---"
      ],
      "text/plain": [
       "<IPython.core.display.Markdown object>"
      ]
     },
     "metadata": {},
     "output_type": "display_data"
    },
    {
     "data": {
      "text/markdown": [
       "### Threshold 0.14871794871794872"
      ],
      "text/plain": [
       "<IPython.core.display.Markdown object>"
      ]
     },
     "metadata": {},
     "output_type": "display_data"
    },
    {
     "data": {
      "text/html": [
       "<style  type=\"text/css\" >\n",
       "</style><table id=\"T_9144f931_d4a6_11ec_9eae_2016b948faac\" ><thead>    <tr>        <th class=\"col_heading level0 col0\" >Inliers Accuracy</th>        <th class=\"col_heading level0 col1\" >Outliers Accuracy</th>        <th class=\"col_heading level0 col2\" >Overall Accuracy</th>    </tr></thead><tbody>\n",
       "                <tr>\n",
       "                                <td id=\"T_9144f931_d4a6_11ec_9eae_2016b948faacrow0_col0\" class=\"data row0 col0\" >0.259819</td>\n",
       "                        <td id=\"T_9144f931_d4a6_11ec_9eae_2016b948faacrow0_col1\" class=\"data row0 col1\" >0.982955</td>\n",
       "                        <td id=\"T_9144f931_d4a6_11ec_9eae_2016b948faacrow0_col2\" class=\"data row0 col2\" >0.510848</td>\n",
       "            </tr>\n",
       "    </tbody></table>"
      ],
      "text/plain": [
       "<pandas.io.formats.style.Styler at 0x23bc8074580>"
      ]
     },
     "metadata": {},
     "output_type": "display_data"
    },
    {
     "data": {
      "text/markdown": [
       "##### Classification Report"
      ],
      "text/plain": [
       "<IPython.core.display.Markdown object>"
      ]
     },
     "metadata": {},
     "output_type": "display_data"
    },
    {
     "name": "stdout",
     "output_type": "stream",
     "text": [
      "              precision    recall  f1-score   support\n",
      "\n",
      "           0       0.97      0.26      0.41       331\n",
      "           1       0.41      0.98      0.58       176\n",
      "\n",
      "    accuracy                           0.51       507\n",
      "   macro avg       0.69      0.62      0.50       507\n",
      "weighted avg       0.77      0.51      0.47       507\n",
      "\n"
     ]
    },
    {
     "data": {
      "text/markdown": [
       "---"
      ],
      "text/plain": [
       "<IPython.core.display.Markdown object>"
      ]
     },
     "metadata": {},
     "output_type": "display_data"
    },
    {
     "data": {
      "text/markdown": [
       "### Threshold 0.19743589743589746"
      ],
      "text/plain": [
       "<IPython.core.display.Markdown object>"
      ]
     },
     "metadata": {},
     "output_type": "display_data"
    },
    {
     "data": {
      "text/html": [
       "<style  type=\"text/css\" >\n",
       "</style><table id=\"T_9146f4e2_d4a6_11ec_bd59_2016b948faac\" ><thead>    <tr>        <th class=\"col_heading level0 col0\" >Inliers Accuracy</th>        <th class=\"col_heading level0 col1\" >Outliers Accuracy</th>        <th class=\"col_heading level0 col2\" >Overall Accuracy</th>    </tr></thead><tbody>\n",
       "                <tr>\n",
       "                                <td id=\"T_9146f4e2_d4a6_11ec_bd59_2016b948faacrow0_col0\" class=\"data row0 col0\" >0.383686</td>\n",
       "                        <td id=\"T_9146f4e2_d4a6_11ec_bd59_2016b948faacrow0_col1\" class=\"data row0 col1\" >0.971591</td>\n",
       "                        <td id=\"T_9146f4e2_d4a6_11ec_bd59_2016b948faacrow0_col2\" class=\"data row0 col2\" >0.587771</td>\n",
       "            </tr>\n",
       "    </tbody></table>"
      ],
      "text/plain": [
       "<pandas.io.formats.style.Styler at 0x23bc80747c0>"
      ]
     },
     "metadata": {},
     "output_type": "display_data"
    },
    {
     "data": {
      "text/markdown": [
       "##### Classification Report"
      ],
      "text/plain": [
       "<IPython.core.display.Markdown object>"
      ]
     },
     "metadata": {},
     "output_type": "display_data"
    },
    {
     "name": "stdout",
     "output_type": "stream",
     "text": [
      "              precision    recall  f1-score   support\n",
      "\n",
      "           0       0.96      0.38      0.55       331\n",
      "           1       0.46      0.97      0.62       176\n",
      "\n",
      "    accuracy                           0.59       507\n",
      "   macro avg       0.71      0.68      0.58       507\n",
      "weighted avg       0.79      0.59      0.57       507\n",
      "\n"
     ]
    },
    {
     "data": {
      "text/markdown": [
       "---"
      ],
      "text/plain": [
       "<IPython.core.display.Markdown object>"
      ]
     },
     "metadata": {},
     "output_type": "display_data"
    },
    {
     "data": {
      "text/markdown": [
       "### Threshold 0.24615384615384617"
      ],
      "text/plain": [
       "<IPython.core.display.Markdown object>"
      ]
     },
     "metadata": {},
     "output_type": "display_data"
    },
    {
     "data": {
      "text/html": [
       "<style  type=\"text/css\" >\n",
       "</style><table id=\"T_914918b8_d4a6_11ec_97a3_2016b948faac\" ><thead>    <tr>        <th class=\"col_heading level0 col0\" >Inliers Accuracy</th>        <th class=\"col_heading level0 col1\" >Outliers Accuracy</th>        <th class=\"col_heading level0 col2\" >Overall Accuracy</th>    </tr></thead><tbody>\n",
       "                <tr>\n",
       "                                <td id=\"T_914918b8_d4a6_11ec_97a3_2016b948faacrow0_col0\" class=\"data row0 col0\" >0.513595</td>\n",
       "                        <td id=\"T_914918b8_d4a6_11ec_97a3_2016b948faacrow0_col1\" class=\"data row0 col1\" >0.954545</td>\n",
       "                        <td id=\"T_914918b8_d4a6_11ec_97a3_2016b948faacrow0_col2\" class=\"data row0 col2\" >0.666667</td>\n",
       "            </tr>\n",
       "    </tbody></table>"
      ],
      "text/plain": [
       "<pandas.io.formats.style.Styler at 0x23bfb439a90>"
      ]
     },
     "metadata": {},
     "output_type": "display_data"
    },
    {
     "data": {
      "text/markdown": [
       "##### Classification Report"
      ],
      "text/plain": [
       "<IPython.core.display.Markdown object>"
      ]
     },
     "metadata": {},
     "output_type": "display_data"
    },
    {
     "name": "stdout",
     "output_type": "stream",
     "text": [
      "              precision    recall  f1-score   support\n",
      "\n",
      "           0       0.96      0.51      0.67       331\n",
      "           1       0.51      0.95      0.67       176\n",
      "\n",
      "    accuracy                           0.67       507\n",
      "   macro avg       0.73      0.73      0.67       507\n",
      "weighted avg       0.80      0.67      0.67       507\n",
      "\n"
     ]
    },
    {
     "data": {
      "text/markdown": [
       "---"
      ],
      "text/plain": [
       "<IPython.core.display.Markdown object>"
      ]
     },
     "metadata": {},
     "output_type": "display_data"
    },
    {
     "data": {
      "text/markdown": [
       "### Threshold 0.2948717948717949"
      ],
      "text/plain": [
       "<IPython.core.display.Markdown object>"
      ]
     },
     "metadata": {},
     "output_type": "display_data"
    },
    {
     "data": {
      "text/html": [
       "<style  type=\"text/css\" >\n",
       "</style><table id=\"T_914b1428_d4a6_11ec_bc63_2016b948faac\" ><thead>    <tr>        <th class=\"col_heading level0 col0\" >Inliers Accuracy</th>        <th class=\"col_heading level0 col1\" >Outliers Accuracy</th>        <th class=\"col_heading level0 col2\" >Overall Accuracy</th>    </tr></thead><tbody>\n",
       "                <tr>\n",
       "                                <td id=\"T_914b1428_d4a6_11ec_bc63_2016b948faacrow0_col0\" class=\"data row0 col0\" >0.631420</td>\n",
       "                        <td id=\"T_914b1428_d4a6_11ec_bc63_2016b948faacrow0_col1\" class=\"data row0 col1\" >0.948864</td>\n",
       "                        <td id=\"T_914b1428_d4a6_11ec_bc63_2016b948faacrow0_col2\" class=\"data row0 col2\" >0.741617</td>\n",
       "            </tr>\n",
       "    </tbody></table>"
      ],
      "text/plain": [
       "<pandas.io.formats.style.Styler at 0x23bfb453bb0>"
      ]
     },
     "metadata": {},
     "output_type": "display_data"
    },
    {
     "data": {
      "text/markdown": [
       "##### Classification Report"
      ],
      "text/plain": [
       "<IPython.core.display.Markdown object>"
      ]
     },
     "metadata": {},
     "output_type": "display_data"
    },
    {
     "name": "stdout",
     "output_type": "stream",
     "text": [
      "              precision    recall  f1-score   support\n",
      "\n",
      "           0       0.96      0.63      0.76       331\n",
      "           1       0.58      0.95      0.72       176\n",
      "\n",
      "    accuracy                           0.74       507\n",
      "   macro avg       0.77      0.79      0.74       507\n",
      "weighted avg       0.83      0.74      0.75       507\n",
      "\n"
     ]
    },
    {
     "data": {
      "text/markdown": [
       "---"
      ],
      "text/plain": [
       "<IPython.core.display.Markdown object>"
      ]
     },
     "metadata": {},
     "output_type": "display_data"
    },
    {
     "data": {
      "text/markdown": [
       "### Threshold 0.3435897435897436"
      ],
      "text/plain": [
       "<IPython.core.display.Markdown object>"
      ]
     },
     "metadata": {},
     "output_type": "display_data"
    },
    {
     "data": {
      "text/html": [
       "<style  type=\"text/css\" >\n",
       "</style><table id=\"T_914d3719_d4a6_11ec_8854_2016b948faac\" ><thead>    <tr>        <th class=\"col_heading level0 col0\" >Inliers Accuracy</th>        <th class=\"col_heading level0 col1\" >Outliers Accuracy</th>        <th class=\"col_heading level0 col2\" >Overall Accuracy</th>    </tr></thead><tbody>\n",
       "                <tr>\n",
       "                                <td id=\"T_914d3719_d4a6_11ec_8854_2016b948faacrow0_col0\" class=\"data row0 col0\" >0.676737</td>\n",
       "                        <td id=\"T_914d3719_d4a6_11ec_8854_2016b948faacrow0_col1\" class=\"data row0 col1\" >0.931818</td>\n",
       "                        <td id=\"T_914d3719_d4a6_11ec_8854_2016b948faacrow0_col2\" class=\"data row0 col2\" >0.765286</td>\n",
       "            </tr>\n",
       "    </tbody></table>"
      ],
      "text/plain": [
       "<pandas.io.formats.style.Styler at 0x23bfb495ee0>"
      ]
     },
     "metadata": {},
     "output_type": "display_data"
    },
    {
     "data": {
      "text/markdown": [
       "##### Classification Report"
      ],
      "text/plain": [
       "<IPython.core.display.Markdown object>"
      ]
     },
     "metadata": {},
     "output_type": "display_data"
    },
    {
     "name": "stdout",
     "output_type": "stream",
     "text": [
      "              precision    recall  f1-score   support\n",
      "\n",
      "           0       0.95      0.68      0.79       331\n",
      "           1       0.61      0.93      0.73       176\n",
      "\n",
      "    accuracy                           0.77       507\n",
      "   macro avg       0.78      0.80      0.76       507\n",
      "weighted avg       0.83      0.77      0.77       507\n",
      "\n"
     ]
    },
    {
     "data": {
      "text/markdown": [
       "---"
      ],
      "text/plain": [
       "<IPython.core.display.Markdown object>"
      ]
     },
     "metadata": {},
     "output_type": "display_data"
    },
    {
     "data": {
      "text/markdown": [
       "### Threshold 0.39230769230769236"
      ],
      "text/plain": [
       "<IPython.core.display.Markdown object>"
      ]
     },
     "metadata": {},
     "output_type": "display_data"
    },
    {
     "data": {
      "text/html": [
       "<style  type=\"text/css\" >\n",
       "</style><table id=\"T_914f59e0_d4a6_11ec_978f_2016b948faac\" ><thead>    <tr>        <th class=\"col_heading level0 col0\" >Inliers Accuracy</th>        <th class=\"col_heading level0 col1\" >Outliers Accuracy</th>        <th class=\"col_heading level0 col2\" >Overall Accuracy</th>    </tr></thead><tbody>\n",
       "                <tr>\n",
       "                                <td id=\"T_914f59e0_d4a6_11ec_978f_2016b948faacrow0_col0\" class=\"data row0 col0\" >0.722054</td>\n",
       "                        <td id=\"T_914f59e0_d4a6_11ec_978f_2016b948faacrow0_col1\" class=\"data row0 col1\" >0.931818</td>\n",
       "                        <td id=\"T_914f59e0_d4a6_11ec_978f_2016b948faacrow0_col2\" class=\"data row0 col2\" >0.794872</td>\n",
       "            </tr>\n",
       "    </tbody></table>"
      ],
      "text/plain": [
       "<pandas.io.formats.style.Styler at 0x23bf932c850>"
      ]
     },
     "metadata": {},
     "output_type": "display_data"
    },
    {
     "data": {
      "text/markdown": [
       "##### Classification Report"
      ],
      "text/plain": [
       "<IPython.core.display.Markdown object>"
      ]
     },
     "metadata": {},
     "output_type": "display_data"
    },
    {
     "name": "stdout",
     "output_type": "stream",
     "text": [
      "              precision    recall  f1-score   support\n",
      "\n",
      "           0       0.95      0.72      0.82       331\n",
      "           1       0.64      0.93      0.76       176\n",
      "\n",
      "    accuracy                           0.79       507\n",
      "   macro avg       0.80      0.83      0.79       507\n",
      "weighted avg       0.84      0.79      0.80       507\n",
      "\n"
     ]
    },
    {
     "data": {
      "text/markdown": [
       "---"
      ],
      "text/plain": [
       "<IPython.core.display.Markdown object>"
      ]
     },
     "metadata": {},
     "output_type": "display_data"
    },
    {
     "data": {
      "text/markdown": [
       "### Threshold 0.441025641025641"
      ],
      "text/plain": [
       "<IPython.core.display.Markdown object>"
      ]
     },
     "metadata": {},
     "output_type": "display_data"
    },
    {
     "data": {
      "text/html": [
       "<style  type=\"text/css\" >\n",
       "</style><table id=\"T_9151a3d2_d4a6_11ec_8223_2016b948faac\" ><thead>    <tr>        <th class=\"col_heading level0 col0\" >Inliers Accuracy</th>        <th class=\"col_heading level0 col1\" >Outliers Accuracy</th>        <th class=\"col_heading level0 col2\" >Overall Accuracy</th>    </tr></thead><tbody>\n",
       "                <tr>\n",
       "                                <td id=\"T_9151a3d2_d4a6_11ec_8223_2016b948faacrow0_col0\" class=\"data row0 col0\" >0.761329</td>\n",
       "                        <td id=\"T_9151a3d2_d4a6_11ec_8223_2016b948faacrow0_col1\" class=\"data row0 col1\" >0.926136</td>\n",
       "                        <td id=\"T_9151a3d2_d4a6_11ec_8223_2016b948faacrow0_col2\" class=\"data row0 col2\" >0.818540</td>\n",
       "            </tr>\n",
       "    </tbody></table>"
      ],
      "text/plain": [
       "<pandas.io.formats.style.Styler at 0x23bf932caf0>"
      ]
     },
     "metadata": {},
     "output_type": "display_data"
    },
    {
     "data": {
      "text/markdown": [
       "##### Classification Report"
      ],
      "text/plain": [
       "<IPython.core.display.Markdown object>"
      ]
     },
     "metadata": {},
     "output_type": "display_data"
    },
    {
     "name": "stdout",
     "output_type": "stream",
     "text": [
      "              precision    recall  f1-score   support\n",
      "\n",
      "           0       0.95      0.76      0.85       331\n",
      "           1       0.67      0.93      0.78       176\n",
      "\n",
      "    accuracy                           0.82       507\n",
      "   macro avg       0.81      0.84      0.81       507\n",
      "weighted avg       0.85      0.82      0.82       507\n",
      "\n"
     ]
    },
    {
     "data": {
      "text/markdown": [
       "---"
      ],
      "text/plain": [
       "<IPython.core.display.Markdown object>"
      ]
     },
     "metadata": {},
     "output_type": "display_data"
    },
    {
     "data": {
      "text/markdown": [
       "### Threshold 0.4897435897435898"
      ],
      "text/plain": [
       "<IPython.core.display.Markdown object>"
      ]
     },
     "metadata": {},
     "output_type": "display_data"
    },
    {
     "data": {
      "text/html": [
       "<style  type=\"text/css\" >\n",
       "</style><table id=\"T_9154630e_d4a6_11ec_913e_2016b948faac\" ><thead>    <tr>        <th class=\"col_heading level0 col0\" >Inliers Accuracy</th>        <th class=\"col_heading level0 col1\" >Outliers Accuracy</th>        <th class=\"col_heading level0 col2\" >Overall Accuracy</th>    </tr></thead><tbody>\n",
       "                <tr>\n",
       "                                <td id=\"T_9154630e_d4a6_11ec_913e_2016b948faacrow0_col0\" class=\"data row0 col0\" >0.791541</td>\n",
       "                        <td id=\"T_9154630e_d4a6_11ec_913e_2016b948faacrow0_col1\" class=\"data row0 col1\" >0.920455</td>\n",
       "                        <td id=\"T_9154630e_d4a6_11ec_913e_2016b948faacrow0_col2\" class=\"data row0 col2\" >0.836292</td>\n",
       "            </tr>\n",
       "    </tbody></table>"
      ],
      "text/plain": [
       "<pandas.io.formats.style.Styler at 0x23bf932cdc0>"
      ]
     },
     "metadata": {},
     "output_type": "display_data"
    },
    {
     "data": {
      "text/markdown": [
       "##### Classification Report"
      ],
      "text/plain": [
       "<IPython.core.display.Markdown object>"
      ]
     },
     "metadata": {},
     "output_type": "display_data"
    },
    {
     "name": "stdout",
     "output_type": "stream",
     "text": [
      "              precision    recall  f1-score   support\n",
      "\n",
      "           0       0.95      0.79      0.86       331\n",
      "           1       0.70      0.92      0.80       176\n",
      "\n",
      "    accuracy                           0.84       507\n",
      "   macro avg       0.83      0.86      0.83       507\n",
      "weighted avg       0.86      0.84      0.84       507\n",
      "\n"
     ]
    },
    {
     "data": {
      "text/markdown": [
       "---"
      ],
      "text/plain": [
       "<IPython.core.display.Markdown object>"
      ]
     },
     "metadata": {},
     "output_type": "display_data"
    },
    {
     "data": {
      "text/markdown": [
       "### Threshold 0.5384615384615384"
      ],
      "text/plain": [
       "<IPython.core.display.Markdown object>"
      ]
     },
     "metadata": {},
     "output_type": "display_data"
    },
    {
     "data": {
      "text/html": [
       "<style  type=\"text/css\" >\n",
       "</style><table id=\"T_9156d3f6_d4a6_11ec_8e79_2016b948faac\" ><thead>    <tr>        <th class=\"col_heading level0 col0\" >Inliers Accuracy</th>        <th class=\"col_heading level0 col1\" >Outliers Accuracy</th>        <th class=\"col_heading level0 col2\" >Overall Accuracy</th>    </tr></thead><tbody>\n",
       "                <tr>\n",
       "                                <td id=\"T_9156d3f6_d4a6_11ec_8e79_2016b948faacrow0_col0\" class=\"data row0 col0\" >0.830816</td>\n",
       "                        <td id=\"T_9156d3f6_d4a6_11ec_8e79_2016b948faacrow0_col1\" class=\"data row0 col1\" >0.909091</td>\n",
       "                        <td id=\"T_9156d3f6_d4a6_11ec_8e79_2016b948faacrow0_col2\" class=\"data row0 col2\" >0.857988</td>\n",
       "            </tr>\n",
       "    </tbody></table>"
      ],
      "text/plain": [
       "<pandas.io.formats.style.Styler at 0x23bf6426610>"
      ]
     },
     "metadata": {},
     "output_type": "display_data"
    },
    {
     "data": {
      "text/markdown": [
       "##### Classification Report"
      ],
      "text/plain": [
       "<IPython.core.display.Markdown object>"
      ]
     },
     "metadata": {},
     "output_type": "display_data"
    },
    {
     "name": "stdout",
     "output_type": "stream",
     "text": [
      "              precision    recall  f1-score   support\n",
      "\n",
      "           0       0.95      0.83      0.88       331\n",
      "           1       0.74      0.91      0.82       176\n",
      "\n",
      "    accuracy                           0.86       507\n",
      "   macro avg       0.84      0.87      0.85       507\n",
      "weighted avg       0.87      0.86      0.86       507\n",
      "\n"
     ]
    },
    {
     "data": {
      "text/markdown": [
       "---"
      ],
      "text/plain": [
       "<IPython.core.display.Markdown object>"
      ]
     },
     "metadata": {},
     "output_type": "display_data"
    },
    {
     "data": {
      "text/markdown": [
       "### Threshold 0.5871794871794872"
      ],
      "text/plain": [
       "<IPython.core.display.Markdown object>"
      ]
     },
     "metadata": {},
     "output_type": "display_data"
    },
    {
     "data": {
      "text/html": [
       "<style  type=\"text/css\" >\n",
       "</style><table id=\"T_9158f6f1_d4a6_11ec_9e34_2016b948faac\" ><thead>    <tr>        <th class=\"col_heading level0 col0\" >Inliers Accuracy</th>        <th class=\"col_heading level0 col1\" >Outliers Accuracy</th>        <th class=\"col_heading level0 col2\" >Overall Accuracy</th>    </tr></thead><tbody>\n",
       "                <tr>\n",
       "                                <td id=\"T_9158f6f1_d4a6_11ec_9e34_2016b948faacrow0_col0\" class=\"data row0 col0\" >0.851964</td>\n",
       "                        <td id=\"T_9158f6f1_d4a6_11ec_9e34_2016b948faacrow0_col1\" class=\"data row0 col1\" >0.909091</td>\n",
       "                        <td id=\"T_9158f6f1_d4a6_11ec_9e34_2016b948faacrow0_col2\" class=\"data row0 col2\" >0.871795</td>\n",
       "            </tr>\n",
       "    </tbody></table>"
      ],
      "text/plain": [
       "<pandas.io.formats.style.Styler at 0x23bf932cbe0>"
      ]
     },
     "metadata": {},
     "output_type": "display_data"
    },
    {
     "data": {
      "text/markdown": [
       "##### Classification Report"
      ],
      "text/plain": [
       "<IPython.core.display.Markdown object>"
      ]
     },
     "metadata": {},
     "output_type": "display_data"
    },
    {
     "name": "stdout",
     "output_type": "stream",
     "text": [
      "              precision    recall  f1-score   support\n",
      "\n",
      "           0       0.95      0.85      0.90       331\n",
      "           1       0.77      0.91      0.83       176\n",
      "\n",
      "    accuracy                           0.87       507\n",
      "   macro avg       0.86      0.88      0.86       507\n",
      "weighted avg       0.88      0.87      0.87       507\n",
      "\n"
     ]
    },
    {
     "data": {
      "text/markdown": [
       "---"
      ],
      "text/plain": [
       "<IPython.core.display.Markdown object>"
      ]
     },
     "metadata": {},
     "output_type": "display_data"
    },
    {
     "data": {
      "text/markdown": [
       "### Threshold 0.6358974358974359"
      ],
      "text/plain": [
       "<IPython.core.display.Markdown object>"
      ]
     },
     "metadata": {},
     "output_type": "display_data"
    },
    {
     "data": {
      "text/html": [
       "<style  type=\"text/css\" >\n",
       "</style><table id=\"T_915b40c3_d4a6_11ec_bc81_2016b948faac\" ><thead>    <tr>        <th class=\"col_heading level0 col0\" >Inliers Accuracy</th>        <th class=\"col_heading level0 col1\" >Outliers Accuracy</th>        <th class=\"col_heading level0 col2\" >Overall Accuracy</th>    </tr></thead><tbody>\n",
       "                <tr>\n",
       "                                <td id=\"T_915b40c3_d4a6_11ec_bc81_2016b948faacrow0_col0\" class=\"data row0 col0\" >0.867069</td>\n",
       "                        <td id=\"T_915b40c3_d4a6_11ec_bc81_2016b948faacrow0_col1\" class=\"data row0 col1\" >0.892045</td>\n",
       "                        <td id=\"T_915b40c3_d4a6_11ec_bc81_2016b948faacrow0_col2\" class=\"data row0 col2\" >0.875740</td>\n",
       "            </tr>\n",
       "    </tbody></table>"
      ],
      "text/plain": [
       "<pandas.io.formats.style.Styler at 0x23bf9162eb0>"
      ]
     },
     "metadata": {},
     "output_type": "display_data"
    },
    {
     "data": {
      "text/markdown": [
       "##### Classification Report"
      ],
      "text/plain": [
       "<IPython.core.display.Markdown object>"
      ]
     },
     "metadata": {},
     "output_type": "display_data"
    },
    {
     "name": "stdout",
     "output_type": "stream",
     "text": [
      "              precision    recall  f1-score   support\n",
      "\n",
      "           0       0.94      0.87      0.90       331\n",
      "           1       0.78      0.89      0.83       176\n",
      "\n",
      "    accuracy                           0.88       507\n",
      "   macro avg       0.86      0.88      0.87       507\n",
      "weighted avg       0.88      0.88      0.88       507\n",
      "\n"
     ]
    },
    {
     "data": {
      "text/markdown": [
       "---"
      ],
      "text/plain": [
       "<IPython.core.display.Markdown object>"
      ]
     },
     "metadata": {},
     "output_type": "display_data"
    },
    {
     "data": {
      "text/markdown": [
       "### Threshold 0.6846153846153846"
      ],
      "text/plain": [
       "<IPython.core.display.Markdown object>"
      ]
     },
     "metadata": {},
     "output_type": "display_data"
    },
    {
     "data": {
      "text/html": [
       "<style  type=\"text/css\" >\n",
       "</style><table id=\"T_915d63b6_d4a6_11ec_8f9d_2016b948faac\" ><thead>    <tr>        <th class=\"col_heading level0 col0\" >Inliers Accuracy</th>        <th class=\"col_heading level0 col1\" >Outliers Accuracy</th>        <th class=\"col_heading level0 col2\" >Overall Accuracy</th>    </tr></thead><tbody>\n",
       "                <tr>\n",
       "                                <td id=\"T_915d63b6_d4a6_11ec_8f9d_2016b948faacrow0_col0\" class=\"data row0 col0\" >0.879154</td>\n",
       "                        <td id=\"T_915d63b6_d4a6_11ec_8f9d_2016b948faacrow0_col1\" class=\"data row0 col1\" >0.863636</td>\n",
       "                        <td id=\"T_915d63b6_d4a6_11ec_8f9d_2016b948faacrow0_col2\" class=\"data row0 col2\" >0.873767</td>\n",
       "            </tr>\n",
       "    </tbody></table>"
      ],
      "text/plain": [
       "<pandas.io.formats.style.Styler at 0x23bfc4a6070>"
      ]
     },
     "metadata": {},
     "output_type": "display_data"
    },
    {
     "data": {
      "text/markdown": [
       "##### Classification Report"
      ],
      "text/plain": [
       "<IPython.core.display.Markdown object>"
      ]
     },
     "metadata": {},
     "output_type": "display_data"
    },
    {
     "name": "stdout",
     "output_type": "stream",
     "text": [
      "              precision    recall  f1-score   support\n",
      "\n",
      "           0       0.92      0.88      0.90       331\n",
      "           1       0.79      0.86      0.83       176\n",
      "\n",
      "    accuracy                           0.87       507\n",
      "   macro avg       0.86      0.87      0.86       507\n",
      "weighted avg       0.88      0.87      0.87       507\n",
      "\n"
     ]
    },
    {
     "data": {
      "text/markdown": [
       "---"
      ],
      "text/plain": [
       "<IPython.core.display.Markdown object>"
      ]
     },
     "metadata": {},
     "output_type": "display_data"
    },
    {
     "data": {
      "text/markdown": [
       "### Threshold 0.7333333333333333"
      ],
      "text/plain": [
       "<IPython.core.display.Markdown object>"
      ]
     },
     "metadata": {},
     "output_type": "display_data"
    },
    {
     "data": {
      "text/html": [
       "<style  type=\"text/css\" >\n",
       "</style><table id=\"T_915f5f96_d4a6_11ec_99d2_2016b948faac\" ><thead>    <tr>        <th class=\"col_heading level0 col0\" >Inliers Accuracy</th>        <th class=\"col_heading level0 col1\" >Outliers Accuracy</th>        <th class=\"col_heading level0 col2\" >Overall Accuracy</th>    </tr></thead><tbody>\n",
       "                <tr>\n",
       "                                <td id=\"T_915f5f96_d4a6_11ec_99d2_2016b948faacrow0_col0\" class=\"data row0 col0\" >0.891239</td>\n",
       "                        <td id=\"T_915f5f96_d4a6_11ec_99d2_2016b948faacrow0_col1\" class=\"data row0 col1\" >0.846591</td>\n",
       "                        <td id=\"T_915f5f96_d4a6_11ec_99d2_2016b948faacrow0_col2\" class=\"data row0 col2\" >0.875740</td>\n",
       "            </tr>\n",
       "    </tbody></table>"
      ],
      "text/plain": [
       "<pandas.io.formats.style.Styler at 0x23bfc4a6490>"
      ]
     },
     "metadata": {},
     "output_type": "display_data"
    },
    {
     "data": {
      "text/markdown": [
       "##### Classification Report"
      ],
      "text/plain": [
       "<IPython.core.display.Markdown object>"
      ]
     },
     "metadata": {},
     "output_type": "display_data"
    },
    {
     "name": "stdout",
     "output_type": "stream",
     "text": [
      "              precision    recall  f1-score   support\n",
      "\n",
      "           0       0.92      0.89      0.90       331\n",
      "           1       0.81      0.85      0.83       176\n",
      "\n",
      "    accuracy                           0.88       507\n",
      "   macro avg       0.86      0.87      0.86       507\n",
      "weighted avg       0.88      0.88      0.88       507\n",
      "\n"
     ]
    },
    {
     "data": {
      "text/markdown": [
       "---"
      ],
      "text/plain": [
       "<IPython.core.display.Markdown object>"
      ]
     },
     "metadata": {},
     "output_type": "display_data"
    },
    {
     "data": {
      "text/markdown": [
       "### Threshold 0.782051282051282"
      ],
      "text/plain": [
       "<IPython.core.display.Markdown object>"
      ]
     },
     "metadata": {},
     "output_type": "display_data"
    },
    {
     "data": {
      "text/html": [
       "<style  type=\"text/css\" >\n",
       "</style><table id=\"T_9161824d_d4a6_11ec_834d_2016b948faac\" ><thead>    <tr>        <th class=\"col_heading level0 col0\" >Inliers Accuracy</th>        <th class=\"col_heading level0 col1\" >Outliers Accuracy</th>        <th class=\"col_heading level0 col2\" >Overall Accuracy</th>    </tr></thead><tbody>\n",
       "                <tr>\n",
       "                                <td id=\"T_9161824d_d4a6_11ec_834d_2016b948faacrow0_col0\" class=\"data row0 col0\" >0.906344</td>\n",
       "                        <td id=\"T_9161824d_d4a6_11ec_834d_2016b948faacrow0_col1\" class=\"data row0 col1\" >0.829545</td>\n",
       "                        <td id=\"T_9161824d_d4a6_11ec_834d_2016b948faacrow0_col2\" class=\"data row0 col2\" >0.879684</td>\n",
       "            </tr>\n",
       "    </tbody></table>"
      ],
      "text/plain": [
       "<pandas.io.formats.style.Styler at 0x23bfb4045b0>"
      ]
     },
     "metadata": {},
     "output_type": "display_data"
    },
    {
     "data": {
      "text/markdown": [
       "##### Classification Report"
      ],
      "text/plain": [
       "<IPython.core.display.Markdown object>"
      ]
     },
     "metadata": {},
     "output_type": "display_data"
    },
    {
     "name": "stdout",
     "output_type": "stream",
     "text": [
      "              precision    recall  f1-score   support\n",
      "\n",
      "           0       0.91      0.91      0.91       331\n",
      "           1       0.82      0.83      0.83       176\n",
      "\n",
      "    accuracy                           0.88       507\n",
      "   macro avg       0.87      0.87      0.87       507\n",
      "weighted avg       0.88      0.88      0.88       507\n",
      "\n"
     ]
    },
    {
     "data": {
      "text/markdown": [
       "---"
      ],
      "text/plain": [
       "<IPython.core.display.Markdown object>"
      ]
     },
     "metadata": {},
     "output_type": "display_data"
    },
    {
     "data": {
      "text/markdown": [
       "### Threshold 0.8307692307692307"
      ],
      "text/plain": [
       "<IPython.core.display.Markdown object>"
      ]
     },
     "metadata": {},
     "output_type": "display_data"
    },
    {
     "data": {
      "text/html": [
       "<style  type=\"text/css\" >\n",
       "</style><table id=\"T_9163a398_d4a6_11ec_8f97_2016b948faac\" ><thead>    <tr>        <th class=\"col_heading level0 col0\" >Inliers Accuracy</th>        <th class=\"col_heading level0 col1\" >Outliers Accuracy</th>        <th class=\"col_heading level0 col2\" >Overall Accuracy</th>    </tr></thead><tbody>\n",
       "                <tr>\n",
       "                                <td id=\"T_9163a398_d4a6_11ec_8f97_2016b948faacrow0_col0\" class=\"data row0 col0\" >0.912387</td>\n",
       "                        <td id=\"T_9163a398_d4a6_11ec_8f97_2016b948faacrow0_col1\" class=\"data row0 col1\" >0.812500</td>\n",
       "                        <td id=\"T_9163a398_d4a6_11ec_8f97_2016b948faacrow0_col2\" class=\"data row0 col2\" >0.877712</td>\n",
       "            </tr>\n",
       "    </tbody></table>"
      ],
      "text/plain": [
       "<pandas.io.formats.style.Styler at 0x23bf9162ca0>"
      ]
     },
     "metadata": {},
     "output_type": "display_data"
    },
    {
     "data": {
      "text/markdown": [
       "##### Classification Report"
      ],
      "text/plain": [
       "<IPython.core.display.Markdown object>"
      ]
     },
     "metadata": {},
     "output_type": "display_data"
    },
    {
     "name": "stdout",
     "output_type": "stream",
     "text": [
      "              precision    recall  f1-score   support\n",
      "\n",
      "           0       0.90      0.91      0.91       331\n",
      "           1       0.83      0.81      0.82       176\n",
      "\n",
      "    accuracy                           0.88       507\n",
      "   macro avg       0.87      0.86      0.86       507\n",
      "weighted avg       0.88      0.88      0.88       507\n",
      "\n"
     ]
    },
    {
     "data": {
      "text/markdown": [
       "---"
      ],
      "text/plain": [
       "<IPython.core.display.Markdown object>"
      ]
     },
     "metadata": {},
     "output_type": "display_data"
    },
    {
     "data": {
      "text/markdown": [
       "### Threshold 0.8794871794871795"
      ],
      "text/plain": [
       "<IPython.core.display.Markdown object>"
      ]
     },
     "metadata": {},
     "output_type": "display_data"
    },
    {
     "data": {
      "text/html": [
       "<style  type=\"text/css\" >\n",
       "</style><table id=\"T_9165c69b_d4a6_11ec_b726_2016b948faac\" ><thead>    <tr>        <th class=\"col_heading level0 col0\" >Inliers Accuracy</th>        <th class=\"col_heading level0 col1\" >Outliers Accuracy</th>        <th class=\"col_heading level0 col2\" >Overall Accuracy</th>    </tr></thead><tbody>\n",
       "                <tr>\n",
       "                                <td id=\"T_9165c69b_d4a6_11ec_b726_2016b948faacrow0_col0\" class=\"data row0 col0\" >0.918429</td>\n",
       "                        <td id=\"T_9165c69b_d4a6_11ec_b726_2016b948faacrow0_col1\" class=\"data row0 col1\" >0.812500</td>\n",
       "                        <td id=\"T_9165c69b_d4a6_11ec_b726_2016b948faacrow0_col2\" class=\"data row0 col2\" >0.881657</td>\n",
       "            </tr>\n",
       "    </tbody></table>"
      ],
      "text/plain": [
       "<pandas.io.formats.style.Styler at 0x23bf932c790>"
      ]
     },
     "metadata": {},
     "output_type": "display_data"
    },
    {
     "data": {
      "text/markdown": [
       "##### Classification Report"
      ],
      "text/plain": [
       "<IPython.core.display.Markdown object>"
      ]
     },
     "metadata": {},
     "output_type": "display_data"
    },
    {
     "name": "stdout",
     "output_type": "stream",
     "text": [
      "              precision    recall  f1-score   support\n",
      "\n",
      "           0       0.90      0.92      0.91       331\n",
      "           1       0.84      0.81      0.83       176\n",
      "\n",
      "    accuracy                           0.88       507\n",
      "   macro avg       0.87      0.87      0.87       507\n",
      "weighted avg       0.88      0.88      0.88       507\n",
      "\n"
     ]
    },
    {
     "data": {
      "text/markdown": [
       "---"
      ],
      "text/plain": [
       "<IPython.core.display.Markdown object>"
      ]
     },
     "metadata": {},
     "output_type": "display_data"
    },
    {
     "data": {
      "text/markdown": [
       "### Threshold 0.9282051282051282"
      ],
      "text/plain": [
       "<IPython.core.display.Markdown object>"
      ]
     },
     "metadata": {},
     "output_type": "display_data"
    },
    {
     "data": {
      "text/html": [
       "<style  type=\"text/css\" >\n",
       "</style><table id=\"T_91680f99_d4a6_11ec_9e3c_2016b948faac\" ><thead>    <tr>        <th class=\"col_heading level0 col0\" >Inliers Accuracy</th>        <th class=\"col_heading level0 col1\" >Outliers Accuracy</th>        <th class=\"col_heading level0 col2\" >Overall Accuracy</th>    </tr></thead><tbody>\n",
       "                <tr>\n",
       "                                <td id=\"T_91680f99_d4a6_11ec_9e3c_2016b948faacrow0_col0\" class=\"data row0 col0\" >0.918429</td>\n",
       "                        <td id=\"T_91680f99_d4a6_11ec_9e3c_2016b948faacrow0_col1\" class=\"data row0 col1\" >0.812500</td>\n",
       "                        <td id=\"T_91680f99_d4a6_11ec_9e3c_2016b948faacrow0_col2\" class=\"data row0 col2\" >0.881657</td>\n",
       "            </tr>\n",
       "    </tbody></table>"
      ],
      "text/plain": [
       "<pandas.io.formats.style.Styler at 0x23bf932ca30>"
      ]
     },
     "metadata": {},
     "output_type": "display_data"
    },
    {
     "data": {
      "text/markdown": [
       "##### Classification Report"
      ],
      "text/plain": [
       "<IPython.core.display.Markdown object>"
      ]
     },
     "metadata": {},
     "output_type": "display_data"
    },
    {
     "name": "stdout",
     "output_type": "stream",
     "text": [
      "              precision    recall  f1-score   support\n",
      "\n",
      "           0       0.90      0.92      0.91       331\n",
      "           1       0.84      0.81      0.83       176\n",
      "\n",
      "    accuracy                           0.88       507\n",
      "   macro avg       0.87      0.87      0.87       507\n",
      "weighted avg       0.88      0.88      0.88       507\n",
      "\n"
     ]
    },
    {
     "data": {
      "text/markdown": [
       "---"
      ],
      "text/plain": [
       "<IPython.core.display.Markdown object>"
      ]
     },
     "metadata": {},
     "output_type": "display_data"
    },
    {
     "data": {
      "text/markdown": [
       "### Threshold 0.9769230769230769"
      ],
      "text/plain": [
       "<IPython.core.display.Markdown object>"
      ]
     },
     "metadata": {},
     "output_type": "display_data"
    },
    {
     "data": {
      "text/html": [
       "<style  type=\"text/css\" >\n",
       "</style><table id=\"T_916a3295_d4a6_11ec_b70f_2016b948faac\" ><thead>    <tr>        <th class=\"col_heading level0 col0\" >Inliers Accuracy</th>        <th class=\"col_heading level0 col1\" >Outliers Accuracy</th>        <th class=\"col_heading level0 col2\" >Overall Accuracy</th>    </tr></thead><tbody>\n",
       "                <tr>\n",
       "                                <td id=\"T_916a3295_d4a6_11ec_b70f_2016b948faacrow0_col0\" class=\"data row0 col0\" >0.921450</td>\n",
       "                        <td id=\"T_916a3295_d4a6_11ec_b70f_2016b948faacrow0_col1\" class=\"data row0 col1\" >0.795455</td>\n",
       "                        <td id=\"T_916a3295_d4a6_11ec_b70f_2016b948faacrow0_col2\" class=\"data row0 col2\" >0.877712</td>\n",
       "            </tr>\n",
       "    </tbody></table>"
      ],
      "text/plain": [
       "<pandas.io.formats.style.Styler at 0x23bf932c9a0>"
      ]
     },
     "metadata": {},
     "output_type": "display_data"
    },
    {
     "data": {
      "text/markdown": [
       "##### Classification Report"
      ],
      "text/plain": [
       "<IPython.core.display.Markdown object>"
      ]
     },
     "metadata": {},
     "output_type": "display_data"
    },
    {
     "name": "stdout",
     "output_type": "stream",
     "text": [
      "              precision    recall  f1-score   support\n",
      "\n",
      "           0       0.89      0.92      0.91       331\n",
      "           1       0.84      0.80      0.82       176\n",
      "\n",
      "    accuracy                           0.88       507\n",
      "   macro avg       0.87      0.86      0.86       507\n",
      "weighted avg       0.88      0.88      0.88       507\n",
      "\n"
     ]
    },
    {
     "data": {
      "text/markdown": [
       "---"
      ],
      "text/plain": [
       "<IPython.core.display.Markdown object>"
      ]
     },
     "metadata": {},
     "output_type": "display_data"
    },
    {
     "data": {
      "text/markdown": [
       "### Threshold 1.0256410256410258"
      ],
      "text/plain": [
       "<IPython.core.display.Markdown object>"
      ]
     },
     "metadata": {},
     "output_type": "display_data"
    },
    {
     "data": {
      "text/html": [
       "<style  type=\"text/css\" >\n",
       "</style><table id=\"T_916c073e_d4a6_11ec_9bb7_2016b948faac\" ><thead>    <tr>        <th class=\"col_heading level0 col0\" >Inliers Accuracy</th>        <th class=\"col_heading level0 col1\" >Outliers Accuracy</th>        <th class=\"col_heading level0 col2\" >Overall Accuracy</th>    </tr></thead><tbody>\n",
       "                <tr>\n",
       "                                <td id=\"T_916c073e_d4a6_11ec_9bb7_2016b948faacrow0_col0\" class=\"data row0 col0\" >0.921450</td>\n",
       "                        <td id=\"T_916c073e_d4a6_11ec_9bb7_2016b948faacrow0_col1\" class=\"data row0 col1\" >0.784091</td>\n",
       "                        <td id=\"T_916c073e_d4a6_11ec_9bb7_2016b948faacrow0_col2\" class=\"data row0 col2\" >0.873767</td>\n",
       "            </tr>\n",
       "    </tbody></table>"
      ],
      "text/plain": [
       "<pandas.io.formats.style.Styler at 0x23bf932c5e0>"
      ]
     },
     "metadata": {},
     "output_type": "display_data"
    },
    {
     "data": {
      "text/markdown": [
       "##### Classification Report"
      ],
      "text/plain": [
       "<IPython.core.display.Markdown object>"
      ]
     },
     "metadata": {},
     "output_type": "display_data"
    },
    {
     "name": "stdout",
     "output_type": "stream",
     "text": [
      "              precision    recall  f1-score   support\n",
      "\n",
      "           0       0.89      0.92      0.91       331\n",
      "           1       0.84      0.78      0.81       176\n",
      "\n",
      "    accuracy                           0.87       507\n",
      "   macro avg       0.87      0.85      0.86       507\n",
      "weighted avg       0.87      0.87      0.87       507\n",
      "\n"
     ]
    },
    {
     "data": {
      "text/markdown": [
       "---"
      ],
      "text/plain": [
       "<IPython.core.display.Markdown object>"
      ]
     },
     "metadata": {},
     "output_type": "display_data"
    },
    {
     "data": {
      "text/markdown": [
       "### Threshold 1.0743589743589743"
      ],
      "text/plain": [
       "<IPython.core.display.Markdown object>"
      ]
     },
     "metadata": {},
     "output_type": "display_data"
    },
    {
     "data": {
      "text/html": [
       "<style  type=\"text/css\" >\n",
       "</style><table id=\"T_916e512a_d4a6_11ec_8171_2016b948faac\" ><thead>    <tr>        <th class=\"col_heading level0 col0\" >Inliers Accuracy</th>        <th class=\"col_heading level0 col1\" >Outliers Accuracy</th>        <th class=\"col_heading level0 col2\" >Overall Accuracy</th>    </tr></thead><tbody>\n",
       "                <tr>\n",
       "                                <td id=\"T_916e512a_d4a6_11ec_8171_2016b948faacrow0_col0\" class=\"data row0 col0\" >0.927492</td>\n",
       "                        <td id=\"T_916e512a_d4a6_11ec_8171_2016b948faacrow0_col1\" class=\"data row0 col1\" >0.767045</td>\n",
       "                        <td id=\"T_916e512a_d4a6_11ec_8171_2016b948faacrow0_col2\" class=\"data row0 col2\" >0.871795</td>\n",
       "            </tr>\n",
       "    </tbody></table>"
      ],
      "text/plain": [
       "<pandas.io.formats.style.Styler at 0x23bf932ca60>"
      ]
     },
     "metadata": {},
     "output_type": "display_data"
    },
    {
     "data": {
      "text/markdown": [
       "##### Classification Report"
      ],
      "text/plain": [
       "<IPython.core.display.Markdown object>"
      ]
     },
     "metadata": {},
     "output_type": "display_data"
    },
    {
     "name": "stdout",
     "output_type": "stream",
     "text": [
      "              precision    recall  f1-score   support\n",
      "\n",
      "           0       0.88      0.93      0.90       331\n",
      "           1       0.85      0.77      0.81       176\n",
      "\n",
      "    accuracy                           0.87       507\n",
      "   macro avg       0.87      0.85      0.86       507\n",
      "weighted avg       0.87      0.87      0.87       507\n",
      "\n"
     ]
    },
    {
     "data": {
      "text/markdown": [
       "---"
      ],
      "text/plain": [
       "<IPython.core.display.Markdown object>"
      ]
     },
     "metadata": {},
     "output_type": "display_data"
    },
    {
     "data": {
      "text/markdown": [
       "### Threshold 1.123076923076923"
      ],
      "text/plain": [
       "<IPython.core.display.Markdown object>"
      ]
     },
     "metadata": {},
     "output_type": "display_data"
    },
    {
     "data": {
      "text/html": [
       "<style  type=\"text/css\" >\n",
       "</style><table id=\"T_9170c2f9_d4a6_11ec_9474_2016b948faac\" ><thead>    <tr>        <th class=\"col_heading level0 col0\" >Inliers Accuracy</th>        <th class=\"col_heading level0 col1\" >Outliers Accuracy</th>        <th class=\"col_heading level0 col2\" >Overall Accuracy</th>    </tr></thead><tbody>\n",
       "                <tr>\n",
       "                                <td id=\"T_9170c2f9_d4a6_11ec_9474_2016b948faacrow0_col0\" class=\"data row0 col0\" >0.930514</td>\n",
       "                        <td id=\"T_9170c2f9_d4a6_11ec_9474_2016b948faacrow0_col1\" class=\"data row0 col1\" >0.755682</td>\n",
       "                        <td id=\"T_9170c2f9_d4a6_11ec_9474_2016b948faacrow0_col2\" class=\"data row0 col2\" >0.869822</td>\n",
       "            </tr>\n",
       "    </tbody></table>"
      ],
      "text/plain": [
       "<pandas.io.formats.style.Styler at 0x23bfb453640>"
      ]
     },
     "metadata": {},
     "output_type": "display_data"
    },
    {
     "data": {
      "text/markdown": [
       "##### Classification Report"
      ],
      "text/plain": [
       "<IPython.core.display.Markdown object>"
      ]
     },
     "metadata": {},
     "output_type": "display_data"
    },
    {
     "name": "stdout",
     "output_type": "stream",
     "text": [
      "              precision    recall  f1-score   support\n",
      "\n",
      "           0       0.88      0.93      0.90       331\n",
      "           1       0.85      0.76      0.80       176\n",
      "\n",
      "    accuracy                           0.87       507\n",
      "   macro avg       0.87      0.84      0.85       507\n",
      "weighted avg       0.87      0.87      0.87       507\n",
      "\n"
     ]
    },
    {
     "data": {
      "text/markdown": [
       "---"
      ],
      "text/plain": [
       "<IPython.core.display.Markdown object>"
      ]
     },
     "metadata": {},
     "output_type": "display_data"
    },
    {
     "data": {
      "text/markdown": [
       "### Threshold 1.1717948717948719"
      ],
      "text/plain": [
       "<IPython.core.display.Markdown object>"
      ]
     },
     "metadata": {},
     "output_type": "display_data"
    },
    {
     "data": {
      "text/html": [
       "<style  type=\"text/css\" >\n",
       "</style><table id=\"T_917333e9_d4a6_11ec_a8cf_2016b948faac\" ><thead>    <tr>        <th class=\"col_heading level0 col0\" >Inliers Accuracy</th>        <th class=\"col_heading level0 col1\" >Outliers Accuracy</th>        <th class=\"col_heading level0 col2\" >Overall Accuracy</th>    </tr></thead><tbody>\n",
       "                <tr>\n",
       "                                <td id=\"T_917333e9_d4a6_11ec_a8cf_2016b948faacrow0_col0\" class=\"data row0 col0\" >0.936556</td>\n",
       "                        <td id=\"T_917333e9_d4a6_11ec_a8cf_2016b948faacrow0_col1\" class=\"data row0 col1\" >0.738636</td>\n",
       "                        <td id=\"T_917333e9_d4a6_11ec_a8cf_2016b948faacrow0_col2\" class=\"data row0 col2\" >0.867850</td>\n",
       "            </tr>\n",
       "    </tbody></table>"
      ],
      "text/plain": [
       "<pandas.io.formats.style.Styler at 0x23bf920b850>"
      ]
     },
     "metadata": {},
     "output_type": "display_data"
    },
    {
     "data": {
      "text/markdown": [
       "##### Classification Report"
      ],
      "text/plain": [
       "<IPython.core.display.Markdown object>"
      ]
     },
     "metadata": {},
     "output_type": "display_data"
    },
    {
     "name": "stdout",
     "output_type": "stream",
     "text": [
      "              precision    recall  f1-score   support\n",
      "\n",
      "           0       0.87      0.94      0.90       331\n",
      "           1       0.86      0.74      0.80       176\n",
      "\n",
      "    accuracy                           0.87       507\n",
      "   macro avg       0.87      0.84      0.85       507\n",
      "weighted avg       0.87      0.87      0.87       507\n",
      "\n"
     ]
    },
    {
     "data": {
      "text/markdown": [
       "---"
      ],
      "text/plain": [
       "<IPython.core.display.Markdown object>"
      ]
     },
     "metadata": {},
     "output_type": "display_data"
    },
    {
     "data": {
      "text/markdown": [
       "### Threshold 1.2205128205128206"
      ],
      "text/plain": [
       "<IPython.core.display.Markdown object>"
      ]
     },
     "metadata": {},
     "output_type": "display_data"
    },
    {
     "data": {
      "text/html": [
       "<style  type=\"text/css\" >\n",
       "</style><table id=\"T_917556c1_d4a6_11ec_a4f0_2016b948faac\" ><thead>    <tr>        <th class=\"col_heading level0 col0\" >Inliers Accuracy</th>        <th class=\"col_heading level0 col1\" >Outliers Accuracy</th>        <th class=\"col_heading level0 col2\" >Overall Accuracy</th>    </tr></thead><tbody>\n",
       "                <tr>\n",
       "                                <td id=\"T_917556c1_d4a6_11ec_a4f0_2016b948faacrow0_col0\" class=\"data row0 col0\" >0.939577</td>\n",
       "                        <td id=\"T_917556c1_d4a6_11ec_a4f0_2016b948faacrow0_col1\" class=\"data row0 col1\" >0.727273</td>\n",
       "                        <td id=\"T_917556c1_d4a6_11ec_a4f0_2016b948faacrow0_col2\" class=\"data row0 col2\" >0.865878</td>\n",
       "            </tr>\n",
       "    </tbody></table>"
      ],
      "text/plain": [
       "<pandas.io.formats.style.Styler at 0x23bc8079760>"
      ]
     },
     "metadata": {},
     "output_type": "display_data"
    },
    {
     "data": {
      "text/markdown": [
       "##### Classification Report"
      ],
      "text/plain": [
       "<IPython.core.display.Markdown object>"
      ]
     },
     "metadata": {},
     "output_type": "display_data"
    },
    {
     "name": "stdout",
     "output_type": "stream",
     "text": [
      "              precision    recall  f1-score   support\n",
      "\n",
      "           0       0.87      0.94      0.90       331\n",
      "           1       0.86      0.73      0.79       176\n",
      "\n",
      "    accuracy                           0.87       507\n",
      "   macro avg       0.87      0.83      0.85       507\n",
      "weighted avg       0.87      0.87      0.86       507\n",
      "\n"
     ]
    },
    {
     "data": {
      "text/markdown": [
       "---"
      ],
      "text/plain": [
       "<IPython.core.display.Markdown object>"
      ]
     },
     "metadata": {},
     "output_type": "display_data"
    },
    {
     "data": {
      "text/markdown": [
       "### Threshold 1.2692307692307694"
      ],
      "text/plain": [
       "<IPython.core.display.Markdown object>"
      ]
     },
     "metadata": {},
     "output_type": "display_data"
    },
    {
     "data": {
      "text/html": [
       "<style  type=\"text/css\" >\n",
       "</style><table id=\"T_9177c7e4_d4a6_11ec_9df0_2016b948faac\" ><thead>    <tr>        <th class=\"col_heading level0 col0\" >Inliers Accuracy</th>        <th class=\"col_heading level0 col1\" >Outliers Accuracy</th>        <th class=\"col_heading level0 col2\" >Overall Accuracy</th>    </tr></thead><tbody>\n",
       "                <tr>\n",
       "                                <td id=\"T_9177c7e4_d4a6_11ec_9df0_2016b948faacrow0_col0\" class=\"data row0 col0\" >0.942598</td>\n",
       "                        <td id=\"T_9177c7e4_d4a6_11ec_9df0_2016b948faacrow0_col1\" class=\"data row0 col1\" >0.681818</td>\n",
       "                        <td id=\"T_9177c7e4_d4a6_11ec_9df0_2016b948faacrow0_col2\" class=\"data row0 col2\" >0.852071</td>\n",
       "            </tr>\n",
       "    </tbody></table>"
      ],
      "text/plain": [
       "<pandas.io.formats.style.Styler at 0x23bc707af40>"
      ]
     },
     "metadata": {},
     "output_type": "display_data"
    },
    {
     "data": {
      "text/markdown": [
       "##### Classification Report"
      ],
      "text/plain": [
       "<IPython.core.display.Markdown object>"
      ]
     },
     "metadata": {},
     "output_type": "display_data"
    },
    {
     "name": "stdout",
     "output_type": "stream",
     "text": [
      "              precision    recall  f1-score   support\n",
      "\n",
      "           0       0.85      0.94      0.89       331\n",
      "           1       0.86      0.68      0.76       176\n",
      "\n",
      "    accuracy                           0.85       507\n",
      "   macro avg       0.86      0.81      0.83       507\n",
      "weighted avg       0.85      0.85      0.85       507\n",
      "\n"
     ]
    },
    {
     "data": {
      "text/markdown": [
       "---"
      ],
      "text/plain": [
       "<IPython.core.display.Markdown object>"
      ]
     },
     "metadata": {},
     "output_type": "display_data"
    },
    {
     "data": {
      "text/markdown": [
       "### Threshold 1.3179487179487182"
      ],
      "text/plain": [
       "<IPython.core.display.Markdown object>"
      ]
     },
     "metadata": {},
     "output_type": "display_data"
    },
    {
     "data": {
      "text/html": [
       "<style  type=\"text/css\" >\n",
       "</style><table id=\"T_9179ea95_d4a6_11ec_90f4_2016b948faac\" ><thead>    <tr>        <th class=\"col_heading level0 col0\" >Inliers Accuracy</th>        <th class=\"col_heading level0 col1\" >Outliers Accuracy</th>        <th class=\"col_heading level0 col2\" >Overall Accuracy</th>    </tr></thead><tbody>\n",
       "                <tr>\n",
       "                                <td id=\"T_9179ea95_d4a6_11ec_90f4_2016b948faacrow0_col0\" class=\"data row0 col0\" >0.945619</td>\n",
       "                        <td id=\"T_9179ea95_d4a6_11ec_90f4_2016b948faacrow0_col1\" class=\"data row0 col1\" >0.664773</td>\n",
       "                        <td id=\"T_9179ea95_d4a6_11ec_90f4_2016b948faacrow0_col2\" class=\"data row0 col2\" >0.848126</td>\n",
       "            </tr>\n",
       "    </tbody></table>"
      ],
      "text/plain": [
       "<pandas.io.formats.style.Styler at 0x23bc80747c0>"
      ]
     },
     "metadata": {},
     "output_type": "display_data"
    },
    {
     "data": {
      "text/markdown": [
       "##### Classification Report"
      ],
      "text/plain": [
       "<IPython.core.display.Markdown object>"
      ]
     },
     "metadata": {},
     "output_type": "display_data"
    },
    {
     "name": "stdout",
     "output_type": "stream",
     "text": [
      "              precision    recall  f1-score   support\n",
      "\n",
      "           0       0.84      0.95      0.89       331\n",
      "           1       0.87      0.66      0.75       176\n",
      "\n",
      "    accuracy                           0.85       507\n",
      "   macro avg       0.85      0.81      0.82       507\n",
      "weighted avg       0.85      0.85      0.84       507\n",
      "\n"
     ]
    },
    {
     "data": {
      "text/markdown": [
       "---"
      ],
      "text/plain": [
       "<IPython.core.display.Markdown object>"
      ]
     },
     "metadata": {},
     "output_type": "display_data"
    },
    {
     "data": {
      "text/markdown": [
       "### Threshold 1.3666666666666667"
      ],
      "text/plain": [
       "<IPython.core.display.Markdown object>"
      ]
     },
     "metadata": {},
     "output_type": "display_data"
    },
    {
     "data": {
      "text/html": [
       "<style  type=\"text/css\" >\n",
       "</style><table id=\"T_917c0d8d_d4a6_11ec_91b1_2016b948faac\" ><thead>    <tr>        <th class=\"col_heading level0 col0\" >Inliers Accuracy</th>        <th class=\"col_heading level0 col1\" >Outliers Accuracy</th>        <th class=\"col_heading level0 col2\" >Overall Accuracy</th>    </tr></thead><tbody>\n",
       "                <tr>\n",
       "                                <td id=\"T_917c0d8d_d4a6_11ec_91b1_2016b948faacrow0_col0\" class=\"data row0 col0\" >0.945619</td>\n",
       "                        <td id=\"T_917c0d8d_d4a6_11ec_91b1_2016b948faacrow0_col1\" class=\"data row0 col1\" >0.642045</td>\n",
       "                        <td id=\"T_917c0d8d_d4a6_11ec_91b1_2016b948faacrow0_col2\" class=\"data row0 col2\" >0.840237</td>\n",
       "            </tr>\n",
       "    </tbody></table>"
      ],
      "text/plain": [
       "<pandas.io.formats.style.Styler at 0x23bfc4a6820>"
      ]
     },
     "metadata": {},
     "output_type": "display_data"
    },
    {
     "data": {
      "text/markdown": [
       "##### Classification Report"
      ],
      "text/plain": [
       "<IPython.core.display.Markdown object>"
      ]
     },
     "metadata": {},
     "output_type": "display_data"
    },
    {
     "name": "stdout",
     "output_type": "stream",
     "text": [
      "              precision    recall  f1-score   support\n",
      "\n",
      "           0       0.83      0.95      0.89       331\n",
      "           1       0.86      0.64      0.74       176\n",
      "\n",
      "    accuracy                           0.84       507\n",
      "   macro avg       0.85      0.79      0.81       507\n",
      "weighted avg       0.84      0.84      0.83       507\n",
      "\n"
     ]
    },
    {
     "data": {
      "text/markdown": [
       "---"
      ],
      "text/plain": [
       "<IPython.core.display.Markdown object>"
      ]
     },
     "metadata": {},
     "output_type": "display_data"
    },
    {
     "data": {
      "text/markdown": [
       "### Threshold 1.4153846153846155"
      ],
      "text/plain": [
       "<IPython.core.display.Markdown object>"
      ]
     },
     "metadata": {},
     "output_type": "display_data"
    },
    {
     "data": {
      "text/html": [
       "<style  type=\"text/css\" >\n",
       "</style><table id=\"T_917e7e72_d4a6_11ec_91ca_2016b948faac\" ><thead>    <tr>        <th class=\"col_heading level0 col0\" >Inliers Accuracy</th>        <th class=\"col_heading level0 col1\" >Outliers Accuracy</th>        <th class=\"col_heading level0 col2\" >Overall Accuracy</th>    </tr></thead><tbody>\n",
       "                <tr>\n",
       "                                <td id=\"T_917e7e72_d4a6_11ec_91ca_2016b948faacrow0_col0\" class=\"data row0 col0\" >0.945619</td>\n",
       "                        <td id=\"T_917e7e72_d4a6_11ec_91ca_2016b948faacrow0_col1\" class=\"data row0 col1\" >0.625000</td>\n",
       "                        <td id=\"T_917e7e72_d4a6_11ec_91ca_2016b948faacrow0_col2\" class=\"data row0 col2\" >0.834320</td>\n",
       "            </tr>\n",
       "    </tbody></table>"
      ],
      "text/plain": [
       "<pandas.io.formats.style.Styler at 0x23bfc4a6220>"
      ]
     },
     "metadata": {},
     "output_type": "display_data"
    },
    {
     "data": {
      "text/markdown": [
       "##### Classification Report"
      ],
      "text/plain": [
       "<IPython.core.display.Markdown object>"
      ]
     },
     "metadata": {},
     "output_type": "display_data"
    },
    {
     "name": "stdout",
     "output_type": "stream",
     "text": [
      "              precision    recall  f1-score   support\n",
      "\n",
      "           0       0.83      0.95      0.88       331\n",
      "           1       0.86      0.62      0.72       176\n",
      "\n",
      "    accuracy                           0.83       507\n",
      "   macro avg       0.84      0.79      0.80       507\n",
      "weighted avg       0.84      0.83      0.83       507\n",
      "\n"
     ]
    },
    {
     "data": {
      "text/markdown": [
       "---"
      ],
      "text/plain": [
       "<IPython.core.display.Markdown object>"
      ]
     },
     "metadata": {},
     "output_type": "display_data"
    },
    {
     "data": {
      "text/markdown": [
       "### Threshold 1.4641025641025642"
      ],
      "text/plain": [
       "<IPython.core.display.Markdown object>"
      ]
     },
     "metadata": {},
     "output_type": "display_data"
    },
    {
     "data": {
      "text/html": [
       "<style  type=\"text/css\" >\n",
       "</style><table id=\"T_9180a15f_d4a6_11ec_8c9e_2016b948faac\" ><thead>    <tr>        <th class=\"col_heading level0 col0\" >Inliers Accuracy</th>        <th class=\"col_heading level0 col1\" >Outliers Accuracy</th>        <th class=\"col_heading level0 col2\" >Overall Accuracy</th>    </tr></thead><tbody>\n",
       "                <tr>\n",
       "                                <td id=\"T_9180a15f_d4a6_11ec_8c9e_2016b948faacrow0_col0\" class=\"data row0 col0\" >0.951662</td>\n",
       "                        <td id=\"T_9180a15f_d4a6_11ec_8c9e_2016b948faacrow0_col1\" class=\"data row0 col1\" >0.585227</td>\n",
       "                        <td id=\"T_9180a15f_d4a6_11ec_8c9e_2016b948faacrow0_col2\" class=\"data row0 col2\" >0.824458</td>\n",
       "            </tr>\n",
       "    </tbody></table>"
      ],
      "text/plain": [
       "<pandas.io.formats.style.Styler at 0x23bfc4a68e0>"
      ]
     },
     "metadata": {},
     "output_type": "display_data"
    },
    {
     "data": {
      "text/markdown": [
       "##### Classification Report"
      ],
      "text/plain": [
       "<IPython.core.display.Markdown object>"
      ]
     },
     "metadata": {},
     "output_type": "display_data"
    },
    {
     "name": "stdout",
     "output_type": "stream",
     "text": [
      "              precision    recall  f1-score   support\n",
      "\n",
      "           0       0.81      0.95      0.88       331\n",
      "           1       0.87      0.59      0.70       176\n",
      "\n",
      "    accuracy                           0.82       507\n",
      "   macro avg       0.84      0.77      0.79       507\n",
      "weighted avg       0.83      0.82      0.81       507\n",
      "\n"
     ]
    },
    {
     "data": {
      "text/markdown": [
       "---"
      ],
      "text/plain": [
       "<IPython.core.display.Markdown object>"
      ]
     },
     "metadata": {},
     "output_type": "display_data"
    },
    {
     "data": {
      "text/markdown": [
       "### Threshold 1.512820512820513"
      ],
      "text/plain": [
       "<IPython.core.display.Markdown object>"
      ]
     },
     "metadata": {},
     "output_type": "display_data"
    },
    {
     "data": {
      "text/html": [
       "<style  type=\"text/css\" >\n",
       "</style><table id=\"T_9183397d_d4a6_11ec_b782_2016b948faac\" ><thead>    <tr>        <th class=\"col_heading level0 col0\" >Inliers Accuracy</th>        <th class=\"col_heading level0 col1\" >Outliers Accuracy</th>        <th class=\"col_heading level0 col2\" >Overall Accuracy</th>    </tr></thead><tbody>\n",
       "                <tr>\n",
       "                                <td id=\"T_9183397d_d4a6_11ec_b782_2016b948faacrow0_col0\" class=\"data row0 col0\" >0.954683</td>\n",
       "                        <td id=\"T_9183397d_d4a6_11ec_b782_2016b948faacrow0_col1\" class=\"data row0 col1\" >0.568182</td>\n",
       "                        <td id=\"T_9183397d_d4a6_11ec_b782_2016b948faacrow0_col2\" class=\"data row0 col2\" >0.820513</td>\n",
       "            </tr>\n",
       "    </tbody></table>"
      ],
      "text/plain": [
       "<pandas.io.formats.style.Styler at 0x23bfc4a6910>"
      ]
     },
     "metadata": {},
     "output_type": "display_data"
    },
    {
     "data": {
      "text/markdown": [
       "##### Classification Report"
      ],
      "text/plain": [
       "<IPython.core.display.Markdown object>"
      ]
     },
     "metadata": {},
     "output_type": "display_data"
    },
    {
     "name": "stdout",
     "output_type": "stream",
     "text": [
      "              precision    recall  f1-score   support\n",
      "\n",
      "           0       0.81      0.95      0.87       331\n",
      "           1       0.87      0.57      0.69       176\n",
      "\n",
      "    accuracy                           0.82       507\n",
      "   macro avg       0.84      0.76      0.78       507\n",
      "weighted avg       0.83      0.82      0.81       507\n",
      "\n"
     ]
    },
    {
     "data": {
      "text/markdown": [
       "---"
      ],
      "text/plain": [
       "<IPython.core.display.Markdown object>"
      ]
     },
     "metadata": {},
     "output_type": "display_data"
    },
    {
     "data": {
      "text/markdown": [
       "### Threshold 1.5615384615384615"
      ],
      "text/plain": [
       "<IPython.core.display.Markdown object>"
      ]
     },
     "metadata": {},
     "output_type": "display_data"
    },
    {
     "data": {
      "text/html": [
       "<style  type=\"text/css\" >\n",
       "</style><table id=\"T_91858375_d4a6_11ec_9b7a_2016b948faac\" ><thead>    <tr>        <th class=\"col_heading level0 col0\" >Inliers Accuracy</th>        <th class=\"col_heading level0 col1\" >Outliers Accuracy</th>        <th class=\"col_heading level0 col2\" >Overall Accuracy</th>    </tr></thead><tbody>\n",
       "                <tr>\n",
       "                                <td id=\"T_91858375_d4a6_11ec_9b7a_2016b948faacrow0_col0\" class=\"data row0 col0\" >0.957704</td>\n",
       "                        <td id=\"T_91858375_d4a6_11ec_9b7a_2016b948faacrow0_col1\" class=\"data row0 col1\" >0.562500</td>\n",
       "                        <td id=\"T_91858375_d4a6_11ec_9b7a_2016b948faacrow0_col2\" class=\"data row0 col2\" >0.820513</td>\n",
       "            </tr>\n",
       "    </tbody></table>"
      ],
      "text/plain": [
       "<pandas.io.formats.style.Styler at 0x23bfc4a6af0>"
      ]
     },
     "metadata": {},
     "output_type": "display_data"
    },
    {
     "data": {
      "text/markdown": [
       "##### Classification Report"
      ],
      "text/plain": [
       "<IPython.core.display.Markdown object>"
      ]
     },
     "metadata": {},
     "output_type": "display_data"
    },
    {
     "name": "stdout",
     "output_type": "stream",
     "text": [
      "              precision    recall  f1-score   support\n",
      "\n",
      "           0       0.80      0.96      0.87       331\n",
      "           1       0.88      0.56      0.69       176\n",
      "\n",
      "    accuracy                           0.82       507\n",
      "   macro avg       0.84      0.76      0.78       507\n",
      "weighted avg       0.83      0.82      0.81       507\n",
      "\n"
     ]
    },
    {
     "data": {
      "text/markdown": [
       "---"
      ],
      "text/plain": [
       "<IPython.core.display.Markdown object>"
      ]
     },
     "metadata": {},
     "output_type": "display_data"
    },
    {
     "data": {
      "text/markdown": [
       "### Threshold 1.6102564102564103"
      ],
      "text/plain": [
       "<IPython.core.display.Markdown object>"
      ]
     },
     "metadata": {},
     "output_type": "display_data"
    },
    {
     "data": {
      "text/html": [
       "<style  type=\"text/css\" >\n",
       "</style><table id=\"T_9187a65f_d4a6_11ec_83ab_2016b948faac\" ><thead>    <tr>        <th class=\"col_heading level0 col0\" >Inliers Accuracy</th>        <th class=\"col_heading level0 col1\" >Outliers Accuracy</th>        <th class=\"col_heading level0 col2\" >Overall Accuracy</th>    </tr></thead><tbody>\n",
       "                <tr>\n",
       "                                <td id=\"T_9187a65f_d4a6_11ec_83ab_2016b948faacrow0_col0\" class=\"data row0 col0\" >0.960725</td>\n",
       "                        <td id=\"T_9187a65f_d4a6_11ec_83ab_2016b948faacrow0_col1\" class=\"data row0 col1\" >0.551136</td>\n",
       "                        <td id=\"T_9187a65f_d4a6_11ec_83ab_2016b948faacrow0_col2\" class=\"data row0 col2\" >0.818540</td>\n",
       "            </tr>\n",
       "    </tbody></table>"
      ],
      "text/plain": [
       "<pandas.io.formats.style.Styler at 0x23bfc4a6fa0>"
      ]
     },
     "metadata": {},
     "output_type": "display_data"
    },
    {
     "data": {
      "text/markdown": [
       "##### Classification Report"
      ],
      "text/plain": [
       "<IPython.core.display.Markdown object>"
      ]
     },
     "metadata": {},
     "output_type": "display_data"
    },
    {
     "name": "stdout",
     "output_type": "stream",
     "text": [
      "              precision    recall  f1-score   support\n",
      "\n",
      "           0       0.80      0.96      0.87       331\n",
      "           1       0.88      0.55      0.68       176\n",
      "\n",
      "    accuracy                           0.82       507\n",
      "   macro avg       0.84      0.76      0.78       507\n",
      "weighted avg       0.83      0.82      0.81       507\n",
      "\n"
     ]
    },
    {
     "data": {
      "text/markdown": [
       "---"
      ],
      "text/plain": [
       "<IPython.core.display.Markdown object>"
      ]
     },
     "metadata": {},
     "output_type": "display_data"
    },
    {
     "data": {
      "text/markdown": [
       "### Threshold 1.658974358974359"
      ],
      "text/plain": [
       "<IPython.core.display.Markdown object>"
      ]
     },
     "metadata": {},
     "output_type": "display_data"
    },
    {
     "data": {
      "text/html": [
       "<style  type=\"text/css\" >\n",
       "</style><table id=\"T_918a3e56_d4a6_11ec_b9b6_2016b948faac\" ><thead>    <tr>        <th class=\"col_heading level0 col0\" >Inliers Accuracy</th>        <th class=\"col_heading level0 col1\" >Outliers Accuracy</th>        <th class=\"col_heading level0 col2\" >Overall Accuracy</th>    </tr></thead><tbody>\n",
       "                <tr>\n",
       "                                <td id=\"T_918a3e56_d4a6_11ec_b9b6_2016b948faacrow0_col0\" class=\"data row0 col0\" >0.960725</td>\n",
       "                        <td id=\"T_918a3e56_d4a6_11ec_b9b6_2016b948faacrow0_col1\" class=\"data row0 col1\" >0.528409</td>\n",
       "                        <td id=\"T_918a3e56_d4a6_11ec_b9b6_2016b948faacrow0_col2\" class=\"data row0 col2\" >0.810651</td>\n",
       "            </tr>\n",
       "    </tbody></table>"
      ],
      "text/plain": [
       "<pandas.io.formats.style.Styler at 0x23bfc4a6970>"
      ]
     },
     "metadata": {},
     "output_type": "display_data"
    },
    {
     "data": {
      "text/markdown": [
       "##### Classification Report"
      ],
      "text/plain": [
       "<IPython.core.display.Markdown object>"
      ]
     },
     "metadata": {},
     "output_type": "display_data"
    },
    {
     "name": "stdout",
     "output_type": "stream",
     "text": [
      "              precision    recall  f1-score   support\n",
      "\n",
      "           0       0.79      0.96      0.87       331\n",
      "           1       0.88      0.53      0.66       176\n",
      "\n",
      "    accuracy                           0.81       507\n",
      "   macro avg       0.84      0.74      0.76       507\n",
      "weighted avg       0.82      0.81      0.80       507\n",
      "\n"
     ]
    },
    {
     "data": {
      "text/markdown": [
       "---"
      ],
      "text/plain": [
       "<IPython.core.display.Markdown object>"
      ]
     },
     "metadata": {},
     "output_type": "display_data"
    },
    {
     "data": {
      "text/markdown": [
       "### Threshold 1.7076923076923078"
      ],
      "text/plain": [
       "<IPython.core.display.Markdown object>"
      ]
     },
     "metadata": {},
     "output_type": "display_data"
    },
    {
     "data": {
      "text/html": [
       "<style  type=\"text/css\" >\n",
       "</style><table id=\"T_918c613e_d4a6_11ec_ac3d_2016b948faac\" ><thead>    <tr>        <th class=\"col_heading level0 col0\" >Inliers Accuracy</th>        <th class=\"col_heading level0 col1\" >Outliers Accuracy</th>        <th class=\"col_heading level0 col2\" >Overall Accuracy</th>    </tr></thead><tbody>\n",
       "                <tr>\n",
       "                                <td id=\"T_918c613e_d4a6_11ec_ac3d_2016b948faacrow0_col0\" class=\"data row0 col0\" >0.960725</td>\n",
       "                        <td id=\"T_918c613e_d4a6_11ec_ac3d_2016b948faacrow0_col1\" class=\"data row0 col1\" >0.517045</td>\n",
       "                        <td id=\"T_918c613e_d4a6_11ec_ac3d_2016b948faacrow0_col2\" class=\"data row0 col2\" >0.806706</td>\n",
       "            </tr>\n",
       "    </tbody></table>"
      ],
      "text/plain": [
       "<pandas.io.formats.style.Styler at 0x23bfc4a6940>"
      ]
     },
     "metadata": {},
     "output_type": "display_data"
    },
    {
     "data": {
      "text/markdown": [
       "##### Classification Report"
      ],
      "text/plain": [
       "<IPython.core.display.Markdown object>"
      ]
     },
     "metadata": {},
     "output_type": "display_data"
    },
    {
     "name": "stdout",
     "output_type": "stream",
     "text": [
      "              precision    recall  f1-score   support\n",
      "\n",
      "           0       0.79      0.96      0.87       331\n",
      "           1       0.88      0.52      0.65       176\n",
      "\n",
      "    accuracy                           0.81       507\n",
      "   macro avg       0.83      0.74      0.76       507\n",
      "weighted avg       0.82      0.81      0.79       507\n",
      "\n"
     ]
    },
    {
     "data": {
      "text/markdown": [
       "---"
      ],
      "text/plain": [
       "<IPython.core.display.Markdown object>"
      ]
     },
     "metadata": {},
     "output_type": "display_data"
    },
    {
     "data": {
      "text/markdown": [
       "### Threshold 1.7564102564102566"
      ],
      "text/plain": [
       "<IPython.core.display.Markdown object>"
      ]
     },
     "metadata": {},
     "output_type": "display_data"
    },
    {
     "data": {
      "text/html": [
       "<style  type=\"text/css\" >\n",
       "</style><table id=\"T_918e8413_d4a6_11ec_9bf0_2016b948faac\" ><thead>    <tr>        <th class=\"col_heading level0 col0\" >Inliers Accuracy</th>        <th class=\"col_heading level0 col1\" >Outliers Accuracy</th>        <th class=\"col_heading level0 col2\" >Overall Accuracy</th>    </tr></thead><tbody>\n",
       "                <tr>\n",
       "                                <td id=\"T_918e8413_d4a6_11ec_9bf0_2016b948faacrow0_col0\" class=\"data row0 col0\" >0.960725</td>\n",
       "                        <td id=\"T_918e8413_d4a6_11ec_9bf0_2016b948faacrow0_col1\" class=\"data row0 col1\" >0.494318</td>\n",
       "                        <td id=\"T_918e8413_d4a6_11ec_9bf0_2016b948faacrow0_col2\" class=\"data row0 col2\" >0.798817</td>\n",
       "            </tr>\n",
       "    </tbody></table>"
      ],
      "text/plain": [
       "<pandas.io.formats.style.Styler at 0x23bfc4a61f0>"
      ]
     },
     "metadata": {},
     "output_type": "display_data"
    },
    {
     "data": {
      "text/markdown": [
       "##### Classification Report"
      ],
      "text/plain": [
       "<IPython.core.display.Markdown object>"
      ]
     },
     "metadata": {},
     "output_type": "display_data"
    },
    {
     "name": "stdout",
     "output_type": "stream",
     "text": [
      "              precision    recall  f1-score   support\n",
      "\n",
      "           0       0.78      0.96      0.86       331\n",
      "           1       0.87      0.49      0.63       176\n",
      "\n",
      "    accuracy                           0.80       507\n",
      "   macro avg       0.83      0.73      0.75       507\n",
      "weighted avg       0.81      0.80      0.78       507\n",
      "\n"
     ]
    },
    {
     "data": {
      "text/markdown": [
       "---"
      ],
      "text/plain": [
       "<IPython.core.display.Markdown object>"
      ]
     },
     "metadata": {},
     "output_type": "display_data"
    },
    {
     "data": {
      "text/markdown": [
       "### Threshold 1.8051282051282052"
      ],
      "text/plain": [
       "<IPython.core.display.Markdown object>"
      ]
     },
     "metadata": {},
     "output_type": "display_data"
    },
    {
     "data": {
      "text/html": [
       "<style  type=\"text/css\" >\n",
       "</style><table id=\"T_9190a88e_d4a6_11ec_9d11_2016b948faac\" ><thead>    <tr>        <th class=\"col_heading level0 col0\" >Inliers Accuracy</th>        <th class=\"col_heading level0 col1\" >Outliers Accuracy</th>        <th class=\"col_heading level0 col2\" >Overall Accuracy</th>    </tr></thead><tbody>\n",
       "                <tr>\n",
       "                                <td id=\"T_9190a88e_d4a6_11ec_9d11_2016b948faacrow0_col0\" class=\"data row0 col0\" >0.960725</td>\n",
       "                        <td id=\"T_9190a88e_d4a6_11ec_9d11_2016b948faacrow0_col1\" class=\"data row0 col1\" >0.494318</td>\n",
       "                        <td id=\"T_9190a88e_d4a6_11ec_9d11_2016b948faacrow0_col2\" class=\"data row0 col2\" >0.798817</td>\n",
       "            </tr>\n",
       "    </tbody></table>"
      ],
      "text/plain": [
       "<pandas.io.formats.style.Styler at 0x23bfc4a6280>"
      ]
     },
     "metadata": {},
     "output_type": "display_data"
    },
    {
     "data": {
      "text/markdown": [
       "##### Classification Report"
      ],
      "text/plain": [
       "<IPython.core.display.Markdown object>"
      ]
     },
     "metadata": {},
     "output_type": "display_data"
    },
    {
     "name": "stdout",
     "output_type": "stream",
     "text": [
      "              precision    recall  f1-score   support\n",
      "\n",
      "           0       0.78      0.96      0.86       331\n",
      "           1       0.87      0.49      0.63       176\n",
      "\n",
      "    accuracy                           0.80       507\n",
      "   macro avg       0.83      0.73      0.75       507\n",
      "weighted avg       0.81      0.80      0.78       507\n",
      "\n"
     ]
    },
    {
     "data": {
      "text/markdown": [
       "---"
      ],
      "text/plain": [
       "<IPython.core.display.Markdown object>"
      ]
     },
     "metadata": {},
     "output_type": "display_data"
    },
    {
     "data": {
      "text/markdown": [
       "### Threshold 1.853846153846154"
      ],
      "text/plain": [
       "<IPython.core.display.Markdown object>"
      ]
     },
     "metadata": {},
     "output_type": "display_data"
    },
    {
     "data": {
      "text/html": [
       "<style  type=\"text/css\" >\n",
       "</style><table id=\"T_919341a9_d4a6_11ec_aff6_2016b948faac\" ><thead>    <tr>        <th class=\"col_heading level0 col0\" >Inliers Accuracy</th>        <th class=\"col_heading level0 col1\" >Outliers Accuracy</th>        <th class=\"col_heading level0 col2\" >Overall Accuracy</th>    </tr></thead><tbody>\n",
       "                <tr>\n",
       "                                <td id=\"T_919341a9_d4a6_11ec_aff6_2016b948faacrow0_col0\" class=\"data row0 col0\" >0.960725</td>\n",
       "                        <td id=\"T_919341a9_d4a6_11ec_aff6_2016b948faacrow0_col1\" class=\"data row0 col1\" >0.471591</td>\n",
       "                        <td id=\"T_919341a9_d4a6_11ec_aff6_2016b948faacrow0_col2\" class=\"data row0 col2\" >0.790927</td>\n",
       "            </tr>\n",
       "    </tbody></table>"
      ],
      "text/plain": [
       "<pandas.io.formats.style.Styler at 0x23bf619b4c0>"
      ]
     },
     "metadata": {},
     "output_type": "display_data"
    },
    {
     "data": {
      "text/markdown": [
       "##### Classification Report"
      ],
      "text/plain": [
       "<IPython.core.display.Markdown object>"
      ]
     },
     "metadata": {},
     "output_type": "display_data"
    },
    {
     "name": "stdout",
     "output_type": "stream",
     "text": [
      "              precision    recall  f1-score   support\n",
      "\n",
      "           0       0.77      0.96      0.86       331\n",
      "           1       0.86      0.47      0.61       176\n",
      "\n",
      "    accuracy                           0.79       507\n",
      "   macro avg       0.82      0.72      0.73       507\n",
      "weighted avg       0.81      0.79      0.77       507\n",
      "\n"
     ]
    },
    {
     "data": {
      "text/markdown": [
       "---"
      ],
      "text/plain": [
       "<IPython.core.display.Markdown object>"
      ]
     },
     "metadata": {},
     "output_type": "display_data"
    },
    {
     "data": {
      "text/markdown": [
       "### Threshold 1.9025641025641027"
      ],
      "text/plain": [
       "<IPython.core.display.Markdown object>"
      ]
     },
     "metadata": {},
     "output_type": "display_data"
    },
    {
     "data": {
      "text/html": [
       "<style  type=\"text/css\" >\n",
       "</style><table id=\"T_91955158_d4a6_11ec_974b_2016b948faac\" ><thead>    <tr>        <th class=\"col_heading level0 col0\" >Inliers Accuracy</th>        <th class=\"col_heading level0 col1\" >Outliers Accuracy</th>        <th class=\"col_heading level0 col2\" >Overall Accuracy</th>    </tr></thead><tbody>\n",
       "                <tr>\n",
       "                                <td id=\"T_91955158_d4a6_11ec_974b_2016b948faacrow0_col0\" class=\"data row0 col0\" >0.966767</td>\n",
       "                        <td id=\"T_91955158_d4a6_11ec_974b_2016b948faacrow0_col1\" class=\"data row0 col1\" >0.465909</td>\n",
       "                        <td id=\"T_91955158_d4a6_11ec_974b_2016b948faacrow0_col2\" class=\"data row0 col2\" >0.792899</td>\n",
       "            </tr>\n",
       "    </tbody></table>"
      ],
      "text/plain": [
       "<pandas.io.formats.style.Styler at 0x23bf920b850>"
      ]
     },
     "metadata": {},
     "output_type": "display_data"
    },
    {
     "data": {
      "text/markdown": [
       "##### Classification Report"
      ],
      "text/plain": [
       "<IPython.core.display.Markdown object>"
      ]
     },
     "metadata": {},
     "output_type": "display_data"
    },
    {
     "name": "stdout",
     "output_type": "stream",
     "text": [
      "              precision    recall  f1-score   support\n",
      "\n",
      "           0       0.77      0.97      0.86       331\n",
      "           1       0.88      0.47      0.61       176\n",
      "\n",
      "    accuracy                           0.79       507\n",
      "   macro avg       0.83      0.72      0.73       507\n",
      "weighted avg       0.81      0.79      0.77       507\n",
      "\n"
     ]
    },
    {
     "data": {
      "text/markdown": [
       "---"
      ],
      "text/plain": [
       "<IPython.core.display.Markdown object>"
      ]
     },
     "metadata": {},
     "output_type": "display_data"
    },
    {
     "data": {
      "text/markdown": [
       "### Threshold 1.9512820512820515"
      ],
      "text/plain": [
       "<IPython.core.display.Markdown object>"
      ]
     },
     "metadata": {},
     "output_type": "display_data"
    },
    {
     "data": {
      "text/html": [
       "<style  type=\"text/css\" >\n",
       "</style><table id=\"T_9197744b_d4a6_11ec_9f9c_2016b948faac\" ><thead>    <tr>        <th class=\"col_heading level0 col0\" >Inliers Accuracy</th>        <th class=\"col_heading level0 col1\" >Outliers Accuracy</th>        <th class=\"col_heading level0 col2\" >Overall Accuracy</th>    </tr></thead><tbody>\n",
       "                <tr>\n",
       "                                <td id=\"T_9197744b_d4a6_11ec_9f9c_2016b948faacrow0_col0\" class=\"data row0 col0\" >0.969789</td>\n",
       "                        <td id=\"T_9197744b_d4a6_11ec_9f9c_2016b948faacrow0_col1\" class=\"data row0 col1\" >0.454545</td>\n",
       "                        <td id=\"T_9197744b_d4a6_11ec_9f9c_2016b948faacrow0_col2\" class=\"data row0 col2\" >0.790927</td>\n",
       "            </tr>\n",
       "    </tbody></table>"
      ],
      "text/plain": [
       "<pandas.io.formats.style.Styler at 0x23bc8074880>"
      ]
     },
     "metadata": {},
     "output_type": "display_data"
    },
    {
     "data": {
      "text/markdown": [
       "##### Classification Report"
      ],
      "text/plain": [
       "<IPython.core.display.Markdown object>"
      ]
     },
     "metadata": {},
     "output_type": "display_data"
    },
    {
     "name": "stdout",
     "output_type": "stream",
     "text": [
      "              precision    recall  f1-score   support\n",
      "\n",
      "           0       0.77      0.97      0.86       331\n",
      "           1       0.89      0.45      0.60       176\n",
      "\n",
      "    accuracy                           0.79       507\n",
      "   macro avg       0.83      0.71      0.73       507\n",
      "weighted avg       0.81      0.79      0.77       507\n",
      "\n"
     ]
    },
    {
     "data": {
      "text/markdown": [
       "---"
      ],
      "text/plain": [
       "<IPython.core.display.Markdown object>"
      ]
     },
     "metadata": {},
     "output_type": "display_data"
    },
    {
     "data": {
      "text/markdown": [
       "### Threshold 2.0"
      ],
      "text/plain": [
       "<IPython.core.display.Markdown object>"
      ]
     },
     "metadata": {},
     "output_type": "display_data"
    },
    {
     "data": {
      "text/html": [
       "<style  type=\"text/css\" >\n",
       "</style><table id=\"T_919948e5_d4a6_11ec_b88a_2016b948faac\" ><thead>    <tr>        <th class=\"col_heading level0 col0\" >Inliers Accuracy</th>        <th class=\"col_heading level0 col1\" >Outliers Accuracy</th>        <th class=\"col_heading level0 col2\" >Overall Accuracy</th>    </tr></thead><tbody>\n",
       "                <tr>\n",
       "                                <td id=\"T_919948e5_d4a6_11ec_b88a_2016b948faacrow0_col0\" class=\"data row0 col0\" >0.969789</td>\n",
       "                        <td id=\"T_919948e5_d4a6_11ec_b88a_2016b948faacrow0_col1\" class=\"data row0 col1\" >0.448864</td>\n",
       "                        <td id=\"T_919948e5_d4a6_11ec_b88a_2016b948faacrow0_col2\" class=\"data row0 col2\" >0.788955</td>\n",
       "            </tr>\n",
       "    </tbody></table>"
      ],
      "text/plain": [
       "<pandas.io.formats.style.Styler at 0x23bfb439af0>"
      ]
     },
     "metadata": {},
     "output_type": "display_data"
    },
    {
     "data": {
      "text/markdown": [
       "##### Classification Report"
      ],
      "text/plain": [
       "<IPython.core.display.Markdown object>"
      ]
     },
     "metadata": {},
     "output_type": "display_data"
    },
    {
     "name": "stdout",
     "output_type": "stream",
     "text": [
      "              precision    recall  f1-score   support\n",
      "\n",
      "           0       0.77      0.97      0.86       331\n",
      "           1       0.89      0.45      0.60       176\n",
      "\n",
      "    accuracy                           0.79       507\n",
      "   macro avg       0.83      0.71      0.73       507\n",
      "weighted avg       0.81      0.79      0.77       507\n",
      "\n"
     ]
    },
    {
     "data": {
      "text/markdown": [
       "---"
      ],
      "text/plain": [
       "<IPython.core.display.Markdown object>"
      ]
     },
     "metadata": {},
     "output_type": "display_data"
    }
   ],
   "source": [
    "optimal_threshold = try_threshold_grid(test_MSEs, y_test, 'denoising_autoencoder', start=0.1, stop=2.0, num_thresholds=40)"
   ]
  },
  {
   "cell_type": "code",
   "execution_count": 30,
   "metadata": {},
   "outputs": [
    {
     "data": {
      "text/markdown": [
       "### Threshold 0.6358974358974359"
      ],
      "text/plain": [
       "<IPython.core.display.Markdown object>"
      ]
     },
     "metadata": {},
     "output_type": "display_data"
    },
    {
     "data": {
      "text/html": [
       "<style  type=\"text/css\" >\n",
       "</style><table id=\"T_96246049_d4a6_11ec_8dc5_2016b948faac\" ><thead>    <tr>        <th class=\"col_heading level0 col0\" >Inliers Accuracy</th>        <th class=\"col_heading level0 col1\" >Outliers Accuracy</th>        <th class=\"col_heading level0 col2\" >Overall Accuracy</th>    </tr></thead><tbody>\n",
       "                <tr>\n",
       "                                <td id=\"T_96246049_d4a6_11ec_8dc5_2016b948faacrow0_col0\" class=\"data row0 col0\" >0.867069</td>\n",
       "                        <td id=\"T_96246049_d4a6_11ec_8dc5_2016b948faacrow0_col1\" class=\"data row0 col1\" >0.892045</td>\n",
       "                        <td id=\"T_96246049_d4a6_11ec_8dc5_2016b948faacrow0_col2\" class=\"data row0 col2\" >0.875740</td>\n",
       "            </tr>\n",
       "    </tbody></table>"
      ],
      "text/plain": [
       "<pandas.io.formats.style.Styler at 0x23bc8055e50>"
      ]
     },
     "metadata": {},
     "output_type": "display_data"
    },
    {
     "data": {
      "text/markdown": [
       "##### Classification Report"
      ],
      "text/plain": [
       "<IPython.core.display.Markdown object>"
      ]
     },
     "metadata": {},
     "output_type": "display_data"
    },
    {
     "name": "stdout",
     "output_type": "stream",
     "text": [
      "              precision    recall  f1-score   support\n",
      "\n",
      "           0       0.94      0.87      0.90       331\n",
      "           1       0.78      0.89      0.83       176\n",
      "\n",
      "    accuracy                           0.88       507\n",
      "   macro avg       0.86      0.88      0.87       507\n",
      "weighted avg       0.88      0.88      0.88       507\n",
      "\n"
     ]
    },
    {
     "data": {
      "image/png": "[encoded data removed]",
      "text/plain": [
       "<Figure size 432x432 with 2 Axes>"
      ]
     },
     "metadata": {
      "needs_background": "light"
     },
     "output_type": "display_data"
    }
   ],
   "source": [
    "predictions = classify_by_error(test_MSEs, optimal_threshold)\n",
    "matrix = confusion_matrix(y_test, predictions)\n",
    "class_accuracies = matrix.diagonal()/matrix.sum(axis=1)\n",
    "acc_df = pd.DataFrame({\n",
    "    'Inliers Accuracy': [class_accuracies[0]], \n",
    "    'Outliers Accuracy': [class_accuracies[1]], \n",
    "    'Overall Accuracy': [accuracy_score(y_test, predictions)]\n",
    "})\n",
    "\n",
    "display(Markdown(f'### Threshold {optimal_threshold}'))\n",
    "display(acc_df.style.hide_index())\n",
    "display(Markdown(f'##### Classification Report'))\n",
    "print(classification_report(y_test, predictions))\n",
    "plot_confusion_matrix(matrix)"
   ]
  },
  {
   "cell_type": "markdown",
   "metadata": {},
   "source": [
    "---\n",
    "---"
   ]
  },
  {
   "cell_type": "markdown",
   "metadata": {},
   "source": [
    "### 3. Variational AutoEncoder"
   ]
  },
  {
   "cell_type": "code",
   "execution_count": 31,
   "metadata": {},
   "outputs": [],
   "source": [
    "class VariationalAutoEncoder(nn.Module):\n",
    "    def __init__(self):\n",
    "        super(VariationalAutoEncoder, self).__init__()\n",
    "        self.encLin1 = nn.Linear(21, 16)\n",
    "        self.reluEnc = nn.ReLU()\n",
    "        self.encLin21 = nn.Linear(16, 14)\n",
    "        self.encLin22 = nn.Linear(16, 14)\n",
    "        self.normal = torch.distributions.Normal(0, 1)\n",
    "        self.kl = 0\n",
    "        \n",
    "        self.decLin1 = nn.Linear(14, 16)\n",
    "        self.reluDec = nn.ReLU()\n",
    "        self.decLin2 = nn.Linear(16, 21)\n",
    "    \n",
    "    def forward(self, x: torch.Tensor) -> torch.Tensor:\n",
    "        x = self.reluEnc(self.encLin1(x))\n",
    "        mu = self.encLin21(x)\n",
    "        sigma = torch.exp(self.encLin22(x))\n",
    "        z = mu + sigma * self.normal.sample(mu.shape)\n",
    "        self.kl = (sigma**2 + mu**2 - torch.log(sigma) - 1/2).mean()\n",
    "\n",
    "        x = self.reluDec(self.decLin1(z))\n",
    "        x = self.decLin2(x)\n",
    "        return x"
   ]
  },
  {
   "cell_type": "code",
   "execution_count": 32,
   "metadata": {},
   "outputs": [],
   "source": [
    "variational_ae = VariationalAutoEncoder()\n",
    "\n",
    "learning_rate = 1e-2\n",
    "optimizer = torch.optim.Adam(variational_ae.parameters(), lr=learning_rate)\n",
    "criterion = nn.MSELoss()"
   ]
  },
  {
   "cell_type": "code",
   "execution_count": 33,
   "metadata": {},
   "outputs": [],
   "source": [
    "def train_one_epoch_VAE(model: nn.Module):\n",
    "    '''\n",
    "    Train one epoch of the model on training dataset batched by the train_dataloader.\n",
    "    \n",
    "    :param nn.Module model: model on which we perform one training epoch\n",
    "    :returns: an average loss on the training dataset\n",
    "    '''\n",
    "    running_loss = 0.0\n",
    "    for i, data in enumerate(train_dataloader):\n",
    "        inputs, _ = data\n",
    "        optimizer.zero_grad()\n",
    "\n",
    "        outputs = model(inputs.float())\n",
    "        loss = ((outputs.float() - inputs.float()) ** 2).mean() + model.kl\n",
    "        loss.backward()\n",
    "        optimizer.step()\n",
    "        running_loss += loss.item()\n",
    "    return running_loss / len(train_dataloader)"
   ]
  },
  {
   "cell_type": "code",
   "execution_count": 34,
   "metadata": {},
   "outputs": [],
   "source": [
    "def train_model_VAE(model: nn.Module, model_name: str, nr_of_epochs: int = 100):\n",
    "    '''\n",
    "    Train the specified model, and evaluate on validation data.\n",
    "        \n",
    "    :param nn.Module model: model being trained\n",
    "    :param str model_name: model name, e.g. denoising_autoencoder\n",
    "    :param int nr_of_epochs: number of training epochs\n",
    "    '''\n",
    "    best_loss = 10**12\n",
    "    best_model, model_path, best_epoch = None, None, None\n",
    "\n",
    "    for epoch in range(nr_of_epochs):\n",
    "        model.train()\n",
    "        train_loss = train_one_epoch_VAE(model)\n",
    "        model.eval()\n",
    "\n",
    "        # performance on validation set\n",
    "        with torch.no_grad():\n",
    "            valid_loss = 0.0\n",
    "            for i, data in enumerate(val_dataloader):\n",
    "                inputs, _ = data\n",
    "                outputs = model(inputs.float())\n",
    "                loss = ((outputs.float() - inputs.float()) ** 2).mean() + model.kl\n",
    "                valid_loss += loss.item()\n",
    "            valid_loss = valid_loss / len(val_dataloader)\n",
    "\n",
    "            # logging at each Nth epoch\n",
    "            if (epoch + 1) % 10 == 0:\n",
    "                print(f'epoch {epoch + 1}; train loss: {train_loss}; valid loss: {valid_loss}')\n",
    "\n",
    "            # remember model with the best validation loss\n",
    "            if valid_loss < best_loss:\n",
    "                best_loss = valid_loss\n",
    "                best_model = model.state_dict()\n",
    "                best_epoch = epoch + 1\n",
    "\n",
    "    # save the overall best model\n",
    "    timestamp = datetime.now().strftime('%Y%m%d_%H%M%S')\n",
    "    os.makedirs('models/', exist_ok=True)\n",
    "    model_path = f'models/model_{model_name}_{timestamp}_epoch{best_epoch}'\n",
    "    torch.save(best_model, model_path)"
   ]
  },
  {
   "cell_type": "code",
   "execution_count": 35,
   "metadata": {},
   "outputs": [
    {
     "name": "stdout",
     "output_type": "stream",
     "text": [
      "epoch 10; train loss: 0.950592931579141; valid loss: 0.9253044962882996\n",
      "epoch 20; train loss: 0.9488668511895573; valid loss: 0.9190170764923096\n",
      "epoch 30; train loss: 0.9372600527370677; valid loss: 0.9205188274383544\n",
      "epoch 40; train loss: 0.9393444026217741; valid loss: 0.9331878185272217\n",
      "epoch 50; train loss: 0.932211325449102; valid loss: 0.9256301760673523\n",
      "epoch 60; train loss: 0.9286627979839549; valid loss: 0.926736032962799\n",
      "epoch 70; train loss: 0.9259502817602718; valid loss: 0.9300982832908631\n",
      "epoch 80; train loss: 0.9221653166939231; valid loss: 0.9174100637435914\n",
      "epoch 90; train loss: 0.9206429404370925; valid loss: 0.926757299900055\n",
      "epoch 100; train loss: 0.9171543717384338; valid loss: 0.9091792464256286\n",
      "epoch 110; train loss: 0.9111351511057686; valid loss: 0.9153097152709961\n",
      "epoch 120; train loss: 0.9109470248222351; valid loss: 0.9053551197052002\n",
      "epoch 130; train loss: 0.9035387600169462; valid loss: 0.9148525357246399\n",
      "epoch 140; train loss: 0.8971100519685185; valid loss: 0.904229462146759\n",
      "epoch 150; train loss: 0.8944991476395551; valid loss: 0.9006127953529358\n",
      "epoch 160; train loss: 0.89450103745741; valid loss: 0.8939585447311401\n",
      "epoch 170; train loss: 0.8887742196812349; valid loss: 0.910269808769226\n",
      "epoch 180; train loss: 0.8927381950266221; valid loss: 0.8970911264419555\n",
      "epoch 190; train loss: 0.8896800910725313; valid loss: 0.9009168863296508\n",
      "epoch 200; train loss: 0.8876073465627783; valid loss: 0.8863870620727539\n"
     ]
    }
   ],
   "source": [
    "train_model_VAE(model=variational_ae, model_name='variational_autoencoder', nr_of_epochs=200)"
   ]
  },
  {
   "cell_type": "code",
   "execution_count": 36,
   "metadata": {},
   "outputs": [],
   "source": [
    "def eval_on_testset_VAE(model: nn.Module, testset: np.ndarray, test_labels: np.ndarray) -> Tuple[pd.DataFrame, np.ndarray]:\n",
    "    '''\n",
    "    Evaluate testing data on the model, calculate reconstruction error, print statistics on inliers and outliers\n",
    "        \n",
    "    :param nn.Module model: model being evaluated\n",
    "    :param np.ndarray testset: testing inputs\n",
    "    :param np.ndarray test_labels: ground-truth labels\n",
    "    :returns: dataframe with reconstruction errors and classes, reconstrution errors\n",
    "    '''\n",
    "    testset_tensor = torch.tensor(testset).float()\n",
    "    reconstructed_test = model(testset_tensor)\n",
    "    mse_test = torch.mean((reconstructed_test.detach() - testset_tensor) ** 2, axis=1) + model.kl\n",
    "    error_df = pd.DataFrame({'Reconstruction Error': mse_test, 'class': y_test})\n",
    "    \n",
    "    display(error_df[error_df['class'] == 0].describe())\n",
    "    display(error_df[error_df['class'] == 1].describe())\n",
    "    return error_df, mse_test"
   ]
  },
  {
   "cell_type": "code",
   "execution_count": 37,
   "metadata": {},
   "outputs": [
    {
     "data": {
      "text/html": [
       "<div>\n",
       "<style scoped>\n",
       "    .dataframe tbody tr th:only-of-type {\n",
       "        vertical-align: middle;\n",
       "    }\n",
       "\n",
       "    .dataframe tbody tr th {\n",
       "        vertical-align: top;\n",
       "    }\n",
       "\n",
       "    .dataframe thead th {\n",
       "        text-align: right;\n",
       "    }\n",
       "</style>\n",
       "<table border=\"1\" class=\"dataframe\">\n",
       "  <thead>\n",
       "    <tr style=\"text-align: right;\">\n",
       "      <th></th>\n",
       "      <th>Reconstruction Error</th>\n",
       "      <th>class</th>\n",
       "    </tr>\n",
       "  </thead>\n",
       "  <tbody>\n",
       "    <tr>\n",
       "      <th>count</th>\n",
       "      <td>331.000000</td>\n",
       "      <td>331.0</td>\n",
       "    </tr>\n",
       "    <tr>\n",
       "      <th>mean</th>\n",
       "      <td>0.965081</td>\n",
       "      <td>0.0</td>\n",
       "    </tr>\n",
       "    <tr>\n",
       "      <th>std</th>\n",
       "      <td>10.012934</td>\n",
       "      <td>0.0</td>\n",
       "    </tr>\n",
       "    <tr>\n",
       "      <th>min</th>\n",
       "      <td>0.044527</td>\n",
       "      <td>0.0</td>\n",
       "    </tr>\n",
       "    <tr>\n",
       "      <th>25%</th>\n",
       "      <td>0.145322</td>\n",
       "      <td>0.0</td>\n",
       "    </tr>\n",
       "    <tr>\n",
       "      <th>50%</th>\n",
       "      <td>0.242782</td>\n",
       "      <td>0.0</td>\n",
       "    </tr>\n",
       "    <tr>\n",
       "      <th>75%</th>\n",
       "      <td>0.423975</td>\n",
       "      <td>0.0</td>\n",
       "    </tr>\n",
       "    <tr>\n",
       "      <th>max</th>\n",
       "      <td>182.243759</td>\n",
       "      <td>0.0</td>\n",
       "    </tr>\n",
       "  </tbody>\n",
       "</table>\n",
       "</div>"
      ],
      "text/plain": [
       "       Reconstruction Error  class\n",
       "count            331.000000  331.0\n",
       "mean               0.965081    0.0\n",
       "std               10.012934    0.0\n",
       "min                0.044527    0.0\n",
       "25%                0.145322    0.0\n",
       "50%                0.242782    0.0\n",
       "75%                0.423975    0.0\n",
       "max              182.243759    0.0"
      ]
     },
     "metadata": {},
     "output_type": "display_data"
    },
    {
     "data": {
      "text/html": [
       "<div>\n",
       "<style scoped>\n",
       "    .dataframe tbody tr th:only-of-type {\n",
       "        vertical-align: middle;\n",
       "    }\n",
       "\n",
       "    .dataframe tbody tr th {\n",
       "        vertical-align: top;\n",
       "    }\n",
       "\n",
       "    .dataframe thead th {\n",
       "        text-align: right;\n",
       "    }\n",
       "</style>\n",
       "<table border=\"1\" class=\"dataframe\">\n",
       "  <thead>\n",
       "    <tr style=\"text-align: right;\">\n",
       "      <th></th>\n",
       "      <th>Reconstruction Error</th>\n",
       "      <th>class</th>\n",
       "    </tr>\n",
       "  </thead>\n",
       "  <tbody>\n",
       "    <tr>\n",
       "      <th>count</th>\n",
       "      <td>176.000000</td>\n",
       "      <td>176.0</td>\n",
       "    </tr>\n",
       "    <tr>\n",
       "      <th>mean</th>\n",
       "      <td>13.739071</td>\n",
       "      <td>1.0</td>\n",
       "    </tr>\n",
       "    <tr>\n",
       "      <th>std</th>\n",
       "      <td>53.441933</td>\n",
       "      <td>0.0</td>\n",
       "    </tr>\n",
       "    <tr>\n",
       "      <th>min</th>\n",
       "      <td>0.092848</td>\n",
       "      <td>1.0</td>\n",
       "    </tr>\n",
       "    <tr>\n",
       "      <th>25%</th>\n",
       "      <td>1.126669</td>\n",
       "      <td>1.0</td>\n",
       "    </tr>\n",
       "    <tr>\n",
       "      <th>50%</th>\n",
       "      <td>1.748759</td>\n",
       "      <td>1.0</td>\n",
       "    </tr>\n",
       "    <tr>\n",
       "      <th>75%</th>\n",
       "      <td>4.193795</td>\n",
       "      <td>1.0</td>\n",
       "    </tr>\n",
       "    <tr>\n",
       "      <th>max</th>\n",
       "      <td>411.661224</td>\n",
       "      <td>1.0</td>\n",
       "    </tr>\n",
       "  </tbody>\n",
       "</table>\n",
       "</div>"
      ],
      "text/plain": [
       "       Reconstruction Error  class\n",
       "count            176.000000  176.0\n",
       "mean              13.739071    1.0\n",
       "std               53.441933    0.0\n",
       "min                0.092848    1.0\n",
       "25%                1.126669    1.0\n",
       "50%                1.748759    1.0\n",
       "75%                4.193795    1.0\n",
       "max              411.661224    1.0"
      ]
     },
     "metadata": {},
     "output_type": "display_data"
    }
   ],
   "source": [
    "test_df, test_MSEs = eval_on_testset(denoising_ae, X_test, y_test)"
   ]
  },
  {
   "cell_type": "code",
   "execution_count": 38,
   "metadata": {
    "scrolled": true
   },
   "outputs": [
    {
     "data": {
      "text/markdown": [
       "## Model: variational_autoencoder"
      ],
      "text/plain": [
       "<IPython.core.display.Markdown object>"
      ]
     },
     "metadata": {},
     "output_type": "display_data"
    },
    {
     "data": {
      "text/markdown": [
       "### Threshold 0.1"
      ],
      "text/plain": [
       "<IPython.core.display.Markdown object>"
      ]
     },
     "metadata": {},
     "output_type": "display_data"
    },
    {
     "data": {
      "text/html": [
       "<style  type=\"text/css\" >\n",
       "</style><table id=\"T_abc2bf5d_d4a6_11ec_b063_2016b948faac\" ><thead>    <tr>        <th class=\"col_heading level0 col0\" >Inliers Accuracy</th>        <th class=\"col_heading level0 col1\" >Outliers Accuracy</th>        <th class=\"col_heading level0 col2\" >Overall Accuracy</th>    </tr></thead><tbody>\n",
       "                <tr>\n",
       "                                <td id=\"T_abc2bf5d_d4a6_11ec_b063_2016b948faacrow0_col0\" class=\"data row0 col0\" >0.111782</td>\n",
       "                        <td id=\"T_abc2bf5d_d4a6_11ec_b063_2016b948faacrow0_col1\" class=\"data row0 col1\" >0.994318</td>\n",
       "                        <td id=\"T_abc2bf5d_d4a6_11ec_b063_2016b948faacrow0_col2\" class=\"data row0 col2\" >0.418146</td>\n",
       "            </tr>\n",
       "    </tbody></table>"
      ],
      "text/plain": [
       "<pandas.io.formats.style.Styler at 0x23bf93856a0>"
      ]
     },
     "metadata": {},
     "output_type": "display_data"
    },
    {
     "data": {
      "text/markdown": [
       "##### Classification Report"
      ],
      "text/plain": [
       "<IPython.core.display.Markdown object>"
      ]
     },
     "metadata": {},
     "output_type": "display_data"
    },
    {
     "name": "stdout",
     "output_type": "stream",
     "text": [
      "              precision    recall  f1-score   support\n",
      "\n",
      "           0       0.97      0.11      0.20       331\n",
      "           1       0.37      0.99      0.54       176\n",
      "\n",
      "    accuracy                           0.42       507\n",
      "   macro avg       0.67      0.55      0.37       507\n",
      "weighted avg       0.77      0.42      0.32       507\n",
      "\n"
     ]
    },
    {
     "data": {
      "text/markdown": [
       "---"
      ],
      "text/plain": [
       "<IPython.core.display.Markdown object>"
      ]
     },
     "metadata": {},
     "output_type": "display_data"
    },
    {
     "data": {
      "text/markdown": [
       "### Threshold 0.14871794871794872"
      ],
      "text/plain": [
       "<IPython.core.display.Markdown object>"
      ]
     },
     "metadata": {},
     "output_type": "display_data"
    },
    {
     "data": {
      "text/html": [
       "<style  type=\"text/css\" >\n",
       "</style><table id=\"T_abc6de6a_d4a6_11ec_b8e8_2016b948faac\" ><thead>    <tr>        <th class=\"col_heading level0 col0\" >Inliers Accuracy</th>        <th class=\"col_heading level0 col1\" >Outliers Accuracy</th>        <th class=\"col_heading level0 col2\" >Overall Accuracy</th>    </tr></thead><tbody>\n",
       "                <tr>\n",
       "                                <td id=\"T_abc6de6a_d4a6_11ec_b8e8_2016b948faacrow0_col0\" class=\"data row0 col0\" >0.259819</td>\n",
       "                        <td id=\"T_abc6de6a_d4a6_11ec_b8e8_2016b948faacrow0_col1\" class=\"data row0 col1\" >0.982955</td>\n",
       "                        <td id=\"T_abc6de6a_d4a6_11ec_b8e8_2016b948faacrow0_col2\" class=\"data row0 col2\" >0.510848</td>\n",
       "            </tr>\n",
       "    </tbody></table>"
      ],
      "text/plain": [
       "<pandas.io.formats.style.Styler at 0x23bfb453be0>"
      ]
     },
     "metadata": {},
     "output_type": "display_data"
    },
    {
     "data": {
      "text/markdown": [
       "##### Classification Report"
      ],
      "text/plain": [
       "<IPython.core.display.Markdown object>"
      ]
     },
     "metadata": {},
     "output_type": "display_data"
    },
    {
     "name": "stdout",
     "output_type": "stream",
     "text": [
      "              precision    recall  f1-score   support\n",
      "\n",
      "           0       0.97      0.26      0.41       331\n",
      "           1       0.41      0.98      0.58       176\n",
      "\n",
      "    accuracy                           0.51       507\n",
      "   macro avg       0.69      0.62      0.50       507\n",
      "weighted avg       0.77      0.51      0.47       507\n",
      "\n"
     ]
    },
    {
     "data": {
      "text/markdown": [
       "---"
      ],
      "text/plain": [
       "<IPython.core.display.Markdown object>"
      ]
     },
     "metadata": {},
     "output_type": "display_data"
    },
    {
     "data": {
      "text/markdown": [
       "### Threshold 0.19743589743589746"
      ],
      "text/plain": [
       "<IPython.core.display.Markdown object>"
      ]
     },
     "metadata": {},
     "output_type": "display_data"
    },
    {
     "data": {
      "text/html": [
       "<style  type=\"text/css\" >\n",
       "</style><table id=\"T_abca87ac_d4a6_11ec_a342_2016b948faac\" ><thead>    <tr>        <th class=\"col_heading level0 col0\" >Inliers Accuracy</th>        <th class=\"col_heading level0 col1\" >Outliers Accuracy</th>        <th class=\"col_heading level0 col2\" >Overall Accuracy</th>    </tr></thead><tbody>\n",
       "                <tr>\n",
       "                                <td id=\"T_abca87ac_d4a6_11ec_a342_2016b948faacrow0_col0\" class=\"data row0 col0\" >0.383686</td>\n",
       "                        <td id=\"T_abca87ac_d4a6_11ec_a342_2016b948faacrow0_col1\" class=\"data row0 col1\" >0.971591</td>\n",
       "                        <td id=\"T_abca87ac_d4a6_11ec_a342_2016b948faacrow0_col2\" class=\"data row0 col2\" >0.587771</td>\n",
       "            </tr>\n",
       "    </tbody></table>"
      ],
      "text/plain": [
       "<pandas.io.formats.style.Styler at 0x23bfc4a6610>"
      ]
     },
     "metadata": {},
     "output_type": "display_data"
    },
    {
     "data": {
      "text/markdown": [
       "##### Classification Report"
      ],
      "text/plain": [
       "<IPython.core.display.Markdown object>"
      ]
     },
     "metadata": {},
     "output_type": "display_data"
    },
    {
     "name": "stdout",
     "output_type": "stream",
     "text": [
      "              precision    recall  f1-score   support\n",
      "\n",
      "           0       0.96      0.38      0.55       331\n",
      "           1       0.46      0.97      0.62       176\n",
      "\n",
      "    accuracy                           0.59       507\n",
      "   macro avg       0.71      0.68      0.58       507\n",
      "weighted avg       0.79      0.59      0.57       507\n",
      "\n"
     ]
    },
    {
     "data": {
      "text/markdown": [
       "---"
      ],
      "text/plain": [
       "<IPython.core.display.Markdown object>"
      ]
     },
     "metadata": {},
     "output_type": "display_data"
    },
    {
     "data": {
      "text/markdown": [
       "### Threshold 0.24615384615384617"
      ],
      "text/plain": [
       "<IPython.core.display.Markdown object>"
      ]
     },
     "metadata": {},
     "output_type": "display_data"
    },
    {
     "data": {
      "text/html": [
       "<style  type=\"text/css\" >\n",
       "</style><table id=\"T_abce460f_d4a6_11ec_b66c_2016b948faac\" ><thead>    <tr>        <th class=\"col_heading level0 col0\" >Inliers Accuracy</th>        <th class=\"col_heading level0 col1\" >Outliers Accuracy</th>        <th class=\"col_heading level0 col2\" >Overall Accuracy</th>    </tr></thead><tbody>\n",
       "                <tr>\n",
       "                                <td id=\"T_abce460f_d4a6_11ec_b66c_2016b948faacrow0_col0\" class=\"data row0 col0\" >0.513595</td>\n",
       "                        <td id=\"T_abce460f_d4a6_11ec_b66c_2016b948faacrow0_col1\" class=\"data row0 col1\" >0.954545</td>\n",
       "                        <td id=\"T_abce460f_d4a6_11ec_b66c_2016b948faacrow0_col2\" class=\"data row0 col2\" >0.666667</td>\n",
       "            </tr>\n",
       "    </tbody></table>"
      ],
      "text/plain": [
       "<pandas.io.formats.style.Styler at 0x23bfc4f9f40>"
      ]
     },
     "metadata": {},
     "output_type": "display_data"
    },
    {
     "data": {
      "text/markdown": [
       "##### Classification Report"
      ],
      "text/plain": [
       "<IPython.core.display.Markdown object>"
      ]
     },
     "metadata": {},
     "output_type": "display_data"
    },
    {
     "name": "stdout",
     "output_type": "stream",
     "text": [
      "              precision    recall  f1-score   support\n",
      "\n",
      "           0       0.96      0.51      0.67       331\n",
      "           1       0.51      0.95      0.67       176\n",
      "\n",
      "    accuracy                           0.67       507\n",
      "   macro avg       0.73      0.73      0.67       507\n",
      "weighted avg       0.80      0.67      0.67       507\n",
      "\n"
     ]
    },
    {
     "data": {
      "text/markdown": [
       "---"
      ],
      "text/plain": [
       "<IPython.core.display.Markdown object>"
      ]
     },
     "metadata": {},
     "output_type": "display_data"
    },
    {
     "data": {
      "text/markdown": [
       "### Threshold 0.2948717948717949"
      ],
      "text/plain": [
       "<IPython.core.display.Markdown object>"
      ]
     },
     "metadata": {},
     "output_type": "display_data"
    },
    {
     "data": {
      "text/html": [
       "<style  type=\"text/css\" >\n",
       "</style><table id=\"T_abd1c87e_d4a6_11ec_b9f1_2016b948faac\" ><thead>    <tr>        <th class=\"col_heading level0 col0\" >Inliers Accuracy</th>        <th class=\"col_heading level0 col1\" >Outliers Accuracy</th>        <th class=\"col_heading level0 col2\" >Overall Accuracy</th>    </tr></thead><tbody>\n",
       "                <tr>\n",
       "                                <td id=\"T_abd1c87e_d4a6_11ec_b9f1_2016b948faacrow0_col0\" class=\"data row0 col0\" >0.631420</td>\n",
       "                        <td id=\"T_abd1c87e_d4a6_11ec_b9f1_2016b948faacrow0_col1\" class=\"data row0 col1\" >0.948864</td>\n",
       "                        <td id=\"T_abd1c87e_d4a6_11ec_b9f1_2016b948faacrow0_col2\" class=\"data row0 col2\" >0.741617</td>\n",
       "            </tr>\n",
       "    </tbody></table>"
      ],
      "text/plain": [
       "<pandas.io.formats.style.Styler at 0x23bfb404610>"
      ]
     },
     "metadata": {},
     "output_type": "display_data"
    },
    {
     "data": {
      "text/markdown": [
       "##### Classification Report"
      ],
      "text/plain": [
       "<IPython.core.display.Markdown object>"
      ]
     },
     "metadata": {},
     "output_type": "display_data"
    },
    {
     "name": "stdout",
     "output_type": "stream",
     "text": [
      "              precision    recall  f1-score   support\n",
      "\n",
      "           0       0.96      0.63      0.76       331\n",
      "           1       0.58      0.95      0.72       176\n",
      "\n",
      "    accuracy                           0.74       507\n",
      "   macro avg       0.77      0.79      0.74       507\n",
      "weighted avg       0.83      0.74      0.75       507\n",
      "\n"
     ]
    },
    {
     "data": {
      "text/markdown": [
       "---"
      ],
      "text/plain": [
       "<IPython.core.display.Markdown object>"
      ]
     },
     "metadata": {},
     "output_type": "display_data"
    },
    {
     "data": {
      "text/markdown": [
       "### Threshold 0.3435897435897436"
      ],
      "text/plain": [
       "<IPython.core.display.Markdown object>"
      ]
     },
     "metadata": {},
     "output_type": "display_data"
    },
    {
     "data": {
      "text/html": [
       "<style  type=\"text/css\" >\n",
       "</style><table id=\"T_abd4fcb1_d4a6_11ec_82e7_2016b948faac\" ><thead>    <tr>        <th class=\"col_heading level0 col0\" >Inliers Accuracy</th>        <th class=\"col_heading level0 col1\" >Outliers Accuracy</th>        <th class=\"col_heading level0 col2\" >Overall Accuracy</th>    </tr></thead><tbody>\n",
       "                <tr>\n",
       "                                <td id=\"T_abd4fcb1_d4a6_11ec_82e7_2016b948faacrow0_col0\" class=\"data row0 col0\" >0.676737</td>\n",
       "                        <td id=\"T_abd4fcb1_d4a6_11ec_82e7_2016b948faacrow0_col1\" class=\"data row0 col1\" >0.931818</td>\n",
       "                        <td id=\"T_abd4fcb1_d4a6_11ec_82e7_2016b948faacrow0_col2\" class=\"data row0 col2\" >0.765286</td>\n",
       "            </tr>\n",
       "    </tbody></table>"
      ],
      "text/plain": [
       "<pandas.io.formats.style.Styler at 0x23bfb439490>"
      ]
     },
     "metadata": {},
     "output_type": "display_data"
    },
    {
     "data": {
      "text/markdown": [
       "##### Classification Report"
      ],
      "text/plain": [
       "<IPython.core.display.Markdown object>"
      ]
     },
     "metadata": {},
     "output_type": "display_data"
    },
    {
     "name": "stdout",
     "output_type": "stream",
     "text": [
      "              precision    recall  f1-score   support\n",
      "\n",
      "           0       0.95      0.68      0.79       331\n",
      "           1       0.61      0.93      0.73       176\n",
      "\n",
      "    accuracy                           0.77       507\n",
      "   macro avg       0.78      0.80      0.76       507\n",
      "weighted avg       0.83      0.77      0.77       507\n",
      "\n"
     ]
    },
    {
     "data": {
      "text/markdown": [
       "---"
      ],
      "text/plain": [
       "<IPython.core.display.Markdown object>"
      ]
     },
     "metadata": {},
     "output_type": "display_data"
    },
    {
     "data": {
      "text/markdown": [
       "### Threshold 0.39230769230769236"
      ],
      "text/plain": [
       "<IPython.core.display.Markdown object>"
      ]
     },
     "metadata": {},
     "output_type": "display_data"
    },
    {
     "data": {
      "text/html": [
       "<style  type=\"text/css\" >\n",
       "</style><table id=\"T_abd794d0_d4a6_11ec_9473_2016b948faac\" ><thead>    <tr>        <th class=\"col_heading level0 col0\" >Inliers Accuracy</th>        <th class=\"col_heading level0 col1\" >Outliers Accuracy</th>        <th class=\"col_heading level0 col2\" >Overall Accuracy</th>    </tr></thead><tbody>\n",
       "                <tr>\n",
       "                                <td id=\"T_abd794d0_d4a6_11ec_9473_2016b948faacrow0_col0\" class=\"data row0 col0\" >0.722054</td>\n",
       "                        <td id=\"T_abd794d0_d4a6_11ec_9473_2016b948faacrow0_col1\" class=\"data row0 col1\" >0.931818</td>\n",
       "                        <td id=\"T_abd794d0_d4a6_11ec_9473_2016b948faacrow0_col2\" class=\"data row0 col2\" >0.794872</td>\n",
       "            </tr>\n",
       "    </tbody></table>"
      ],
      "text/plain": [
       "<pandas.io.formats.style.Styler at 0x23bfc505d90>"
      ]
     },
     "metadata": {},
     "output_type": "display_data"
    },
    {
     "data": {
      "text/markdown": [
       "##### Classification Report"
      ],
      "text/plain": [
       "<IPython.core.display.Markdown object>"
      ]
     },
     "metadata": {},
     "output_type": "display_data"
    },
    {
     "name": "stdout",
     "output_type": "stream",
     "text": [
      "              precision    recall  f1-score   support\n",
      "\n",
      "           0       0.95      0.72      0.82       331\n",
      "           1       0.64      0.93      0.76       176\n",
      "\n",
      "    accuracy                           0.79       507\n",
      "   macro avg       0.80      0.83      0.79       507\n",
      "weighted avg       0.84      0.79      0.80       507\n",
      "\n"
     ]
    },
    {
     "data": {
      "text/markdown": [
       "---"
      ],
      "text/plain": [
       "<IPython.core.display.Markdown object>"
      ]
     },
     "metadata": {},
     "output_type": "display_data"
    },
    {
     "data": {
      "text/markdown": [
       "### Threshold 0.441025641025641"
      ],
      "text/plain": [
       "<IPython.core.display.Markdown object>"
      ]
     },
     "metadata": {},
     "output_type": "display_data"
    },
    {
     "data": {
      "text/html": [
       "<style  type=\"text/css\" >\n",
       "</style><table id=\"T_abda53e7_d4a6_11ec_ab86_2016b948faac\" ><thead>    <tr>        <th class=\"col_heading level0 col0\" >Inliers Accuracy</th>        <th class=\"col_heading level0 col1\" >Outliers Accuracy</th>        <th class=\"col_heading level0 col2\" >Overall Accuracy</th>    </tr></thead><tbody>\n",
       "                <tr>\n",
       "                                <td id=\"T_abda53e7_d4a6_11ec_ab86_2016b948faacrow0_col0\" class=\"data row0 col0\" >0.761329</td>\n",
       "                        <td id=\"T_abda53e7_d4a6_11ec_ab86_2016b948faacrow0_col1\" class=\"data row0 col1\" >0.926136</td>\n",
       "                        <td id=\"T_abda53e7_d4a6_11ec_ab86_2016b948faacrow0_col2\" class=\"data row0 col2\" >0.818540</td>\n",
       "            </tr>\n",
       "    </tbody></table>"
      ],
      "text/plain": [
       "<pandas.io.formats.style.Styler at 0x23bfb404f40>"
      ]
     },
     "metadata": {},
     "output_type": "display_data"
    },
    {
     "data": {
      "text/markdown": [
       "##### Classification Report"
      ],
      "text/plain": [
       "<IPython.core.display.Markdown object>"
      ]
     },
     "metadata": {},
     "output_type": "display_data"
    },
    {
     "name": "stdout",
     "output_type": "stream",
     "text": [
      "              precision    recall  f1-score   support\n",
      "\n",
      "           0       0.95      0.76      0.85       331\n",
      "           1       0.67      0.93      0.78       176\n",
      "\n",
      "    accuracy                           0.82       507\n",
      "   macro avg       0.81      0.84      0.81       507\n",
      "weighted avg       0.85      0.82      0.82       507\n",
      "\n"
     ]
    },
    {
     "data": {
      "text/markdown": [
       "---"
      ],
      "text/plain": [
       "<IPython.core.display.Markdown object>"
      ]
     },
     "metadata": {},
     "output_type": "display_data"
    },
    {
     "data": {
      "text/markdown": [
       "### Threshold 0.4897435897435898"
      ],
      "text/plain": [
       "<IPython.core.display.Markdown object>"
      ]
     },
     "metadata": {},
     "output_type": "display_data"
    },
    {
     "data": {
      "text/html": [
       "<style  type=\"text/css\" >\n",
       "</style><table id=\"T_abdc9dc9_d4a6_11ec_8c8b_2016b948faac\" ><thead>    <tr>        <th class=\"col_heading level0 col0\" >Inliers Accuracy</th>        <th class=\"col_heading level0 col1\" >Outliers Accuracy</th>        <th class=\"col_heading level0 col2\" >Overall Accuracy</th>    </tr></thead><tbody>\n",
       "                <tr>\n",
       "                                <td id=\"T_abdc9dc9_d4a6_11ec_8c8b_2016b948faacrow0_col0\" class=\"data row0 col0\" >0.791541</td>\n",
       "                        <td id=\"T_abdc9dc9_d4a6_11ec_8c8b_2016b948faacrow0_col1\" class=\"data row0 col1\" >0.920455</td>\n",
       "                        <td id=\"T_abdc9dc9_d4a6_11ec_8c8b_2016b948faacrow0_col2\" class=\"data row0 col2\" >0.836292</td>\n",
       "            </tr>\n",
       "    </tbody></table>"
      ],
      "text/plain": [
       "<pandas.io.formats.style.Styler at 0x23bfc4b90a0>"
      ]
     },
     "metadata": {},
     "output_type": "display_data"
    },
    {
     "data": {
      "text/markdown": [
       "##### Classification Report"
      ],
      "text/plain": [
       "<IPython.core.display.Markdown object>"
      ]
     },
     "metadata": {},
     "output_type": "display_data"
    },
    {
     "name": "stdout",
     "output_type": "stream",
     "text": [
      "              precision    recall  f1-score   support\n",
      "\n",
      "           0       0.95      0.79      0.86       331\n",
      "           1       0.70      0.92      0.80       176\n",
      "\n",
      "    accuracy                           0.84       507\n",
      "   macro avg       0.83      0.86      0.83       507\n",
      "weighted avg       0.86      0.84      0.84       507\n",
      "\n"
     ]
    },
    {
     "data": {
      "text/markdown": [
       "---"
      ],
      "text/plain": [
       "<IPython.core.display.Markdown object>"
      ]
     },
     "metadata": {},
     "output_type": "display_data"
    },
    {
     "data": {
      "text/markdown": [
       "### Threshold 0.5384615384615384"
      ],
      "text/plain": [
       "<IPython.core.display.Markdown object>"
      ]
     },
     "metadata": {},
     "output_type": "display_data"
    },
    {
     "data": {
      "text/html": [
       "<style  type=\"text/css\" >\n",
       "</style><table id=\"T_abdf0f5a_d4a6_11ec_83bd_2016b948faac\" ><thead>    <tr>        <th class=\"col_heading level0 col0\" >Inliers Accuracy</th>        <th class=\"col_heading level0 col1\" >Outliers Accuracy</th>        <th class=\"col_heading level0 col2\" >Overall Accuracy</th>    </tr></thead><tbody>\n",
       "                <tr>\n",
       "                                <td id=\"T_abdf0f5a_d4a6_11ec_83bd_2016b948faacrow0_col0\" class=\"data row0 col0\" >0.830816</td>\n",
       "                        <td id=\"T_abdf0f5a_d4a6_11ec_83bd_2016b948faacrow0_col1\" class=\"data row0 col1\" >0.909091</td>\n",
       "                        <td id=\"T_abdf0f5a_d4a6_11ec_83bd_2016b948faacrow0_col2\" class=\"data row0 col2\" >0.857988</td>\n",
       "            </tr>\n",
       "    </tbody></table>"
      ],
      "text/plain": [
       "<pandas.io.formats.style.Styler at 0x23bfc5130a0>"
      ]
     },
     "metadata": {},
     "output_type": "display_data"
    },
    {
     "data": {
      "text/markdown": [
       "##### Classification Report"
      ],
      "text/plain": [
       "<IPython.core.display.Markdown object>"
      ]
     },
     "metadata": {},
     "output_type": "display_data"
    },
    {
     "name": "stdout",
     "output_type": "stream",
     "text": [
      "              precision    recall  f1-score   support\n",
      "\n",
      "           0       0.95      0.83      0.88       331\n",
      "           1       0.74      0.91      0.82       176\n",
      "\n",
      "    accuracy                           0.86       507\n",
      "   macro avg       0.84      0.87      0.85       507\n",
      "weighted avg       0.87      0.86      0.86       507\n",
      "\n"
     ]
    },
    {
     "data": {
      "text/markdown": [
       "---"
      ],
      "text/plain": [
       "<IPython.core.display.Markdown object>"
      ]
     },
     "metadata": {},
     "output_type": "display_data"
    },
    {
     "data": {
      "text/markdown": [
       "### Threshold 0.5871794871794872"
      ],
      "text/plain": [
       "<IPython.core.display.Markdown object>"
      ]
     },
     "metadata": {},
     "output_type": "display_data"
    },
    {
     "data": {
      "text/html": [
       "<style  type=\"text/css\" >\n",
       "</style><table id=\"T_abe131b1_d4a6_11ec_a7f2_2016b948faac\" ><thead>    <tr>        <th class=\"col_heading level0 col0\" >Inliers Accuracy</th>        <th class=\"col_heading level0 col1\" >Outliers Accuracy</th>        <th class=\"col_heading level0 col2\" >Overall Accuracy</th>    </tr></thead><tbody>\n",
       "                <tr>\n",
       "                                <td id=\"T_abe131b1_d4a6_11ec_a7f2_2016b948faacrow0_col0\" class=\"data row0 col0\" >0.851964</td>\n",
       "                        <td id=\"T_abe131b1_d4a6_11ec_a7f2_2016b948faacrow0_col1\" class=\"data row0 col1\" >0.909091</td>\n",
       "                        <td id=\"T_abe131b1_d4a6_11ec_a7f2_2016b948faacrow0_col2\" class=\"data row0 col2\" >0.871795</td>\n",
       "            </tr>\n",
       "    </tbody></table>"
      ],
      "text/plain": [
       "<pandas.io.formats.style.Styler at 0x23bfc4a65e0>"
      ]
     },
     "metadata": {},
     "output_type": "display_data"
    },
    {
     "data": {
      "text/markdown": [
       "##### Classification Report"
      ],
      "text/plain": [
       "<IPython.core.display.Markdown object>"
      ]
     },
     "metadata": {},
     "output_type": "display_data"
    },
    {
     "name": "stdout",
     "output_type": "stream",
     "text": [
      "              precision    recall  f1-score   support\n",
      "\n",
      "           0       0.95      0.85      0.90       331\n",
      "           1       0.77      0.91      0.83       176\n",
      "\n",
      "    accuracy                           0.87       507\n",
      "   macro avg       0.86      0.88      0.86       507\n",
      "weighted avg       0.88      0.87      0.87       507\n",
      "\n"
     ]
    },
    {
     "data": {
      "text/markdown": [
       "---"
      ],
      "text/plain": [
       "<IPython.core.display.Markdown object>"
      ]
     },
     "metadata": {},
     "output_type": "display_data"
    },
    {
     "data": {
      "text/markdown": [
       "### Threshold 0.6358974358974359"
      ],
      "text/plain": [
       "<IPython.core.display.Markdown object>"
      ]
     },
     "metadata": {},
     "output_type": "display_data"
    },
    {
     "data": {
      "text/html": [
       "<style  type=\"text/css\" >\n",
       "</style><table id=\"T_abe32d7f_d4a6_11ec_a03a_2016b948faac\" ><thead>    <tr>        <th class=\"col_heading level0 col0\" >Inliers Accuracy</th>        <th class=\"col_heading level0 col1\" >Outliers Accuracy</th>        <th class=\"col_heading level0 col2\" >Overall Accuracy</th>    </tr></thead><tbody>\n",
       "                <tr>\n",
       "                                <td id=\"T_abe32d7f_d4a6_11ec_a03a_2016b948faacrow0_col0\" class=\"data row0 col0\" >0.867069</td>\n",
       "                        <td id=\"T_abe32d7f_d4a6_11ec_a03a_2016b948faacrow0_col1\" class=\"data row0 col1\" >0.892045</td>\n",
       "                        <td id=\"T_abe32d7f_d4a6_11ec_a03a_2016b948faacrow0_col2\" class=\"data row0 col2\" >0.875740</td>\n",
       "            </tr>\n",
       "    </tbody></table>"
      ],
      "text/plain": [
       "<pandas.io.formats.style.Styler at 0x23bfc4a6e80>"
      ]
     },
     "metadata": {},
     "output_type": "display_data"
    },
    {
     "data": {
      "text/markdown": [
       "##### Classification Report"
      ],
      "text/plain": [
       "<IPython.core.display.Markdown object>"
      ]
     },
     "metadata": {},
     "output_type": "display_data"
    },
    {
     "name": "stdout",
     "output_type": "stream",
     "text": [
      "              precision    recall  f1-score   support\n",
      "\n",
      "           0       0.94      0.87      0.90       331\n",
      "           1       0.78      0.89      0.83       176\n",
      "\n",
      "    accuracy                           0.88       507\n",
      "   macro avg       0.86      0.88      0.87       507\n",
      "weighted avg       0.88      0.88      0.88       507\n",
      "\n"
     ]
    },
    {
     "data": {
      "text/markdown": [
       "---"
      ],
      "text/plain": [
       "<IPython.core.display.Markdown object>"
      ]
     },
     "metadata": {},
     "output_type": "display_data"
    },
    {
     "data": {
      "text/markdown": [
       "### Threshold 0.6846153846153846"
      ],
      "text/plain": [
       "<IPython.core.display.Markdown object>"
      ]
     },
     "metadata": {},
     "output_type": "display_data"
    },
    {
     "data": {
      "text/html": [
       "<style  type=\"text/css\" >\n",
       "</style><table id=\"T_abe52964_d4a6_11ec_bd8e_2016b948faac\" ><thead>    <tr>        <th class=\"col_heading level0 col0\" >Inliers Accuracy</th>        <th class=\"col_heading level0 col1\" >Outliers Accuracy</th>        <th class=\"col_heading level0 col2\" >Overall Accuracy</th>    </tr></thead><tbody>\n",
       "                <tr>\n",
       "                                <td id=\"T_abe52964_d4a6_11ec_bd8e_2016b948faacrow0_col0\" class=\"data row0 col0\" >0.879154</td>\n",
       "                        <td id=\"T_abe52964_d4a6_11ec_bd8e_2016b948faacrow0_col1\" class=\"data row0 col1\" >0.863636</td>\n",
       "                        <td id=\"T_abe52964_d4a6_11ec_bd8e_2016b948faacrow0_col2\" class=\"data row0 col2\" >0.873767</td>\n",
       "            </tr>\n",
       "    </tbody></table>"
      ],
      "text/plain": [
       "<pandas.io.formats.style.Styler at 0x23bfb495fa0>"
      ]
     },
     "metadata": {},
     "output_type": "display_data"
    },
    {
     "data": {
      "text/markdown": [
       "##### Classification Report"
      ],
      "text/plain": [
       "<IPython.core.display.Markdown object>"
      ]
     },
     "metadata": {},
     "output_type": "display_data"
    },
    {
     "name": "stdout",
     "output_type": "stream",
     "text": [
      "              precision    recall  f1-score   support\n",
      "\n",
      "           0       0.92      0.88      0.90       331\n",
      "           1       0.79      0.86      0.83       176\n",
      "\n",
      "    accuracy                           0.87       507\n",
      "   macro avg       0.86      0.87      0.86       507\n",
      "weighted avg       0.88      0.87      0.87       507\n",
      "\n"
     ]
    },
    {
     "data": {
      "text/markdown": [
       "---"
      ],
      "text/plain": [
       "<IPython.core.display.Markdown object>"
      ]
     },
     "metadata": {},
     "output_type": "display_data"
    },
    {
     "data": {
      "text/markdown": [
       "### Threshold 0.7333333333333333"
      ],
      "text/plain": [
       "<IPython.core.display.Markdown object>"
      ]
     },
     "metadata": {},
     "output_type": "display_data"
    },
    {
     "data": {
      "text/html": [
       "<style  type=\"text/css\" >\n",
       "</style><table id=\"T_abe72539_d4a6_11ec_9c2e_2016b948faac\" ><thead>    <tr>        <th class=\"col_heading level0 col0\" >Inliers Accuracy</th>        <th class=\"col_heading level0 col1\" >Outliers Accuracy</th>        <th class=\"col_heading level0 col2\" >Overall Accuracy</th>    </tr></thead><tbody>\n",
       "                <tr>\n",
       "                                <td id=\"T_abe72539_d4a6_11ec_9c2e_2016b948faacrow0_col0\" class=\"data row0 col0\" >0.891239</td>\n",
       "                        <td id=\"T_abe72539_d4a6_11ec_9c2e_2016b948faacrow0_col1\" class=\"data row0 col1\" >0.846591</td>\n",
       "                        <td id=\"T_abe72539_d4a6_11ec_9c2e_2016b948faacrow0_col2\" class=\"data row0 col2\" >0.875740</td>\n",
       "            </tr>\n",
       "    </tbody></table>"
      ],
      "text/plain": [
       "<pandas.io.formats.style.Styler at 0x23bfb447ca0>"
      ]
     },
     "metadata": {},
     "output_type": "display_data"
    },
    {
     "data": {
      "text/markdown": [
       "##### Classification Report"
      ],
      "text/plain": [
       "<IPython.core.display.Markdown object>"
      ]
     },
     "metadata": {},
     "output_type": "display_data"
    },
    {
     "name": "stdout",
     "output_type": "stream",
     "text": [
      "              precision    recall  f1-score   support\n",
      "\n",
      "           0       0.92      0.89      0.90       331\n",
      "           1       0.81      0.85      0.83       176\n",
      "\n",
      "    accuracy                           0.88       507\n",
      "   macro avg       0.86      0.87      0.86       507\n",
      "weighted avg       0.88      0.88      0.88       507\n",
      "\n"
     ]
    },
    {
     "data": {
      "text/markdown": [
       "---"
      ],
      "text/plain": [
       "<IPython.core.display.Markdown object>"
      ]
     },
     "metadata": {},
     "output_type": "display_data"
    },
    {
     "data": {
      "text/markdown": [
       "### Threshold 0.782051282051282"
      ],
      "text/plain": [
       "<IPython.core.display.Markdown object>"
      ]
     },
     "metadata": {},
     "output_type": "display_data"
    },
    {
     "data": {
      "text/html": [
       "<style  type=\"text/css\" >\n",
       "</style><table id=\"T_abe96be7_d4a6_11ec_b839_2016b948faac\" ><thead>    <tr>        <th class=\"col_heading level0 col0\" >Inliers Accuracy</th>        <th class=\"col_heading level0 col1\" >Outliers Accuracy</th>        <th class=\"col_heading level0 col2\" >Overall Accuracy</th>    </tr></thead><tbody>\n",
       "                <tr>\n",
       "                                <td id=\"T_abe96be7_d4a6_11ec_b839_2016b948faacrow0_col0\" class=\"data row0 col0\" >0.906344</td>\n",
       "                        <td id=\"T_abe96be7_d4a6_11ec_b839_2016b948faacrow0_col1\" class=\"data row0 col1\" >0.829545</td>\n",
       "                        <td id=\"T_abe96be7_d4a6_11ec_b839_2016b948faacrow0_col2\" class=\"data row0 col2\" >0.879684</td>\n",
       "            </tr>\n",
       "    </tbody></table>"
      ],
      "text/plain": [
       "<pandas.io.formats.style.Styler at 0x23bf932ceb0>"
      ]
     },
     "metadata": {},
     "output_type": "display_data"
    },
    {
     "data": {
      "text/markdown": [
       "##### Classification Report"
      ],
      "text/plain": [
       "<IPython.core.display.Markdown object>"
      ]
     },
     "metadata": {},
     "output_type": "display_data"
    },
    {
     "name": "stdout",
     "output_type": "stream",
     "text": [
      "              precision    recall  f1-score   support\n",
      "\n",
      "           0       0.91      0.91      0.91       331\n",
      "           1       0.82      0.83      0.83       176\n",
      "\n",
      "    accuracy                           0.88       507\n",
      "   macro avg       0.87      0.87      0.87       507\n",
      "weighted avg       0.88      0.88      0.88       507\n",
      "\n"
     ]
    },
    {
     "data": {
      "text/markdown": [
       "---"
      ],
      "text/plain": [
       "<IPython.core.display.Markdown object>"
      ]
     },
     "metadata": {},
     "output_type": "display_data"
    },
    {
     "data": {
      "text/markdown": [
       "### Threshold 0.8307692307692307"
      ],
      "text/plain": [
       "<IPython.core.display.Markdown object>"
      ]
     },
     "metadata": {},
     "output_type": "display_data"
    },
    {
     "data": {
      "text/html": [
       "<style  type=\"text/css\" >\n",
       "</style><table id=\"T_abeb8ed4_d4a6_11ec_9401_2016b948faac\" ><thead>    <tr>        <th class=\"col_heading level0 col0\" >Inliers Accuracy</th>        <th class=\"col_heading level0 col1\" >Outliers Accuracy</th>        <th class=\"col_heading level0 col2\" >Overall Accuracy</th>    </tr></thead><tbody>\n",
       "                <tr>\n",
       "                                <td id=\"T_abeb8ed4_d4a6_11ec_9401_2016b948faacrow0_col0\" class=\"data row0 col0\" >0.912387</td>\n",
       "                        <td id=\"T_abeb8ed4_d4a6_11ec_9401_2016b948faacrow0_col1\" class=\"data row0 col1\" >0.812500</td>\n",
       "                        <td id=\"T_abeb8ed4_d4a6_11ec_9401_2016b948faacrow0_col2\" class=\"data row0 col2\" >0.877712</td>\n",
       "            </tr>\n",
       "    </tbody></table>"
      ],
      "text/plain": [
       "<pandas.io.formats.style.Styler at 0x23bf932cd60>"
      ]
     },
     "metadata": {},
     "output_type": "display_data"
    },
    {
     "data": {
      "text/markdown": [
       "##### Classification Report"
      ],
      "text/plain": [
       "<IPython.core.display.Markdown object>"
      ]
     },
     "metadata": {},
     "output_type": "display_data"
    },
    {
     "name": "stdout",
     "output_type": "stream",
     "text": [
      "              precision    recall  f1-score   support\n",
      "\n",
      "           0       0.90      0.91      0.91       331\n",
      "           1       0.83      0.81      0.82       176\n",
      "\n",
      "    accuracy                           0.88       507\n",
      "   macro avg       0.87      0.86      0.86       507\n",
      "weighted avg       0.88      0.88      0.88       507\n",
      "\n"
     ]
    },
    {
     "data": {
      "text/markdown": [
       "---"
      ],
      "text/plain": [
       "<IPython.core.display.Markdown object>"
      ]
     },
     "metadata": {},
     "output_type": "display_data"
    },
    {
     "data": {
      "text/markdown": [
       "### Threshold 0.8794871794871795"
      ],
      "text/plain": [
       "<IPython.core.display.Markdown object>"
      ]
     },
     "metadata": {},
     "output_type": "display_data"
    },
    {
     "data": {
      "text/html": [
       "<style  type=\"text/css\" >\n",
       "</style><table id=\"T_abee048c_d4a6_11ec_8434_2016b948faac\" ><thead>    <tr>        <th class=\"col_heading level0 col0\" >Inliers Accuracy</th>        <th class=\"col_heading level0 col1\" >Outliers Accuracy</th>        <th class=\"col_heading level0 col2\" >Overall Accuracy</th>    </tr></thead><tbody>\n",
       "                <tr>\n",
       "                                <td id=\"T_abee048c_d4a6_11ec_8434_2016b948faacrow0_col0\" class=\"data row0 col0\" >0.918429</td>\n",
       "                        <td id=\"T_abee048c_d4a6_11ec_8434_2016b948faacrow0_col1\" class=\"data row0 col1\" >0.812500</td>\n",
       "                        <td id=\"T_abee048c_d4a6_11ec_8434_2016b948faacrow0_col2\" class=\"data row0 col2\" >0.881657</td>\n",
       "            </tr>\n",
       "    </tbody></table>"
      ],
      "text/plain": [
       "<pandas.io.formats.style.Styler at 0x23bf932caf0>"
      ]
     },
     "metadata": {},
     "output_type": "display_data"
    },
    {
     "data": {
      "text/markdown": [
       "##### Classification Report"
      ],
      "text/plain": [
       "<IPython.core.display.Markdown object>"
      ]
     },
     "metadata": {},
     "output_type": "display_data"
    },
    {
     "name": "stdout",
     "output_type": "stream",
     "text": [
      "              precision    recall  f1-score   support\n",
      "\n",
      "           0       0.90      0.92      0.91       331\n",
      "           1       0.84      0.81      0.83       176\n",
      "\n",
      "    accuracy                           0.88       507\n",
      "   macro avg       0.87      0.87      0.87       507\n",
      "weighted avg       0.88      0.88      0.88       507\n",
      "\n"
     ]
    },
    {
     "data": {
      "text/markdown": [
       "---"
      ],
      "text/plain": [
       "<IPython.core.display.Markdown object>"
      ]
     },
     "metadata": {},
     "output_type": "display_data"
    },
    {
     "data": {
      "text/markdown": [
       "### Threshold 0.9282051282051282"
      ],
      "text/plain": [
       "<IPython.core.display.Markdown object>"
      ]
     },
     "metadata": {},
     "output_type": "display_data"
    },
    {
     "data": {
      "text/html": [
       "<style  type=\"text/css\" >\n",
       "</style><table id=\"T_abf04ba8_d4a6_11ec_8b65_2016b948faac\" ><thead>    <tr>        <th class=\"col_heading level0 col0\" >Inliers Accuracy</th>        <th class=\"col_heading level0 col1\" >Outliers Accuracy</th>        <th class=\"col_heading level0 col2\" >Overall Accuracy</th>    </tr></thead><tbody>\n",
       "                <tr>\n",
       "                                <td id=\"T_abf04ba8_d4a6_11ec_8b65_2016b948faacrow0_col0\" class=\"data row0 col0\" >0.918429</td>\n",
       "                        <td id=\"T_abf04ba8_d4a6_11ec_8b65_2016b948faacrow0_col1\" class=\"data row0 col1\" >0.812500</td>\n",
       "                        <td id=\"T_abf04ba8_d4a6_11ec_8b65_2016b948faacrow0_col2\" class=\"data row0 col2\" >0.881657</td>\n",
       "            </tr>\n",
       "    </tbody></table>"
      ],
      "text/plain": [
       "<pandas.io.formats.style.Styler at 0x23bf920b550>"
      ]
     },
     "metadata": {},
     "output_type": "display_data"
    },
    {
     "data": {
      "text/markdown": [
       "##### Classification Report"
      ],
      "text/plain": [
       "<IPython.core.display.Markdown object>"
      ]
     },
     "metadata": {},
     "output_type": "display_data"
    },
    {
     "name": "stdout",
     "output_type": "stream",
     "text": [
      "              precision    recall  f1-score   support\n",
      "\n",
      "           0       0.90      0.92      0.91       331\n",
      "           1       0.84      0.81      0.83       176\n",
      "\n",
      "    accuracy                           0.88       507\n",
      "   macro avg       0.87      0.87      0.87       507\n",
      "weighted avg       0.88      0.88      0.88       507\n",
      "\n"
     ]
    },
    {
     "data": {
      "text/markdown": [
       "---"
      ],
      "text/plain": [
       "<IPython.core.display.Markdown object>"
      ]
     },
     "metadata": {},
     "output_type": "display_data"
    },
    {
     "data": {
      "text/markdown": [
       "### Threshold 0.9769230769230769"
      ],
      "text/plain": [
       "<IPython.core.display.Markdown object>"
      ]
     },
     "metadata": {},
     "output_type": "display_data"
    },
    {
     "data": {
      "text/html": [
       "<style  type=\"text/css\" >\n",
       "</style><table id=\"T_abf28918_d4a6_11ec_84f0_2016b948faac\" ><thead>    <tr>        <th class=\"col_heading level0 col0\" >Inliers Accuracy</th>        <th class=\"col_heading level0 col1\" >Outliers Accuracy</th>        <th class=\"col_heading level0 col2\" >Overall Accuracy</th>    </tr></thead><tbody>\n",
       "                <tr>\n",
       "                                <td id=\"T_abf28918_d4a6_11ec_84f0_2016b948faacrow0_col0\" class=\"data row0 col0\" >0.921450</td>\n",
       "                        <td id=\"T_abf28918_d4a6_11ec_84f0_2016b948faacrow0_col1\" class=\"data row0 col1\" >0.795455</td>\n",
       "                        <td id=\"T_abf28918_d4a6_11ec_84f0_2016b948faacrow0_col2\" class=\"data row0 col2\" >0.877712</td>\n",
       "            </tr>\n",
       "    </tbody></table>"
      ],
      "text/plain": [
       "<pandas.io.formats.style.Styler at 0x23bf920b040>"
      ]
     },
     "metadata": {},
     "output_type": "display_data"
    },
    {
     "data": {
      "text/markdown": [
       "##### Classification Report"
      ],
      "text/plain": [
       "<IPython.core.display.Markdown object>"
      ]
     },
     "metadata": {},
     "output_type": "display_data"
    },
    {
     "name": "stdout",
     "output_type": "stream",
     "text": [
      "              precision    recall  f1-score   support\n",
      "\n",
      "           0       0.89      0.92      0.91       331\n",
      "           1       0.84      0.80      0.82       176\n",
      "\n",
      "    accuracy                           0.88       507\n",
      "   macro avg       0.87      0.86      0.86       507\n",
      "weighted avg       0.88      0.88      0.88       507\n",
      "\n"
     ]
    },
    {
     "data": {
      "text/markdown": [
       "---"
      ],
      "text/plain": [
       "<IPython.core.display.Markdown object>"
      ]
     },
     "metadata": {},
     "output_type": "display_data"
    },
    {
     "data": {
      "text/markdown": [
       "### Threshold 1.0256410256410258"
      ],
      "text/plain": [
       "<IPython.core.display.Markdown object>"
      ]
     },
     "metadata": {},
     "output_type": "display_data"
    },
    {
     "data": {
      "text/html": [
       "<style  type=\"text/css\" >\n",
       "</style><table id=\"T_abf4ab32_d4a6_11ec_af60_2016b948faac\" ><thead>    <tr>        <th class=\"col_heading level0 col0\" >Inliers Accuracy</th>        <th class=\"col_heading level0 col1\" >Outliers Accuracy</th>        <th class=\"col_heading level0 col2\" >Overall Accuracy</th>    </tr></thead><tbody>\n",
       "                <tr>\n",
       "                                <td id=\"T_abf4ab32_d4a6_11ec_af60_2016b948faacrow0_col0\" class=\"data row0 col0\" >0.921450</td>\n",
       "                        <td id=\"T_abf4ab32_d4a6_11ec_af60_2016b948faacrow0_col1\" class=\"data row0 col1\" >0.784091</td>\n",
       "                        <td id=\"T_abf4ab32_d4a6_11ec_af60_2016b948faacrow0_col2\" class=\"data row0 col2\" >0.873767</td>\n",
       "            </tr>\n",
       "    </tbody></table>"
      ],
      "text/plain": [
       "<pandas.io.formats.style.Styler at 0x23bfc533790>"
      ]
     },
     "metadata": {},
     "output_type": "display_data"
    },
    {
     "data": {
      "text/markdown": [
       "##### Classification Report"
      ],
      "text/plain": [
       "<IPython.core.display.Markdown object>"
      ]
     },
     "metadata": {},
     "output_type": "display_data"
    },
    {
     "name": "stdout",
     "output_type": "stream",
     "text": [
      "              precision    recall  f1-score   support\n",
      "\n",
      "           0       0.89      0.92      0.91       331\n",
      "           1       0.84      0.78      0.81       176\n",
      "\n",
      "    accuracy                           0.87       507\n",
      "   macro avg       0.87      0.85      0.86       507\n",
      "weighted avg       0.87      0.87      0.87       507\n",
      "\n"
     ]
    },
    {
     "data": {
      "text/markdown": [
       "---"
      ],
      "text/plain": [
       "<IPython.core.display.Markdown object>"
      ]
     },
     "metadata": {},
     "output_type": "display_data"
    },
    {
     "data": {
      "text/markdown": [
       "### Threshold 1.0743589743589743"
      ],
      "text/plain": [
       "<IPython.core.display.Markdown object>"
      ]
     },
     "metadata": {},
     "output_type": "display_data"
    },
    {
     "data": {
      "text/html": [
       "<style  type=\"text/css\" >\n",
       "</style><table id=\"T_abf6ce28_d4a6_11ec_bc8a_2016b948faac\" ><thead>    <tr>        <th class=\"col_heading level0 col0\" >Inliers Accuracy</th>        <th class=\"col_heading level0 col1\" >Outliers Accuracy</th>        <th class=\"col_heading level0 col2\" >Overall Accuracy</th>    </tr></thead><tbody>\n",
       "                <tr>\n",
       "                                <td id=\"T_abf6ce28_d4a6_11ec_bc8a_2016b948faacrow0_col0\" class=\"data row0 col0\" >0.927492</td>\n",
       "                        <td id=\"T_abf6ce28_d4a6_11ec_bc8a_2016b948faacrow0_col1\" class=\"data row0 col1\" >0.767045</td>\n",
       "                        <td id=\"T_abf6ce28_d4a6_11ec_bc8a_2016b948faacrow0_col2\" class=\"data row0 col2\" >0.871795</td>\n",
       "            </tr>\n",
       "    </tbody></table>"
      ],
      "text/plain": [
       "<pandas.io.formats.style.Styler at 0x23bfc533700>"
      ]
     },
     "metadata": {},
     "output_type": "display_data"
    },
    {
     "data": {
      "text/markdown": [
       "##### Classification Report"
      ],
      "text/plain": [
       "<IPython.core.display.Markdown object>"
      ]
     },
     "metadata": {},
     "output_type": "display_data"
    },
    {
     "name": "stdout",
     "output_type": "stream",
     "text": [
      "              precision    recall  f1-score   support\n",
      "\n",
      "           0       0.88      0.93      0.90       331\n",
      "           1       0.85      0.77      0.81       176\n",
      "\n",
      "    accuracy                           0.87       507\n",
      "   macro avg       0.87      0.85      0.86       507\n",
      "weighted avg       0.87      0.87      0.87       507\n",
      "\n"
     ]
    },
    {
     "data": {
      "text/markdown": [
       "---"
      ],
      "text/plain": [
       "<IPython.core.display.Markdown object>"
      ]
     },
     "metadata": {},
     "output_type": "display_data"
    },
    {
     "data": {
      "text/markdown": [
       "### Threshold 1.123076923076923"
      ],
      "text/plain": [
       "<IPython.core.display.Markdown object>"
      ]
     },
     "metadata": {},
     "output_type": "display_data"
    },
    {
     "data": {
      "text/html": [
       "<style  type=\"text/css\" >\n",
       "</style><table id=\"T_abf8c9c9_d4a6_11ec_abc7_2016b948faac\" ><thead>    <tr>        <th class=\"col_heading level0 col0\" >Inliers Accuracy</th>        <th class=\"col_heading level0 col1\" >Outliers Accuracy</th>        <th class=\"col_heading level0 col2\" >Overall Accuracy</th>    </tr></thead><tbody>\n",
       "                <tr>\n",
       "                                <td id=\"T_abf8c9c9_d4a6_11ec_abc7_2016b948faacrow0_col0\" class=\"data row0 col0\" >0.930514</td>\n",
       "                        <td id=\"T_abf8c9c9_d4a6_11ec_abc7_2016b948faacrow0_col1\" class=\"data row0 col1\" >0.755682</td>\n",
       "                        <td id=\"T_abf8c9c9_d4a6_11ec_abc7_2016b948faacrow0_col2\" class=\"data row0 col2\" >0.869822</td>\n",
       "            </tr>\n",
       "    </tbody></table>"
      ],
      "text/plain": [
       "<pandas.io.formats.style.Styler at 0x23bfc5336a0>"
      ]
     },
     "metadata": {},
     "output_type": "display_data"
    },
    {
     "data": {
      "text/markdown": [
       "##### Classification Report"
      ],
      "text/plain": [
       "<IPython.core.display.Markdown object>"
      ]
     },
     "metadata": {},
     "output_type": "display_data"
    },
    {
     "name": "stdout",
     "output_type": "stream",
     "text": [
      "              precision    recall  f1-score   support\n",
      "\n",
      "           0       0.88      0.93      0.90       331\n",
      "           1       0.85      0.76      0.80       176\n",
      "\n",
      "    accuracy                           0.87       507\n",
      "   macro avg       0.87      0.84      0.85       507\n",
      "weighted avg       0.87      0.87      0.87       507\n",
      "\n"
     ]
    },
    {
     "data": {
      "text/markdown": [
       "---"
      ],
      "text/plain": [
       "<IPython.core.display.Markdown object>"
      ]
     },
     "metadata": {},
     "output_type": "display_data"
    },
    {
     "data": {
      "text/markdown": [
       "### Threshold 1.1717948717948719"
      ],
      "text/plain": [
       "<IPython.core.display.Markdown object>"
      ]
     },
     "metadata": {},
     "output_type": "display_data"
    },
    {
     "data": {
      "text/html": [
       "<style  type=\"text/css\" >\n",
       "</style><table id=\"T_abfae868_d4a6_11ec_988f_2016b948faac\" ><thead>    <tr>        <th class=\"col_heading level0 col0\" >Inliers Accuracy</th>        <th class=\"col_heading level0 col1\" >Outliers Accuracy</th>        <th class=\"col_heading level0 col2\" >Overall Accuracy</th>    </tr></thead><tbody>\n",
       "                <tr>\n",
       "                                <td id=\"T_abfae868_d4a6_11ec_988f_2016b948faacrow0_col0\" class=\"data row0 col0\" >0.936556</td>\n",
       "                        <td id=\"T_abfae868_d4a6_11ec_988f_2016b948faacrow0_col1\" class=\"data row0 col1\" >0.738636</td>\n",
       "                        <td id=\"T_abfae868_d4a6_11ec_988f_2016b948faacrow0_col2\" class=\"data row0 col2\" >0.867850</td>\n",
       "            </tr>\n",
       "    </tbody></table>"
      ],
      "text/plain": [
       "<pandas.io.formats.style.Styler at 0x23bf920b580>"
      ]
     },
     "metadata": {},
     "output_type": "display_data"
    },
    {
     "data": {
      "text/markdown": [
       "##### Classification Report"
      ],
      "text/plain": [
       "<IPython.core.display.Markdown object>"
      ]
     },
     "metadata": {},
     "output_type": "display_data"
    },
    {
     "name": "stdout",
     "output_type": "stream",
     "text": [
      "              precision    recall  f1-score   support\n",
      "\n",
      "           0       0.87      0.94      0.90       331\n",
      "           1       0.86      0.74      0.80       176\n",
      "\n",
      "    accuracy                           0.87       507\n",
      "   macro avg       0.87      0.84      0.85       507\n",
      "weighted avg       0.87      0.87      0.87       507\n",
      "\n"
     ]
    },
    {
     "data": {
      "text/markdown": [
       "---"
      ],
      "text/plain": [
       "<IPython.core.display.Markdown object>"
      ]
     },
     "metadata": {},
     "output_type": "display_data"
    },
    {
     "data": {
      "text/markdown": [
       "### Threshold 1.2205128205128206"
      ],
      "text/plain": [
       "<IPython.core.display.Markdown object>"
      ]
     },
     "metadata": {},
     "output_type": "display_data"
    },
    {
     "data": {
      "text/html": [
       "<style  type=\"text/css\" >\n",
       "</style><table id=\"T_abfd94e2_d4a6_11ec_baa9_2016b948faac\" ><thead>    <tr>        <th class=\"col_heading level0 col0\" >Inliers Accuracy</th>        <th class=\"col_heading level0 col1\" >Outliers Accuracy</th>        <th class=\"col_heading level0 col2\" >Overall Accuracy</th>    </tr></thead><tbody>\n",
       "                <tr>\n",
       "                                <td id=\"T_abfd94e2_d4a6_11ec_baa9_2016b948faacrow0_col0\" class=\"data row0 col0\" >0.939577</td>\n",
       "                        <td id=\"T_abfd94e2_d4a6_11ec_baa9_2016b948faacrow0_col1\" class=\"data row0 col1\" >0.727273</td>\n",
       "                        <td id=\"T_abfd94e2_d4a6_11ec_baa9_2016b948faacrow0_col2\" class=\"data row0 col2\" >0.865878</td>\n",
       "            </tr>\n",
       "    </tbody></table>"
      ],
      "text/plain": [
       "<pandas.io.formats.style.Styler at 0x23bf932ca30>"
      ]
     },
     "metadata": {},
     "output_type": "display_data"
    },
    {
     "data": {
      "text/markdown": [
       "##### Classification Report"
      ],
      "text/plain": [
       "<IPython.core.display.Markdown object>"
      ]
     },
     "metadata": {},
     "output_type": "display_data"
    },
    {
     "name": "stdout",
     "output_type": "stream",
     "text": [
      "              precision    recall  f1-score   support\n",
      "\n",
      "           0       0.87      0.94      0.90       331\n",
      "           1       0.86      0.73      0.79       176\n",
      "\n",
      "    accuracy                           0.87       507\n",
      "   macro avg       0.87      0.83      0.85       507\n",
      "weighted avg       0.87      0.87      0.86       507\n",
      "\n"
     ]
    },
    {
     "data": {
      "text/markdown": [
       "---"
      ],
      "text/plain": [
       "<IPython.core.display.Markdown object>"
      ]
     },
     "metadata": {},
     "output_type": "display_data"
    },
    {
     "data": {
      "text/markdown": [
       "### Threshold 1.2692307692307694"
      ],
      "text/plain": [
       "<IPython.core.display.Markdown object>"
      ]
     },
     "metadata": {},
     "output_type": "display_data"
    },
    {
     "data": {
      "text/html": [
       "<style  type=\"text/css\" >\n",
       "</style><table id=\"T_abffdec9_d4a6_11ec_a251_2016b948faac\" ><thead>    <tr>        <th class=\"col_heading level0 col0\" >Inliers Accuracy</th>        <th class=\"col_heading level0 col1\" >Outliers Accuracy</th>        <th class=\"col_heading level0 col2\" >Overall Accuracy</th>    </tr></thead><tbody>\n",
       "                <tr>\n",
       "                                <td id=\"T_abffdec9_d4a6_11ec_a251_2016b948faacrow0_col0\" class=\"data row0 col0\" >0.942598</td>\n",
       "                        <td id=\"T_abffdec9_d4a6_11ec_a251_2016b948faacrow0_col1\" class=\"data row0 col1\" >0.681818</td>\n",
       "                        <td id=\"T_abffdec9_d4a6_11ec_a251_2016b948faacrow0_col2\" class=\"data row0 col2\" >0.852071</td>\n",
       "            </tr>\n",
       "    </tbody></table>"
      ],
      "text/plain": [
       "<pandas.io.formats.style.Styler at 0x23bf932cc40>"
      ]
     },
     "metadata": {},
     "output_type": "display_data"
    },
    {
     "data": {
      "text/markdown": [
       "##### Classification Report"
      ],
      "text/plain": [
       "<IPython.core.display.Markdown object>"
      ]
     },
     "metadata": {},
     "output_type": "display_data"
    },
    {
     "name": "stdout",
     "output_type": "stream",
     "text": [
      "              precision    recall  f1-score   support\n",
      "\n",
      "           0       0.85      0.94      0.89       331\n",
      "           1       0.86      0.68      0.76       176\n",
      "\n",
      "    accuracy                           0.85       507\n",
      "   macro avg       0.86      0.81      0.83       507\n",
      "weighted avg       0.85      0.85      0.85       507\n",
      "\n"
     ]
    },
    {
     "data": {
      "text/markdown": [
       "---"
      ],
      "text/plain": [
       "<IPython.core.display.Markdown object>"
      ]
     },
     "metadata": {},
     "output_type": "display_data"
    },
    {
     "data": {
      "text/markdown": [
       "### Threshold 1.3179487179487182"
      ],
      "text/plain": [
       "<IPython.core.display.Markdown object>"
      ]
     },
     "metadata": {},
     "output_type": "display_data"
    },
    {
     "data": {
      "text/html": [
       "<style  type=\"text/css\" >\n",
       "</style><table id=\"T_ac01dab6_d4a6_11ec_9038_2016b948faac\" ><thead>    <tr>        <th class=\"col_heading level0 col0\" >Inliers Accuracy</th>        <th class=\"col_heading level0 col1\" >Outliers Accuracy</th>        <th class=\"col_heading level0 col2\" >Overall Accuracy</th>    </tr></thead><tbody>\n",
       "                <tr>\n",
       "                                <td id=\"T_ac01dab6_d4a6_11ec_9038_2016b948faacrow0_col0\" class=\"data row0 col0\" >0.945619</td>\n",
       "                        <td id=\"T_ac01dab6_d4a6_11ec_9038_2016b948faacrow0_col1\" class=\"data row0 col1\" >0.664773</td>\n",
       "                        <td id=\"T_ac01dab6_d4a6_11ec_9038_2016b948faacrow0_col2\" class=\"data row0 col2\" >0.848126</td>\n",
       "            </tr>\n",
       "    </tbody></table>"
      ],
      "text/plain": [
       "<pandas.io.formats.style.Styler at 0x23bf932c3a0>"
      ]
     },
     "metadata": {},
     "output_type": "display_data"
    },
    {
     "data": {
      "text/markdown": [
       "##### Classification Report"
      ],
      "text/plain": [
       "<IPython.core.display.Markdown object>"
      ]
     },
     "metadata": {},
     "output_type": "display_data"
    },
    {
     "name": "stdout",
     "output_type": "stream",
     "text": [
      "              precision    recall  f1-score   support\n",
      "\n",
      "           0       0.84      0.95      0.89       331\n",
      "           1       0.87      0.66      0.75       176\n",
      "\n",
      "    accuracy                           0.85       507\n",
      "   macro avg       0.85      0.81      0.82       507\n",
      "weighted avg       0.85      0.85      0.84       507\n",
      "\n"
     ]
    },
    {
     "data": {
      "text/markdown": [
       "---"
      ],
      "text/plain": [
       "<IPython.core.display.Markdown object>"
      ]
     },
     "metadata": {},
     "output_type": "display_data"
    },
    {
     "data": {
      "text/markdown": [
       "### Threshold 1.3666666666666667"
      ],
      "text/plain": [
       "<IPython.core.display.Markdown object>"
      ]
     },
     "metadata": {},
     "output_type": "display_data"
    },
    {
     "data": {
      "text/html": [
       "<style  type=\"text/css\" >\n",
       "</style><table id=\"T_ac03fd85_d4a6_11ec_a389_2016b948faac\" ><thead>    <tr>        <th class=\"col_heading level0 col0\" >Inliers Accuracy</th>        <th class=\"col_heading level0 col1\" >Outliers Accuracy</th>        <th class=\"col_heading level0 col2\" >Overall Accuracy</th>    </tr></thead><tbody>\n",
       "                <tr>\n",
       "                                <td id=\"T_ac03fd85_d4a6_11ec_a389_2016b948faacrow0_col0\" class=\"data row0 col0\" >0.945619</td>\n",
       "                        <td id=\"T_ac03fd85_d4a6_11ec_a389_2016b948faacrow0_col1\" class=\"data row0 col1\" >0.642045</td>\n",
       "                        <td id=\"T_ac03fd85_d4a6_11ec_a389_2016b948faacrow0_col2\" class=\"data row0 col2\" >0.840237</td>\n",
       "            </tr>\n",
       "    </tbody></table>"
      ],
      "text/plain": [
       "<pandas.io.formats.style.Styler at 0x23bfb447ca0>"
      ]
     },
     "metadata": {},
     "output_type": "display_data"
    },
    {
     "data": {
      "text/markdown": [
       "##### Classification Report"
      ],
      "text/plain": [
       "<IPython.core.display.Markdown object>"
      ]
     },
     "metadata": {},
     "output_type": "display_data"
    },
    {
     "name": "stdout",
     "output_type": "stream",
     "text": [
      "              precision    recall  f1-score   support\n",
      "\n",
      "           0       0.83      0.95      0.89       331\n",
      "           1       0.86      0.64      0.74       176\n",
      "\n",
      "    accuracy                           0.84       507\n",
      "   macro avg       0.85      0.79      0.81       507\n",
      "weighted avg       0.84      0.84      0.83       507\n",
      "\n"
     ]
    },
    {
     "data": {
      "text/markdown": [
       "---"
      ],
      "text/plain": [
       "<IPython.core.display.Markdown object>"
      ]
     },
     "metadata": {},
     "output_type": "display_data"
    },
    {
     "data": {
      "text/markdown": [
       "### Threshold 1.4153846153846155"
      ],
      "text/plain": [
       "<IPython.core.display.Markdown object>"
      ]
     },
     "metadata": {},
     "output_type": "display_data"
    },
    {
     "data": {
      "text/html": [
       "<style  type=\"text/css\" >\n",
       "</style><table id=\"T_ac062064_d4a6_11ec_9e8e_2016b948faac\" ><thead>    <tr>        <th class=\"col_heading level0 col0\" >Inliers Accuracy</th>        <th class=\"col_heading level0 col1\" >Outliers Accuracy</th>        <th class=\"col_heading level0 col2\" >Overall Accuracy</th>    </tr></thead><tbody>\n",
       "                <tr>\n",
       "                                <td id=\"T_ac062064_d4a6_11ec_9e8e_2016b948faacrow0_col0\" class=\"data row0 col0\" >0.945619</td>\n",
       "                        <td id=\"T_ac062064_d4a6_11ec_9e8e_2016b948faacrow0_col1\" class=\"data row0 col1\" >0.625000</td>\n",
       "                        <td id=\"T_ac062064_d4a6_11ec_9e8e_2016b948faacrow0_col2\" class=\"data row0 col2\" >0.834320</td>\n",
       "            </tr>\n",
       "    </tbody></table>"
      ],
      "text/plain": [
       "<pandas.io.formats.style.Styler at 0x23bfc52e520>"
      ]
     },
     "metadata": {},
     "output_type": "display_data"
    },
    {
     "data": {
      "text/markdown": [
       "##### Classification Report"
      ],
      "text/plain": [
       "<IPython.core.display.Markdown object>"
      ]
     },
     "metadata": {},
     "output_type": "display_data"
    },
    {
     "name": "stdout",
     "output_type": "stream",
     "text": [
      "              precision    recall  f1-score   support\n",
      "\n",
      "           0       0.83      0.95      0.88       331\n",
      "           1       0.86      0.62      0.72       176\n",
      "\n",
      "    accuracy                           0.83       507\n",
      "   macro avg       0.84      0.79      0.80       507\n",
      "weighted avg       0.84      0.83      0.83       507\n",
      "\n"
     ]
    },
    {
     "data": {
      "text/markdown": [
       "---"
      ],
      "text/plain": [
       "<IPython.core.display.Markdown object>"
      ]
     },
     "metadata": {},
     "output_type": "display_data"
    },
    {
     "data": {
      "text/markdown": [
       "### Threshold 1.4641025641025642"
      ],
      "text/plain": [
       "<IPython.core.display.Markdown object>"
      ]
     },
     "metadata": {},
     "output_type": "display_data"
    },
    {
     "data": {
      "text/html": [
       "<style  type=\"text/css\" >\n",
       "</style><table id=\"T_ac081c35_d4a6_11ec_bc79_2016b948faac\" ><thead>    <tr>        <th class=\"col_heading level0 col0\" >Inliers Accuracy</th>        <th class=\"col_heading level0 col1\" >Outliers Accuracy</th>        <th class=\"col_heading level0 col2\" >Overall Accuracy</th>    </tr></thead><tbody>\n",
       "                <tr>\n",
       "                                <td id=\"T_ac081c35_d4a6_11ec_bc79_2016b948faacrow0_col0\" class=\"data row0 col0\" >0.951662</td>\n",
       "                        <td id=\"T_ac081c35_d4a6_11ec_bc79_2016b948faacrow0_col1\" class=\"data row0 col1\" >0.585227</td>\n",
       "                        <td id=\"T_ac081c35_d4a6_11ec_bc79_2016b948faacrow0_col2\" class=\"data row0 col2\" >0.824458</td>\n",
       "            </tr>\n",
       "    </tbody></table>"
      ],
      "text/plain": [
       "<pandas.io.formats.style.Styler at 0x23bfb495e50>"
      ]
     },
     "metadata": {},
     "output_type": "display_data"
    },
    {
     "data": {
      "text/markdown": [
       "##### Classification Report"
      ],
      "text/plain": [
       "<IPython.core.display.Markdown object>"
      ]
     },
     "metadata": {},
     "output_type": "display_data"
    },
    {
     "name": "stdout",
     "output_type": "stream",
     "text": [
      "              precision    recall  f1-score   support\n",
      "\n",
      "           0       0.81      0.95      0.88       331\n",
      "           1       0.87      0.59      0.70       176\n",
      "\n",
      "    accuracy                           0.82       507\n",
      "   macro avg       0.84      0.77      0.79       507\n",
      "weighted avg       0.83      0.82      0.81       507\n",
      "\n"
     ]
    },
    {
     "data": {
      "text/markdown": [
       "---"
      ],
      "text/plain": [
       "<IPython.core.display.Markdown object>"
      ]
     },
     "metadata": {},
     "output_type": "display_data"
    },
    {
     "data": {
      "text/markdown": [
       "### Threshold 1.512820512820513"
      ],
      "text/plain": [
       "<IPython.core.display.Markdown object>"
      ]
     },
     "metadata": {},
     "output_type": "display_data"
    },
    {
     "data": {
      "text/html": [
       "<style  type=\"text/css\" >\n",
       "</style><table id=\"T_ac0a17de_d4a6_11ec_8471_2016b948faac\" ><thead>    <tr>        <th class=\"col_heading level0 col0\" >Inliers Accuracy</th>        <th class=\"col_heading level0 col1\" >Outliers Accuracy</th>        <th class=\"col_heading level0 col2\" >Overall Accuracy</th>    </tr></thead><tbody>\n",
       "                <tr>\n",
       "                                <td id=\"T_ac0a17de_d4a6_11ec_8471_2016b948faacrow0_col0\" class=\"data row0 col0\" >0.954683</td>\n",
       "                        <td id=\"T_ac0a17de_d4a6_11ec_8471_2016b948faacrow0_col1\" class=\"data row0 col1\" >0.568182</td>\n",
       "                        <td id=\"T_ac0a17de_d4a6_11ec_8471_2016b948faacrow0_col2\" class=\"data row0 col2\" >0.820513</td>\n",
       "            </tr>\n",
       "    </tbody></table>"
      ],
      "text/plain": [
       "<pandas.io.formats.style.Styler at 0x23bfc4a64c0>"
      ]
     },
     "metadata": {},
     "output_type": "display_data"
    },
    {
     "data": {
      "text/markdown": [
       "##### Classification Report"
      ],
      "text/plain": [
       "<IPython.core.display.Markdown object>"
      ]
     },
     "metadata": {},
     "output_type": "display_data"
    },
    {
     "name": "stdout",
     "output_type": "stream",
     "text": [
      "              precision    recall  f1-score   support\n",
      "\n",
      "           0       0.81      0.95      0.87       331\n",
      "           1       0.87      0.57      0.69       176\n",
      "\n",
      "    accuracy                           0.82       507\n",
      "   macro avg       0.84      0.76      0.78       507\n",
      "weighted avg       0.83      0.82      0.81       507\n",
      "\n"
     ]
    },
    {
     "data": {
      "text/markdown": [
       "---"
      ],
      "text/plain": [
       "<IPython.core.display.Markdown object>"
      ]
     },
     "metadata": {},
     "output_type": "display_data"
    },
    {
     "data": {
      "text/markdown": [
       "### Threshold 1.5615384615384615"
      ],
      "text/plain": [
       "<IPython.core.display.Markdown object>"
      ]
     },
     "metadata": {},
     "output_type": "display_data"
    },
    {
     "data": {
      "text/html": [
       "<style  type=\"text/css\" >\n",
       "</style><table id=\"T_ac0c13b6_d4a6_11ec_b775_2016b948faac\" ><thead>    <tr>        <th class=\"col_heading level0 col0\" >Inliers Accuracy</th>        <th class=\"col_heading level0 col1\" >Outliers Accuracy</th>        <th class=\"col_heading level0 col2\" >Overall Accuracy</th>    </tr></thead><tbody>\n",
       "                <tr>\n",
       "                                <td id=\"T_ac0c13b6_d4a6_11ec_b775_2016b948faacrow0_col0\" class=\"data row0 col0\" >0.957704</td>\n",
       "                        <td id=\"T_ac0c13b6_d4a6_11ec_b775_2016b948faacrow0_col1\" class=\"data row0 col1\" >0.562500</td>\n",
       "                        <td id=\"T_ac0c13b6_d4a6_11ec_b775_2016b948faacrow0_col2\" class=\"data row0 col2\" >0.820513</td>\n",
       "            </tr>\n",
       "    </tbody></table>"
      ],
      "text/plain": [
       "<pandas.io.formats.style.Styler at 0x23bfc4b4820>"
      ]
     },
     "metadata": {},
     "output_type": "display_data"
    },
    {
     "data": {
      "text/markdown": [
       "##### Classification Report"
      ],
      "text/plain": [
       "<IPython.core.display.Markdown object>"
      ]
     },
     "metadata": {},
     "output_type": "display_data"
    },
    {
     "name": "stdout",
     "output_type": "stream",
     "text": [
      "              precision    recall  f1-score   support\n",
      "\n",
      "           0       0.80      0.96      0.87       331\n",
      "           1       0.88      0.56      0.69       176\n",
      "\n",
      "    accuracy                           0.82       507\n",
      "   macro avg       0.84      0.76      0.78       507\n",
      "weighted avg       0.83      0.82      0.81       507\n",
      "\n"
     ]
    },
    {
     "data": {
      "text/markdown": [
       "---"
      ],
      "text/plain": [
       "<IPython.core.display.Markdown object>"
      ]
     },
     "metadata": {},
     "output_type": "display_data"
    },
    {
     "data": {
      "text/markdown": [
       "### Threshold 1.6102564102564103"
      ],
      "text/plain": [
       "<IPython.core.display.Markdown object>"
      ]
     },
     "metadata": {},
     "output_type": "display_data"
    },
    {
     "data": {
      "text/html": [
       "<style  type=\"text/css\" >\n",
       "</style><table id=\"T_ac0e5f25_d4a6_11ec_889a_2016b948faac\" ><thead>    <tr>        <th class=\"col_heading level0 col0\" >Inliers Accuracy</th>        <th class=\"col_heading level0 col1\" >Outliers Accuracy</th>        <th class=\"col_heading level0 col2\" >Overall Accuracy</th>    </tr></thead><tbody>\n",
       "                <tr>\n",
       "                                <td id=\"T_ac0e5f25_d4a6_11ec_889a_2016b948faacrow0_col0\" class=\"data row0 col0\" >0.960725</td>\n",
       "                        <td id=\"T_ac0e5f25_d4a6_11ec_889a_2016b948faacrow0_col1\" class=\"data row0 col1\" >0.551136</td>\n",
       "                        <td id=\"T_ac0e5f25_d4a6_11ec_889a_2016b948faacrow0_col2\" class=\"data row0 col2\" >0.818540</td>\n",
       "            </tr>\n",
       "    </tbody></table>"
      ],
      "text/plain": [
       "<pandas.io.formats.style.Styler at 0x23bfc4f9f40>"
      ]
     },
     "metadata": {},
     "output_type": "display_data"
    },
    {
     "data": {
      "text/markdown": [
       "##### Classification Report"
      ],
      "text/plain": [
       "<IPython.core.display.Markdown object>"
      ]
     },
     "metadata": {},
     "output_type": "display_data"
    },
    {
     "name": "stdout",
     "output_type": "stream",
     "text": [
      "              precision    recall  f1-score   support\n",
      "\n",
      "           0       0.80      0.96      0.87       331\n",
      "           1       0.88      0.55      0.68       176\n",
      "\n",
      "    accuracy                           0.82       507\n",
      "   macro avg       0.84      0.76      0.78       507\n",
      "weighted avg       0.83      0.82      0.81       507\n",
      "\n"
     ]
    },
    {
     "data": {
      "text/markdown": [
       "---"
      ],
      "text/plain": [
       "<IPython.core.display.Markdown object>"
      ]
     },
     "metadata": {},
     "output_type": "display_data"
    },
    {
     "data": {
      "text/markdown": [
       "### Threshold 1.658974358974359"
      ],
      "text/plain": [
       "<IPython.core.display.Markdown object>"
      ]
     },
     "metadata": {},
     "output_type": "display_data"
    },
    {
     "data": {
      "text/html": [
       "<style  type=\"text/css\" >\n",
       "</style><table id=\"T_ac10a7b7_d4a6_11ec_a11b_2016b948faac\" ><thead>    <tr>        <th class=\"col_heading level0 col0\" >Inliers Accuracy</th>        <th class=\"col_heading level0 col1\" >Outliers Accuracy</th>        <th class=\"col_heading level0 col2\" >Overall Accuracy</th>    </tr></thead><tbody>\n",
       "                <tr>\n",
       "                                <td id=\"T_ac10a7b7_d4a6_11ec_a11b_2016b948faacrow0_col0\" class=\"data row0 col0\" >0.960725</td>\n",
       "                        <td id=\"T_ac10a7b7_d4a6_11ec_a11b_2016b948faacrow0_col1\" class=\"data row0 col1\" >0.528409</td>\n",
       "                        <td id=\"T_ac10a7b7_d4a6_11ec_a11b_2016b948faacrow0_col2\" class=\"data row0 col2\" >0.810651</td>\n",
       "            </tr>\n",
       "    </tbody></table>"
      ],
      "text/plain": [
       "<pandas.io.formats.style.Styler at 0x23bfc5130a0>"
      ]
     },
     "metadata": {},
     "output_type": "display_data"
    },
    {
     "data": {
      "text/markdown": [
       "##### Classification Report"
      ],
      "text/plain": [
       "<IPython.core.display.Markdown object>"
      ]
     },
     "metadata": {},
     "output_type": "display_data"
    },
    {
     "name": "stdout",
     "output_type": "stream",
     "text": [
      "              precision    recall  f1-score   support\n",
      "\n",
      "           0       0.79      0.96      0.87       331\n",
      "           1       0.88      0.53      0.66       176\n",
      "\n",
      "    accuracy                           0.81       507\n",
      "   macro avg       0.84      0.74      0.76       507\n",
      "weighted avg       0.82      0.81      0.80       507\n",
      "\n"
     ]
    },
    {
     "data": {
      "text/markdown": [
       "---"
      ],
      "text/plain": [
       "<IPython.core.display.Markdown object>"
      ]
     },
     "metadata": {},
     "output_type": "display_data"
    },
    {
     "data": {
      "text/markdown": [
       "### Threshold 1.7076923076923078"
      ],
      "text/plain": [
       "<IPython.core.display.Markdown object>"
      ]
     },
     "metadata": {},
     "output_type": "display_data"
    },
    {
     "data": {
      "text/html": [
       "<style  type=\"text/css\" >\n",
       "</style><table id=\"T_ac127c68_d4a6_11ec_baad_2016b948faac\" ><thead>    <tr>        <th class=\"col_heading level0 col0\" >Inliers Accuracy</th>        <th class=\"col_heading level0 col1\" >Outliers Accuracy</th>        <th class=\"col_heading level0 col2\" >Overall Accuracy</th>    </tr></thead><tbody>\n",
       "                <tr>\n",
       "                                <td id=\"T_ac127c68_d4a6_11ec_baad_2016b948faacrow0_col0\" class=\"data row0 col0\" >0.960725</td>\n",
       "                        <td id=\"T_ac127c68_d4a6_11ec_baad_2016b948faacrow0_col1\" class=\"data row0 col1\" >0.517045</td>\n",
       "                        <td id=\"T_ac127c68_d4a6_11ec_baad_2016b948faacrow0_col2\" class=\"data row0 col2\" >0.806706</td>\n",
       "            </tr>\n",
       "    </tbody></table>"
      ],
      "text/plain": [
       "<pandas.io.formats.style.Styler at 0x23bfc505fa0>"
      ]
     },
     "metadata": {},
     "output_type": "display_data"
    },
    {
     "data": {
      "text/markdown": [
       "##### Classification Report"
      ],
      "text/plain": [
       "<IPython.core.display.Markdown object>"
      ]
     },
     "metadata": {},
     "output_type": "display_data"
    },
    {
     "name": "stdout",
     "output_type": "stream",
     "text": [
      "              precision    recall  f1-score   support\n",
      "\n",
      "           0       0.79      0.96      0.87       331\n",
      "           1       0.88      0.52      0.65       176\n",
      "\n",
      "    accuracy                           0.81       507\n",
      "   macro avg       0.83      0.74      0.76       507\n",
      "weighted avg       0.82      0.81      0.79       507\n",
      "\n"
     ]
    },
    {
     "data": {
      "text/markdown": [
       "---"
      ],
      "text/plain": [
       "<IPython.core.display.Markdown object>"
      ]
     },
     "metadata": {},
     "output_type": "display_data"
    },
    {
     "data": {
      "text/markdown": [
       "### Threshold 1.7564102564102566"
      ],
      "text/plain": [
       "<IPython.core.display.Markdown object>"
      ]
     },
     "metadata": {},
     "output_type": "display_data"
    },
    {
     "data": {
      "text/html": [
       "<style  type=\"text/css\" >\n",
       "</style><table id=\"T_ac14783f_d4a6_11ec_8f62_2016b948faac\" ><thead>    <tr>        <th class=\"col_heading level0 col0\" >Inliers Accuracy</th>        <th class=\"col_heading level0 col1\" >Outliers Accuracy</th>        <th class=\"col_heading level0 col2\" >Overall Accuracy</th>    </tr></thead><tbody>\n",
       "                <tr>\n",
       "                                <td id=\"T_ac14783f_d4a6_11ec_8f62_2016b948faacrow0_col0\" class=\"data row0 col0\" >0.960725</td>\n",
       "                        <td id=\"T_ac14783f_d4a6_11ec_8f62_2016b948faacrow0_col1\" class=\"data row0 col1\" >0.494318</td>\n",
       "                        <td id=\"T_ac14783f_d4a6_11ec_8f62_2016b948faacrow0_col2\" class=\"data row0 col2\" >0.798817</td>\n",
       "            </tr>\n",
       "    </tbody></table>"
      ],
      "text/plain": [
       "<pandas.io.formats.style.Styler at 0x23bfc505d90>"
      ]
     },
     "metadata": {},
     "output_type": "display_data"
    },
    {
     "data": {
      "text/markdown": [
       "##### Classification Report"
      ],
      "text/plain": [
       "<IPython.core.display.Markdown object>"
      ]
     },
     "metadata": {},
     "output_type": "display_data"
    },
    {
     "name": "stdout",
     "output_type": "stream",
     "text": [
      "              precision    recall  f1-score   support\n",
      "\n",
      "           0       0.78      0.96      0.86       331\n",
      "           1       0.87      0.49      0.63       176\n",
      "\n",
      "    accuracy                           0.80       507\n",
      "   macro avg       0.83      0.73      0.75       507\n",
      "weighted avg       0.81      0.80      0.78       507\n",
      "\n"
     ]
    },
    {
     "data": {
      "text/markdown": [
       "---"
      ],
      "text/plain": [
       "<IPython.core.display.Markdown object>"
      ]
     },
     "metadata": {},
     "output_type": "display_data"
    },
    {
     "data": {
      "text/markdown": [
       "### Threshold 1.8051282051282052"
      ],
      "text/plain": [
       "<IPython.core.display.Markdown object>"
      ]
     },
     "metadata": {},
     "output_type": "display_data"
    },
    {
     "data": {
      "text/html": [
       "<style  type=\"text/css\" >\n",
       "</style><table id=\"T_ac16c235_d4a6_11ec_807a_2016b948faac\" ><thead>    <tr>        <th class=\"col_heading level0 col0\" >Inliers Accuracy</th>        <th class=\"col_heading level0 col1\" >Outliers Accuracy</th>        <th class=\"col_heading level0 col2\" >Overall Accuracy</th>    </tr></thead><tbody>\n",
       "                <tr>\n",
       "                                <td id=\"T_ac16c235_d4a6_11ec_807a_2016b948faacrow0_col0\" class=\"data row0 col0\" >0.960725</td>\n",
       "                        <td id=\"T_ac16c235_d4a6_11ec_807a_2016b948faacrow0_col1\" class=\"data row0 col1\" >0.494318</td>\n",
       "                        <td id=\"T_ac16c235_d4a6_11ec_807a_2016b948faacrow0_col2\" class=\"data row0 col2\" >0.798817</td>\n",
       "            </tr>\n",
       "    </tbody></table>"
      ],
      "text/plain": [
       "<pandas.io.formats.style.Styler at 0x23bfc533940>"
      ]
     },
     "metadata": {},
     "output_type": "display_data"
    },
    {
     "data": {
      "text/markdown": [
       "##### Classification Report"
      ],
      "text/plain": [
       "<IPython.core.display.Markdown object>"
      ]
     },
     "metadata": {},
     "output_type": "display_data"
    },
    {
     "name": "stdout",
     "output_type": "stream",
     "text": [
      "              precision    recall  f1-score   support\n",
      "\n",
      "           0       0.78      0.96      0.86       331\n",
      "           1       0.87      0.49      0.63       176\n",
      "\n",
      "    accuracy                           0.80       507\n",
      "   macro avg       0.83      0.73      0.75       507\n",
      "weighted avg       0.81      0.80      0.78       507\n",
      "\n"
     ]
    },
    {
     "data": {
      "text/markdown": [
       "---"
      ],
      "text/plain": [
       "<IPython.core.display.Markdown object>"
      ]
     },
     "metadata": {},
     "output_type": "display_data"
    },
    {
     "data": {
      "text/markdown": [
       "### Threshold 1.853846153846154"
      ],
      "text/plain": [
       "<IPython.core.display.Markdown object>"
      ]
     },
     "metadata": {},
     "output_type": "display_data"
    },
    {
     "data": {
      "text/html": [
       "<style  type=\"text/css\" >\n",
       "</style><table id=\"T_ac190c06_d4a6_11ec_a78c_2016b948faac\" ><thead>    <tr>        <th class=\"col_heading level0 col0\" >Inliers Accuracy</th>        <th class=\"col_heading level0 col1\" >Outliers Accuracy</th>        <th class=\"col_heading level0 col2\" >Overall Accuracy</th>    </tr></thead><tbody>\n",
       "                <tr>\n",
       "                                <td id=\"T_ac190c06_d4a6_11ec_a78c_2016b948faacrow0_col0\" class=\"data row0 col0\" >0.960725</td>\n",
       "                        <td id=\"T_ac190c06_d4a6_11ec_a78c_2016b948faacrow0_col1\" class=\"data row0 col1\" >0.471591</td>\n",
       "                        <td id=\"T_ac190c06_d4a6_11ec_a78c_2016b948faacrow0_col2\" class=\"data row0 col2\" >0.790927</td>\n",
       "            </tr>\n",
       "    </tbody></table>"
      ],
      "text/plain": [
       "<pandas.io.formats.style.Styler at 0x23bfc5333d0>"
      ]
     },
     "metadata": {},
     "output_type": "display_data"
    },
    {
     "data": {
      "text/markdown": [
       "##### Classification Report"
      ],
      "text/plain": [
       "<IPython.core.display.Markdown object>"
      ]
     },
     "metadata": {},
     "output_type": "display_data"
    },
    {
     "name": "stdout",
     "output_type": "stream",
     "text": [
      "              precision    recall  f1-score   support\n",
      "\n",
      "           0       0.77      0.96      0.86       331\n",
      "           1       0.86      0.47      0.61       176\n",
      "\n",
      "    accuracy                           0.79       507\n",
      "   macro avg       0.82      0.72      0.73       507\n",
      "weighted avg       0.81      0.79      0.77       507\n",
      "\n"
     ]
    },
    {
     "data": {
      "text/markdown": [
       "---"
      ],
      "text/plain": [
       "<IPython.core.display.Markdown object>"
      ]
     },
     "metadata": {},
     "output_type": "display_data"
    },
    {
     "data": {
      "text/markdown": [
       "### Threshold 1.9025641025641027"
      ],
      "text/plain": [
       "<IPython.core.display.Markdown object>"
      ]
     },
     "metadata": {},
     "output_type": "display_data"
    },
    {
     "data": {
      "text/html": [
       "<style  type=\"text/css\" >\n",
       "</style><table id=\"T_ac1b07e2_d4a6_11ec_b4b4_2016b948faac\" ><thead>    <tr>        <th class=\"col_heading level0 col0\" >Inliers Accuracy</th>        <th class=\"col_heading level0 col1\" >Outliers Accuracy</th>        <th class=\"col_heading level0 col2\" >Overall Accuracy</th>    </tr></thead><tbody>\n",
       "                <tr>\n",
       "                                <td id=\"T_ac1b07e2_d4a6_11ec_b4b4_2016b948faacrow0_col0\" class=\"data row0 col0\" >0.966767</td>\n",
       "                        <td id=\"T_ac1b07e2_d4a6_11ec_b4b4_2016b948faacrow0_col1\" class=\"data row0 col1\" >0.465909</td>\n",
       "                        <td id=\"T_ac1b07e2_d4a6_11ec_b4b4_2016b948faacrow0_col2\" class=\"data row0 col2\" >0.792899</td>\n",
       "            </tr>\n",
       "    </tbody></table>"
      ],
      "text/plain": [
       "<pandas.io.formats.style.Styler at 0x23bfc533730>"
      ]
     },
     "metadata": {},
     "output_type": "display_data"
    },
    {
     "data": {
      "text/markdown": [
       "##### Classification Report"
      ],
      "text/plain": [
       "<IPython.core.display.Markdown object>"
      ]
     },
     "metadata": {},
     "output_type": "display_data"
    },
    {
     "name": "stdout",
     "output_type": "stream",
     "text": [
      "              precision    recall  f1-score   support\n",
      "\n",
      "           0       0.77      0.97      0.86       331\n",
      "           1       0.88      0.47      0.61       176\n",
      "\n",
      "    accuracy                           0.79       507\n",
      "   macro avg       0.83      0.72      0.73       507\n",
      "weighted avg       0.81      0.79      0.77       507\n",
      "\n"
     ]
    },
    {
     "data": {
      "text/markdown": [
       "---"
      ],
      "text/plain": [
       "<IPython.core.display.Markdown object>"
      ]
     },
     "metadata": {},
     "output_type": "display_data"
    },
    {
     "data": {
      "text/markdown": [
       "### Threshold 1.9512820512820515"
      ],
      "text/plain": [
       "<IPython.core.display.Markdown object>"
      ]
     },
     "metadata": {},
     "output_type": "display_data"
    },
    {
     "data": {
      "text/html": [
       "<style  type=\"text/css\" >\n",
       "</style><table id=\"T_ac1d51c8_d4a6_11ec_b19b_2016b948faac\" ><thead>    <tr>        <th class=\"col_heading level0 col0\" >Inliers Accuracy</th>        <th class=\"col_heading level0 col1\" >Outliers Accuracy</th>        <th class=\"col_heading level0 col2\" >Overall Accuracy</th>    </tr></thead><tbody>\n",
       "                <tr>\n",
       "                                <td id=\"T_ac1d51c8_d4a6_11ec_b19b_2016b948faacrow0_col0\" class=\"data row0 col0\" >0.969789</td>\n",
       "                        <td id=\"T_ac1d51c8_d4a6_11ec_b19b_2016b948faacrow0_col1\" class=\"data row0 col1\" >0.454545</td>\n",
       "                        <td id=\"T_ac1d51c8_d4a6_11ec_b19b_2016b948faacrow0_col2\" class=\"data row0 col2\" >0.790927</td>\n",
       "            </tr>\n",
       "    </tbody></table>"
      ],
      "text/plain": [
       "<pandas.io.formats.style.Styler at 0x23bfc533f70>"
      ]
     },
     "metadata": {},
     "output_type": "display_data"
    },
    {
     "data": {
      "text/markdown": [
       "##### Classification Report"
      ],
      "text/plain": [
       "<IPython.core.display.Markdown object>"
      ]
     },
     "metadata": {},
     "output_type": "display_data"
    },
    {
     "name": "stdout",
     "output_type": "stream",
     "text": [
      "              precision    recall  f1-score   support\n",
      "\n",
      "           0       0.77      0.97      0.86       331\n",
      "           1       0.89      0.45      0.60       176\n",
      "\n",
      "    accuracy                           0.79       507\n",
      "   macro avg       0.83      0.71      0.73       507\n",
      "weighted avg       0.81      0.79      0.77       507\n",
      "\n"
     ]
    },
    {
     "data": {
      "text/markdown": [
       "---"
      ],
      "text/plain": [
       "<IPython.core.display.Markdown object>"
      ]
     },
     "metadata": {},
     "output_type": "display_data"
    },
    {
     "data": {
      "text/markdown": [
       "### Threshold 2.0"
      ],
      "text/plain": [
       "<IPython.core.display.Markdown object>"
      ]
     },
     "metadata": {},
     "output_type": "display_data"
    },
    {
     "data": {
      "text/html": [
       "<style  type=\"text/css\" >\n",
       "</style><table id=\"T_ac1f74ba_d4a6_11ec_b515_2016b948faac\" ><thead>    <tr>        <th class=\"col_heading level0 col0\" >Inliers Accuracy</th>        <th class=\"col_heading level0 col1\" >Outliers Accuracy</th>        <th class=\"col_heading level0 col2\" >Overall Accuracy</th>    </tr></thead><tbody>\n",
       "                <tr>\n",
       "                                <td id=\"T_ac1f74ba_d4a6_11ec_b515_2016b948faacrow0_col0\" class=\"data row0 col0\" >0.969789</td>\n",
       "                        <td id=\"T_ac1f74ba_d4a6_11ec_b515_2016b948faacrow0_col1\" class=\"data row0 col1\" >0.448864</td>\n",
       "                        <td id=\"T_ac1f74ba_d4a6_11ec_b515_2016b948faacrow0_col2\" class=\"data row0 col2\" >0.788955</td>\n",
       "            </tr>\n",
       "    </tbody></table>"
      ],
      "text/plain": [
       "<pandas.io.formats.style.Styler at 0x23bfc533a00>"
      ]
     },
     "metadata": {},
     "output_type": "display_data"
    },
    {
     "data": {
      "text/markdown": [
       "##### Classification Report"
      ],
      "text/plain": [
       "<IPython.core.display.Markdown object>"
      ]
     },
     "metadata": {},
     "output_type": "display_data"
    },
    {
     "name": "stdout",
     "output_type": "stream",
     "text": [
      "              precision    recall  f1-score   support\n",
      "\n",
      "           0       0.77      0.97      0.86       331\n",
      "           1       0.89      0.45      0.60       176\n",
      "\n",
      "    accuracy                           0.79       507\n",
      "   macro avg       0.83      0.71      0.73       507\n",
      "weighted avg       0.81      0.79      0.77       507\n",
      "\n"
     ]
    },
    {
     "data": {
      "text/markdown": [
       "---"
      ],
      "text/plain": [
       "<IPython.core.display.Markdown object>"
      ]
     },
     "metadata": {},
     "output_type": "display_data"
    }
   ],
   "source": [
    "optimal_threshold = try_threshold_grid(test_MSEs, y_test, 'variational_autoencoder', start=0.1, stop=2.0, num_thresholds=40)"
   ]
  },
  {
   "cell_type": "code",
   "execution_count": 39,
   "metadata": {},
   "outputs": [
    {
     "data": {
      "text/markdown": [
       "### Threshold 0.6358974358974359"
      ],
      "text/plain": [
       "<IPython.core.display.Markdown object>"
      ]
     },
     "metadata": {},
     "output_type": "display_data"
    },
    {
     "data": {
      "text/html": [
       "<style  type=\"text/css\" >\n",
       "</style><table id=\"T_aeb80d88_d4a6_11ec_a2a1_2016b948faac\" ><thead>    <tr>        <th class=\"col_heading level0 col0\" >Inliers Accuracy</th>        <th class=\"col_heading level0 col1\" >Outliers Accuracy</th>        <th class=\"col_heading level0 col2\" >Overall Accuracy</th>    </tr></thead><tbody>\n",
       "                <tr>\n",
       "                                <td id=\"T_aeb80d88_d4a6_11ec_a2a1_2016b948faacrow0_col0\" class=\"data row0 col0\" >0.867069</td>\n",
       "                        <td id=\"T_aeb80d88_d4a6_11ec_a2a1_2016b948faacrow0_col1\" class=\"data row0 col1\" >0.892045</td>\n",
       "                        <td id=\"T_aeb80d88_d4a6_11ec_a2a1_2016b948faacrow0_col2\" class=\"data row0 col2\" >0.875740</td>\n",
       "            </tr>\n",
       "    </tbody></table>"
      ],
      "text/plain": [
       "<pandas.io.formats.style.Styler at 0x23bfb453a00>"
      ]
     },
     "metadata": {},
     "output_type": "display_data"
    },
    {
     "data": {
      "text/markdown": [
       "##### Classification Report"
      ],
      "text/plain": [
       "<IPython.core.display.Markdown object>"
      ]
     },
     "metadata": {},
     "output_type": "display_data"
    },
    {
     "name": "stdout",
     "output_type": "stream",
     "text": [
      "              precision    recall  f1-score   support\n",
      "\n",
      "           0       0.94      0.87      0.90       331\n",
      "           1       0.78      0.89      0.83       176\n",
      "\n",
      "    accuracy                           0.88       507\n",
      "   macro avg       0.86      0.88      0.87       507\n",
      "weighted avg       0.88      0.88      0.88       507\n",
      "\n"
     ]
    },
    {
     "data": {
      "image/png": "[encoded data removed]",
      "text/plain": [
       "<Figure size 432x432 with 2 Axes>"
      ]
     },
     "metadata": {
      "needs_background": "light"
     },
     "output_type": "display_data"
    }
   ],
   "source": [
    "predictions = classify_by_error(test_MSEs, optimal_threshold)\n",
    "matrix = confusion_matrix(y_test, predictions)\n",
    "class_accuracies = matrix.diagonal()/matrix.sum(axis=1)\n",
    "acc_df = pd.DataFrame({\n",
    "    'Inliers Accuracy': [class_accuracies[0]], \n",
    "    'Outliers Accuracy': [class_accuracies[1]], \n",
    "    'Overall Accuracy': [accuracy_score(y_test, predictions)]\n",
    "})\n",
    "\n",
    "display(Markdown(f'### Threshold {optimal_threshold}'))\n",
    "display(acc_df.style.hide_index())\n",
    "display(Markdown(f'##### Classification Report'))\n",
    "print(classification_report(y_test, predictions))\n",
    "plot_confusion_matrix(matrix)"
   ]
  },
  {
   "cell_type": "markdown",
   "metadata": {},
   "source": [
    "---\n",
    "---"
   ]
  },
  {
   "cell_type": "markdown",
   "metadata": {},
   "source": [
    "## Final Remarks"
   ]
  },
  {
   "cell_type": "markdown",
   "metadata": {},
   "source": [
    "I have compared three different autoencoder architectures for outlier detection:\n",
    "1. undercomplete autoencoder\n",
    "2. denoising autoencoder\n",
    "3. variational autoencoder\n",
    "\n",
    "For each of them, I tuned the following hyperparameters:\n",
    "- learning rate\n",
    "- batch size\n",
    "- number of layers and their width (most importantly the size of the latent space)\n",
    "- threshold for reconstruction error\n",
    "\n",
    "I have chosen the best classifier based on the F1-score, where negative class is composed of inliers and positive class is composed of outliers."
   ]
  },
  {
   "cell_type": "markdown",
   "metadata": {},
   "source": [
    "Below, you can find the best hyper-parameters of the architectures. As for the layers, only encoder architecture is shown, since decoder contains the same layers reversed."
   ]
  },
  {
   "cell_type": "code",
   "execution_count": 40,
   "metadata": {},
   "outputs": [
    {
     "data": {
      "text/html": [
       "<div>\n",
       "<style scoped>\n",
       "    .dataframe tbody tr th:only-of-type {\n",
       "        vertical-align: middle;\n",
       "    }\n",
       "\n",
       "    .dataframe tbody tr th {\n",
       "        vertical-align: top;\n",
       "    }\n",
       "\n",
       "    .dataframe thead th {\n",
       "        text-align: right;\n",
       "    }\n",
       "</style>\n",
       "<table border=\"1\" class=\"dataframe\">\n",
       "  <thead>\n",
       "    <tr style=\"text-align: right;\">\n",
       "      <th></th>\n",
       "      <th>Learning Rate</th>\n",
       "      <th>Batch Size</th>\n",
       "      <th>Architecture Encoder</th>\n",
       "      <th>Latent Space Size</th>\n",
       "      <th>Reconstruction MSE Threshold</th>\n",
       "    </tr>\n",
       "    <tr>\n",
       "      <th>Architecture</th>\n",
       "      <th></th>\n",
       "      <th></th>\n",
       "      <th></th>\n",
       "      <th></th>\n",
       "      <th></th>\n",
       "    </tr>\n",
       "  </thead>\n",
       "  <tbody>\n",
       "    <tr>\n",
       "      <th>Undercomplete Autoencoder</th>\n",
       "      <td>0.01</td>\n",
       "      <td>64</td>\n",
       "      <td>Linear(21, 16) → ReLU → Linear(16, 14)</td>\n",
       "      <td>14</td>\n",
       "      <td>0.489744</td>\n",
       "    </tr>\n",
       "    <tr>\n",
       "      <th>Denoising Autoencoder</th>\n",
       "      <td>0.01</td>\n",
       "      <td>64</td>\n",
       "      <td>Linear(21, 16) → ReLU → Linear(16, 14)</td>\n",
       "      <td>14</td>\n",
       "      <td>0.635897</td>\n",
       "    </tr>\n",
       "    <tr>\n",
       "      <th>Variational Autoencoder</th>\n",
       "      <td>0.01</td>\n",
       "      <td>64</td>\n",
       "      <td>Linear(21, 16) → ReLU → Linear(16, 14)</td>\n",
       "      <td>14</td>\n",
       "      <td>0.635897</td>\n",
       "    </tr>\n",
       "  </tbody>\n",
       "</table>\n",
       "</div>"
      ],
      "text/plain": [
       "                           Learning Rate  Batch Size  \\\n",
       "Architecture                                           \n",
       "Undercomplete Autoencoder           0.01          64   \n",
       "Denoising Autoencoder               0.01          64   \n",
       "Variational Autoencoder             0.01          64   \n",
       "\n",
       "                                             Architecture Encoder  \\\n",
       "Architecture                                                        \n",
       "Undercomplete Autoencoder  Linear(21, 16) → ReLU → Linear(16, 14)   \n",
       "Denoising Autoencoder      Linear(21, 16) → ReLU → Linear(16, 14)   \n",
       "Variational Autoencoder    Linear(21, 16) → ReLU → Linear(16, 14)   \n",
       "\n",
       "                           Latent Space Size  Reconstruction MSE Threshold  \n",
       "Architecture                                                                \n",
       "Undercomplete Autoencoder                 14                      0.489744  \n",
       "Denoising Autoencoder                     14                      0.635897  \n",
       "Variational Autoencoder                   14                      0.635897  "
      ]
     },
     "metadata": {},
     "output_type": "display_data"
    }
   ],
   "source": [
    "result_df = pd.DataFrame({'Architecture': ['Undercomplete Autoencoder', 'Denoising Autoencoder', 'Variational Autoencoder'],\n",
    "                          'Learning Rate': [1e-2, 1e-2, 1e-2],\n",
    "                          'Batch Size': [64, 64, 64], \n",
    "                          'Architecture Encoder': [\n",
    "                              'Linear(21, 16) → ReLU → Linear(16, 14)', 'Linear(21, 16) → ReLU → Linear(16, 14)', 'Linear(21, 16) → ReLU → Linear(16, 14)'\n",
    "                          ],\n",
    "                          'Latent Space Size': [14, 14, 14],\n",
    "                          'Reconstruction MSE Threshold': [0.489744, 0.635897, 0.635897],\n",
    "                         })\n",
    "result_df = result_df.set_index('Architecture')\n",
    "display(result_df)"
   ]
  },
  {
   "cell_type": "code",
   "execution_count": null,
   "metadata": {},
   "outputs": [],
   "source": []
  }
 ],
 "metadata": {
  "kernelspec": {
   "display_name": "bakalarka",
   "language": "python",
   "name": "bakalarka"
  },
  "language_info": {
   "codemirror_mode": {
    "name": "ipython",
    "version": 3
   },
   "file_extension": ".py",
   "mimetype": "text/x-python",
   "name": "python",
   "nbconvert_exporter": "python",
   "pygments_lexer": "ipython3",
   "version": "3.8.5"
  }
 },
 "nbformat": 4,
 "nbformat_minor": 4
}
