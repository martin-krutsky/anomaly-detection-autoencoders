{
 "cells": [
  {
   "cell_type": "markdown",
   "metadata": {},
   "source": [
    "# Outlier Detection with Autoencoders"
   ]
  },
  {
   "cell_type": "code",
   "execution_count": 1,
   "metadata": {},
   "outputs": [
    {
     "name": "stderr",
     "output_type": "stream",
     "text": [
      "C:\\Users\\marti\\Anaconda3\\envs\\bakalarka\\lib\\site-packages\\numpy\\_distributor_init.py:30: UserWarning: loaded more than 1 DLL from .libs:\n",
      "C:\\Users\\marti\\Anaconda3\\envs\\bakalarka\\lib\\site-packages\\numpy\\.libs\\libopenblas.EL2C6PLE4ZYW3ECEVIV3OXXGRN2NRFM2.gfortran-win_amd64.dll\n",
      "C:\\Users\\marti\\Anaconda3\\envs\\bakalarka\\lib\\site-packages\\numpy\\.libs\\libopenblas.NOIJJG62EMASZI6NYURL6JBKM4EVBGM7.gfortran-win_amd64.dll\n",
      "  warnings.warn(\"loaded more than 1 DLL from .libs:\"\n"
     ]
    }
   ],
   "source": [
    "import os\n",
    "from datetime import datetime\n",
    "import itertools\n",
    "import random\n",
    "from typing import Dict, List, Tuple, Type\n",
    "import warnings\n",
    "\n",
    "from tqdm import tqdm\n",
    "import numpy as np\n",
    "import pandas as pd\n",
    "import scipy.io\n",
    "from sklearn.model_selection import train_test_split\n",
    "from sklearn.metrics import classification_report, confusion_matrix, accuracy_score, f1_score\n",
    "import matplotlib.pyplot as plt\n",
    "import seaborn as sns\n",
    "\n",
    "from IPython.display import display, Markdown\n",
    "\n",
    "import torch\n",
    "from torch.utils.data import Dataset, DataLoader\n",
    "import torch.nn as nn\n",
    "import torch.nn.functional as F\n",
    "from torchvision.transforms import transforms"
   ]
  },
  {
   "cell_type": "markdown",
   "metadata": {},
   "source": [
    "## Creating and Preprocessing the Data"
   ]
  },
  {
   "cell_type": "markdown",
   "metadata": {},
   "source": [
    "### Loading the data"
   ]
  },
  {
   "cell_type": "code",
   "execution_count": 2,
   "metadata": {},
   "outputs": [],
   "source": [
    "cardio_dict = scipy.io.loadmat('cardio.mat')"
   ]
  },
  {
   "cell_type": "code",
   "execution_count": 3,
   "metadata": {},
   "outputs": [
    {
     "data": {
      "text/plain": [
       "{'__header__': b'MATLAB 5.0 MAT-file, written by Octave 3.8.0, 2014-12-18 10:48:09 UTC',\n",
       " '__version__': '1.0',\n",
       " '__globals__': [],\n",
       " 'X': array([[ 0.00491231,  0.69319077, -0.20364049, ...,  0.23149795,\n",
       "         -0.28978574, -0.49329397],\n",
       "        [ 0.11072935, -0.07990259, -0.20364049, ...,  0.09356344,\n",
       "         -0.25638541, -0.49329397],\n",
       "        [ 0.21654639, -0.27244466, -0.20364049, ...,  0.02459619,\n",
       "         -0.25638541,  1.14001753],\n",
       "        ...,\n",
       "        [-0.41835583, -0.91998844, -0.16463485, ..., -1.49268341,\n",
       "          0.24461959, -0.49329397],\n",
       "        [-0.41835583, -0.91998844, -0.15093411, ..., -1.42371616,\n",
       "          0.14441859, -0.49329397],\n",
       "        [-0.41835583, -0.91998844, -0.20364049, ..., -1.28578165,\n",
       "          3.58465295, -0.49329397]]),\n",
       " 'y': array([[0.],\n",
       "        [0.],\n",
       "        [0.],\n",
       "        ...,\n",
       "        [1.],\n",
       "        [1.],\n",
       "        [1.]])}"
      ]
     },
     "execution_count": 3,
     "metadata": {},
     "output_type": "execute_result"
    }
   ],
   "source": [
    "cardio_dict"
   ]
  },
  {
   "cell_type": "code",
   "execution_count": 4,
   "metadata": {},
   "outputs": [],
   "source": [
    "X = cardio_dict['X']\n",
    "y = cardio_dict['y'].flatten()"
   ]
  },
  {
   "cell_type": "code",
   "execution_count": 5,
   "metadata": {},
   "outputs": [
    {
     "name": "stdout",
     "output_type": "stream",
     "text": [
      "Size of input example: 21\n"
     ]
    }
   ],
   "source": [
    "INPUT_SIZE = X.shape[1]\n",
    "print(f'Size of input example: {INPUT_SIZE}')"
   ]
  },
  {
   "cell_type": "markdown",
   "metadata": {},
   "source": [
    "### Data splitting"
   ]
  },
  {
   "cell_type": "markdown",
   "metadata": {},
   "source": [
    "Divide the dataset into inliers and outliers:\n",
    "- only inliers are used for trainig the autoencoders\n",
    "- outliers are then mixed with the test set"
   ]
  },
  {
   "cell_type": "code",
   "execution_count": 6,
   "metadata": {},
   "outputs": [
    {
     "name": "stdout",
     "output_type": "stream",
     "text": [
      "Number of inliers: 1655, Number of outliers: 176\n"
     ]
    }
   ],
   "source": [
    "X_inliers = X[y==0]\n",
    "y_inliers = np.zeros(len(X_inliers), dtype=int)\n",
    "X_outliers = X[y==1]\n",
    "y_outliers = np.ones(len(X_outliers), dtype=int)\n",
    "print(f'Number of inliers: {len(y_inliers)}, Number of outliers: {len(y_outliers)}')"
   ]
  },
  {
   "cell_type": "markdown",
   "metadata": {},
   "source": [
    "Split the inliers into training, validation, and testing set:"
   ]
  },
  {
   "cell_type": "code",
   "execution_count": 7,
   "metadata": {},
   "outputs": [],
   "source": [
    "X_train, X_test, y_train, y_test = train_test_split(X_inliers, y_inliers, test_size=0.20, random_state=1)\n",
    "X_train, X_val, y_train, y_val = train_test_split(X_train, y_train, test_size=0.20, random_state=1) # 0.2 x 0.8 = 0.16"
   ]
  },
  {
   "cell_type": "markdown",
   "metadata": {},
   "source": [
    "Add outliers only to the test set"
   ]
  },
  {
   "cell_type": "code",
   "execution_count": 8,
   "metadata": {},
   "outputs": [],
   "source": [
    "X_test = np.concatenate((X_test, X_outliers), axis=0)\n",
    "y_test = np.concatenate((y_test, y_outliers), axis=0)"
   ]
  },
  {
   "cell_type": "code",
   "execution_count": 9,
   "metadata": {},
   "outputs": [
    {
     "name": "stdout",
     "output_type": "stream",
     "text": [
      "Training set: 1059 examples\n",
      "Validation set: 265 examples\n",
      "Testing set: 507 examples; inliers: 331, outliers: 176\n"
     ]
    }
   ],
   "source": [
    "print(f'Training set: {len(y_train)} examples')\n",
    "print(f'Validation set: {len(y_val)} examples')\n",
    "print(f'Testing set: {len(y_test)} examples; inliers: {np.sum(y_test==0)}, outliers: {np.sum(y_test==1)}')"
   ]
  },
  {
   "cell_type": "code",
   "execution_count": 10,
   "metadata": {},
   "outputs": [
    {
     "data": {
      "text/plain": [
       "(1059, 21)"
      ]
     },
     "metadata": {},
     "output_type": "display_data"
    }
   ],
   "source": [
    "display(X_train.shape)"
   ]
  },
  {
   "cell_type": "markdown",
   "metadata": {},
   "source": [
    "### Creating Dataset and DataLoader instances"
   ]
  },
  {
   "cell_type": "code",
   "execution_count": 11,
   "metadata": {},
   "outputs": [],
   "source": [
    "class CardioDataset(Dataset):\n",
    "    def __init__(self, data: np.ndarray, labels: np.ndarray):\n",
    "        self.data = data\n",
    "        self.labels = labels\n",
    "\n",
    "    def __len__(self):\n",
    "        return len(self.labels)\n",
    "\n",
    "    def __getitem__(self, idx: int) -> Tuple[np.ndarray, np.int32]:\n",
    "        return self.data[idx], self.labels[idx]"
   ]
  },
  {
   "cell_type": "code",
   "execution_count": 12,
   "metadata": {},
   "outputs": [],
   "source": [
    "train_data = CardioDataset(X_train, y_train)\n",
    "val_data = CardioDataset(X_val, y_val)"
   ]
  },
  {
   "cell_type": "markdown",
   "metadata": {},
   "source": [
    "---\n",
    "---"
   ]
  },
  {
   "cell_type": "markdown",
   "metadata": {},
   "source": [
    "## Autoencoder Models"
   ]
  },
  {
   "cell_type": "markdown",
   "metadata": {},
   "source": [
    "### Training functions"
   ]
  },
  {
   "cell_type": "code",
   "execution_count": 13,
   "metadata": {},
   "outputs": [],
   "source": [
    "def train_one_epoch(model: nn.Module, optimizer: torch.optim.Optimizer, criterion: nn.MSELoss, train_loader: DataLoader):\n",
    "    '''\n",
    "    Train one epoch of the model on training dataset batched by the train_loader.\n",
    "    \n",
    "    :param nn.Module model: model on which we perform one training epoch\n",
    "    :param torch.optim.Optimizer optimizer: optimizer, e.g. ADAM or SGD\n",
    "    :param nn.MSELoss criterion: loss function used for training\n",
    "    :param DataLoader train_loader: data object for batching training set\n",
    "    :returns: an average loss on the training dataset\n",
    "    '''\n",
    "    running_loss = 0.0\n",
    "    for i, data in enumerate(train_loader):\n",
    "        inputs, _ = data\n",
    "        optimizer.zero_grad()\n",
    "\n",
    "        outputs = model(inputs.float())\n",
    "        loss = criterion(outputs.float(), inputs.float())\n",
    "        loss.backward()\n",
    "        optimizer.step()\n",
    "        running_loss += loss.item()\n",
    "    return running_loss / len(train_loader)"
   ]
  },
  {
   "cell_type": "code",
   "execution_count": 122,
   "metadata": {},
   "outputs": [],
   "source": [
    "def train_model(model: nn.Module, model_name: str, optimizer: torch.optim.Optimizer, criterion: nn.MSELoss,\n",
    "                train_loader: DataLoader, val_loader: DataLoader, nr_of_epochs: int = 100, verbose: bool = True):\n",
    "    '''\n",
    "    Train the specified model, and evaluate on validation data.\n",
    "        \n",
    "    :param nn.Module model: model being trained\n",
    "    :param str model_name: model name, e.g. denoising_autoencoder\n",
    "    :param torch.optim.Optimizer optimizer: optimizer, e.g. ADAM or SGD\n",
    "    :param nn.MSELoss criterion: loss function used for training\n",
    "    :param DataLoader train_loader: data object for batching the training set\n",
    "    :param DataLoader val_loader: data object for batching the validation set\n",
    "    :param int nr_of_epochs: number of training epochs\n",
    "    :param bool verbose: determining whether training and validation losses should be printed\n",
    "    '''\n",
    "    best_loss = 10**12\n",
    "    best_model, model_path, best_epoch = None, None, None\n",
    "\n",
    "    for epoch in range(nr_of_epochs):\n",
    "        model.train()\n",
    "        train_loss = train_one_epoch(model, optimizer, criterion, train_loader)\n",
    "        model.eval()\n",
    "\n",
    "        # performance on validation set\n",
    "        valid_loss = 0.0\n",
    "        for i, data in enumerate(val_loader):\n",
    "            inputs, _ = data\n",
    "            outputs = model(inputs.float())\n",
    "            loss = criterion(outputs.float(), inputs.float())\n",
    "            valid_loss += loss.item()\n",
    "        valid_loss = valid_loss / len(val_loader)\n",
    "\n",
    "        # logging at each Nth epoch\n",
    "        if verbose and (epoch + 1) % 20 == 0:\n",
    "            print(f'epoch {epoch + 1}; train loss: {train_loss}; valid loss: {valid_loss}')\n",
    "        \n",
    "        # remember model with the best validation loss\n",
    "        if valid_loss < best_loss:\n",
    "            best_loss = valid_loss\n",
    "            best_model = model.state_dict()\n",
    "            best_epoch = epoch + 1\n",
    "\n",
    "    # save the overall best model - if verbose\n",
    "    if verbose:\n",
    "        timestamp = datetime.now().strftime('%Y%m%d_%H%M%S')\n",
    "        os.makedirs('models/', exist_ok=True)\n",
    "        model_path = f'models/model_{model_name}_{timestamp}_epoch{best_epoch}'\n",
    "        torch.save(best_model, model_path)"
   ]
  },
  {
   "cell_type": "markdown",
   "metadata": {},
   "source": [
    "### Testing functions"
   ]
  },
  {
   "cell_type": "code",
   "execution_count": 51,
   "metadata": {},
   "outputs": [],
   "source": [
    "def eval_on_testset(model: nn.Module, testset: np.ndarray, test_labels: np.ndarray, verbose: bool = True) -> Tuple[pd.DataFrame, np.ndarray]:\n",
    "    '''\n",
    "    Evaluate testing data on the model, calculate reconstruction error, print statistics on inliers and outliers\n",
    "        \n",
    "    :param nn.Module model: model being evaluated\n",
    "    :param np.ndarray testset: testing inputs\n",
    "    :param np.ndarray test_labels: ground-truth labels\n",
    "    :param bool verbose: determining whether reconstruction errors should be printed\n",
    "    :returns: dataframe with reconstruction errors and classes, reconstrution errors\n",
    "    '''\n",
    "    testset_tensor = torch.tensor(testset).float()\n",
    "    reconstructed_test = model(testset_tensor)\n",
    "    mse_test = torch.sum((reconstructed_test.detach() - testset_tensor) ** 2, axis=1)\n",
    "    error_df = pd.DataFrame({'Reconstruction Error': mse_test, 'class': y_test})\n",
    "    \n",
    "    if verbose:\n",
    "        display(error_df[error_df['class'] == 0].describe())\n",
    "        display(error_df[error_df['class'] == 1].describe())\n",
    "    return error_df, mse_test"
   ]
  },
  {
   "cell_type": "code",
   "execution_count": 52,
   "metadata": {},
   "outputs": [],
   "source": [
    "def classify_by_error(MSEs: np.ndarray, thres: float) -> np.ndarray:\n",
    "    '''\n",
    "    Classify an array of reconstruction errors w.r.t. a threshold\n",
    "    \n",
    "    :param np.ndarray MSEs: mean squared reconstruction errors\n",
    "    :param float thres: threshold of reconstruction error between inliers and outliers\n",
    "    :returns: binary array of class ids; 0 = inlier, 1 = outlier\n",
    "    '''\n",
    "    return np.array(MSEs > thres, dtype=int)"
   ]
  },
  {
   "cell_type": "code",
   "execution_count": 53,
   "metadata": {},
   "outputs": [],
   "source": [
    "def plot_confusion_matrix(confusion_mat: np.ndarray):\n",
    "    '''\n",
    "    Plot a confusion matrix of true vs predicted labels.\n",
    "    \n",
    "    :param np.ndarray confusion_mat: confusion matrix between true and predicted labels\n",
    "    '''\n",
    "    class_labels = ['Inlier', 'Outlier']\n",
    "    plt.figure(figsize=(6, 6))\n",
    "    sns.heatmap(confusion_mat, xticklabels=class_labels, yticklabels=class_labels, annot=True, fmt=\"d\", annot_kws={\"size\": 14});\n",
    "    plt.title(\"Confusion matrix\")\n",
    "    plt.ylabel('True class')\n",
    "    plt.xlabel('Predicted class')\n",
    "    plt.show()"
   ]
  },
  {
   "cell_type": "code",
   "execution_count": 54,
   "metadata": {},
   "outputs": [],
   "source": [
    "def try_threshold_grid(MSEs: np.ndarray, true_labels: np.ndarray, model_name: str, start: float = 0.0,\n",
    "                       stop: float = 5.0, num_thresholds: int = 10, verbose_lvl: int = 2) -> Tuple[float, float]:\n",
    "    '''\n",
    "    Plot a confusion matrix of true vs predicted labels.\n",
    "    \n",
    "    :param np.ndarray MSEs: mean squared reconstruction errors on testing set\n",
    "    :param np.ndarray true_labels: ground-truth labels\n",
    "    :param str model_name: model name, e.g. denoising_autoencoder\n",
    "    :param float start: start of threshold interval\n",
    "    :param float stop: end of threshold interval\n",
    "    :param int num_thresholds: number of thresholds tested in the interval\n",
    "    :param int verbose_lvl: level of verbosity - 0 = no verbosity, 2 = max verbosity\n",
    "    :returns: threshold with the highest anomaly f1-score, corresponding f1-score\n",
    "    '''\n",
    "    best_threshold = None\n",
    "    best_f1 = 0.0\n",
    "    if verbose_lvl >= 1:\n",
    "        display(Markdown(f'#### Model: {model_name}, trying {num_thresholds} thresholds from [{start}, {stop}]'))\n",
    "    if verbose_lvl == 1:\n",
    "        display(Markdown('For more detail, call the function with `verbose_lvl=2`'))\n",
    "        \n",
    "    for threshold in np.linspace(start, stop, num=num_thresholds):\n",
    "        predictions = classify_by_error(MSEs, threshold)\n",
    "        matrix = confusion_matrix(true_labels, predictions)\n",
    "        class_accuracies = matrix.diagonal()/matrix.sum(axis=1)\n",
    "        acc_df = pd.DataFrame({\n",
    "            'Inliers Accuracy': [class_accuracies[0]], \n",
    "            'Outliers Accuracy': [class_accuracies[1]], \n",
    "            'Overall Accuracy': [accuracy_score(true_labels, predictions)]\n",
    "        })\n",
    "        \n",
    "        outlier_f1 = f1_score(true_labels, predictions)\n",
    "        if outlier_f1 > best_f1:\n",
    "            best_f1 = outlier_f1\n",
    "            best_threshold = threshold\n",
    "        \n",
    "        if verbose_lvl >= 2:\n",
    "            display(Markdown(f'### Threshold {threshold}'))\n",
    "            display(acc_df.style.hide_index())\n",
    "            display(Markdown(f'##### Classification Report'))\n",
    "            print(classification_report(true_labels, predictions))\n",
    "            # plot_confusion_matrix(matrix)\n",
    "            display(Markdown('---'))\n",
    "    \n",
    "    return best_threshold, best_f1"
   ]
  },
  {
   "cell_type": "markdown",
   "metadata": {},
   "source": [
    "### Hypeparameter tuning functions"
   ]
  },
  {
   "cell_type": "markdown",
   "metadata": {},
   "source": [
    "As a general tuning framework, I will try out (in a grid search) the following parameters for each of the architectures:\n",
    "- Batch size: 32; 64; 128\n",
    "- Learning rate: 1e-3; 1e-2\n",
    "- Hidden layer count and dimension: 16; 18; two hidden layers [18, 16]\n",
    "- Latent space dimension: 10; 12; 14\n",
    "- 50 thresholds on reconstruction errors from interval [0.1; 5]"
   ]
  },
  {
   "cell_type": "markdown",
   "metadata": {},
   "source": [
    "#### Setting all random seeds for reproducibility"
   ]
  },
  {
   "cell_type": "code",
   "execution_count": null,
   "metadata": {},
   "outputs": [],
   "source": [
    "def seed_worker(worker_id: int):\n",
    "    '''\n",
    "    Set random seed for DataLoader initialization\n",
    "    \n",
    "    :param int worker_id: id given by DataLoader\n",
    "    '''\n",
    "    worker_seed = 123\n",
    "    numpy.random.seed(worker_seed)\n",
    "    random.seed(worker_seed)"
   ]
  },
  {
   "cell_type": "code",
   "execution_count": null,
   "metadata": {},
   "outputs": [],
   "source": [
    "def seed_all(seed: int = 123):\n",
    "    '''\n",
    "    Set random seeds (all of them) for PyTorch training and eval loop\n",
    "    \n",
    "    :param int seed: random seed\n",
    "    '''\n",
    "    torch.manual_seed(seed)\n",
    "    torch.cuda.manual_seed(seed)\n",
    "    torch.cuda.manual_seed_all(seed)\n",
    "    np.random.seed(seed)\n",
    "    random.seed(seed)\n",
    "    torch.backends.cudnn.benchmark = False\n",
    "    torch.backends.cudnn.deterministic = True"
   ]
  },
  {
   "cell_type": "markdown",
   "metadata": {},
   "source": [
    "#### Grid-search functions"
   ]
  },
  {
   "cell_type": "code",
   "execution_count": 57,
   "metadata": {},
   "outputs": [],
   "source": [
    "def train_eval_test_model(ModelClass: Type[nn.Module], hidden_sizes: List[int], latent_size: int, model_name: str,\n",
    "                          batch_size: int, learning_rate: float, seed: int) -> Tuple[float, float]:\n",
    "    '''\n",
    "    Train and evaluate model with concrete hyperparameters, try threshold grid.\n",
    "    \n",
    "    :param Type[nn.Module] ModelClass: class of model to be trained\n",
    "    :param List[int] hidden_sizes: list determining number of hidden layers and their sizes\n",
    "    :param int latent_size: size of the latent space\n",
    "    :param str model_name: name of the model architecture\n",
    "    :param int batch_size: batch size for training and validation\n",
    "    :param float learning_rate: learning rate for the optimizer\n",
    "    :param int seed: random seed for PyTorch\n",
    "    :returns: best MSE threshold, best F1 score\n",
    "    '''\n",
    "    train_loader = DataLoader(train_data, batch_size=batch_size, worker_init_fn=seed_worker, shuffle=False)\n",
    "    val_loader = DataLoader(val_data, batch_size=batch_size, worker_init_fn=seed_worker, shuffle=False)\n",
    "    \n",
    "    seed_all(seed)\n",
    "    model = ModelClass(hidden_sizes, latent_size)\n",
    "\n",
    "    optimizer = torch.optim.Adam(model.parameters(), lr=learning_rate)\n",
    "    criterion = nn.MSELoss()\n",
    "\n",
    "    train_model(model=model, model_name=model_name, optimizer=optimizer, criterion=criterion,\n",
    "                train_loader=train_loader, val_loader=val_loader, nr_of_epochs=200, verbose=False)\n",
    "    \n",
    "    df, MSEs = eval_on_testset(model, X_test, y_test, verbose=False)\n",
    "    threshold, f1 = try_threshold_grid(MSEs, y_test, model_name, start=0.1, stop=5.0, num_thresholds=50, verbose_lvl=0)\n",
    "    return threshold, f1"
   ]
  },
  {
   "cell_type": "code",
   "execution_count": 58,
   "metadata": {},
   "outputs": [],
   "source": [
    "def grid_search(ModelClass: Type[nn.Module], model_name: str, hidden_sizes_ls: List[List[int]], latent_sizes: List[int],\n",
    "                batch_sizes: List[int], learning_rates: List[float], seeds: List[int]):\n",
    "    '''\n",
    "    Try out grid of hyperparameters constructed as a cartesian product of the given values, \n",
    "    return the best parameters according to the model's F1 score.\n",
    "    \n",
    "    :param Type[nn.Module] ModelClass: class of model to be trained\n",
    "    :param str model_name: name of the model architecture\n",
    "    :param List[List[int]] hidden_sizes_ls: list of lists determining number of hidden layers and their sizes\n",
    "    :param List[int] latent_sizes: sizes of the latent space\n",
    "    :param List[int] batch_sizes: batch sizes for training and validation\n",
    "    :param List[float] learning_rates: learning rates for the optimizer\n",
    "    :param List[int] seeds: random seeds for PyTorch\n",
    "    :returns: best hyperparameters, best F1 score\n",
    "    '''\n",
    "    best_f1 = 0.0\n",
    "    best_model_params = None\n",
    "    \n",
    "    cartes_product = list(itertools.product(hidden_sizes_ls, latent_sizes, batch_sizes, learning_rates, seeds))\n",
    "    for hidden_sizes, latent_size, batch_size, learning_rate, seed in tqdm(cartes_product):\n",
    "        threshold, f1 = train_eval_test_model(ModelClass, hidden_sizes, latent_size, model_name, batch_size, learning_rate, seed)\n",
    "        if f1 > best_f1:\n",
    "            best_f1 = f1\n",
    "            best_model_params = hidden_sizes, latent_size, batch_size, learning_rate, seed, threshold\n",
    "    return best_model_params, best_f1"
   ]
  },
  {
   "cell_type": "markdown",
   "metadata": {},
   "source": [
    "---"
   ]
  },
  {
   "cell_type": "markdown",
   "metadata": {},
   "source": [
    "### 1. Undercomplete AutoEncoder"
   ]
  },
  {
   "cell_type": "code",
   "execution_count": 59,
   "metadata": {},
   "outputs": [],
   "source": [
    "class UndercompleteAutoEncoder(nn.Module):\n",
    "    def __init__(self, hidden_sizes: List[int], latent_size: int):\n",
    "        super(UndercompleteAutoEncoder, self).__init__()\n",
    "        \n",
    "        encode_layers = [nn.Linear(INPUT_SIZE, hidden_sizes[0]), nn.ReLU()]\n",
    "        for i in range(len(hidden_sizes)-1):\n",
    "            encode_layers += [nn.Linear(hidden_sizes[i], hidden_sizes[i+1]), nn.ReLU()]\n",
    "        encode_layers += [nn.Linear(hidden_sizes[-1], latent_size)]\n",
    "        self.encode = nn.Sequential(*encode_layers)\n",
    "        \n",
    "        decode_layers = [nn.Linear(latent_size, hidden_sizes[-1]), nn.ReLU()]\n",
    "        for i in range(1, len(hidden_sizes)):\n",
    "            decode_layers += [nn.Linear(hidden_sizes[-i], hidden_sizes[-i-1]), nn.ReLU()]\n",
    "        decode_layers += [nn.Linear(hidden_sizes[0], INPUT_SIZE)]\n",
    "        self.decode = nn.Sequential(*decode_layers)\n",
    "    \n",
    "    def forward(self, x: torch.Tensor) -> torch.Tensor:\n",
    "        x = self.encode(x)\n",
    "        x = self.decode(x)\n",
    "        return x"
   ]
  },
  {
   "cell_type": "code",
   "execution_count": 60,
   "metadata": {},
   "outputs": [
    {
     "name": "stderr",
     "output_type": "stream",
     "text": [
      "100%|████████████████████████████████████████████████████████████████████████████████████████████████████████████████████| 108/108 [15:00<00:00,  8.34s/it]\n"
     ]
    }
   ],
   "source": [
    "best_model_params_uae, best_f1_uae = grid_search(ModelClass=UndercompleteAutoEncoder,\n",
    "                                                 model_name='undercomplete_autoencoder',\n",
    "                                                 hidden_sizes_ls=[[16], [18], [18, 16]],\n",
    "                                                 latent_sizes=[12, 14],\n",
    "                                                 batch_sizes=[32, 64, 128], \n",
    "                                                 learning_rates=[1e-3, 1e-2], \n",
    "                                                 seeds=[0, 1, 2])"
   ]
  },
  {
   "cell_type": "code",
   "execution_count": 61,
   "metadata": {},
   "outputs": [
    {
     "data": {
      "text/markdown": [
       "#### Best Parameters"
      ],
      "text/plain": [
       "<IPython.core.display.Markdown object>"
      ]
     },
     "metadata": {},
     "output_type": "display_data"
    },
    {
     "data": {
      "text/html": [
       "<style  type=\"text/css\" >\n",
       "</style><table id=\"T_dc044925_d5cc_11ec_bd2f_2016b948faac\" ><thead>    <tr>        <th class=\"col_heading level0 col0\" >Hidden Size</th>        <th class=\"col_heading level0 col1\" >Latent Size</th>        <th class=\"col_heading level0 col2\" >Batch Size</th>        <th class=\"col_heading level0 col3\" >Learning Rate</th>        <th class=\"col_heading level0 col4\" >Seed</th>        <th class=\"col_heading level0 col5\" >Threshold</th>        <th class=\"col_heading level0 col6\" >F1 Score</th>    </tr></thead><tbody>\n",
       "                <tr>\n",
       "                                <td id=\"T_dc044925_d5cc_11ec_bd2f_2016b948faacrow0_col0\" class=\"data row0 col0\" >[18]</td>\n",
       "                        <td id=\"T_dc044925_d5cc_11ec_bd2f_2016b948faacrow0_col1\" class=\"data row0 col1\" >14</td>\n",
       "                        <td id=\"T_dc044925_d5cc_11ec_bd2f_2016b948faacrow0_col2\" class=\"data row0 col2\" >32</td>\n",
       "                        <td id=\"T_dc044925_d5cc_11ec_bd2f_2016b948faacrow0_col3\" class=\"data row0 col3\" >0.010000</td>\n",
       "                        <td id=\"T_dc044925_d5cc_11ec_bd2f_2016b948faacrow0_col4\" class=\"data row0 col4\" >1</td>\n",
       "                        <td id=\"T_dc044925_d5cc_11ec_bd2f_2016b948faacrow0_col5\" class=\"data row0 col5\" >0.600000</td>\n",
       "                        <td id=\"T_dc044925_d5cc_11ec_bd2f_2016b948faacrow0_col6\" class=\"data row0 col6\" >0.853868</td>\n",
       "            </tr>\n",
       "    </tbody></table>"
      ],
      "text/plain": [
       "<pandas.io.formats.style.Styler at 0x1ef3ceb5550>"
      ]
     },
     "metadata": {},
     "output_type": "display_data"
    }
   ],
   "source": [
    "best_params_df_uae = pd.DataFrame([list(best_model_params_uae) + [best_f1_uae]], columns=['Hidden Sizes', 'Latent Size', 'Batch Size', 'Learning Rate', 'Seed', 'Threshold', 'F1 Score'])\n",
    "display(Markdown('#### Best Parameters'))\n",
    "display(best_params_df_uae.style.hide_index())"
   ]
  },
  {
   "cell_type": "markdown",
   "metadata": {},
   "source": [
    "Below, I run again the model with the best hyperparameters."
   ]
  },
  {
   "cell_type": "code",
   "execution_count": 62,
   "metadata": {},
   "outputs": [],
   "source": [
    "batch_size_uae = best_model_params_uae[2]\n",
    "hidden_sizes_uae = best_model_params_uae[0]\n",
    "latent_size_uae = best_model_params_uae[1]\n",
    "learning_rate_uae = best_model_params_uae[3]\n",
    "seed_uae = best_model_params_uae[4]\n",
    "\n",
    "train_dataloader_uae = DataLoader(train_data, batch_size=batch_size_uae, worker_init_fn=seed_worker, shuffle=False)\n",
    "val_dataloader_uae = DataLoader(val_data, batch_size=batch_size_uae, worker_init_fn=seed_worker, shuffle=False)\n",
    "\n",
    "seed_all(seed_uae)\n",
    "undercomplete_ae = UndercompleteAutoEncoder(hidden_sizes=hidden_sizes_uae, latent_size=latent_size_uae)\n",
    "\n",
    "optimizer_uae = torch.optim.Adam(undercomplete_ae.parameters(), lr=learning_rate_uae)\n",
    "criterion_uae = nn.MSELoss()"
   ]
  },
  {
   "cell_type": "code",
   "execution_count": 63,
   "metadata": {},
   "outputs": [
    {
     "name": "stdout",
     "output_type": "stream",
     "text": [
      "epoch 20; train loss: 0.03723937683903119; valid loss: 0.03797032290862666\n",
      "epoch 40; train loss: 0.020090154070845422; valid loss: 0.02357626251048512\n",
      "epoch 60; train loss: 0.015453275320503642; valid loss: 0.01929182093590498\n",
      "epoch 80; train loss: 0.015264093136305319; valid loss: 0.02071880352579885\n",
      "epoch 100; train loss: 0.012497355147977085; valid loss: 0.016371890488598082\n",
      "epoch 120; train loss: 0.01673270616789951; valid loss: 0.02242951084756189\n",
      "epoch 140; train loss: 0.012553147519664729; valid loss: 0.015977088051537674\n",
      "epoch 160; train loss: 0.011872202651027371; valid loss: 0.016514806904726557\n",
      "epoch 180; train loss: 0.011415168478646699; valid loss: 0.015309110076891052\n",
      "epoch 200; train loss: 0.009998493444393663; valid loss: 0.01199456418140067\n"
     ]
    }
   ],
   "source": [
    "train_model(model=undercomplete_ae, model_name='undercomplete_autoencoder', optimizer=optimizer_uae, criterion=criterion_uae,\n",
    "            train_loader=train_dataloader_uae, val_loader=val_dataloader_uae, nr_of_epochs=200)"
   ]
  },
  {
   "cell_type": "code",
   "execution_count": 64,
   "metadata": {},
   "outputs": [
    {
     "data": {
      "text/html": [
       "<div>\n",
       "<style scoped>\n",
       "    .dataframe tbody tr th:only-of-type {\n",
       "        vertical-align: middle;\n",
       "    }\n",
       "\n",
       "    .dataframe tbody tr th {\n",
       "        vertical-align: top;\n",
       "    }\n",
       "\n",
       "    .dataframe thead th {\n",
       "        text-align: right;\n",
       "    }\n",
       "</style>\n",
       "<table border=\"1\" class=\"dataframe\">\n",
       "  <thead>\n",
       "    <tr style=\"text-align: right;\">\n",
       "      <th></th>\n",
       "      <th>Reconstruction Error</th>\n",
       "      <th>class</th>\n",
       "    </tr>\n",
       "  </thead>\n",
       "  <tbody>\n",
       "    <tr>\n",
       "      <th>count</th>\n",
       "      <td>331.000000</td>\n",
       "      <td>331.0</td>\n",
       "    </tr>\n",
       "    <tr>\n",
       "      <th>mean</th>\n",
       "      <td>0.917306</td>\n",
       "      <td>0.0</td>\n",
       "    </tr>\n",
       "    <tr>\n",
       "      <th>std</th>\n",
       "      <td>11.461358</td>\n",
       "      <td>0.0</td>\n",
       "    </tr>\n",
       "    <tr>\n",
       "      <th>min</th>\n",
       "      <td>0.031810</td>\n",
       "      <td>0.0</td>\n",
       "    </tr>\n",
       "    <tr>\n",
       "      <th>25%</th>\n",
       "      <td>0.097631</td>\n",
       "      <td>0.0</td>\n",
       "    </tr>\n",
       "    <tr>\n",
       "      <th>50%</th>\n",
       "      <td>0.151630</td>\n",
       "      <td>0.0</td>\n",
       "    </tr>\n",
       "    <tr>\n",
       "      <th>75%</th>\n",
       "      <td>0.288254</td>\n",
       "      <td>0.0</td>\n",
       "    </tr>\n",
       "    <tr>\n",
       "      <th>max</th>\n",
       "      <td>208.562317</td>\n",
       "      <td>0.0</td>\n",
       "    </tr>\n",
       "  </tbody>\n",
       "</table>\n",
       "</div>"
      ],
      "text/plain": [
       "       Reconstruction Error  class\n",
       "count            331.000000  331.0\n",
       "mean               0.917306    0.0\n",
       "std               11.461358    0.0\n",
       "min                0.031810    0.0\n",
       "25%                0.097631    0.0\n",
       "50%                0.151630    0.0\n",
       "75%                0.288254    0.0\n",
       "max              208.562317    0.0"
      ]
     },
     "metadata": {},
     "output_type": "display_data"
    },
    {
     "data": {
      "text/html": [
       "<div>\n",
       "<style scoped>\n",
       "    .dataframe tbody tr th:only-of-type {\n",
       "        vertical-align: middle;\n",
       "    }\n",
       "\n",
       "    .dataframe tbody tr th {\n",
       "        vertical-align: top;\n",
       "    }\n",
       "\n",
       "    .dataframe thead th {\n",
       "        text-align: right;\n",
       "    }\n",
       "</style>\n",
       "<table border=\"1\" class=\"dataframe\">\n",
       "  <thead>\n",
       "    <tr style=\"text-align: right;\">\n",
       "      <th></th>\n",
       "      <th>Reconstruction Error</th>\n",
       "      <th>class</th>\n",
       "    </tr>\n",
       "  </thead>\n",
       "  <tbody>\n",
       "    <tr>\n",
       "      <th>count</th>\n",
       "      <td>176.000000</td>\n",
       "      <td>176.0</td>\n",
       "    </tr>\n",
       "    <tr>\n",
       "      <th>mean</th>\n",
       "      <td>16.228100</td>\n",
       "      <td>1.0</td>\n",
       "    </tr>\n",
       "    <tr>\n",
       "      <th>std</th>\n",
       "      <td>65.033806</td>\n",
       "      <td>0.0</td>\n",
       "    </tr>\n",
       "    <tr>\n",
       "      <th>min</th>\n",
       "      <td>0.096019</td>\n",
       "      <td>1.0</td>\n",
       "    </tr>\n",
       "    <tr>\n",
       "      <th>25%</th>\n",
       "      <td>0.921840</td>\n",
       "      <td>1.0</td>\n",
       "    </tr>\n",
       "    <tr>\n",
       "      <th>50%</th>\n",
       "      <td>1.642808</td>\n",
       "      <td>1.0</td>\n",
       "    </tr>\n",
       "    <tr>\n",
       "      <th>75%</th>\n",
       "      <td>4.661962</td>\n",
       "      <td>1.0</td>\n",
       "    </tr>\n",
       "    <tr>\n",
       "      <th>max</th>\n",
       "      <td>486.885803</td>\n",
       "      <td>1.0</td>\n",
       "    </tr>\n",
       "  </tbody>\n",
       "</table>\n",
       "</div>"
      ],
      "text/plain": [
       "       Reconstruction Error  class\n",
       "count            176.000000  176.0\n",
       "mean              16.228100    1.0\n",
       "std               65.033806    0.0\n",
       "min                0.096019    1.0\n",
       "25%                0.921840    1.0\n",
       "50%                1.642808    1.0\n",
       "75%                4.661962    1.0\n",
       "max              486.885803    1.0"
      ]
     },
     "metadata": {},
     "output_type": "display_data"
    }
   ],
   "source": [
    "test_df, test_MSEs = eval_on_testset(undercomplete_ae, X_test, y_test)"
   ]
  },
  {
   "cell_type": "code",
   "execution_count": 65,
   "metadata": {},
   "outputs": [
    {
     "data": {
      "text/markdown": [
       "#### Model: undercomplete_autoencoder, trying 50 thresholds from [0.1, 5.0]"
      ],
      "text/plain": [
       "<IPython.core.display.Markdown object>"
      ]
     },
     "metadata": {},
     "output_type": "display_data"
    },
    {
     "data": {
      "text/markdown": [
       "For more detail, call the function with `verbose_lvl=2`"
      ],
      "text/plain": [
       "<IPython.core.display.Markdown object>"
      ]
     },
     "metadata": {},
     "output_type": "display_data"
    }
   ],
   "source": [
    "optimal_threshold_under, optimal_f1_under = try_threshold_grid(test_MSEs, y_test, 'undercomplete_autoencoder', start=0.1, stop=5.0, num_thresholds=50, verbose_lvl=1)"
   ]
  },
  {
   "cell_type": "code",
   "execution_count": 66,
   "metadata": {},
   "outputs": [
    {
     "data": {
      "text/markdown": [
       "#### Best Threshold 0.60, F1 Score 0.85"
      ],
      "text/plain": [
       "<IPython.core.display.Markdown object>"
      ]
     },
     "metadata": {},
     "output_type": "display_data"
    },
    {
     "data": {
      "text/html": [
       "<style  type=\"text/css\" >\n",
       "</style><table id=\"T_e2b3f61e_d5cc_11ec_8899_2016b948faac\" ><thead>    <tr>        <th class=\"col_heading level0 col0\" >Inliers Accuracy</th>        <th class=\"col_heading level0 col1\" >Outliers Accuracy</th>        <th class=\"col_heading level0 col2\" >Overall Accuracy</th>    </tr></thead><tbody>\n",
       "                <tr>\n",
       "                                <td id=\"T_e2b3f61e_d5cc_11ec_8899_2016b948faacrow0_col0\" class=\"data row0 col0\" >0.927492</td>\n",
       "                        <td id=\"T_e2b3f61e_d5cc_11ec_8899_2016b948faacrow0_col1\" class=\"data row0 col1\" >0.846591</td>\n",
       "                        <td id=\"T_e2b3f61e_d5cc_11ec_8899_2016b948faacrow0_col2\" class=\"data row0 col2\" >0.899408</td>\n",
       "            </tr>\n",
       "    </tbody></table>"
      ],
      "text/plain": [
       "<pandas.io.formats.style.Styler at 0x1ef3d2edeb0>"
      ]
     },
     "metadata": {},
     "output_type": "display_data"
    },
    {
     "data": {
      "text/markdown": [
       "##### Classification Report"
      ],
      "text/plain": [
       "<IPython.core.display.Markdown object>"
      ]
     },
     "metadata": {},
     "output_type": "display_data"
    },
    {
     "name": "stdout",
     "output_type": "stream",
     "text": [
      "              precision    recall  f1-score   support\n",
      "\n",
      "           0       0.92      0.93      0.92       331\n",
      "           1       0.86      0.85      0.85       176\n",
      "\n",
      "    accuracy                           0.90       507\n",
      "   macro avg       0.89      0.89      0.89       507\n",
      "weighted avg       0.90      0.90      0.90       507\n",
      "\n"
     ]
    },
    {
     "data": {
      "image/png": "[encoded data removed]",
      "text/plain": [
       "<Figure size 432x432 with 2 Axes>"
      ]
     },
     "metadata": {
      "needs_background": "light"
     },
     "output_type": "display_data"
    }
   ],
   "source": [
    "predictions = classify_by_error(test_MSEs, optimal_threshold_under)\n",
    "matrix = confusion_matrix(y_test, predictions)\n",
    "class_accuracies = matrix.diagonal()/matrix.sum(axis=1)\n",
    "acc_df = pd.DataFrame({\n",
    "    'Inliers Accuracy': [class_accuracies[0]], \n",
    "    'Outliers Accuracy': [class_accuracies[1]], \n",
    "    'Overall Accuracy': [accuracy_score(y_test, predictions)]\n",
    "})\n",
    "\n",
    "display(Markdown(f'#### Best Threshold {optimal_threshold_under:.2f}, F1 Score {optimal_f1_under:.2f}'))\n",
    "display(acc_df.style.hide_index())\n",
    "display(Markdown(f'##### Classification Report'))\n",
    "print(classification_report(y_test, predictions))\n",
    "plot_confusion_matrix(matrix)"
   ]
  },
  {
   "cell_type": "markdown",
   "metadata": {},
   "source": [
    "---"
   ]
  },
  {
   "cell_type": "markdown",
   "metadata": {},
   "source": [
    "### 2. Denoising AutoEncoder"
   ]
  },
  {
   "cell_type": "markdown",
   "metadata": {},
   "source": [
    "There is an aditional hyperparameter in the denoising autoencoder - noise rate. I have chosen its value 0.1 experimentally."
   ]
  },
  {
   "cell_type": "code",
   "execution_count": 67,
   "metadata": {},
   "outputs": [],
   "source": [
    "class DenoisingAutoEncoder(nn.Module):\n",
    "    def __init__(self, hidden_sizes: List[int], latent_size: int, noise_rate: float = 0.1):\n",
    "        super(DenoisingAutoEncoder, self).__init__()\n",
    "        self.noise_rate = noise_rate\n",
    "        \n",
    "        encode_layers = [nn.Linear(INPUT_SIZE, hidden_sizes[0]), nn.ReLU()]\n",
    "        for i in range(len(hidden_sizes)-1):\n",
    "            encode_layers += [nn.Linear(hidden_sizes[i], hidden_sizes[i+1]), nn.ReLU()]\n",
    "        encode_layers += [nn.Linear(hidden_sizes[-1], latent_size)]\n",
    "        self.encode = nn.Sequential(*encode_layers)\n",
    "        \n",
    "        decode_layers = [nn.Linear(latent_size, hidden_sizes[-1]), nn.ReLU()]\n",
    "        for i in range(1, len(hidden_sizes)):\n",
    "            decode_layers += [nn.Linear(hidden_sizes[-i], hidden_sizes[-i-1]), nn.ReLU()]\n",
    "        decode_layers += [nn.Linear(hidden_sizes[0], INPUT_SIZE)]\n",
    "        self.decode = nn.Sequential(*decode_layers)\n",
    "    \n",
    "    def forward(self, x: torch.Tensor) -> torch.Tensor:\n",
    "        if self.training:\n",
    "            # randn_like returns tensor the same shape as x with random numbers\n",
    "            # from a normal distribution with mean 0 and variance 1\n",
    "            x = x + torch.randn_like(x) * self.noise_rate\n",
    "        x = self.encode(x)\n",
    "        x = self.decode(x)\n",
    "        return x"
   ]
  },
  {
   "cell_type": "code",
   "execution_count": 68,
   "metadata": {},
   "outputs": [
    {
     "name": "stderr",
     "output_type": "stream",
     "text": [
      "100%|████████████████████████████████████████████████████████████████████████████████████████████████████████████████████| 108/108 [14:32<00:00,  8.08s/it]\n"
     ]
    }
   ],
   "source": [
    "best_model_params_dae, best_f1_dae = grid_search(ModelClass=DenoisingAutoEncoder,\n",
    "                                                 model_name='denoising_autoencoder',\n",
    "                                                 hidden_sizes_ls=[[16], [18], [18, 16]],\n",
    "                                                 latent_sizes=[12, 14],\n",
    "                                                 batch_sizes=[32, 64, 128], \n",
    "                                                 learning_rates=[1e-3, 1e-2], \n",
    "                                                 seeds=[0, 1, 2])"
   ]
  },
  {
   "cell_type": "code",
   "execution_count": 74,
   "metadata": {},
   "outputs": [
    {
     "data": {
      "text/markdown": [
       "#### Best Parameters"
      ],
      "text/plain": [
       "<IPython.core.display.Markdown object>"
      ]
     },
     "metadata": {},
     "output_type": "display_data"
    },
    {
     "data": {
      "text/html": [
       "<style  type=\"text/css\" >\n",
       "</style><table id=\"T_254640d1_d5cf_11ec_bd2f_2016b948faac\" ><thead>    <tr>        <th class=\"col_heading level0 col0\" >Hidden Sizes</th>        <th class=\"col_heading level0 col1\" >Latent Size</th>        <th class=\"col_heading level0 col2\" >Batch Size</th>        <th class=\"col_heading level0 col3\" >Learning Rate</th>        <th class=\"col_heading level0 col4\" >Seed</th>        <th class=\"col_heading level0 col5\" >Threshold</th>        <th class=\"col_heading level0 col6\" >F1 Score</th>    </tr></thead><tbody>\n",
       "                <tr>\n",
       "                                <td id=\"T_254640d1_d5cf_11ec_bd2f_2016b948faacrow0_col0\" class=\"data row0 col0\" >[18, 16]</td>\n",
       "                        <td id=\"T_254640d1_d5cf_11ec_bd2f_2016b948faacrow0_col1\" class=\"data row0 col1\" >12</td>\n",
       "                        <td id=\"T_254640d1_d5cf_11ec_bd2f_2016b948faacrow0_col2\" class=\"data row0 col2\" >64</td>\n",
       "                        <td id=\"T_254640d1_d5cf_11ec_bd2f_2016b948faacrow0_col3\" class=\"data row0 col3\" >0.001000</td>\n",
       "                        <td id=\"T_254640d1_d5cf_11ec_bd2f_2016b948faacrow0_col4\" class=\"data row0 col4\" >0</td>\n",
       "                        <td id=\"T_254640d1_d5cf_11ec_bd2f_2016b948faacrow0_col5\" class=\"data row0 col5\" >4.600000</td>\n",
       "                        <td id=\"T_254640d1_d5cf_11ec_bd2f_2016b948faacrow0_col6\" class=\"data row0 col6\" >0.857955</td>\n",
       "            </tr>\n",
       "    </tbody></table>"
      ],
      "text/plain": [
       "<pandas.io.formats.style.Styler at 0x1ef3f6be220>"
      ]
     },
     "metadata": {},
     "output_type": "display_data"
    }
   ],
   "source": [
    "best_params_df_dae = pd.DataFrame([list(best_model_params_dae) + [best_f1_dae]], columns=['Hidden Sizes', 'Latent Size', 'Batch Size', 'Learning Rate', 'Seed', 'Threshold', 'F1 Score'])\n",
    "display(Markdown('#### Best Parameters'))\n",
    "display(best_params_df_dae.style.hide_index())"
   ]
  },
  {
   "cell_type": "markdown",
   "metadata": {},
   "source": [
    "Below, I run again the model with the best hyperparameters."
   ]
  },
  {
   "cell_type": "code",
   "execution_count": 75,
   "metadata": {},
   "outputs": [],
   "source": [
    "batch_size_dae = best_model_params_dae[2]\n",
    "hidden_sizes_dae = best_model_params_dae[0]\n",
    "latent_size_dae = best_model_params_dae[1]\n",
    "learning_rate_dae = best_model_params_dae[3]\n",
    "seed_dae = best_model_params_dae[4]\n",
    "\n",
    "train_dataloader_dae = DataLoader(train_data, batch_size=batch_size_dae, worker_init_fn=seed_worker, shuffle=False)\n",
    "val_dataloader_dae = DataLoader(val_data, batch_size=batch_size_dae, worker_init_fn=seed_worker, shuffle=False)\n",
    "\n",
    "seed_all(seed_dae)\n",
    "denoising_ae = DenoisingAutoEncoder(hidden_sizes=hidden_sizes_dae, latent_size=latent_size_dae)\n",
    "\n",
    "optimizer_dae = torch.optim.Adam(denoising_ae.parameters(), lr=learning_rate_dae)\n",
    "criterion_dae = nn.MSELoss()"
   ]
  },
  {
   "cell_type": "code",
   "execution_count": 76,
   "metadata": {},
   "outputs": [
    {
     "name": "stdout",
     "output_type": "stream",
     "text": [
      "epoch 20; train loss: 0.2810297652202494; valid loss: 0.262992861866951\n",
      "epoch 40; train loss: 0.21063781573491938; valid loss: 0.20053890645503997\n",
      "epoch 60; train loss: 0.17799240175415487; valid loss: 0.167845618724823\n",
      "epoch 80; train loss: 0.13241556505946553; valid loss: 0.1142901137471199\n",
      "epoch 100; train loss: 0.10906535299385295; valid loss: 0.08841354250907899\n",
      "epoch 120; train loss: 0.10111656828838236; valid loss: 0.08080225810408592\n",
      "epoch 140; train loss: 0.09485143598388224; valid loss: 0.07402787953615189\n",
      "epoch 160; train loss: 0.08643094800850924; valid loss: 0.06698484793305397\n",
      "epoch 180; train loss: 0.08066995726788745; valid loss: 0.0638043113052845\n",
      "epoch 200; train loss: 0.07677312765051336; valid loss: 0.06005171090364456\n"
     ]
    }
   ],
   "source": [
    "train_model(model=denoising_ae, model_name='denoising_autoencoder', optimizer=optimizer_dae, criterion=criterion_dae,\n",
    "            train_loader=train_dataloader_dae, val_loader=val_dataloader_dae, nr_of_epochs=200)"
   ]
  },
  {
   "cell_type": "code",
   "execution_count": 77,
   "metadata": {},
   "outputs": [
    {
     "data": {
      "text/html": [
       "<div>\n",
       "<style scoped>\n",
       "    .dataframe tbody tr th:only-of-type {\n",
       "        vertical-align: middle;\n",
       "    }\n",
       "\n",
       "    .dataframe tbody tr th {\n",
       "        vertical-align: top;\n",
       "    }\n",
       "\n",
       "    .dataframe thead th {\n",
       "        text-align: right;\n",
       "    }\n",
       "</style>\n",
       "<table border=\"1\" class=\"dataframe\">\n",
       "  <thead>\n",
       "    <tr style=\"text-align: right;\">\n",
       "      <th></th>\n",
       "      <th>Reconstruction Error</th>\n",
       "      <th>class</th>\n",
       "    </tr>\n",
       "  </thead>\n",
       "  <tbody>\n",
       "    <tr>\n",
       "      <th>count</th>\n",
       "      <td>331.000000</td>\n",
       "      <td>331.0</td>\n",
       "    </tr>\n",
       "    <tr>\n",
       "      <th>mean</th>\n",
       "      <td>2.252344</td>\n",
       "      <td>0.0</td>\n",
       "    </tr>\n",
       "    <tr>\n",
       "      <th>std</th>\n",
       "      <td>10.951236</td>\n",
       "      <td>0.0</td>\n",
       "    </tr>\n",
       "    <tr>\n",
       "      <th>min</th>\n",
       "      <td>0.102357</td>\n",
       "      <td>0.0</td>\n",
       "    </tr>\n",
       "    <tr>\n",
       "      <th>25%</th>\n",
       "      <td>0.564487</td>\n",
       "      <td>0.0</td>\n",
       "    </tr>\n",
       "    <tr>\n",
       "      <th>50%</th>\n",
       "      <td>0.996288</td>\n",
       "      <td>0.0</td>\n",
       "    </tr>\n",
       "    <tr>\n",
       "      <th>75%</th>\n",
       "      <td>1.972276</td>\n",
       "      <td>0.0</td>\n",
       "    </tr>\n",
       "    <tr>\n",
       "      <th>max</th>\n",
       "      <td>197.650070</td>\n",
       "      <td>0.0</td>\n",
       "    </tr>\n",
       "  </tbody>\n",
       "</table>\n",
       "</div>"
      ],
      "text/plain": [
       "       Reconstruction Error  class\n",
       "count            331.000000  331.0\n",
       "mean               2.252344    0.0\n",
       "std               10.951236    0.0\n",
       "min                0.102357    0.0\n",
       "25%                0.564487    0.0\n",
       "50%                0.996288    0.0\n",
       "75%                1.972276    0.0\n",
       "max              197.650070    0.0"
      ]
     },
     "metadata": {},
     "output_type": "display_data"
    },
    {
     "data": {
      "text/html": [
       "<div>\n",
       "<style scoped>\n",
       "    .dataframe tbody tr th:only-of-type {\n",
       "        vertical-align: middle;\n",
       "    }\n",
       "\n",
       "    .dataframe tbody tr th {\n",
       "        vertical-align: top;\n",
       "    }\n",
       "\n",
       "    .dataframe thead th {\n",
       "        text-align: right;\n",
       "    }\n",
       "</style>\n",
       "<table border=\"1\" class=\"dataframe\">\n",
       "  <thead>\n",
       "    <tr style=\"text-align: right;\">\n",
       "      <th></th>\n",
       "      <th>Reconstruction Error</th>\n",
       "      <th>class</th>\n",
       "    </tr>\n",
       "  </thead>\n",
       "  <tbody>\n",
       "    <tr>\n",
       "      <th>count</th>\n",
       "      <td>176.000000</td>\n",
       "      <td>176.0</td>\n",
       "    </tr>\n",
       "    <tr>\n",
       "      <th>mean</th>\n",
       "      <td>26.376417</td>\n",
       "      <td>1.0</td>\n",
       "    </tr>\n",
       "    <tr>\n",
       "      <th>std</th>\n",
       "      <td>55.906544</td>\n",
       "      <td>0.0</td>\n",
       "    </tr>\n",
       "    <tr>\n",
       "      <th>min</th>\n",
       "      <td>0.332025</td>\n",
       "      <td>1.0</td>\n",
       "    </tr>\n",
       "    <tr>\n",
       "      <th>25%</th>\n",
       "      <td>5.609365</td>\n",
       "      <td>1.0</td>\n",
       "    </tr>\n",
       "    <tr>\n",
       "      <th>50%</th>\n",
       "      <td>10.143871</td>\n",
       "      <td>1.0</td>\n",
       "    </tr>\n",
       "    <tr>\n",
       "      <th>75%</th>\n",
       "      <td>22.133160</td>\n",
       "      <td>1.0</td>\n",
       "    </tr>\n",
       "    <tr>\n",
       "      <th>max</th>\n",
       "      <td>426.904022</td>\n",
       "      <td>1.0</td>\n",
       "    </tr>\n",
       "  </tbody>\n",
       "</table>\n",
       "</div>"
      ],
      "text/plain": [
       "       Reconstruction Error  class\n",
       "count            176.000000  176.0\n",
       "mean              26.376417    1.0\n",
       "std               55.906544    0.0\n",
       "min                0.332025    1.0\n",
       "25%                5.609365    1.0\n",
       "50%               10.143871    1.0\n",
       "75%               22.133160    1.0\n",
       "max              426.904022    1.0"
      ]
     },
     "metadata": {},
     "output_type": "display_data"
    }
   ],
   "source": [
    "test_df, test_MSEs = eval_on_testset(denoising_ae, X_test, y_test)"
   ]
  },
  {
   "cell_type": "code",
   "execution_count": 78,
   "metadata": {},
   "outputs": [
    {
     "data": {
      "text/markdown": [
       "#### Model: denoising_autoencoder, trying 50 thresholds from [0.1, 5.0]"
      ],
      "text/plain": [
       "<IPython.core.display.Markdown object>"
      ]
     },
     "metadata": {},
     "output_type": "display_data"
    },
    {
     "data": {
      "text/markdown": [
       "For more detail, call the function with `verbose_lvl=2`"
      ],
      "text/plain": [
       "<IPython.core.display.Markdown object>"
      ]
     },
     "metadata": {},
     "output_type": "display_data"
    }
   ],
   "source": [
    "optimal_threshold_denoising, optimal_f1_denoising = try_threshold_grid(test_MSEs, y_test, 'denoising_autoencoder', start=0.1, stop=5.0, num_thresholds=50, verbose_lvl=1)"
   ]
  },
  {
   "cell_type": "code",
   "execution_count": 79,
   "metadata": {},
   "outputs": [
    {
     "data": {
      "text/markdown": [
       "#### Best Threshold 4.60, F1 Score 0.86"
      ],
      "text/plain": [
       "<IPython.core.display.Markdown object>"
      ]
     },
     "metadata": {},
     "output_type": "display_data"
    },
    {
     "data": {
      "text/html": [
       "<style  type=\"text/css\" >\n",
       "</style><table id=\"T_2fe634be_d5cf_11ec_b60b_2016b948faac\" ><thead>    <tr>        <th class=\"col_heading level0 col0\" >Inliers Accuracy</th>        <th class=\"col_heading level0 col1\" >Outliers Accuracy</th>        <th class=\"col_heading level0 col2\" >Overall Accuracy</th>    </tr></thead><tbody>\n",
       "                <tr>\n",
       "                                <td id=\"T_2fe634be_d5cf_11ec_b60b_2016b948faacrow0_col0\" class=\"data row0 col0\" >0.924471</td>\n",
       "                        <td id=\"T_2fe634be_d5cf_11ec_b60b_2016b948faacrow0_col1\" class=\"data row0 col1\" >0.857955</td>\n",
       "                        <td id=\"T_2fe634be_d5cf_11ec_b60b_2016b948faacrow0_col2\" class=\"data row0 col2\" >0.901381</td>\n",
       "            </tr>\n",
       "    </tbody></table>"
      ],
      "text/plain": [
       "<pandas.io.formats.style.Styler at 0x1ef3f4bbdc0>"
      ]
     },
     "metadata": {},
     "output_type": "display_data"
    },
    {
     "data": {
      "text/markdown": [
       "##### Classification Report"
      ],
      "text/plain": [
       "<IPython.core.display.Markdown object>"
      ]
     },
     "metadata": {},
     "output_type": "display_data"
    },
    {
     "name": "stdout",
     "output_type": "stream",
     "text": [
      "              precision    recall  f1-score   support\n",
      "\n",
      "           0       0.92      0.92      0.92       331\n",
      "           1       0.86      0.86      0.86       176\n",
      "\n",
      "    accuracy                           0.90       507\n",
      "   macro avg       0.89      0.89      0.89       507\n",
      "weighted avg       0.90      0.90      0.90       507\n",
      "\n"
     ]
    },
    {
     "data": {
      "image/png": "[encoded data removed]",
      "text/plain": [
       "<Figure size 432x432 with 2 Axes>"
      ]
     },
     "metadata": {
      "needs_background": "light"
     },
     "output_type": "display_data"
    }
   ],
   "source": [
    "predictions = classify_by_error(test_MSEs, optimal_threshold_denoising)\n",
    "matrix = confusion_matrix(y_test, predictions)\n",
    "class_accuracies = matrix.diagonal()/matrix.sum(axis=1)\n",
    "acc_df = pd.DataFrame({\n",
    "    'Inliers Accuracy': [class_accuracies[0]], \n",
    "    'Outliers Accuracy': [class_accuracies[1]], \n",
    "    'Overall Accuracy': [accuracy_score(y_test, predictions)]\n",
    "})\n",
    "\n",
    "display(Markdown(f'#### Best Threshold {optimal_threshold_denoising:.2f}, F1 Score {optimal_f1_denoising:.2f}'))\n",
    "display(acc_df.style.hide_index())\n",
    "display(Markdown(f'##### Classification Report'))\n",
    "print(classification_report(y_test, predictions))\n",
    "plot_confusion_matrix(matrix)"
   ]
  },
  {
   "cell_type": "markdown",
   "metadata": {},
   "source": [
    "---"
   ]
  },
  {
   "cell_type": "markdown",
   "metadata": {},
   "source": [
    "### 3. Variational AutoEncoder"
   ]
  },
  {
   "cell_type": "markdown",
   "metadata": {},
   "source": [
    "#### Altered training, evaluation, and grid search functions"
   ]
  },
  {
   "cell_type": "code",
   "execution_count": 80,
   "metadata": {},
   "outputs": [],
   "source": [
    "def train_one_epoch_VAE(model: nn.Module, optimizer: torch.optim.Optimizer, criterion: nn.MSELoss, train_loader: DataLoader):\n",
    "    '''\n",
    "    Train one epoch of the model on training dataset batched by the train_loader.\n",
    "    \n",
    "    :param nn.Module model: model on which we perform one training epoch\n",
    "    :param torch.optim.Optimizer optimizer: optimizer, e.g. ADAM or SGD\n",
    "    :param nn.MSELoss criterion: loss function used for training\n",
    "    :param DataLoader train_loader: data object for batching training set\n",
    "    :returns: an average loss on the training dataset\n",
    "    '''\n",
    "    running_loss = 0.0\n",
    "    for i, data in enumerate(train_loader):\n",
    "        inputs, _ = data\n",
    "        optimizer.zero_grad()\n",
    "\n",
    "        outputs = model(inputs.float())\n",
    "        loss = ((outputs.float() - inputs.float()) ** 2).mean() + model.kl\n",
    "        loss.backward()\n",
    "        optimizer.step()\n",
    "        running_loss += loss.item()\n",
    "    return running_loss / len(train_loader)"
   ]
  },
  {
   "cell_type": "code",
   "execution_count": 142,
   "metadata": {},
   "outputs": [],
   "source": [
    "def train_model_VAE(model: nn.Module, model_name: str, optimizer: torch.optim.Optimizer, criterion: nn.MSELoss, \n",
    "                    train_loader: DataLoader, val_loader: DataLoader, nr_of_epochs: int = 100, verbose: bool = True):\n",
    "    '''\n",
    "    Train the specified model, and evaluate on validation data.\n",
    "        \n",
    "    :param nn.Module model: model being trained\n",
    "    :param str model_name: model name, e.g. denoising_autoencoder\n",
    "    :param torch.optim.Optimizer optimizer: optimizer, e.g. ADAM or SGD\n",
    "    :param nn.MSELoss criterion: loss function used for training\n",
    "    :param DataLoader train_loader: data object for batching the training set\n",
    "    :param DataLoader val_loader: data object for batching the validation set\n",
    "    :param int nr_of_epochs: number of training epochs\n",
    "    :param bool verbose: determining whether training and validation losses should be printed\n",
    "    '''\n",
    "    best_loss = 10**12\n",
    "    best_model, model_path, best_epoch = None, None, None\n",
    "\n",
    "    for epoch in range(nr_of_epochs):\n",
    "        model.train()\n",
    "        train_loss = train_one_epoch_VAE(model, optimizer, criterion, train_loader)\n",
    "        model.eval()\n",
    "\n",
    "        # performance on validation set\n",
    "        with torch.no_grad():\n",
    "            valid_loss = 0.0\n",
    "            for i, data in enumerate(val_loader):\n",
    "                inputs, _ = data\n",
    "                outputs = model(inputs.float())\n",
    "                loss = ((outputs.float() - inputs.float()) ** 2).mean() + model.kl\n",
    "                valid_loss += loss.item()\n",
    "            valid_loss = valid_loss / len(val_loader)\n",
    "\n",
    "            # logging at each Nth epoch\n",
    "            if verbose and (epoch + 1) % 20 == 0:\n",
    "                print(f'epoch {epoch + 1}; train loss: {train_loss}; valid loss: {valid_loss}')\n",
    "\n",
    "            # remember model with the best validation loss\n",
    "            if valid_loss < best_loss:\n",
    "                best_loss = valid_loss\n",
    "                best_model = model.state_dict()\n",
    "                best_epoch = epoch + 1\n",
    "\n",
    "    # save the overall best model\n",
    "    if verbose:\n",
    "        timestamp = datetime.now().strftime('%Y%m%d_%H%M%S')\n",
    "        os.makedirs('models/', exist_ok=True)\n",
    "        model_path = f'models/model_{model_name}_{timestamp}_epoch{best_epoch}'\n",
    "        torch.save(best_model, model_path)"
   ]
  },
  {
   "cell_type": "code",
   "execution_count": 143,
   "metadata": {},
   "outputs": [],
   "source": [
    "def eval_on_testset_VAE(model: nn.Module, testset: np.ndarray, test_labels: np.ndarray, verbose: bool = True) -> Tuple[pd.DataFrame, np.ndarray]:\n",
    "    '''\n",
    "    Evaluate testing data on the model, calculate reconstruction error, print statistics on inliers and outliers\n",
    "        \n",
    "    :param nn.Module model: model being evaluated\n",
    "    :param np.ndarray testset: testing inputs\n",
    "    :param np.ndarray test_labels: ground-truth labels\n",
    "    :param bool verbose: determining whether training and validation losses should be printed\n",
    "    :returns: dataframe with reconstruction errors and classes, reconstrution errors\n",
    "    '''\n",
    "    testset_tensor = torch.tensor(testset).float()\n",
    "    reconstructed_test = model(testset_tensor)\n",
    "    mse_test = torch.mean((reconstructed_test.detach() - testset_tensor) ** 2, axis=1) + model.kl.detach()\n",
    "    error_df = pd.DataFrame({'Reconstruction Error': mse_test, 'class': y_test})\n",
    "    \n",
    "    if verbose:\n",
    "        display(error_df[error_df['class'] == 0].describe())\n",
    "        display(error_df[error_df['class'] == 1].describe())\n",
    "    return error_df, mse_test"
   ]
  },
  {
   "cell_type": "code",
   "execution_count": 144,
   "metadata": {},
   "outputs": [],
   "source": [
    "def train_eval_test_model_VAE(ModelClass: Type[nn.Module], hidden_sizes: List[int], latent_size: int, model_name: str,\n",
    "                              batch_size: int, learning_rate: float, seed: int) -> Tuple[float, float]:\n",
    "    '''\n",
    "    Train and evaluate model with concrete hyperparameters, try threshold grid.\n",
    "    \n",
    "    :param Type[nn.Module] ModelClass: class of model to be trained\n",
    "    :param List[int] hidden_sizes: list determining number of hidden layers and their sizes\n",
    "    :param int latent_size: size of the latent space\n",
    "    :param str model_name: name of the model architecture\n",
    "    :param int batch_size: batch size for training and validation\n",
    "    :param float learning_rate: learning rate for the optimizer\n",
    "    :param int seed: random seed for PyTorch\n",
    "    :returns: best MSE threshold, best F1 score\n",
    "    '''\n",
    "    train_loader = DataLoader(train_data, batch_size=batch_size, worker_init_fn=seed_worker, shuffle=False)\n",
    "    val_loader = DataLoader(val_data, batch_size=batch_size, worker_init_fn=seed_worker, shuffle=False)\n",
    "    \n",
    "    seed_all(seed)\n",
    "    model = ModelClass(hidden_sizes, latent_size)\n",
    "\n",
    "    optimizer = torch.optim.Adam(model.parameters(), lr=learning_rate)\n",
    "    criterion = nn.MSELoss()\n",
    "\n",
    "    train_model_VAE(model=model, model_name=model_name, optimizer=optimizer, criterion=criterion,\n",
    "                    train_loader=train_loader, val_loader=val_loader, nr_of_epochs=200, verbose=False)\n",
    "    \n",
    "    df, MSEs = eval_on_testset_VAE(model, X_test, y_test, verbose=False)\n",
    "    threshold, f1 = try_threshold_grid(MSEs, y_test, model_name, start=0.1, stop=5.0, num_thresholds=50, verbose_lvl=0)\n",
    "    return threshold, f1"
   ]
  },
  {
   "cell_type": "code",
   "execution_count": 145,
   "metadata": {},
   "outputs": [],
   "source": [
    "def grid_search_VAE(ModelClass: Type[nn.Module], model_name: str, hidden_sizes_ls: List[List[int]], latent_sizes: List[int],\n",
    "                    batch_sizes: List[int], learning_rates: List[float], seeds: List[int]):\n",
    "    '''\n",
    "    Try out grid of hyperparameters constructed as a cartesian product of the given values, \n",
    "    return the best parameters according to the model's F1 score.\n",
    "    \n",
    "    :param Type[nn.Module] ModelClass: class of model to be trained\n",
    "    :param str model_name: name of the model architecture\n",
    "    :param List[List[int]] hidden_sizes_ls: list of lists determining number of hidden layers and their sizes\n",
    "    :param List[int] latent_sizes: sizes of the latent space\n",
    "    :param List[int] batch_sizes: batch sizes for training and validation\n",
    "    :param List[float] learning_rates: learning rates for the optimizer\n",
    "    :param List[int] seeds: random seeds for PyTorch\n",
    "    :returns: best hyperparameters, best F1 score\n",
    "    '''\n",
    "    best_f1 = 0.0\n",
    "    best_model_params = None\n",
    "    \n",
    "    cartes_product = list(itertools.product(hidden_sizes_ls, latent_sizes, batch_sizes, learning_rates, seeds))\n",
    "    for hidden_sizes, latent_size, batch_size, learning_rate, seed in tqdm(cartes_product):\n",
    "        threshold, f1 = train_eval_test_model_VAE(ModelClass, hidden_sizes, latent_size, model_name, batch_size, learning_rate, seed)\n",
    "        if f1 > best_f1:\n",
    "            best_f1 = f1\n",
    "            best_model_params = hidden_sizes, latent_size, batch_size, learning_rate, seed, threshold\n",
    "    return best_model_params, best_f1"
   ]
  },
  {
   "cell_type": "markdown",
   "metadata": {},
   "source": [
    "#### Experiments"
   ]
  },
  {
   "cell_type": "code",
   "execution_count": 132,
   "metadata": {},
   "outputs": [],
   "source": [
    "class VariationalAutoEncoder(nn.Module):\n",
    "    def __init__(self, hidden_sizes: List[int], latent_size: int):\n",
    "        super(VariationalAutoEncoder, self).__init__()\n",
    "        \n",
    "        self.encLayers = [nn.Linear(INPUT_SIZE, hidden_sizes[0]), nn.ReLU()]\n",
    "        for i in range(len(hidden_sizes)-1):\n",
    "            self.encLayers += [nn.Linear(hidden_sizes[i], hidden_sizes[i+1]), nn.ReLU()]\n",
    "        self.encLinMu = nn.Linear(hidden_sizes[-1], latent_size)\n",
    "        self.encLinSigma = nn.Linear(hidden_sizes[-1], latent_size)\n",
    "        self.normal = torch.distributions.Normal(0, 1)\n",
    "        self.kl = 0\n",
    "\n",
    "        self.decLayers = [nn.Linear(latent_size, hidden_sizes[-1]), nn.ReLU()]\n",
    "        for i in range(1, len(hidden_sizes)):\n",
    "            self.decLayers += [nn.Linear(hidden_sizes[-i], hidden_sizes[-i-1]), nn.ReLU()]\n",
    "        self.decLayers += [nn.Linear(hidden_sizes[0], INPUT_SIZE)]        \n",
    "    \n",
    "    def forward(self, x: torch.Tensor) -> torch.Tensor:\n",
    "        for layer in self.encLayers:\n",
    "            x = layer(x)\n",
    "        mu = self.encLinMu(x)\n",
    "        sigma = torch.exp(self.encLinSigma(x))\n",
    "        x = mu + sigma * self.normal.sample(mu.shape)\n",
    "        self.kl = (sigma**2 + mu**2 - torch.log(sigma) - 1/2).mean()\n",
    "\n",
    "        for layer in self.decLayers:\n",
    "            x = layer(x)\n",
    "        return x"
   ]
  },
  {
   "cell_type": "code",
   "execution_count": 133,
   "metadata": {},
   "outputs": [
    {
     "name": "stderr",
     "output_type": "stream",
     "text": [
      "100%|████████████████████████████████████████████████████████████████████████████████████████████████████████████████████| 108/108 [14:19<00:00,  7.96s/it]\n"
     ]
    }
   ],
   "source": [
    "best_model_params_vae, best_f1_vae = grid_search_VAE(ModelClass=VariationalAutoEncoder,\n",
    "                                                     model_name='variational_autoencoder',\n",
    "                                                     hidden_sizes_ls=[[16], [18], [18, 16]],\n",
    "                                                     latent_sizes=[12, 14],\n",
    "                                                     batch_sizes=[32, 64, 128], \n",
    "                                                     learning_rates=[1e-3, 1e-2], \n",
    "                                                     seeds=[0, 1, 2])"
   ]
  },
  {
   "cell_type": "code",
   "execution_count": 134,
   "metadata": {},
   "outputs": [
    {
     "data": {
      "text/markdown": [
       "#### Best Parameters"
      ],
      "text/plain": [
       "<IPython.core.display.Markdown object>"
      ]
     },
     "metadata": {},
     "output_type": "display_data"
    },
    {
     "data": {
      "text/html": [
       "<style  type=\"text/css\" >\n",
       "</style><table id=\"T_b3a22cca_d5d5_11ec_bd2f_2016b948faac\" ><thead>    <tr>        <th class=\"col_heading level0 col0\" >Hidden Sizes</th>        <th class=\"col_heading level0 col1\" >Latent Size</th>        <th class=\"col_heading level0 col2\" >Batch Size</th>        <th class=\"col_heading level0 col3\" >Learning Rate</th>        <th class=\"col_heading level0 col4\" >Seed</th>        <th class=\"col_heading level0 col5\" >Threshold</th>        <th class=\"col_heading level0 col6\" >F1 Score</th>    </tr></thead><tbody>\n",
       "                <tr>\n",
       "                                <td id=\"T_b3a22cca_d5d5_11ec_bd2f_2016b948faacrow0_col0\" class=\"data row0 col0\" >[18]</td>\n",
       "                        <td id=\"T_b3a22cca_d5d5_11ec_bd2f_2016b948faacrow0_col1\" class=\"data row0 col1\" >12</td>\n",
       "                        <td id=\"T_b3a22cca_d5d5_11ec_bd2f_2016b948faacrow0_col2\" class=\"data row0 col2\" >32</td>\n",
       "                        <td id=\"T_b3a22cca_d5d5_11ec_bd2f_2016b948faacrow0_col3\" class=\"data row0 col3\" >0.001000</td>\n",
       "                        <td id=\"T_b3a22cca_d5d5_11ec_bd2f_2016b948faacrow0_col4\" class=\"data row0 col4\" >2</td>\n",
       "                        <td id=\"T_b3a22cca_d5d5_11ec_bd2f_2016b948faacrow0_col5\" class=\"data row0 col5\" >1.700000</td>\n",
       "                        <td id=\"T_b3a22cca_d5d5_11ec_bd2f_2016b948faacrow0_col6\" class=\"data row0 col6\" >0.861789</td>\n",
       "            </tr>\n",
       "    </tbody></table>"
      ],
      "text/plain": [
       "<pandas.io.formats.style.Styler at 0x1ef3f556730>"
      ]
     },
     "metadata": {},
     "output_type": "display_data"
    }
   ],
   "source": [
    "best_params_df_vae = pd.DataFrame([list(best_model_params_vae) + [best_f1_vae]], columns=['Hidden Sizes', 'Latent Size', 'Batch Size', 'Learning Rate', 'Seed', 'Threshold', 'F1 Score'])\n",
    "display(Markdown('#### Best Parameters'))\n",
    "display(best_params_df_vae.style.hide_index())"
   ]
  },
  {
   "cell_type": "markdown",
   "metadata": {},
   "source": [
    "Below, I run again the model with the best hyperparameters."
   ]
  },
  {
   "cell_type": "code",
   "execution_count": 146,
   "metadata": {},
   "outputs": [],
   "source": [
    "batch_size_vae = best_model_params_vae[2]\n",
    "hidden_sizes_vae = best_model_params_vae[0]\n",
    "latent_size_vae = best_model_params_vae[1]\n",
    "learning_rate_vae = best_model_params_vae[3]\n",
    "seed_vae = best_model_params_vae[4]\n",
    "\n",
    "train_dataloader_vae = DataLoader(train_data, batch_size=batch_size_vae, worker_init_fn=seed_worker, shuffle=False)\n",
    "val_dataloader_vae = DataLoader(val_data, batch_size=batch_size_vae, worker_init_fn=seed_worker, shuffle=False)\n",
    "\n",
    "seed_all(seed_vae)\n",
    "variational_ae = VariationalAutoEncoder(hidden_sizes=hidden_sizes_vae, latent_size=latent_size_vae)\n",
    "\n",
    "optimizer_vae = torch.optim.Adam(variational_ae.parameters(), lr=learning_rate_vae)\n",
    "criterion_vae = nn.MSELoss()"
   ]
  },
  {
   "cell_type": "code",
   "execution_count": 147,
   "metadata": {},
   "outputs": [
    {
     "name": "stdout",
     "output_type": "stream",
     "text": [
      "epoch 20; train loss: 1.1857427814427544; valid loss: 1.1831059455871582\n",
      "epoch 40; train loss: 1.1772580742835999; valid loss: 1.1772691673702664\n",
      "epoch 60; train loss: 1.1774289222324597; valid loss: 1.1755044195387099\n",
      "epoch 80; train loss: 1.1802274269216202; valid loss: 1.175316572189331\n",
      "epoch 100; train loss: 1.176976584336337; valid loss: 1.1717075374391344\n",
      "epoch 120; train loss: 1.176732739981483; valid loss: 1.169948485162523\n",
      "epoch 140; train loss: 1.1805214461158304; valid loss: 1.169108231862386\n",
      "epoch 160; train loss: 1.1757236088023466; valid loss: 1.1730745236078899\n",
      "epoch 180; train loss: 1.178123744095073; valid loss: 1.1774977445602417\n",
      "epoch 200; train loss: 1.1740533078418058; valid loss: 1.1730737156338162\n"
     ]
    }
   ],
   "source": [
    "train_model_VAE(model=variational_ae, model_name='variational_autoencoder', optimizer=optimizer_vae, criterion=criterion_vae,\n",
    "                train_loader=train_dataloader_vae, val_loader=val_dataloader_vae, nr_of_epochs=200)"
   ]
  },
  {
   "cell_type": "code",
   "execution_count": 148,
   "metadata": {},
   "outputs": [
    {
     "data": {
      "text/html": [
       "<div>\n",
       "<style scoped>\n",
       "    .dataframe tbody tr th:only-of-type {\n",
       "        vertical-align: middle;\n",
       "    }\n",
       "\n",
       "    .dataframe tbody tr th {\n",
       "        vertical-align: top;\n",
       "    }\n",
       "\n",
       "    .dataframe thead th {\n",
       "        text-align: right;\n",
       "    }\n",
       "</style>\n",
       "<table border=\"1\" class=\"dataframe\">\n",
       "  <thead>\n",
       "    <tr style=\"text-align: right;\">\n",
       "      <th></th>\n",
       "      <th>Reconstruction Error</th>\n",
       "      <th>class</th>\n",
       "    </tr>\n",
       "  </thead>\n",
       "  <tbody>\n",
       "    <tr>\n",
       "      <th>count</th>\n",
       "      <td>331.000000</td>\n",
       "      <td>331.0</td>\n",
       "    </tr>\n",
       "    <tr>\n",
       "      <th>mean</th>\n",
       "      <td>2.252344</td>\n",
       "      <td>0.0</td>\n",
       "    </tr>\n",
       "    <tr>\n",
       "      <th>std</th>\n",
       "      <td>10.951236</td>\n",
       "      <td>0.0</td>\n",
       "    </tr>\n",
       "    <tr>\n",
       "      <th>min</th>\n",
       "      <td>0.102357</td>\n",
       "      <td>0.0</td>\n",
       "    </tr>\n",
       "    <tr>\n",
       "      <th>25%</th>\n",
       "      <td>0.564487</td>\n",
       "      <td>0.0</td>\n",
       "    </tr>\n",
       "    <tr>\n",
       "      <th>50%</th>\n",
       "      <td>0.996288</td>\n",
       "      <td>0.0</td>\n",
       "    </tr>\n",
       "    <tr>\n",
       "      <th>75%</th>\n",
       "      <td>1.972276</td>\n",
       "      <td>0.0</td>\n",
       "    </tr>\n",
       "    <tr>\n",
       "      <th>max</th>\n",
       "      <td>197.650070</td>\n",
       "      <td>0.0</td>\n",
       "    </tr>\n",
       "  </tbody>\n",
       "</table>\n",
       "</div>"
      ],
      "text/plain": [
       "       Reconstruction Error  class\n",
       "count            331.000000  331.0\n",
       "mean               2.252344    0.0\n",
       "std               10.951236    0.0\n",
       "min                0.102357    0.0\n",
       "25%                0.564487    0.0\n",
       "50%                0.996288    0.0\n",
       "75%                1.972276    0.0\n",
       "max              197.650070    0.0"
      ]
     },
     "metadata": {},
     "output_type": "display_data"
    },
    {
     "data": {
      "text/html": [
       "<div>\n",
       "<style scoped>\n",
       "    .dataframe tbody tr th:only-of-type {\n",
       "        vertical-align: middle;\n",
       "    }\n",
       "\n",
       "    .dataframe tbody tr th {\n",
       "        vertical-align: top;\n",
       "    }\n",
       "\n",
       "    .dataframe thead th {\n",
       "        text-align: right;\n",
       "    }\n",
       "</style>\n",
       "<table border=\"1\" class=\"dataframe\">\n",
       "  <thead>\n",
       "    <tr style=\"text-align: right;\">\n",
       "      <th></th>\n",
       "      <th>Reconstruction Error</th>\n",
       "      <th>class</th>\n",
       "    </tr>\n",
       "  </thead>\n",
       "  <tbody>\n",
       "    <tr>\n",
       "      <th>count</th>\n",
       "      <td>176.000000</td>\n",
       "      <td>176.0</td>\n",
       "    </tr>\n",
       "    <tr>\n",
       "      <th>mean</th>\n",
       "      <td>26.376417</td>\n",
       "      <td>1.0</td>\n",
       "    </tr>\n",
       "    <tr>\n",
       "      <th>std</th>\n",
       "      <td>55.906544</td>\n",
       "      <td>0.0</td>\n",
       "    </tr>\n",
       "    <tr>\n",
       "      <th>min</th>\n",
       "      <td>0.332025</td>\n",
       "      <td>1.0</td>\n",
       "    </tr>\n",
       "    <tr>\n",
       "      <th>25%</th>\n",
       "      <td>5.609365</td>\n",
       "      <td>1.0</td>\n",
       "    </tr>\n",
       "    <tr>\n",
       "      <th>50%</th>\n",
       "      <td>10.143871</td>\n",
       "      <td>1.0</td>\n",
       "    </tr>\n",
       "    <tr>\n",
       "      <th>75%</th>\n",
       "      <td>22.133160</td>\n",
       "      <td>1.0</td>\n",
       "    </tr>\n",
       "    <tr>\n",
       "      <th>max</th>\n",
       "      <td>426.904022</td>\n",
       "      <td>1.0</td>\n",
       "    </tr>\n",
       "  </tbody>\n",
       "</table>\n",
       "</div>"
      ],
      "text/plain": [
       "       Reconstruction Error  class\n",
       "count            176.000000  176.0\n",
       "mean              26.376417    1.0\n",
       "std               55.906544    0.0\n",
       "min                0.332025    1.0\n",
       "25%                5.609365    1.0\n",
       "50%               10.143871    1.0\n",
       "75%               22.133160    1.0\n",
       "max              426.904022    1.0"
      ]
     },
     "metadata": {},
     "output_type": "display_data"
    }
   ],
   "source": [
    "test_df, test_MSEs = eval_on_testset(denoising_ae, X_test, y_test)"
   ]
  },
  {
   "cell_type": "code",
   "execution_count": 149,
   "metadata": {},
   "outputs": [
    {
     "data": {
      "text/markdown": [
       "#### Model: variational_autoencoder, trying 50 thresholds from [0.1, 5.0]"
      ],
      "text/plain": [
       "<IPython.core.display.Markdown object>"
      ]
     },
     "metadata": {},
     "output_type": "display_data"
    },
    {
     "data": {
      "text/markdown": [
       "For more detail, call the function with `verbose_lvl=2`"
      ],
      "text/plain": [
       "<IPython.core.display.Markdown object>"
      ]
     },
     "metadata": {},
     "output_type": "display_data"
    }
   ],
   "source": [
    "optimal_threshold_vae, optimal_f1_vae = try_threshold_grid(test_MSEs, y_test, 'variational_autoencoder', start=0.1, stop=5.0, num_thresholds=50, verbose_lvl=1)"
   ]
  },
  {
   "cell_type": "code",
   "execution_count": 150,
   "metadata": {},
   "outputs": [
    {
     "data": {
      "text/markdown": [
       "#### Best Threshold 4.60, F1 Score 0.86"
      ],
      "text/plain": [
       "<IPython.core.display.Markdown object>"
      ]
     },
     "metadata": {},
     "output_type": "display_data"
    },
    {
     "data": {
      "text/html": [
       "<style  type=\"text/css\" >\n",
       "</style><table id=\"T_138b0ce7_d5dd_11ec_bd2f_2016b948faac\" ><thead>    <tr>        <th class=\"col_heading level0 col0\" >Inliers Accuracy</th>        <th class=\"col_heading level0 col1\" >Outliers Accuracy</th>        <th class=\"col_heading level0 col2\" >Overall Accuracy</th>    </tr></thead><tbody>\n",
       "                <tr>\n",
       "                                <td id=\"T_138b0ce7_d5dd_11ec_bd2f_2016b948faacrow0_col0\" class=\"data row0 col0\" >0.924471</td>\n",
       "                        <td id=\"T_138b0ce7_d5dd_11ec_bd2f_2016b948faacrow0_col1\" class=\"data row0 col1\" >0.857955</td>\n",
       "                        <td id=\"T_138b0ce7_d5dd_11ec_bd2f_2016b948faacrow0_col2\" class=\"data row0 col2\" >0.901381</td>\n",
       "            </tr>\n",
       "    </tbody></table>"
      ],
      "text/plain": [
       "<pandas.io.formats.style.Styler at 0x1ef3f5da760>"
      ]
     },
     "metadata": {},
     "output_type": "display_data"
    },
    {
     "data": {
      "text/markdown": [
       "##### Classification Report"
      ],
      "text/plain": [
       "<IPython.core.display.Markdown object>"
      ]
     },
     "metadata": {},
     "output_type": "display_data"
    },
    {
     "name": "stdout",
     "output_type": "stream",
     "text": [
      "              precision    recall  f1-score   support\n",
      "\n",
      "           0       0.92      0.92      0.92       331\n",
      "           1       0.86      0.86      0.86       176\n",
      "\n",
      "    accuracy                           0.90       507\n",
      "   macro avg       0.89      0.89      0.89       507\n",
      "weighted avg       0.90      0.90      0.90       507\n",
      "\n"
     ]
    },
    {
     "data": {
      "image/png": "[encoded data removed]",
      "text/plain": [
       "<Figure size 432x432 with 2 Axes>"
      ]
     },
     "metadata": {
      "needs_background": "light"
     },
     "output_type": "display_data"
    }
   ],
   "source": [
    "predictions = classify_by_error(test_MSEs, optimal_threshold_vae)\n",
    "matrix = confusion_matrix(y_test, predictions)\n",
    "class_accuracies = matrix.diagonal()/matrix.sum(axis=1)\n",
    "acc_df = pd.DataFrame({\n",
    "    'Inliers Accuracy': [class_accuracies[0]], \n",
    "    'Outliers Accuracy': [class_accuracies[1]], \n",
    "    'Overall Accuracy': [accuracy_score(y_test, predictions)]\n",
    "})\n",
    "\n",
    "display(Markdown(f'#### Best Threshold {optimal_threshold_vae:.2f}, F1 Score {optimal_f1_vae:.2f}'))\n",
    "display(acc_df.style.hide_index())\n",
    "display(Markdown(f'##### Classification Report'))\n",
    "print(classification_report(y_test, predictions))\n",
    "plot_confusion_matrix(matrix)"
   ]
  },
  {
   "cell_type": "markdown",
   "metadata": {},
   "source": [
    "---\n",
    "---"
   ]
  },
  {
   "cell_type": "markdown",
   "metadata": {},
   "source": [
    "## Final Remarks"
   ]
  },
  {
   "cell_type": "markdown",
   "metadata": {},
   "source": [
    "I have compared three different autoencoder architectures for outlier detection:\n",
    "1. undercomplete autoencoder\n",
    "2. denoising autoencoder\n",
    "3. variational autoencoder\n",
    "\n",
    "For each of them, I tuned the following hyperparameters in a grid search:\n",
    "- Batch size\n",
    "- Learning rate\n",
    "- Hidden layer count and dimension\n",
    "- Latent space dimension\n",
    "- Thresholds on reconstruction errors from interval.\n",
    "\n",
    "I have chosen the best classifier based on the F1-score, where negative class is composed of inliers and positive class is composed of outliers."
   ]
  },
  {
   "cell_type": "markdown",
   "metadata": {},
   "source": [
    "Below, you can find the best hyper-parameters of the architectures. As for the layers, only encoder architecture is shown, since decoder contains almost the same layers, just reversed."
   ]
  },
  {
   "cell_type": "code",
   "execution_count": 151,
   "metadata": {},
   "outputs": [
    {
     "data": {
      "text/html": [
       "<div>\n",
       "<style scoped>\n",
       "    .dataframe tbody tr th:only-of-type {\n",
       "        vertical-align: middle;\n",
       "    }\n",
       "\n",
       "    .dataframe tbody tr th {\n",
       "        vertical-align: top;\n",
       "    }\n",
       "\n",
       "    .dataframe thead th {\n",
       "        text-align: right;\n",
       "    }\n",
       "</style>\n",
       "<table border=\"1\" class=\"dataframe\">\n",
       "  <thead>\n",
       "    <tr style=\"text-align: right;\">\n",
       "      <th></th>\n",
       "      <th>F1 Score</th>\n",
       "      <th>Learning Rate</th>\n",
       "      <th>Batch Size</th>\n",
       "      <th>Hidden Layers</th>\n",
       "      <th>Latent Space Size</th>\n",
       "      <th>Seed</th>\n",
       "      <th>MSE Threshold</th>\n",
       "    </tr>\n",
       "    <tr>\n",
       "      <th>Architecture</th>\n",
       "      <th></th>\n",
       "      <th></th>\n",
       "      <th></th>\n",
       "      <th></th>\n",
       "      <th></th>\n",
       "      <th></th>\n",
       "      <th></th>\n",
       "    </tr>\n",
       "  </thead>\n",
       "  <tbody>\n",
       "    <tr>\n",
       "      <th>Undercomplete Autoencoder</th>\n",
       "      <td>0.853868</td>\n",
       "      <td>0.010</td>\n",
       "      <td>32</td>\n",
       "      <td>[18]</td>\n",
       "      <td>14</td>\n",
       "      <td>1</td>\n",
       "      <td>0.6</td>\n",
       "    </tr>\n",
       "    <tr>\n",
       "      <th>Denoising Autoencoder</th>\n",
       "      <td>0.857955</td>\n",
       "      <td>0.001</td>\n",
       "      <td>64</td>\n",
       "      <td>[18, 16]</td>\n",
       "      <td>12</td>\n",
       "      <td>0</td>\n",
       "      <td>4.6</td>\n",
       "    </tr>\n",
       "    <tr>\n",
       "      <th>Variational Autoencoder</th>\n",
       "      <td>0.857955</td>\n",
       "      <td>0.001</td>\n",
       "      <td>32</td>\n",
       "      <td>[18]</td>\n",
       "      <td>12</td>\n",
       "      <td>2</td>\n",
       "      <td>4.6</td>\n",
       "    </tr>\n",
       "  </tbody>\n",
       "</table>\n",
       "</div>"
      ],
      "text/plain": [
       "                           F1 Score  Learning Rate  Batch Size Hidden Layers  \\\n",
       "Architecture                                                                   \n",
       "Undercomplete Autoencoder  0.853868          0.010          32          [18]   \n",
       "Denoising Autoencoder      0.857955          0.001          64      [18, 16]   \n",
       "Variational Autoencoder    0.857955          0.001          32          [18]   \n",
       "\n",
       "                           Latent Space Size  Seed  MSE Threshold  \n",
       "Architecture                                                       \n",
       "Undercomplete Autoencoder                 14     1            0.6  \n",
       "Denoising Autoencoder                     12     0            4.6  \n",
       "Variational Autoencoder                   12     2            4.6  "
      ]
     },
     "metadata": {},
     "output_type": "display_data"
    }
   ],
   "source": [
    "result_df = pd.DataFrame({'Architecture': ['Undercomplete Autoencoder', 'Denoising Autoencoder', 'Variational Autoencoder'],\n",
    "                          'F1 Score': [optimal_f1_under, optimal_f1_denoising, optimal_f1_vae],\n",
    "                          'Learning Rate': [learning_rate_uae, learning_rate_dae, learning_rate_vae],\n",
    "                          'Batch Size': [batch_size_uae, batch_size_dae, batch_size_vae], \n",
    "                          'Hidden Layers': [hidden_sizes_uae, hidden_sizes_dae, hidden_sizes_vae],\n",
    "                          'Latent Space Size': [latent_size_uae, latent_size_dae, latent_size_vae],\n",
    "                          'Seed': [seed_uae, seed_dae, seed_vae],\n",
    "                          'MSE Threshold': [optimal_threshold_under, optimal_threshold_denoising, optimal_threshold_vae],\n",
    "                         })\n",
    "result_df = result_df.set_index('Architecture')\n",
    "display(result_df)"
   ]
  },
  {
   "cell_type": "code",
   "execution_count": null,
   "metadata": {},
   "outputs": [],
   "source": []
  }
 ],
 "metadata": {
  "kernelspec": {
   "display_name": "bakalarka",
   "language": "python",
   "name": "bakalarka"
  },
  "language_info": {
   "codemirror_mode": {
    "name": "ipython",
    "version": 3
   },
   "file_extension": ".py",
   "mimetype": "text/x-python",
   "name": "python",
   "nbconvert_exporter": "python",
   "pygments_lexer": "ipython3",
   "version": "3.8.5"
  }
 },
 "nbformat": 4,
 "nbformat_minor": 4
}
