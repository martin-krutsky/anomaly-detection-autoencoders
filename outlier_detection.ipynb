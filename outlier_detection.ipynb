{
 "cells": [
  {
   "cell_type": "markdown",
   "metadata": {},
   "source": [
    "# Outlier Detection with Autoencoders"
   ]
  },
  {
   "cell_type": "code",
   "execution_count": 1,
   "metadata": {},
   "outputs": [
    {
     "name": "stderr",
     "output_type": "stream",
     "text": [
      "C:\\Users\\marti\\Anaconda3\\envs\\bakalarka\\lib\\site-packages\\numpy\\_distributor_init.py:30: UserWarning: loaded more than 1 DLL from .libs:\n",
      "C:\\Users\\marti\\Anaconda3\\envs\\bakalarka\\lib\\site-packages\\numpy\\.libs\\libopenblas.EL2C6PLE4ZYW3ECEVIV3OXXGRN2NRFM2.gfortran-win_amd64.dll\n",
      "C:\\Users\\marti\\Anaconda3\\envs\\bakalarka\\lib\\site-packages\\numpy\\.libs\\libopenblas.NOIJJG62EMASZI6NYURL6JBKM4EVBGM7.gfortran-win_amd64.dll\n",
      "  warnings.warn(\"loaded more than 1 DLL from .libs:\"\n"
     ]
    }
   ],
   "source": [
    "import os\n",
    "from datetime import datetime\n",
    "from typing import Dict, List, Tuple\n",
    "import warnings\n",
    "\n",
    "import numpy as np\n",
    "import pandas as pd\n",
    "import scipy.io\n",
    "from sklearn.model_selection import train_test_split\n",
    "from sklearn.metrics import classification_report, confusion_matrix, accuracy_score, f1_score\n",
    "import matplotlib.pyplot as plt\n",
    "import seaborn as sns\n",
    "\n",
    "from IPython.display import display, Markdown\n",
    "\n",
    "import torch\n",
    "from torch.utils.data import Dataset, DataLoader\n",
    "import torch.nn as nn\n",
    "import torch.nn.functional as F\n",
    "from torchvision.transforms import transforms"
   ]
  },
  {
   "cell_type": "markdown",
   "metadata": {},
   "source": [
    "## Creating and Preprocessing the Data"
   ]
  },
  {
   "cell_type": "markdown",
   "metadata": {},
   "source": [
    "### Loading the data"
   ]
  },
  {
   "cell_type": "code",
   "execution_count": 2,
   "metadata": {},
   "outputs": [],
   "source": [
    "cardio_dict = scipy.io.loadmat('cardio.mat')"
   ]
  },
  {
   "cell_type": "code",
   "execution_count": 3,
   "metadata": {},
   "outputs": [
    {
     "data": {
      "text/plain": [
       "{'__header__': b'MATLAB 5.0 MAT-file, written by Octave 3.8.0, 2014-12-18 10:48:09 UTC',\n",
       " '__version__': '1.0',\n",
       " '__globals__': [],\n",
       " 'X': array([[ 0.00491231,  0.69319077, -0.20364049, ...,  0.23149795,\n",
       "         -0.28978574, -0.49329397],\n",
       "        [ 0.11072935, -0.07990259, -0.20364049, ...,  0.09356344,\n",
       "         -0.25638541, -0.49329397],\n",
       "        [ 0.21654639, -0.27244466, -0.20364049, ...,  0.02459619,\n",
       "         -0.25638541,  1.14001753],\n",
       "        ...,\n",
       "        [-0.41835583, -0.91998844, -0.16463485, ..., -1.49268341,\n",
       "          0.24461959, -0.49329397],\n",
       "        [-0.41835583, -0.91998844, -0.15093411, ..., -1.42371616,\n",
       "          0.14441859, -0.49329397],\n",
       "        [-0.41835583, -0.91998844, -0.20364049, ..., -1.28578165,\n",
       "          3.58465295, -0.49329397]]),\n",
       " 'y': array([[0.],\n",
       "        [0.],\n",
       "        [0.],\n",
       "        ...,\n",
       "        [1.],\n",
       "        [1.],\n",
       "        [1.]])}"
      ]
     },
     "execution_count": 3,
     "metadata": {},
     "output_type": "execute_result"
    }
   ],
   "source": [
    "cardio_dict"
   ]
  },
  {
   "cell_type": "code",
   "execution_count": 4,
   "metadata": {},
   "outputs": [],
   "source": [
    "X = cardio_dict['X']\n",
    "y = cardio_dict['y'].flatten()"
   ]
  },
  {
   "cell_type": "code",
   "execution_count": 5,
   "metadata": {},
   "outputs": [
    {
     "name": "stdout",
     "output_type": "stream",
     "text": [
      "Size of input example: 21\n"
     ]
    }
   ],
   "source": [
    "INPUT_SIZE = X.shape[1]\n",
    "print(f'Size of input example: {INPUT_SIZE}')"
   ]
  },
  {
   "cell_type": "markdown",
   "metadata": {},
   "source": [
    "### Data splitting"
   ]
  },
  {
   "cell_type": "markdown",
   "metadata": {},
   "source": [
    "Divide the dataset into inliers and outliers:\n",
    "- only inliers are used for trainig the autoencoders\n",
    "- outliers are then mixed with the test set"
   ]
  },
  {
   "cell_type": "code",
   "execution_count": 6,
   "metadata": {},
   "outputs": [
    {
     "name": "stdout",
     "output_type": "stream",
     "text": [
      "Number of inliers: 1655, Number of outliers: 176\n"
     ]
    }
   ],
   "source": [
    "X_inliers = X[y==0]\n",
    "y_inliers = np.zeros(len(X_inliers), dtype=int)\n",
    "X_outliers = X[y==1]\n",
    "y_outliers = np.ones(len(X_outliers), dtype=int)\n",
    "print(f'Number of inliers: {len(y_inliers)}, Number of outliers: {len(y_outliers)}')"
   ]
  },
  {
   "cell_type": "markdown",
   "metadata": {},
   "source": [
    "Split the inliers into training, validation, and testing set:"
   ]
  },
  {
   "cell_type": "code",
   "execution_count": 7,
   "metadata": {},
   "outputs": [],
   "source": [
    "X_train, X_test, y_train, y_test = train_test_split(X_inliers, y_inliers, test_size=0.20, random_state=1)\n",
    "X_train, X_val, y_train, y_val = train_test_split(X_train, y_train, test_size=0.20, random_state=1) # 0.2 x 0.8 = 0.16"
   ]
  },
  {
   "cell_type": "markdown",
   "metadata": {},
   "source": [
    "Add outliers only to the test set"
   ]
  },
  {
   "cell_type": "code",
   "execution_count": 8,
   "metadata": {},
   "outputs": [],
   "source": [
    "X_test = np.concatenate((X_test, X_outliers), axis=0)\n",
    "y_test = np.concatenate((y_test, y_outliers), axis=0)"
   ]
  },
  {
   "cell_type": "code",
   "execution_count": 9,
   "metadata": {},
   "outputs": [
    {
     "name": "stdout",
     "output_type": "stream",
     "text": [
      "Training set: 1059 examples\n",
      "Validation set: 265 examples\n",
      "Testing set: 507 examples; inliers: 331, outliers: 176\n"
     ]
    }
   ],
   "source": [
    "print(f'Training set: {len(y_train)} examples')\n",
    "print(f'Validation set: {len(y_val)} examples')\n",
    "print(f'Testing set: {len(y_test)} examples; inliers: {np.sum(y_test==0)}, outliers: {np.sum(y_test==1)}')"
   ]
  },
  {
   "cell_type": "code",
   "execution_count": 10,
   "metadata": {},
   "outputs": [
    {
     "data": {
      "text/plain": [
       "(1059, 21)"
      ]
     },
     "metadata": {},
     "output_type": "display_data"
    }
   ],
   "source": [
    "display(X_train.shape)"
   ]
  },
  {
   "cell_type": "markdown",
   "metadata": {},
   "source": [
    "### Creating Dataset and DataLoader instances"
   ]
  },
  {
   "cell_type": "code",
   "execution_count": 11,
   "metadata": {},
   "outputs": [],
   "source": [
    "class CardioDataset(Dataset):\n",
    "    def __init__(self, data: np.ndarray, labels: np.ndarray):\n",
    "        self.data = data\n",
    "        self.labels = labels\n",
    "\n",
    "    def __len__(self):\n",
    "        return len(self.labels)\n",
    "\n",
    "    def __getitem__(self, idx: int) -> Tuple[np.ndarray, np.int32]:\n",
    "        return self.data[idx], self.labels[idx]"
   ]
  },
  {
   "cell_type": "code",
   "execution_count": 12,
   "metadata": {},
   "outputs": [],
   "source": [
    "train_data = CardioDataset(X_train, y_train)\n",
    "val_data = CardioDataset(X_val, y_val)"
   ]
  },
  {
   "cell_type": "code",
   "execution_count": 13,
   "metadata": {},
   "outputs": [],
   "source": [
    "train_dataloader = DataLoader(train_data, batch_size=64, shuffle=False)\n",
    "val_dataloader = DataLoader(val_data, batch_size=64, shuffle=False)"
   ]
  },
  {
   "cell_type": "markdown",
   "metadata": {},
   "source": [
    "## Autoencoder Models"
   ]
  },
  {
   "cell_type": "markdown",
   "metadata": {},
   "source": [
    "### 1. Undercomplete AutoEncoder"
   ]
  },
  {
   "cell_type": "code",
   "execution_count": 47,
   "metadata": {},
   "outputs": [],
   "source": [
    "HIDDEN_SIZE_UAE = 16\n",
    "LATENT_SIZE_UAE = 14"
   ]
  },
  {
   "cell_type": "code",
   "execution_count": 48,
   "metadata": {},
   "outputs": [],
   "source": [
    "class UndercompleteAutoEncoder(nn.Module):\n",
    "    def __init__(self):\n",
    "        super(UndercompleteAutoEncoder, self).__init__()\n",
    "        self.encode = nn.Sequential(\n",
    "            nn.Linear(INPUT_SIZE, HIDDEN_SIZE_UAE),\n",
    "            nn.ReLU(),\n",
    "            nn.Linear(HIDDEN_SIZE_UAE, LATENT_SIZE_UAE),\n",
    "        )\n",
    "        self.decode = nn.Sequential(\n",
    "            nn.Linear(LATENT_SIZE_UAE, HIDDEN_SIZE_UAE),\n",
    "            nn.ReLU(),\n",
    "            nn.Linear(HIDDEN_SIZE_UAE, INPUT_SIZE),\n",
    "        )\n",
    "    \n",
    "    def forward(self, x: torch.Tensor) -> torch.Tensor:\n",
    "        x = self.encode(x)\n",
    "        x = self.decode(x)\n",
    "        return x"
   ]
  },
  {
   "cell_type": "code",
   "execution_count": 49,
   "metadata": {},
   "outputs": [],
   "source": [
    "undercomplete_ae = UndercompleteAutoEncoder()\n",
    "\n",
    "learning_rate_uae = 1e-2\n",
    "optimizer_uae = torch.optim.Adam(undercomplete_ae.parameters(), lr=learning_rate_uae)\n",
    "criterion_uae = nn.MSELoss()"
   ]
  },
  {
   "cell_type": "code",
   "execution_count": 50,
   "metadata": {},
   "outputs": [],
   "source": [
    "def train_one_epoch(model: nn.Module, optimizer: torch.optim.Optimizer, criterion: nn.MSELoss):\n",
    "    '''\n",
    "    Train one epoch of the model on training dataset batched by the train_dataloader.\n",
    "    \n",
    "    :param nn.Module model: model on which we perform one training epoch\n",
    "    :returns: an average loss on the training dataset\n",
    "    '''\n",
    "    running_loss = 0.0\n",
    "    for i, data in enumerate(train_dataloader):\n",
    "        inputs, _ = data\n",
    "        optimizer.zero_grad()\n",
    "\n",
    "        outputs = model(inputs.float())\n",
    "        loss = criterion(outputs.float(), inputs.float())\n",
    "        loss.backward()\n",
    "        optimizer.step()\n",
    "        running_loss += loss.item()\n",
    "    return running_loss / len(train_dataloader)"
   ]
  },
  {
   "cell_type": "code",
   "execution_count": 51,
   "metadata": {},
   "outputs": [],
   "source": [
    "def train_model(model: nn.Module, model_name: str, optimizer: torch.optim.Optimizer, criterion: nn.MSELoss, nr_of_epochs: int = 100):\n",
    "    '''\n",
    "    Train the specified model, and evaluate on validation data.\n",
    "        \n",
    "    :param nn.Module model: model being trained\n",
    "    :param str model_name: model name, e.g. denoising_autoencoder\n",
    "    :param int nr_of_epochs: number of training epochs\n",
    "    '''\n",
    "    best_loss = 10**12\n",
    "    best_model, model_path, best_epoch = None, None, None\n",
    "\n",
    "    for epoch in range(nr_of_epochs):\n",
    "        model.train()\n",
    "        train_loss = train_one_epoch(model, optimizer, criterion)\n",
    "        model.eval()\n",
    "\n",
    "        # performance on validation set\n",
    "        valid_loss = 0.0\n",
    "        for i, data in enumerate(val_dataloader):\n",
    "            inputs, _ = data\n",
    "            outputs = model(inputs.float())\n",
    "            loss = criterion(outputs.float(), inputs.float())\n",
    "            valid_loss += loss.item()\n",
    "        valid_loss = valid_loss / len(val_dataloader)\n",
    "\n",
    "        # logging at each Nth epoch\n",
    "        if (epoch + 1) % 10 == 0:\n",
    "            print(f'epoch {epoch + 1}; train loss: {train_loss}; valid loss: {valid_loss}')\n",
    "        \n",
    "        # remember model with the best validation loss\n",
    "        if valid_loss < best_loss:\n",
    "            best_loss = valid_loss\n",
    "            best_model = model.state_dict()\n",
    "            best_epoch = epoch + 1\n",
    "\n",
    "    # save the overall best model\n",
    "    timestamp = datetime.now().strftime('%Y%m%d_%H%M%S')\n",
    "    os.makedirs('models/', exist_ok=True)\n",
    "    model_path = f'models/model_{model_name}_{timestamp}_epoch{best_epoch}'\n",
    "    torch.save(best_model, model_path)"
   ]
  },
  {
   "cell_type": "code",
   "execution_count": 52,
   "metadata": {},
   "outputs": [
    {
     "name": "stdout",
     "output_type": "stream",
     "text": [
      "epoch 10; train loss: 0.11725766255575068; valid loss: 0.09497415125370026\n",
      "epoch 20; train loss: 0.050852848545593375; valid loss: 0.04040834382176399\n",
      "epoch 30; train loss: 0.033241695231374574; valid loss: 0.02810182999819517\n",
      "epoch 40; train loss: 0.027355168781736317; valid loss: 0.021982203982770444\n",
      "epoch 50; train loss: 0.018912932397249865; valid loss: 0.01675143577158451\n",
      "epoch 60; train loss: 0.013609825249980478; valid loss: 0.014086961932480335\n",
      "epoch 70; train loss: 0.012940240969114444; valid loss: 0.013934897817671299\n",
      "epoch 80; train loss: 0.012910615543232244; valid loss: 0.013759488333016634\n",
      "epoch 90; train loss: 0.013030299095108229; valid loss: 0.01403334978967905\n",
      "epoch 100; train loss: 0.012672463925007512; valid loss: 0.013779087830334902\n",
      "epoch 110; train loss: 0.012645743842072347; valid loss: 0.013554778508841991\n",
      "epoch 120; train loss: 0.012718429241110297; valid loss: 0.013656550832092763\n",
      "epoch 130; train loss: 0.013122758608968818; valid loss: 0.014112475607544184\n",
      "epoch 140; train loss: 0.012366158394690822; valid loss: 0.013280897121876478\n",
      "epoch 150; train loss: 0.01217600774458226; valid loss: 0.013289911020547152\n",
      "epoch 160; train loss: 0.012679880813640706; valid loss: 0.013493054825812579\n",
      "epoch 170; train loss: 0.012300164767486207; valid loss: 0.01329681957140565\n",
      "epoch 180; train loss: 0.012808227966375211; valid loss: 0.013524811901152133\n",
      "epoch 190; train loss: 0.01285243549329393; valid loss: 0.013902908656746149\n",
      "epoch 200; train loss: 0.012359648888163707; valid loss: 0.013053699489682912\n"
     ]
    }
   ],
   "source": [
    "train_model(model=undercomplete_ae, model_name='undercomplete_autoencoder', optimizer=optimizer_uae, criterion=criterion_uae, nr_of_epochs=200)"
   ]
  },
  {
   "cell_type": "code",
   "execution_count": 53,
   "metadata": {},
   "outputs": [],
   "source": [
    "def eval_on_testset(model: nn.Module, testset: np.ndarray, test_labels: np.ndarray) -> Tuple[pd.DataFrame, np.ndarray]:\n",
    "    '''\n",
    "    Evaluate testing data on the model, calculate reconstruction error, print statistics on inliers and outliers\n",
    "        \n",
    "    :param nn.Module model: model being evaluated\n",
    "    :param np.ndarray testset: testing inputs\n",
    "    :param np.ndarray test_labels: ground-truth labels\n",
    "    :returns: dataframe with reconstruction errors and classes, reconstrution errors\n",
    "    '''\n",
    "    testset_tensor = torch.tensor(testset).float()\n",
    "    reconstructed_test = model(testset_tensor)\n",
    "    mse_test = torch.sum((reconstructed_test.detach() - testset_tensor) ** 2, axis=1)\n",
    "    error_df = pd.DataFrame({'Reconstruction Error': mse_test, 'class': y_test})\n",
    "    \n",
    "    display(error_df[error_df['class'] == 0].describe())\n",
    "    display(error_df[error_df['class'] == 1].describe())\n",
    "    return error_df, mse_test"
   ]
  },
  {
   "cell_type": "code",
   "execution_count": 54,
   "metadata": {},
   "outputs": [
    {
     "data": {
      "text/html": [
       "<div>\n",
       "<style scoped>\n",
       "    .dataframe tbody tr th:only-of-type {\n",
       "        vertical-align: middle;\n",
       "    }\n",
       "\n",
       "    .dataframe tbody tr th {\n",
       "        vertical-align: top;\n",
       "    }\n",
       "\n",
       "    .dataframe thead th {\n",
       "        text-align: right;\n",
       "    }\n",
       "</style>\n",
       "<table border=\"1\" class=\"dataframe\">\n",
       "  <thead>\n",
       "    <tr style=\"text-align: right;\">\n",
       "      <th></th>\n",
       "      <th>Reconstruction Error</th>\n",
       "      <th>class</th>\n",
       "    </tr>\n",
       "  </thead>\n",
       "  <tbody>\n",
       "    <tr>\n",
       "      <th>count</th>\n",
       "      <td>331.000000</td>\n",
       "      <td>331.0</td>\n",
       "    </tr>\n",
       "    <tr>\n",
       "      <th>mean</th>\n",
       "      <td>0.924453</td>\n",
       "      <td>0.0</td>\n",
       "    </tr>\n",
       "    <tr>\n",
       "      <th>std</th>\n",
       "      <td>11.018229</td>\n",
       "      <td>0.0</td>\n",
       "    </tr>\n",
       "    <tr>\n",
       "      <th>min</th>\n",
       "      <td>0.014906</td>\n",
       "      <td>0.0</td>\n",
       "    </tr>\n",
       "    <tr>\n",
       "      <th>25%</th>\n",
       "      <td>0.083508</td>\n",
       "      <td>0.0</td>\n",
       "    </tr>\n",
       "    <tr>\n",
       "      <th>50%</th>\n",
       "      <td>0.152681</td>\n",
       "      <td>0.0</td>\n",
       "    </tr>\n",
       "    <tr>\n",
       "      <th>75%</th>\n",
       "      <td>0.291427</td>\n",
       "      <td>0.0</td>\n",
       "    </tr>\n",
       "    <tr>\n",
       "      <th>max</th>\n",
       "      <td>200.517059</td>\n",
       "      <td>0.0</td>\n",
       "    </tr>\n",
       "  </tbody>\n",
       "</table>\n",
       "</div>"
      ],
      "text/plain": [
       "       Reconstruction Error  class\n",
       "count            331.000000  331.0\n",
       "mean               0.924453    0.0\n",
       "std               11.018229    0.0\n",
       "min                0.014906    0.0\n",
       "25%                0.083508    0.0\n",
       "50%                0.152681    0.0\n",
       "75%                0.291427    0.0\n",
       "max              200.517059    0.0"
      ]
     },
     "metadata": {},
     "output_type": "display_data"
    },
    {
     "data": {
      "text/html": [
       "<div>\n",
       "<style scoped>\n",
       "    .dataframe tbody tr th:only-of-type {\n",
       "        vertical-align: middle;\n",
       "    }\n",
       "\n",
       "    .dataframe tbody tr th {\n",
       "        vertical-align: top;\n",
       "    }\n",
       "\n",
       "    .dataframe thead th {\n",
       "        text-align: right;\n",
       "    }\n",
       "</style>\n",
       "<table border=\"1\" class=\"dataframe\">\n",
       "  <thead>\n",
       "    <tr style=\"text-align: right;\">\n",
       "      <th></th>\n",
       "      <th>Reconstruction Error</th>\n",
       "      <th>class</th>\n",
       "    </tr>\n",
       "  </thead>\n",
       "  <tbody>\n",
       "    <tr>\n",
       "      <th>count</th>\n",
       "      <td>176.000000</td>\n",
       "      <td>176.0</td>\n",
       "    </tr>\n",
       "    <tr>\n",
       "      <th>mean</th>\n",
       "      <td>15.251942</td>\n",
       "      <td>1.0</td>\n",
       "    </tr>\n",
       "    <tr>\n",
       "      <th>std</th>\n",
       "      <td>64.590340</td>\n",
       "      <td>0.0</td>\n",
       "    </tr>\n",
       "    <tr>\n",
       "      <th>min</th>\n",
       "      <td>0.046266</td>\n",
       "      <td>1.0</td>\n",
       "    </tr>\n",
       "    <tr>\n",
       "      <th>25%</th>\n",
       "      <td>0.560311</td>\n",
       "      <td>1.0</td>\n",
       "    </tr>\n",
       "    <tr>\n",
       "      <th>50%</th>\n",
       "      <td>1.410423</td>\n",
       "      <td>1.0</td>\n",
       "    </tr>\n",
       "    <tr>\n",
       "      <th>75%</th>\n",
       "      <td>3.427566</td>\n",
       "      <td>1.0</td>\n",
       "    </tr>\n",
       "    <tr>\n",
       "      <th>max</th>\n",
       "      <td>489.311584</td>\n",
       "      <td>1.0</td>\n",
       "    </tr>\n",
       "  </tbody>\n",
       "</table>\n",
       "</div>"
      ],
      "text/plain": [
       "       Reconstruction Error  class\n",
       "count            176.000000  176.0\n",
       "mean              15.251942    1.0\n",
       "std               64.590340    0.0\n",
       "min                0.046266    1.0\n",
       "25%                0.560311    1.0\n",
       "50%                1.410423    1.0\n",
       "75%                3.427566    1.0\n",
       "max              489.311584    1.0"
      ]
     },
     "metadata": {},
     "output_type": "display_data"
    }
   ],
   "source": [
    "test_df, test_MSEs = eval_on_testset(undercomplete_ae, X_test, y_test)"
   ]
  },
  {
   "cell_type": "code",
   "execution_count": 55,
   "metadata": {},
   "outputs": [],
   "source": [
    "def classify_by_error(MSEs: np.ndarray, thres: float) -> np.ndarray:\n",
    "    '''\n",
    "    Classify an array of reconstruction errors w.r.t. a threshold\n",
    "    \n",
    "    :param np.ndarray MSEs: mean squared reconstruction errors\n",
    "    :param float thres: threshold of reconstruction error between inliers and outliers\n",
    "    :returns: binary array of class ids; 0 = inlier, 1 = outlier\n",
    "    '''\n",
    "    return np.array(MSEs > thres, dtype=int)"
   ]
  },
  {
   "cell_type": "code",
   "execution_count": 56,
   "metadata": {},
   "outputs": [],
   "source": [
    "def plot_confusion_matrix(confusion_mat: np.ndarray):\n",
    "    '''\n",
    "    Plot a confusion matrix of true vs predicted labels.\n",
    "    \n",
    "    :param np.ndarray confusion_mat: confusion matrix between true and predicted labels\n",
    "    '''\n",
    "    class_labels = ['Inlier', 'Outlier']\n",
    "    plt.figure(figsize=(6, 6))\n",
    "    sns.heatmap(confusion_mat, xticklabels=class_labels, yticklabels=class_labels, annot=True, fmt=\"d\", annot_kws={\"size\": 14});\n",
    "    plt.title(\"Confusion matrix\")\n",
    "    plt.ylabel('True class')\n",
    "    plt.xlabel('Predicted class')\n",
    "    plt.show()"
   ]
  },
  {
   "cell_type": "code",
   "execution_count": 57,
   "metadata": {},
   "outputs": [],
   "source": [
    "def try_threshold_grid(MSEs: np.ndarray, true_labels: np.ndarray, model_name: str, start: float = 0.0, stop: float = 5.0, num_thresholds: int = 10, verbose: bool = True) -> float:\n",
    "    '''\n",
    "    Plot a confusion matrix of true vs predicted labels.\n",
    "    \n",
    "    :param np.ndarray MSEs: mean squared reconstruction errors on testing set\n",
    "    :param np.ndarray true_labels: ground-truth labels\n",
    "    :param str model_name: model name, e.g. denoising_autoencoder\n",
    "    :param float start: start of threshold interval\n",
    "    :param float stop: end of threshold interval\n",
    "    :param int num_thresholds: number of thresholds tested in the interval\n",
    "    :returns: threshold with the highest anomaly f1-score\n",
    "    '''\n",
    "    best_threshold = None\n",
    "    best_f1 = 0.0\n",
    "    display(Markdown(f'### Model: {model_name}, trying {num_thresholds} thresholds from [{start}, {stop}]'))\n",
    "    if not verbose:\n",
    "        display(Markdown('For more detail, call the method with `verbose=True`'))\n",
    "        \n",
    "    for threshold in np.linspace(start, stop, num=num_thresholds):\n",
    "        predictions = classify_by_error(MSEs, threshold)\n",
    "        matrix = confusion_matrix(true_labels, predictions)\n",
    "        class_accuracies = matrix.diagonal()/matrix.sum(axis=1)\n",
    "        acc_df = pd.DataFrame({\n",
    "            'Inliers Accuracy': [class_accuracies[0]], \n",
    "            'Outliers Accuracy': [class_accuracies[1]], \n",
    "            'Overall Accuracy': [accuracy_score(true_labels, predictions)]\n",
    "        })\n",
    "        \n",
    "        outlier_f1 = f1_score(true_labels, predictions)\n",
    "        if outlier_f1 > best_f1:\n",
    "            best_f1 = outlier_f1\n",
    "            best_threshold = threshold\n",
    "        \n",
    "        if verbose:\n",
    "            display(Markdown(f'### Threshold {threshold}'))\n",
    "            display(acc_df.style.hide_index())\n",
    "            display(Markdown(f'##### Classification Report'))\n",
    "            print(classification_report(true_labels, predictions))\n",
    "            # plot_confusion_matrix(matrix)\n",
    "            display(Markdown('---'))\n",
    "    \n",
    "    return best_threshold"
   ]
  },
  {
   "cell_type": "code",
   "execution_count": 58,
   "metadata": {},
   "outputs": [
    {
     "data": {
      "text/markdown": [
       "### Model: undercomplete_autoencoder, trying 40 thresholds from [0.1, 2.0]"
      ],
      "text/plain": [
       "<IPython.core.display.Markdown object>"
      ]
     },
     "metadata": {},
     "output_type": "display_data"
    },
    {
     "data": {
      "text/markdown": [
       "For more detail, call the method with `verbose=True`"
      ],
      "text/plain": [
       "<IPython.core.display.Markdown object>"
      ]
     },
     "metadata": {},
     "output_type": "display_data"
    }
   ],
   "source": [
    "optimal_threshold_under = try_threshold_grid(test_MSEs, y_test, 'undercomplete_autoencoder', start=0.1, stop=2.0, num_thresholds=40, verbose=False)"
   ]
  },
  {
   "cell_type": "code",
   "execution_count": 59,
   "metadata": {},
   "outputs": [
    {
     "data": {
      "text/markdown": [
       "### Best Threshold 0.39230769230769236"
      ],
      "text/plain": [
       "<IPython.core.display.Markdown object>"
      ]
     },
     "metadata": {},
     "output_type": "display_data"
    },
    {
     "data": {
      "text/html": [
       "<style  type=\"text/css\" >\n",
       "</style><table id=\"T_7de585aa_d521_11ec_8652_2016b948faac\" ><thead>    <tr>        <th class=\"col_heading level0 col0\" >Inliers Accuracy</th>        <th class=\"col_heading level0 col1\" >Outliers Accuracy</th>        <th class=\"col_heading level0 col2\" >Overall Accuracy</th>    </tr></thead><tbody>\n",
       "                <tr>\n",
       "                                <td id=\"T_7de585aa_d521_11ec_8652_2016b948faacrow0_col0\" class=\"data row0 col0\" >0.824773</td>\n",
       "                        <td id=\"T_7de585aa_d521_11ec_8652_2016b948faacrow0_col1\" class=\"data row0 col1\" >0.863636</td>\n",
       "                        <td id=\"T_7de585aa_d521_11ec_8652_2016b948faacrow0_col2\" class=\"data row0 col2\" >0.838264</td>\n",
       "            </tr>\n",
       "    </tbody></table>"
      ],
      "text/plain": [
       "<pandas.io.formats.style.Styler at 0x1ef5d922910>"
      ]
     },
     "metadata": {},
     "output_type": "display_data"
    },
    {
     "data": {
      "text/markdown": [
       "##### Classification Report"
      ],
      "text/plain": [
       "<IPython.core.display.Markdown object>"
      ]
     },
     "metadata": {},
     "output_type": "display_data"
    },
    {
     "name": "stdout",
     "output_type": "stream",
     "text": [
      "              precision    recall  f1-score   support\n",
      "\n",
      "           0       0.92      0.82      0.87       331\n",
      "           1       0.72      0.86      0.79       176\n",
      "\n",
      "    accuracy                           0.84       507\n",
      "   macro avg       0.82      0.84      0.83       507\n",
      "weighted avg       0.85      0.84      0.84       507\n",
      "\n"
     ]
    },
    {
     "data": {
      "image/png": "[encoded data removed]",
      "text/plain": [
       "<Figure size 432x432 with 2 Axes>"
      ]
     },
     "metadata": {
      "needs_background": "light"
     },
     "output_type": "display_data"
    }
   ],
   "source": [
    "predictions = classify_by_error(test_MSEs, optimal_threshold_under)\n",
    "matrix = confusion_matrix(y_test, predictions)\n",
    "class_accuracies = matrix.diagonal()/matrix.sum(axis=1)\n",
    "acc_df = pd.DataFrame({\n",
    "    'Inliers Accuracy': [class_accuracies[0]], \n",
    "    'Outliers Accuracy': [class_accuracies[1]], \n",
    "    'Overall Accuracy': [accuracy_score(y_test, predictions)]\n",
    "})\n",
    "\n",
    "display(Markdown(f'### Best Threshold {optimal_threshold_under}'))\n",
    "display(acc_df.style.hide_index())\n",
    "display(Markdown(f'##### Classification Report'))\n",
    "print(classification_report(y_test, predictions))\n",
    "plot_confusion_matrix(matrix)"
   ]
  },
  {
   "cell_type": "markdown",
   "metadata": {},
   "source": [
    "---\n",
    "---"
   ]
  },
  {
   "cell_type": "markdown",
   "metadata": {},
   "source": [
    "### 2. Denoising AutoEncoder"
   ]
  },
  {
   "cell_type": "code",
   "execution_count": 61,
   "metadata": {},
   "outputs": [],
   "source": [
    "HIDDEN_SIZE_DAE = 16\n",
    "LATENT_SIZE_DAE = 14"
   ]
  },
  {
   "cell_type": "code",
   "execution_count": 62,
   "metadata": {},
   "outputs": [],
   "source": [
    "class DenoisingAutoEncoder(nn.Module):\n",
    "    def __init__(self, noise_rate):\n",
    "        super(DenoisingAutoEncoder, self).__init__()\n",
    "        self.noise_rate = noise_rate\n",
    "        self.encode = nn.Sequential(\n",
    "            nn.Linear(INPUT_SIZE, HIDDEN_SIZE_DAE),\n",
    "            nn.ReLU(),\n",
    "            nn.Linear(HIDDEN_SIZE_DAE, LATENT_SIZE_DAE),\n",
    "        )\n",
    "        self.decode = nn.Sequential(\n",
    "            nn.Linear(LATENT_SIZE_DAE, HIDDEN_SIZE_DAE),\n",
    "            nn.ReLU(),\n",
    "            nn.Linear(HIDDEN_SIZE_DAE, INPUT_SIZE),\n",
    "        )\n",
    "    \n",
    "    def forward(self, x: torch.Tensor) -> torch.Tensor:\n",
    "        if self.training:\n",
    "            # randn_like returns tensor the same shape as x with random numbers\n",
    "            # from a normal distribution with mean 0 and variance 1\n",
    "            x = x + torch.randn_like(x) * self.noise_rate\n",
    "        x = self.encode(x)\n",
    "        x = self.decode(x)\n",
    "        return x"
   ]
  },
  {
   "cell_type": "code",
   "execution_count": 63,
   "metadata": {},
   "outputs": [],
   "source": [
    "denoising_ae = DenoisingAutoEncoder(noise_rate=0.1)\n",
    "\n",
    "learning_rate_dae = 1e-2\n",
    "optimizer_dae = torch.optim.Adam(denoising_ae.parameters(), lr=learning_rate_dae)\n",
    "criterion_dae = nn.MSELoss()"
   ]
  },
  {
   "cell_type": "code",
   "execution_count": 64,
   "metadata": {},
   "outputs": [
    {
     "name": "stdout",
     "output_type": "stream",
     "text": [
      "epoch 10; train loss: 0.1108793029013802; valid loss: 0.08984012752771378\n",
      "epoch 20; train loss: 0.059835894362014884; valid loss: 0.04084300212562084\n",
      "epoch 30; train loss: 0.042641625465715635; valid loss: 0.03133524004369974\n",
      "epoch 40; train loss: 0.03399840895743931; valid loss: 0.024208145029842854\n",
      "epoch 50; train loss: 0.031179090194842395; valid loss: 0.02024469170719385\n",
      "epoch 60; train loss: 0.02948989697238978; valid loss: 0.021036148257553577\n",
      "epoch 70; train loss: 0.028388573404620674; valid loss: 0.01859047245234251\n",
      "epoch 80; train loss: 0.028102723881602287; valid loss: 0.01956101320683956\n",
      "epoch 90; train loss: 0.027784872361842322; valid loss: 0.0184914942830801\n",
      "epoch 100; train loss: 0.026660294107654515; valid loss: 0.018377898260951042\n",
      "epoch 110; train loss: 0.02348597807919278; valid loss: 0.014939586073160172\n",
      "epoch 120; train loss: 0.020605995045865282; valid loss: 0.014835073240101337\n",
      "epoch 130; train loss: 0.019879463731366044; valid loss: 0.015170551277697087\n",
      "epoch 140; train loss: 0.019468602231320215; valid loss: 0.014398403279483319\n",
      "epoch 150; train loss: 0.018454479875371736; valid loss: 0.014854637160897254\n",
      "epoch 160; train loss: 0.017863141098881468; valid loss: 0.013054970744997263\n",
      "epoch 170; train loss: 0.017461189781041705; valid loss: 0.013266586232930422\n",
      "epoch 180; train loss: 0.016731456963016707; valid loss: 0.012347891647368669\n",
      "epoch 190; train loss: 0.016865920439800796; valid loss: 0.0122173092328012\n",
      "epoch 200; train loss: 0.018202091238516217; valid loss: 0.013593987561762333\n"
     ]
    }
   ],
   "source": [
    "train_model(model=denoising_ae, model_name='denoising_autoencoder', optimizer=optimizer_dae, criterion=criterion_dae, nr_of_epochs=200)"
   ]
  },
  {
   "cell_type": "code",
   "execution_count": 65,
   "metadata": {},
   "outputs": [
    {
     "data": {
      "text/html": [
       "<div>\n",
       "<style scoped>\n",
       "    .dataframe tbody tr th:only-of-type {\n",
       "        vertical-align: middle;\n",
       "    }\n",
       "\n",
       "    .dataframe tbody tr th {\n",
       "        vertical-align: top;\n",
       "    }\n",
       "\n",
       "    .dataframe thead th {\n",
       "        text-align: right;\n",
       "    }\n",
       "</style>\n",
       "<table border=\"1\" class=\"dataframe\">\n",
       "  <thead>\n",
       "    <tr style=\"text-align: right;\">\n",
       "      <th></th>\n",
       "      <th>Reconstruction Error</th>\n",
       "      <th>class</th>\n",
       "    </tr>\n",
       "  </thead>\n",
       "  <tbody>\n",
       "    <tr>\n",
       "      <th>count</th>\n",
       "      <td>331.000000</td>\n",
       "      <td>331.0</td>\n",
       "    </tr>\n",
       "    <tr>\n",
       "      <th>mean</th>\n",
       "      <td>0.876662</td>\n",
       "      <td>0.0</td>\n",
       "    </tr>\n",
       "    <tr>\n",
       "      <th>std</th>\n",
       "      <td>9.982570</td>\n",
       "      <td>0.0</td>\n",
       "    </tr>\n",
       "    <tr>\n",
       "      <th>min</th>\n",
       "      <td>0.052648</td>\n",
       "      <td>0.0</td>\n",
       "    </tr>\n",
       "    <tr>\n",
       "      <th>25%</th>\n",
       "      <td>0.115039</td>\n",
       "      <td>0.0</td>\n",
       "    </tr>\n",
       "    <tr>\n",
       "      <th>50%</th>\n",
       "      <td>0.165183</td>\n",
       "      <td>0.0</td>\n",
       "    </tr>\n",
       "    <tr>\n",
       "      <th>75%</th>\n",
       "      <td>0.276604</td>\n",
       "      <td>0.0</td>\n",
       "    </tr>\n",
       "    <tr>\n",
       "      <th>max</th>\n",
       "      <td>181.644226</td>\n",
       "      <td>0.0</td>\n",
       "    </tr>\n",
       "  </tbody>\n",
       "</table>\n",
       "</div>"
      ],
      "text/plain": [
       "       Reconstruction Error  class\n",
       "count            331.000000  331.0\n",
       "mean               0.876662    0.0\n",
       "std                9.982570    0.0\n",
       "min                0.052648    0.0\n",
       "25%                0.115039    0.0\n",
       "50%                0.165183    0.0\n",
       "75%                0.276604    0.0\n",
       "max              181.644226    0.0"
      ]
     },
     "metadata": {},
     "output_type": "display_data"
    },
    {
     "data": {
      "text/html": [
       "<div>\n",
       "<style scoped>\n",
       "    .dataframe tbody tr th:only-of-type {\n",
       "        vertical-align: middle;\n",
       "    }\n",
       "\n",
       "    .dataframe tbody tr th {\n",
       "        vertical-align: top;\n",
       "    }\n",
       "\n",
       "    .dataframe thead th {\n",
       "        text-align: right;\n",
       "    }\n",
       "</style>\n",
       "<table border=\"1\" class=\"dataframe\">\n",
       "  <thead>\n",
       "    <tr style=\"text-align: right;\">\n",
       "      <th></th>\n",
       "      <th>Reconstruction Error</th>\n",
       "      <th>class</th>\n",
       "    </tr>\n",
       "  </thead>\n",
       "  <tbody>\n",
       "    <tr>\n",
       "      <th>count</th>\n",
       "      <td>176.000000</td>\n",
       "      <td>176.0</td>\n",
       "    </tr>\n",
       "    <tr>\n",
       "      <th>mean</th>\n",
       "      <td>13.686307</td>\n",
       "      <td>1.0</td>\n",
       "    </tr>\n",
       "    <tr>\n",
       "      <th>std</th>\n",
       "      <td>53.015030</td>\n",
       "      <td>0.0</td>\n",
       "    </tr>\n",
       "    <tr>\n",
       "      <th>min</th>\n",
       "      <td>0.165945</td>\n",
       "      <td>1.0</td>\n",
       "    </tr>\n",
       "    <tr>\n",
       "      <th>25%</th>\n",
       "      <td>0.375754</td>\n",
       "      <td>1.0</td>\n",
       "    </tr>\n",
       "    <tr>\n",
       "      <th>50%</th>\n",
       "      <td>1.417939</td>\n",
       "      <td>1.0</td>\n",
       "    </tr>\n",
       "    <tr>\n",
       "      <th>75%</th>\n",
       "      <td>3.814936</td>\n",
       "      <td>1.0</td>\n",
       "    </tr>\n",
       "    <tr>\n",
       "      <th>max</th>\n",
       "      <td>407.051239</td>\n",
       "      <td>1.0</td>\n",
       "    </tr>\n",
       "  </tbody>\n",
       "</table>\n",
       "</div>"
      ],
      "text/plain": [
       "       Reconstruction Error  class\n",
       "count            176.000000  176.0\n",
       "mean              13.686307    1.0\n",
       "std               53.015030    0.0\n",
       "min                0.165945    1.0\n",
       "25%                0.375754    1.0\n",
       "50%                1.417939    1.0\n",
       "75%                3.814936    1.0\n",
       "max              407.051239    1.0"
      ]
     },
     "metadata": {},
     "output_type": "display_data"
    }
   ],
   "source": [
    "test_df, test_MSEs = eval_on_testset(denoising_ae, X_test, y_test)"
   ]
  },
  {
   "cell_type": "code",
   "execution_count": 66,
   "metadata": {
    "scrolled": true
   },
   "outputs": [
    {
     "data": {
      "text/markdown": [
       "### Model: denoising_autoencoder, trying 40 thresholds from [0.1, 2.0]"
      ],
      "text/plain": [
       "<IPython.core.display.Markdown object>"
      ]
     },
     "metadata": {},
     "output_type": "display_data"
    },
    {
     "data": {
      "text/markdown": [
       "For more detail, call the method with `verbose=True`"
      ],
      "text/plain": [
       "<IPython.core.display.Markdown object>"
      ]
     },
     "metadata": {},
     "output_type": "display_data"
    }
   ],
   "source": [
    "optimal_threshold_denoising = try_threshold_grid(test_MSEs, y_test, 'denoising_autoencoder', start=0.1, stop=2.0, num_thresholds=40, verbose=False)"
   ]
  },
  {
   "cell_type": "code",
   "execution_count": 67,
   "metadata": {},
   "outputs": [
    {
     "data": {
      "text/markdown": [
       "### Best Threshold 0.2948717948717949"
      ],
      "text/plain": [
       "<IPython.core.display.Markdown object>"
      ]
     },
     "metadata": {},
     "output_type": "display_data"
    },
    {
     "data": {
      "text/html": [
       "<style  type=\"text/css\" >\n",
       "</style><table id=\"T_c86e95bb_d521_11ec_ad48_2016b948faac\" ><thead>    <tr>        <th class=\"col_heading level0 col0\" >Inliers Accuracy</th>        <th class=\"col_heading level0 col1\" >Outliers Accuracy</th>        <th class=\"col_heading level0 col2\" >Overall Accuracy</th>    </tr></thead><tbody>\n",
       "                <tr>\n",
       "                                <td id=\"T_c86e95bb_d521_11ec_ad48_2016b948faacrow0_col0\" class=\"data row0 col0\" >0.773414</td>\n",
       "                        <td id=\"T_c86e95bb_d521_11ec_ad48_2016b948faacrow0_col1\" class=\"data row0 col1\" >0.840909</td>\n",
       "                        <td id=\"T_c86e95bb_d521_11ec_ad48_2016b948faacrow0_col2\" class=\"data row0 col2\" >0.796844</td>\n",
       "            </tr>\n",
       "    </tbody></table>"
      ],
      "text/plain": [
       "<pandas.io.formats.style.Styler at 0x1ef5da301c0>"
      ]
     },
     "metadata": {},
     "output_type": "display_data"
    },
    {
     "data": {
      "text/markdown": [
       "##### Classification Report"
      ],
      "text/plain": [
       "<IPython.core.display.Markdown object>"
      ]
     },
     "metadata": {},
     "output_type": "display_data"
    },
    {
     "name": "stdout",
     "output_type": "stream",
     "text": [
      "              precision    recall  f1-score   support\n",
      "\n",
      "           0       0.90      0.77      0.83       331\n",
      "           1       0.66      0.84      0.74       176\n",
      "\n",
      "    accuracy                           0.80       507\n",
      "   macro avg       0.78      0.81      0.79       507\n",
      "weighted avg       0.82      0.80      0.80       507\n",
      "\n"
     ]
    },
    {
     "data": {
      "image/png": "[encoded data removed]",
      "text/plain": [
       "<Figure size 432x432 with 2 Axes>"
      ]
     },
     "metadata": {
      "needs_background": "light"
     },
     "output_type": "display_data"
    }
   ],
   "source": [
    "predictions = classify_by_error(test_MSEs, optimal_threshold_denoising)\n",
    "matrix = confusion_matrix(y_test, predictions)\n",
    "class_accuracies = matrix.diagonal()/matrix.sum(axis=1)\n",
    "acc_df = pd.DataFrame({\n",
    "    'Inliers Accuracy': [class_accuracies[0]], \n",
    "    'Outliers Accuracy': [class_accuracies[1]], \n",
    "    'Overall Accuracy': [accuracy_score(y_test, predictions)]\n",
    "})\n",
    "\n",
    "display(Markdown(f'### Best Threshold {optimal_threshold_denoising}'))\n",
    "display(acc_df.style.hide_index())\n",
    "display(Markdown(f'##### Classification Report'))\n",
    "print(classification_report(y_test, predictions))\n",
    "plot_confusion_matrix(matrix)"
   ]
  },
  {
   "cell_type": "markdown",
   "metadata": {},
   "source": [
    "---\n",
    "---"
   ]
  },
  {
   "cell_type": "markdown",
   "metadata": {},
   "source": [
    "### 3. Variational AutoEncoder"
   ]
  },
  {
   "cell_type": "code",
   "execution_count": 68,
   "metadata": {},
   "outputs": [],
   "source": [
    "HIDDEN_SIZE_VAE = 16\n",
    "LATENT_SIZE_VAE = 14"
   ]
  },
  {
   "cell_type": "code",
   "execution_count": 69,
   "metadata": {},
   "outputs": [],
   "source": [
    "class VariationalAutoEncoder(nn.Module):\n",
    "    def __init__(self):\n",
    "        super(VariationalAutoEncoder, self).__init__()\n",
    "        self.encLin1 = nn.Linear(INPUT_SIZE, HIDDEN_SIZE_VAE)\n",
    "        self.reluEnc = nn.ReLU()\n",
    "        self.encLin21 = nn.Linear(HIDDEN_SIZE_VAE, LATENT_SIZE_VAE)\n",
    "        self.encLin22 = nn.Linear(HIDDEN_SIZE_VAE, LATENT_SIZE_VAE)\n",
    "        self.normal = torch.distributions.Normal(0, 1)\n",
    "        self.kl = 0\n",
    "        \n",
    "        self.decLin1 = nn.Linear(LATENT_SIZE_VAE, HIDDEN_SIZE_VAE)\n",
    "        self.reluDec = nn.ReLU()\n",
    "        self.decLin2 = nn.Linear(HIDDEN_SIZE_VAE, INPUT_SIZE)\n",
    "    \n",
    "    def forward(self, x: torch.Tensor) -> torch.Tensor:\n",
    "        x = self.reluEnc(self.encLin1(x))\n",
    "        mu = self.encLin21(x)\n",
    "        sigma = torch.exp(self.encLin22(x))\n",
    "        z = mu + sigma * self.normal.sample(mu.shape)\n",
    "        self.kl = (sigma**2 + mu**2 - torch.log(sigma) - 1/2).mean()\n",
    "\n",
    "        x = self.reluDec(self.decLin1(z))\n",
    "        x = self.decLin2(x)\n",
    "        return x"
   ]
  },
  {
   "cell_type": "code",
   "execution_count": 70,
   "metadata": {},
   "outputs": [],
   "source": [
    "variational_ae = VariationalAutoEncoder()\n",
    "\n",
    "learning_rate_vae = 1e-2\n",
    "optimizer_vae = torch.optim.Adam(variational_ae.parameters(), lr=learning_rate_vae)\n",
    "criterion_vae = nn.MSELoss()"
   ]
  },
  {
   "cell_type": "code",
   "execution_count": 71,
   "metadata": {},
   "outputs": [],
   "source": [
    "def train_one_epoch_VAE(model: nn.Module, optimizer: torch.optim.Optimizer, criterion: nn.MSELoss):\n",
    "    '''\n",
    "    Train one epoch of the model on training dataset batched by the train_dataloader.\n",
    "    \n",
    "    :param nn.Module model: model on which we perform one training epoch\n",
    "    :returns: an average loss on the training dataset\n",
    "    '''\n",
    "    running_loss = 0.0\n",
    "    for i, data in enumerate(train_dataloader):\n",
    "        inputs, _ = data\n",
    "        optimizer.zero_grad()\n",
    "\n",
    "        outputs = model(inputs.float())\n",
    "        loss = ((outputs.float() - inputs.float()) ** 2).mean() + model.kl\n",
    "        loss.backward()\n",
    "        optimizer.step()\n",
    "        running_loss += loss.item()\n",
    "    return running_loss / len(train_dataloader)"
   ]
  },
  {
   "cell_type": "code",
   "execution_count": 72,
   "metadata": {},
   "outputs": [],
   "source": [
    "def train_model_VAE(model: nn.Module, model_name: str, optimizer: torch.optim.Optimizer, criterion: nn.MSELoss, nr_of_epochs: int = 100):\n",
    "    '''\n",
    "    Train the specified model, and evaluate on validation data.\n",
    "        \n",
    "    :param nn.Module model: model being trained\n",
    "    :param str model_name: model name, e.g. denoising_autoencoder\n",
    "    :param int nr_of_epochs: number of training epochs\n",
    "    '''\n",
    "    best_loss = 10**12\n",
    "    best_model, model_path, best_epoch = None, None, None\n",
    "\n",
    "    for epoch in range(nr_of_epochs):\n",
    "        model.train()\n",
    "        train_loss = train_one_epoch_VAE(model, optimizer, criterion)\n",
    "        model.eval()\n",
    "\n",
    "        # performance on validation set\n",
    "        with torch.no_grad():\n",
    "            valid_loss = 0.0\n",
    "            for i, data in enumerate(val_dataloader):\n",
    "                inputs, _ = data\n",
    "                outputs = model(inputs.float())\n",
    "                loss = ((outputs.float() - inputs.float()) ** 2).mean() + model.kl\n",
    "                valid_loss += loss.item()\n",
    "            valid_loss = valid_loss / len(val_dataloader)\n",
    "\n",
    "            # logging at each Nth epoch\n",
    "            if (epoch + 1) % 10 == 0:\n",
    "                print(f'epoch {epoch + 1}; train loss: {train_loss}; valid loss: {valid_loss}')\n",
    "\n",
    "            # remember model with the best validation loss\n",
    "            if valid_loss < best_loss:\n",
    "                best_loss = valid_loss\n",
    "                best_model = model.state_dict()\n",
    "                best_epoch = epoch + 1\n",
    "\n",
    "    # save the overall best model\n",
    "    timestamp = datetime.now().strftime('%Y%m%d_%H%M%S')\n",
    "    os.makedirs('models/', exist_ok=True)\n",
    "    model_path = f'models/model_{model_name}_{timestamp}_epoch{best_epoch}'\n",
    "    torch.save(best_model, model_path)"
   ]
  },
  {
   "cell_type": "code",
   "execution_count": 73,
   "metadata": {},
   "outputs": [
    {
     "name": "stdout",
     "output_type": "stream",
     "text": [
      "epoch 10; train loss: 0.9785542102421031; valid loss: 0.973831057548523\n",
      "epoch 20; train loss: 0.9455225537804997; valid loss: 0.9254871129989624\n",
      "epoch 30; train loss: 0.925399173708523; valid loss: 0.914651608467102\n",
      "epoch 40; train loss: 0.9206251747467938; valid loss: 0.917154335975647\n",
      "epoch 50; train loss: 0.919940825770883; valid loss: 0.9103542566299438\n",
      "epoch 60; train loss: 0.9132372526561513; valid loss: 0.9124483227729797\n",
      "epoch 70; train loss: 0.9161754846572876; valid loss: 0.9309447884559632\n",
      "epoch 80; train loss: 0.9127960590755239; valid loss: 0.9184232115745544\n",
      "epoch 90; train loss: 0.9123351188266978; valid loss: 0.9068930625915528\n",
      "epoch 100; train loss: 0.9127651978941524; valid loss: 0.9099053740501404\n",
      "epoch 110; train loss: 0.9139322989127215; valid loss: 0.9110538601875305\n",
      "epoch 120; train loss: 0.909916036269244; valid loss: 0.9045243978500366\n",
      "epoch 130; train loss: 0.9067581366090214; valid loss: 0.924078643321991\n",
      "epoch 140; train loss: 0.9118376970291138; valid loss: 0.9115808367729187\n",
      "epoch 150; train loss: 0.9054173476555768; valid loss: 0.9292238354682922\n",
      "epoch 160; train loss: 0.9007024344275979; valid loss: 0.8969269633293152\n",
      "epoch 170; train loss: 0.9064440201310551; valid loss: 0.8896125316619873\n",
      "epoch 180; train loss: 0.8998244545039009; valid loss: 0.9025485157966614\n",
      "epoch 190; train loss: 0.8970844850820654; valid loss: 0.901202654838562\n",
      "epoch 200; train loss: 0.898778869825251; valid loss: 0.8907934546470642\n"
     ]
    }
   ],
   "source": [
    "train_model_VAE(model=variational_ae, model_name='variational_autoencoder', optimizer=optimizer_vae, criterion=criterion_vae, nr_of_epochs=200)"
   ]
  },
  {
   "cell_type": "code",
   "execution_count": 74,
   "metadata": {},
   "outputs": [],
   "source": [
    "def eval_on_testset_VAE(model: nn.Module, testset: np.ndarray, test_labels: np.ndarray) -> Tuple[pd.DataFrame, np.ndarray]:\n",
    "    '''\n",
    "    Evaluate testing data on the model, calculate reconstruction error, print statistics on inliers and outliers\n",
    "        \n",
    "    :param nn.Module model: model being evaluated\n",
    "    :param np.ndarray testset: testing inputs\n",
    "    :param np.ndarray test_labels: ground-truth labels\n",
    "    :returns: dataframe with reconstruction errors and classes, reconstrution errors\n",
    "    '''\n",
    "    testset_tensor = torch.tensor(testset).float()\n",
    "    reconstructed_test = model(testset_tensor)\n",
    "    mse_test = torch.mean((reconstructed_test.detach() - testset_tensor) ** 2, axis=1) + model.kl\n",
    "    error_df = pd.DataFrame({'Reconstruction Error': mse_test, 'class': y_test})\n",
    "    \n",
    "    display(error_df[error_df['class'] == 0].describe())\n",
    "    display(error_df[error_df['class'] == 1].describe())\n",
    "    return error_df, mse_test"
   ]
  },
  {
   "cell_type": "code",
   "execution_count": 75,
   "metadata": {},
   "outputs": [
    {
     "data": {
      "text/html": [
       "<div>\n",
       "<style scoped>\n",
       "    .dataframe tbody tr th:only-of-type {\n",
       "        vertical-align: middle;\n",
       "    }\n",
       "\n",
       "    .dataframe tbody tr th {\n",
       "        vertical-align: top;\n",
       "    }\n",
       "\n",
       "    .dataframe thead th {\n",
       "        text-align: right;\n",
       "    }\n",
       "</style>\n",
       "<table border=\"1\" class=\"dataframe\">\n",
       "  <thead>\n",
       "    <tr style=\"text-align: right;\">\n",
       "      <th></th>\n",
       "      <th>Reconstruction Error</th>\n",
       "      <th>class</th>\n",
       "    </tr>\n",
       "  </thead>\n",
       "  <tbody>\n",
       "    <tr>\n",
       "      <th>count</th>\n",
       "      <td>331.000000</td>\n",
       "      <td>331.0</td>\n",
       "    </tr>\n",
       "    <tr>\n",
       "      <th>mean</th>\n",
       "      <td>0.876662</td>\n",
       "      <td>0.0</td>\n",
       "    </tr>\n",
       "    <tr>\n",
       "      <th>std</th>\n",
       "      <td>9.982570</td>\n",
       "      <td>0.0</td>\n",
       "    </tr>\n",
       "    <tr>\n",
       "      <th>min</th>\n",
       "      <td>0.052648</td>\n",
       "      <td>0.0</td>\n",
       "    </tr>\n",
       "    <tr>\n",
       "      <th>25%</th>\n",
       "      <td>0.115039</td>\n",
       "      <td>0.0</td>\n",
       "    </tr>\n",
       "    <tr>\n",
       "      <th>50%</th>\n",
       "      <td>0.165183</td>\n",
       "      <td>0.0</td>\n",
       "    </tr>\n",
       "    <tr>\n",
       "      <th>75%</th>\n",
       "      <td>0.276604</td>\n",
       "      <td>0.0</td>\n",
       "    </tr>\n",
       "    <tr>\n",
       "      <th>max</th>\n",
       "      <td>181.644226</td>\n",
       "      <td>0.0</td>\n",
       "    </tr>\n",
       "  </tbody>\n",
       "</table>\n",
       "</div>"
      ],
      "text/plain": [
       "       Reconstruction Error  class\n",
       "count            331.000000  331.0\n",
       "mean               0.876662    0.0\n",
       "std                9.982570    0.0\n",
       "min                0.052648    0.0\n",
       "25%                0.115039    0.0\n",
       "50%                0.165183    0.0\n",
       "75%                0.276604    0.0\n",
       "max              181.644226    0.0"
      ]
     },
     "metadata": {},
     "output_type": "display_data"
    },
    {
     "data": {
      "text/html": [
       "<div>\n",
       "<style scoped>\n",
       "    .dataframe tbody tr th:only-of-type {\n",
       "        vertical-align: middle;\n",
       "    }\n",
       "\n",
       "    .dataframe tbody tr th {\n",
       "        vertical-align: top;\n",
       "    }\n",
       "\n",
       "    .dataframe thead th {\n",
       "        text-align: right;\n",
       "    }\n",
       "</style>\n",
       "<table border=\"1\" class=\"dataframe\">\n",
       "  <thead>\n",
       "    <tr style=\"text-align: right;\">\n",
       "      <th></th>\n",
       "      <th>Reconstruction Error</th>\n",
       "      <th>class</th>\n",
       "    </tr>\n",
       "  </thead>\n",
       "  <tbody>\n",
       "    <tr>\n",
       "      <th>count</th>\n",
       "      <td>176.000000</td>\n",
       "      <td>176.0</td>\n",
       "    </tr>\n",
       "    <tr>\n",
       "      <th>mean</th>\n",
       "      <td>13.686307</td>\n",
       "      <td>1.0</td>\n",
       "    </tr>\n",
       "    <tr>\n",
       "      <th>std</th>\n",
       "      <td>53.015030</td>\n",
       "      <td>0.0</td>\n",
       "    </tr>\n",
       "    <tr>\n",
       "      <th>min</th>\n",
       "      <td>0.165945</td>\n",
       "      <td>1.0</td>\n",
       "    </tr>\n",
       "    <tr>\n",
       "      <th>25%</th>\n",
       "      <td>0.375754</td>\n",
       "      <td>1.0</td>\n",
       "    </tr>\n",
       "    <tr>\n",
       "      <th>50%</th>\n",
       "      <td>1.417939</td>\n",
       "      <td>1.0</td>\n",
       "    </tr>\n",
       "    <tr>\n",
       "      <th>75%</th>\n",
       "      <td>3.814936</td>\n",
       "      <td>1.0</td>\n",
       "    </tr>\n",
       "    <tr>\n",
       "      <th>max</th>\n",
       "      <td>407.051239</td>\n",
       "      <td>1.0</td>\n",
       "    </tr>\n",
       "  </tbody>\n",
       "</table>\n",
       "</div>"
      ],
      "text/plain": [
       "       Reconstruction Error  class\n",
       "count            176.000000  176.0\n",
       "mean              13.686307    1.0\n",
       "std               53.015030    0.0\n",
       "min                0.165945    1.0\n",
       "25%                0.375754    1.0\n",
       "50%                1.417939    1.0\n",
       "75%                3.814936    1.0\n",
       "max              407.051239    1.0"
      ]
     },
     "metadata": {},
     "output_type": "display_data"
    }
   ],
   "source": [
    "test_df, test_MSEs = eval_on_testset(denoising_ae, X_test, y_test)"
   ]
  },
  {
   "cell_type": "code",
   "execution_count": 76,
   "metadata": {},
   "outputs": [
    {
     "data": {
      "text/markdown": [
       "### Model: variational_autoencoder, trying 40 thresholds from [0.1, 2.0]"
      ],
      "text/plain": [
       "<IPython.core.display.Markdown object>"
      ]
     },
     "metadata": {},
     "output_type": "display_data"
    },
    {
     "data": {
      "text/markdown": [
       "For more detail, call the method with `verbose=True`"
      ],
      "text/plain": [
       "<IPython.core.display.Markdown object>"
      ]
     },
     "metadata": {},
     "output_type": "display_data"
    }
   ],
   "source": [
    "optimal_threshold_vae = try_threshold_grid(test_MSEs, y_test, 'variational_autoencoder', start=0.1, stop=2.0, num_thresholds=40, verbose=False)"
   ]
  },
  {
   "cell_type": "code",
   "execution_count": 77,
   "metadata": {},
   "outputs": [
    {
     "data": {
      "text/markdown": [
       "### Best Threshold 0.2948717948717949"
      ],
      "text/plain": [
       "<IPython.core.display.Markdown object>"
      ]
     },
     "metadata": {},
     "output_type": "display_data"
    },
    {
     "data": {
      "text/html": [
       "<style  type=\"text/css\" >\n",
       "</style><table id=\"T_1c874662_d522_11ec_979a_2016b948faac\" ><thead>    <tr>        <th class=\"col_heading level0 col0\" >Inliers Accuracy</th>        <th class=\"col_heading level0 col1\" >Outliers Accuracy</th>        <th class=\"col_heading level0 col2\" >Overall Accuracy</th>    </tr></thead><tbody>\n",
       "                <tr>\n",
       "                                <td id=\"T_1c874662_d522_11ec_979a_2016b948faacrow0_col0\" class=\"data row0 col0\" >0.773414</td>\n",
       "                        <td id=\"T_1c874662_d522_11ec_979a_2016b948faacrow0_col1\" class=\"data row0 col1\" >0.840909</td>\n",
       "                        <td id=\"T_1c874662_d522_11ec_979a_2016b948faacrow0_col2\" class=\"data row0 col2\" >0.796844</td>\n",
       "            </tr>\n",
       "    </tbody></table>"
      ],
      "text/plain": [
       "<pandas.io.formats.style.Styler at 0x1ef5e31e6a0>"
      ]
     },
     "metadata": {},
     "output_type": "display_data"
    },
    {
     "data": {
      "text/markdown": [
       "##### Classification Report"
      ],
      "text/plain": [
       "<IPython.core.display.Markdown object>"
      ]
     },
     "metadata": {},
     "output_type": "display_data"
    },
    {
     "name": "stdout",
     "output_type": "stream",
     "text": [
      "              precision    recall  f1-score   support\n",
      "\n",
      "           0       0.90      0.77      0.83       331\n",
      "           1       0.66      0.84      0.74       176\n",
      "\n",
      "    accuracy                           0.80       507\n",
      "   macro avg       0.78      0.81      0.79       507\n",
      "weighted avg       0.82      0.80      0.80       507\n",
      "\n"
     ]
    },
    {
     "data": {
      "image/png": "[encoded data removed]",
      "text/plain": [
       "<Figure size 432x432 with 2 Axes>"
      ]
     },
     "metadata": {
      "needs_background": "light"
     },
     "output_type": "display_data"
    }
   ],
   "source": [
    "predictions = classify_by_error(test_MSEs, optimal_threshold_vae)\n",
    "matrix = confusion_matrix(y_test, predictions)\n",
    "class_accuracies = matrix.diagonal()/matrix.sum(axis=1)\n",
    "acc_df = pd.DataFrame({\n",
    "    'Inliers Accuracy': [class_accuracies[0]], \n",
    "    'Outliers Accuracy': [class_accuracies[1]], \n",
    "    'Overall Accuracy': [accuracy_score(y_test, predictions)]\n",
    "})\n",
    "\n",
    "display(Markdown(f'### Best Threshold {optimal_threshold_vae}'))\n",
    "display(acc_df.style.hide_index())\n",
    "display(Markdown(f'##### Classification Report'))\n",
    "print(classification_report(y_test, predictions))\n",
    "plot_confusion_matrix(matrix)"
   ]
  },
  {
   "cell_type": "markdown",
   "metadata": {},
   "source": [
    "---\n",
    "---"
   ]
  },
  {
   "cell_type": "markdown",
   "metadata": {},
   "source": [
    "## Final Remarks"
   ]
  },
  {
   "cell_type": "markdown",
   "metadata": {},
   "source": [
    "I have compared three different autoencoder architectures for outlier detection:\n",
    "1. undercomplete autoencoder\n",
    "2. denoising autoencoder\n",
    "3. variational autoencoder\n",
    "\n",
    "For each of them, I tuned the following hyperparameters:\n",
    "- learning rate\n",
    "- batch size\n",
    "- number of layers and their width (most importantly the size of the latent space)\n",
    "- threshold for reconstruction error\n",
    "\n",
    "I have chosen the best classifier based on the F1-score, where negative class is composed of inliers and positive class is composed of outliers."
   ]
  },
  {
   "cell_type": "markdown",
   "metadata": {},
   "source": [
    "Below, you can find the best hyper-parameters of the architectures. As for the layers, only encoder architecture is shown, since decoder contains the same layers reversed."
   ]
  },
  {
   "cell_type": "code",
   "execution_count": 80,
   "metadata": {},
   "outputs": [
    {
     "data": {
      "text/html": [
       "<div>\n",
       "<style scoped>\n",
       "    .dataframe tbody tr th:only-of-type {\n",
       "        vertical-align: middle;\n",
       "    }\n",
       "\n",
       "    .dataframe tbody tr th {\n",
       "        vertical-align: top;\n",
       "    }\n",
       "\n",
       "    .dataframe thead th {\n",
       "        text-align: right;\n",
       "    }\n",
       "</style>\n",
       "<table border=\"1\" class=\"dataframe\">\n",
       "  <thead>\n",
       "    <tr style=\"text-align: right;\">\n",
       "      <th></th>\n",
       "      <th>Learning Rate</th>\n",
       "      <th>Batch Size</th>\n",
       "      <th>Architecture Encoder</th>\n",
       "      <th>Latent Space Size</th>\n",
       "      <th>Reconstruction MSE Threshold</th>\n",
       "    </tr>\n",
       "    <tr>\n",
       "      <th>Architecture</th>\n",
       "      <th></th>\n",
       "      <th></th>\n",
       "      <th></th>\n",
       "      <th></th>\n",
       "      <th></th>\n",
       "    </tr>\n",
       "  </thead>\n",
       "  <tbody>\n",
       "    <tr>\n",
       "      <th>Undercomplete Autoencoder</th>\n",
       "      <td>0.01</td>\n",
       "      <td>64</td>\n",
       "      <td>Linear(21, 16) → ReLU → Linear(16, 14)</td>\n",
       "      <td>14</td>\n",
       "      <td>0.392308</td>\n",
       "    </tr>\n",
       "    <tr>\n",
       "      <th>Denoising Autoencoder</th>\n",
       "      <td>0.01</td>\n",
       "      <td>64</td>\n",
       "      <td>Linear(21, 16) → ReLU → Linear(16, 14)</td>\n",
       "      <td>14</td>\n",
       "      <td>0.294872</td>\n",
       "    </tr>\n",
       "    <tr>\n",
       "      <th>Variational Autoencoder</th>\n",
       "      <td>0.01</td>\n",
       "      <td>64</td>\n",
       "      <td>Linear(21, 16) → ReLU → LinearMu(16, 14), Line...</td>\n",
       "      <td>14</td>\n",
       "      <td>0.294872</td>\n",
       "    </tr>\n",
       "  </tbody>\n",
       "</table>\n",
       "</div>"
      ],
      "text/plain": [
       "                           Learning Rate  Batch Size  \\\n",
       "Architecture                                           \n",
       "Undercomplete Autoencoder           0.01          64   \n",
       "Denoising Autoencoder               0.01          64   \n",
       "Variational Autoencoder             0.01          64   \n",
       "\n",
       "                                                        Architecture Encoder  \\\n",
       "Architecture                                                                   \n",
       "Undercomplete Autoencoder             Linear(21, 16) → ReLU → Linear(16, 14)   \n",
       "Denoising Autoencoder                 Linear(21, 16) → ReLU → Linear(16, 14)   \n",
       "Variational Autoencoder    Linear(21, 16) → ReLU → LinearMu(16, 14), Line...   \n",
       "\n",
       "                           Latent Space Size  Reconstruction MSE Threshold  \n",
       "Architecture                                                                \n",
       "Undercomplete Autoencoder                 14                      0.392308  \n",
       "Denoising Autoencoder                     14                      0.294872  \n",
       "Variational Autoencoder                   14                      0.294872  "
      ]
     },
     "metadata": {},
     "output_type": "display_data"
    }
   ],
   "source": [
    "result_df = pd.DataFrame({'Architecture': ['Undercomplete Autoencoder', 'Denoising Autoencoder', 'Variational Autoencoder'],\n",
    "                          'Learning Rate': [learning_rate_uae, learning_rate_dae, learning_rate_vae],\n",
    "                          'Batch Size': [64, 64, 64], \n",
    "                          'Architecture Encoder': [\n",
    "                              f'Linear({INPUT_SIZE}, {HIDDEN_SIZE_UAE}) → ReLU → Linear({HIDDEN_SIZE_UAE}, {LATENT_SIZE_UAE})', f'Linear({INPUT_SIZE}, {HIDDEN_SIZE_DAE}) → ReLU → Linear({HIDDEN_SIZE_DAE}, {LATENT_SIZE_DAE})', f'Linear({INPUT_SIZE}, {HIDDEN_SIZE_VAE}) → ReLU → LinearMu({HIDDEN_SIZE_VAE}, {LATENT_SIZE_VAE}), LinearSigma({HIDDEN_SIZE_VAE}, {LATENT_SIZE_VAE})'\n",
    "                          ],\n",
    "                          'Latent Space Size': [14, 14, 14],\n",
    "                          'Reconstruction MSE Threshold': [optimal_threshold_under, optimal_threshold_denoising, optimal_threshold_vae],\n",
    "                         })\n",
    "result_df = result_df.set_index('Architecture')\n",
    "display(result_df)"
   ]
  },
  {
   "cell_type": "code",
   "execution_count": null,
   "metadata": {},
   "outputs": [],
   "source": []
  }
 ],
 "metadata": {
  "kernelspec": {
   "display_name": "bakalarka",
   "language": "python",
   "name": "bakalarka"
  },
  "language_info": {
   "codemirror_mode": {
    "name": "ipython",
    "version": 3
   },
   "file_extension": ".py",
   "mimetype": "text/x-python",
   "name": "python",
   "nbconvert_exporter": "python",
   "pygments_lexer": "ipython3",
   "version": "3.8.5"
  }
 },
 "nbformat": 4,
 "nbformat_minor": 4
}
